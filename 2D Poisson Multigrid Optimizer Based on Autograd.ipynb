{
 "cells": [
  {
   "cell_type": "markdown",
   "metadata": {},
   "source": [
    "**这个Notebook不需要文件夹中任何一个.py文件, 所有函数在Notebook中定义.**"
   ]
  },
  {
   "cell_type": "markdown",
   "metadata": {},
   "source": [
    "## Package Import"
   ]
  },
  {
   "cell_type": "code",
   "execution_count": 1,
   "metadata": {},
   "outputs": [],
   "source": [
    "import numpy as np\n",
    "from mpl_toolkits.mplot3d import Axes3D\n",
    "import matplotlib.pyplot as plt\n",
    "from matplotlib import cm\n",
    "from matplotlib.ticker import LinearLocator, FormatStrFormatter\n",
    "import pyamg\n",
    "import autograd.numpy as np\n",
    "from autograd import grad"
   ]
  },
  {
   "cell_type": "markdown",
   "metadata": {},
   "source": [
    "## Define Function in Equations"
   ]
  },
  {
   "cell_type": "code",
   "execution_count": 2,
   "metadata": {},
   "outputs": [],
   "source": [
    "u_real = lambda x,y: np.sin(np.pi*3*x)*np.sin(np.pi*5*y)\n",
    "rightf = lambda x,y:  34*np.pi**2*np.sin(3*np.pi*x)*np.sin(5*np.pi*y)"
   ]
  },
  {
   "cell_type": "markdown",
   "metadata": {},
   "source": [
    "## Define R, P, Poisson, Nonlinear Poisson"
   ]
  },
  {
   "cell_type": "code",
   "execution_count": 3,
   "metadata": {},
   "outputs": [],
   "source": [
    "def Restriction(inputsize):\n",
    "    inputsize = int(inputsize)\n",
    "    sqrtinputsize = int(np.sqrt(inputsize))\n",
    "    outputsize = int((2**(np.log2(np.sqrt(inputsize)+1)-1)-1)**2)\n",
    "    sqrtoutputsize = int(np.sqrt(outputsize))\n",
    "    OUTPUT = np.zeros([outputsize, inputsize])\n",
    "    for j in range(sqrtoutputsize):\n",
    "        for i in range(sqrtoutputsize):\n",
    "            OUTPUT[i+sqrtoutputsize*j][2*i+j*2*sqrtinputsize] = 1/16\n",
    "            OUTPUT[i+sqrtoutputsize*j][1+2*i+j*2*sqrtinputsize] = 1/8\n",
    "            OUTPUT[i+sqrtoutputsize*j][2+2*i+j*2*sqrtinputsize] = 1/16\n",
    "            OUTPUT[i+sqrtoutputsize*j][sqrtinputsize +\n",
    "                                       2*i+j*2*sqrtinputsize] = 1/8\n",
    "            OUTPUT[i+sqrtoutputsize*j][1+sqrtinputsize +\n",
    "                                       2*i+j*2*sqrtinputsize] = 1/4\n",
    "            OUTPUT[i+sqrtoutputsize*j][2+sqrtinputsize +\n",
    "                                       2*i+j*2*sqrtinputsize] = 1/8\n",
    "            OUTPUT[i+sqrtoutputsize*j][2*sqrtinputsize +\n",
    "                                       2*i+j*2*sqrtinputsize] = 1/16\n",
    "            OUTPUT[i+sqrtoutputsize*j][1+2 *\n",
    "                                       sqrtinputsize + 2*i+j*2*sqrtinputsize] = 1/8\n",
    "            OUTPUT[i+sqrtoutputsize*j][2+2 *\n",
    "                                       sqrtinputsize+2*i+j*2*sqrtinputsize] = 1/16\n",
    "    return OUTPUT\n",
    "\n",
    "\n",
    "def Interpolation(inputsize):\n",
    "    inputsize = int(inputsize)\n",
    "    OUTPUT = 4*np.transpose(Restriction(inputsize))\n",
    "    return OUTPUT\n",
    "\n",
    "\n",
    "def Poisson(inputsize):\n",
    "    inputsize = int(inputsize)\n",
    "    sqrtinputsize = int(np.sqrt(inputsize))\n",
    "    A1 = 2*np.eye(sqrtinputsize)\n",
    "    for i in range(sqrtinputsize-1):\n",
    "        A1[i, i+1] = -1\n",
    "        A1[i+1, i] = -1\n",
    "    I = np.eye(sqrtinputsize)\n",
    "    OUTPUT = (np.kron(I, A1)+np.kron(A1, I))\n",
    "    return OUTPUT\n",
    "\n",
    "\n",
    "def NonlinearPoisson(inputsize):\n",
    "    inputsize = int(inputsize)\n",
    "    sqrtinputsize = int(np.sqrt(inputsize))\n",
    "    area = 1\n",
    "    [X, Y] = np.meshgrid(np.linspace(0, 1, sqrtinputsize),\n",
    "                         np.linspace(0, 1, sqrtinputsize))\n",
    "    A = area*(a(X, Y).reshape([inputsize, 1]))\n",
    "    Poi = Poisson(inputsize)\n",
    "    for i in range(inputsize):\n",
    "        Poi[i][:] = A[i]*Poi[i][:]\n",
    "    OUTPUT = Poi\n",
    "    return OUTPUT"
   ]
  },
  {
   "cell_type": "markdown",
   "metadata": {},
   "source": [
    "## Define Multigrid"
   ]
  },
  {
   "cell_type": "code",
   "execution_count": 14,
   "metadata": {},
   "outputs": [],
   "source": [
    "def Multigrid_circle(inputsize, A_A, B, P_A, R_A, s, w, NUM_EPOCH):\n",
    "    A = np.matrix(A_A)\n",
    "    P = np.matrix(P_A)\n",
    "    R = np.matrix(R_A)\n",
    "    M = np.matrix(w**(-1)*np.diag(np.diag(A)))\n",
    "    K = M - A\n",
    "    C = np.linalg.inv(M)*K\n",
    "    b = np.linalg.inv(M)*B\n",
    "    U0 = np.matrix(np.zeros([inputsize, 1]))\n",
    "    RESIDUAL = []\n",
    "    for i in range(NUM_EPOCH):\n",
    "        for j in range(s):\n",
    "            U0 = C*U0+b\n",
    "        r = B - A*U0\n",
    "        Residual = np.linalg.norm(r,2)\n",
    "        rc = R*r\n",
    "        Ac = R*A*P\n",
    "        Uc = np.linalg.solve(Ac, rc)\n",
    "        U = U0 + P*Uc\n",
    "        for k in range(s):\n",
    "            U = C*U+b\n",
    "        U0 = U\n",
    "        RESIDUAL.append(Residual)\n",
    "        print(\"Residual = {}\".format(Residual))\n",
    "        print(\"Interation = {}\".format(i))\n",
    "        print(\"===================\")\n",
    "    return U0, RESIDUAL"
   ]
  },
  {
   "cell_type": "markdown",
   "metadata": {},
   "source": [
    "## Define Spectral Radius Calculator"
   ]
  },
  {
   "cell_type": "code",
   "execution_count": 5,
   "metadata": {},
   "outputs": [],
   "source": [
    "def rho(inputsize,A,P,R,w,s):\n",
    "    M = (w**(-1)) * np.diag(np.diag(A))\n",
    "    K = M - A\n",
    "    MK = np.linalg.inv(M)*K\n",
    "    I = np.eye(inputsize)\n",
    "    IPRAPRA = I - np.matmul(np.matmul(np.matmul(P,np.linalg.inv(np.matmul(np.matmul(R,A),P))),R),A)\n",
    "    C = np.matmul(np.matmul(MK**s,IPRAPRA),MK**s)\n",
    "    radius = np.linalg.norm(C,'fro')\n",
    "    return radius\n",
    "\n",
    "def rhoAuto(INPUT):\n",
    "    P = INPUT[0]\n",
    "    R = INPUT[1]\n",
    "    w = INPUT[2]\n",
    "    M = (w**(-1)) * np.diag(np.diag(A))\n",
    "    K = M - A\n",
    "    MK = np.linalg.inv(M)*K\n",
    "    I = np.eye(inputsize)\n",
    "    IPRAPRA = I - np.matmul(np.matmul(np.matmul(P,np.linalg.inv(np.matmul(np.matmul(R,A),P))),R),A)\n",
    "    C = np.matmul(np.matmul(MK**s,IPRAPRA),MK**s)\n",
    "    radius = np.linalg.norm(C,'fro')\n",
    "    return radius"
   ]
  },
  {
   "cell_type": "markdown",
   "metadata": {},
   "source": [
    "## Define Optimizer"
   ]
  },
  {
   "cell_type": "code",
   "execution_count": 15,
   "metadata": {},
   "outputs": [],
   "source": [
    "def optimizer_GD(inputsize, A, P, R, w, s, learning_rate):\n",
    "    rhoold = rho(inputsize,A,P,R,w,s)\n",
    "    INPUT = [P,R,w]\n",
    "    rhoGra = grad(rhoAuto)\n",
    "    delta = rhoGra(INPUT)\n",
    "    P -= learning_rate*delta[0]\n",
    "    R -= learning_rate*delta[1]\n",
    "    w -= learning_rate*delta[2]\n",
    "    rhonew = rho(inputsize,A,P,R,w,s)\n",
    "    return P, R, w, rhoold, rhonew\n",
    "\n",
    "def homotopy_optimizer_GD(inputsize, A0, A1, P, R, w, s, learning_rate ,accept_radius ,step_length):\n",
    "    Rhoold = rho(inputsize,A1,P,R,w,s)\n",
    "    L = step_length\n",
    "    while L < 1:\n",
    "        M = (1-L)*A0 + L*A1\n",
    "        Pnew, Rnew, wnew, rhoold, rhonew = optimizer_GD(inputsize, M, P, R, w, s, learning_rate)\n",
    "        if rhonew > accept_radius:\n",
    "            M = M + L*A0 - L*A1\n",
    "            step_length = 0.1*step_length\n",
    "            M = (1-L)*A0 + L*A1\n",
    "            print('Decrease the step_length and try again!!')\n",
    "            print(\"rho = {}\".format(rhonew))\n",
    "            print(\"===================\")\n",
    "        else:\n",
    "            P = Pnew\n",
    "            R = Rnew\n",
    "            w = wnew\n",
    "            L += step_length\n",
    "            print(\"L = {}\".format(L))\n",
    "            print(\"rho = {}\".format(rhonew))\n",
    "            print(\"===================\")\n",
    "    Rhonew = rho(inputsize,A1,P,R,w,s)\n",
    "    return P, R, w, Rhoold, Rhonew"
   ]
  },
  {
   "cell_type": "markdown",
   "metadata": {},
   "source": [
    "## GMM"
   ]
  },
  {
   "cell_type": "code",
   "execution_count": 7,
   "metadata": {},
   "outputs": [],
   "source": [
    "finegridsize = 6\n",
    "inputsize = (2**finegridsize-1)**2\n",
    "inputsize = int(inputsize)\n",
    "sqrtinputsize = int(np.sqrt(inputsize))\n",
    "outputsize = int((2**(np.log2(np.sqrt(inputsize)+1)-1)-1)**2)\n",
    "sqrtoutputsize = int(np.sqrt(outputsize))\n",
    "h = 1/(sqrtinputsize+1)\n",
    "A = Poisson(inputsize)\n",
    "[X, Y] = np.meshgrid(np.linspace(0, 1, sqrtinputsize),np.linspace(0, 1, sqrtinputsize))\n",
    "RightF = rightf(X,Y)*h**2\n",
    "RightF = RightF.reshape(inputsize, 1)\n",
    "R = Restriction(inputsize)\n",
    "P = Interpolation(inputsize)\n",
    "s = 2\n",
    "w=2/3"
   ]
  },
  {
   "cell_type": "markdown",
   "metadata": {},
   "source": [
    "**Calculate Result and Residual**"
   ]
  },
  {
   "cell_type": "code",
   "execution_count": 16,
   "metadata": {},
   "outputs": [
    {
     "name": "stdout",
     "output_type": "stream",
     "text": [
      "Residual = 2.4675875801214224\n",
      "Interation = 0\n",
      "===================\n",
      "Residual = 0.041632858710164075\n",
      "Interation = 1\n",
      "===================\n",
      "Residual = 0.002191335295883377\n",
      "Interation = 2\n",
      "===================\n",
      "Residual = 0.0003058616382148671\n",
      "Interation = 3\n",
      "===================\n",
      "Residual = 5.1364691065038444e-05\n",
      "Interation = 4\n",
      "===================\n",
      "Residual = 8.994634095045528e-06\n",
      "Interation = 5\n",
      "===================\n",
      "Residual = 1.6102048973952854e-06\n",
      "Interation = 6\n",
      "===================\n",
      "Residual = 2.9234694529620713e-07\n",
      "Interation = 7\n",
      "===================\n",
      "Residual = 5.359994419675737e-08\n",
      "Interation = 8\n",
      "===================\n",
      "Residual = 9.898068671891293e-09\n",
      "Interation = 9\n",
      "===================\n",
      "Residual = 1.8379197258047468e-09\n",
      "Interation = 10\n",
      "===================\n",
      "Residual = 3.427624219173552e-10\n",
      "Interation = 11\n",
      "===================\n",
      "Residual = 6.414952648449158e-11\n",
      "Interation = 12\n",
      "===================\n",
      "Residual = 1.2041126990036725e-11\n",
      "Interation = 13\n",
      "===================\n",
      "Residual = 2.2656498810827826e-12\n",
      "Interation = 14\n",
      "===================\n",
      "Residual = 4.271936880164199e-13\n",
      "Interation = 15\n",
      "===================\n",
      "Residual = 8.15150084680058e-14\n",
      "Interation = 16\n",
      "===================\n",
      "Residual = 2.0191383066443202e-14\n",
      "Interation = 17\n",
      "===================\n",
      "Residual = 1.3257589159092733e-14\n",
      "Interation = 18\n",
      "===================\n",
      "Residual = 1.2810792412340991e-14\n",
      "Interation = 19\n",
      "===================\n",
      "Residual = 1.2908421170878426e-14\n",
      "Interation = 20\n",
      "===================\n",
      "Residual = 1.3179472866911007e-14\n",
      "Interation = 21\n",
      "===================\n",
      "Residual = 1.2725712524842456e-14\n",
      "Interation = 22\n",
      "===================\n",
      "Residual = 1.2985587006616357e-14\n",
      "Interation = 23\n",
      "===================\n",
      "Residual = 1.2865128560301163e-14\n",
      "Interation = 24\n",
      "===================\n",
      "Residual = 1.2753925655411446e-14\n",
      "Interation = 25\n",
      "===================\n",
      "Residual = 1.2911754051683937e-14\n",
      "Interation = 26\n",
      "===================\n",
      "Residual = 1.2901825879722193e-14\n",
      "Interation = 27\n",
      "===================\n",
      "Residual = 1.2868660368348963e-14\n",
      "Interation = 28\n",
      "===================\n",
      "Residual = 1.2917784931843323e-14\n",
      "Interation = 29\n",
      "===================\n",
      "Residual = 1.3010858986623088e-14\n",
      "Interation = 30\n",
      "===================\n",
      "Residual = 1.253189701465085e-14\n",
      "Interation = 31\n",
      "===================\n",
      "Residual = 1.2941880956225556e-14\n",
      "Interation = 32\n",
      "===================\n",
      "Residual = 1.2792784657687462e-14\n",
      "Interation = 33\n",
      "===================\n",
      "Residual = 1.2740521192150959e-14\n",
      "Interation = 34\n",
      "===================\n",
      "Residual = 1.282646668556993e-14\n",
      "Interation = 35\n",
      "===================\n",
      "Residual = 1.3039111179465701e-14\n",
      "Interation = 36\n",
      "===================\n",
      "Residual = 1.2791249785696334e-14\n",
      "Interation = 37\n",
      "===================\n",
      "Residual = 1.2928934532021785e-14\n",
      "Interation = 38\n",
      "===================\n",
      "Residual = 1.2746132171259079e-14\n",
      "Interation = 39\n",
      "===================\n"
     ]
    }
   ],
   "source": [
    "GMM_U, GMM_Res = Multigrid_circle(inputsize, A, RightF, P, R, s, w, 40)"
   ]
  },
  {
   "cell_type": "markdown",
   "metadata": {},
   "source": [
    "**Plot Result**"
   ]
  },
  {
   "cell_type": "code",
   "execution_count": 17,
   "metadata": {},
   "outputs": [
    {
     "data": {
      "text/plain": [
       "<matplotlib.colorbar.Colorbar at 0x21d07b3acc0>"
      ]
     },
     "execution_count": 17,
     "metadata": {},
     "output_type": "execute_result"
    },
    {
     "data": {
      "image/png": "[encoded data removed]",
      "text/plain": [
       "<Figure size 432x288 with 2 Axes>"
      ]
     },
     "metadata": {},
     "output_type": "display_data"
    }
   ],
   "source": [
    "plt.imshow(GMM_U.reshape(sqrtinputsize,sqrtinputsize))\n",
    "plt.colorbar()"
   ]
  },
  {
   "cell_type": "markdown",
   "metadata": {},
   "source": [
    "**Plot Residual**"
   ]
  },
  {
   "cell_type": "code",
   "execution_count": 18,
   "metadata": {},
   "outputs": [
    {
     "data": {
      "text/plain": [
       "[<matplotlib.lines.Line2D at 0x21d012de470>]"
      ]
     },
     "execution_count": 18,
     "metadata": {},
     "output_type": "execute_result"
    },
    {
     "data": {
      "image/png": "[encoded data removed]",
      "text/plain": [
       "<Figure size 432x288 with 1 Axes>"
      ]
     },
     "metadata": {},
     "output_type": "display_data"
    }
   ],
   "source": [
    "plt.semilogy(GMM_Res)"
   ]
  },
  {
   "cell_type": "markdown",
   "metadata": {},
   "source": [
    "**Calculate Spectral Radius**"
   ]
  },
  {
   "cell_type": "code",
   "execution_count": 19,
   "metadata": {},
   "outputs": [
    {
     "name": "stdout",
     "output_type": "stream",
     "text": [
      "0.700832950209785\n"
     ]
    }
   ],
   "source": [
    "GMM_rho = rho(inputsize,A,P,R,w,s)\n",
    "print(GMM_rho)"
   ]
  },
  {
   "cell_type": "markdown",
   "metadata": {},
   "source": [
    "## DMM"
   ]
  },
  {
   "cell_type": "markdown",
   "metadata": {},
   "source": [
    "**Optimize R, P, $\\omega$**"
   ]
  },
  {
   "cell_type": "code",
   "execution_count": 20,
   "metadata": {},
   "outputs": [
    {
     "name": "stdout",
     "output_type": "stream",
     "text": [
      "L = 0.02\n",
      "rho = 0.6326838385932566\n",
      "===================\n",
      "L = 0.03\n",
      "rho = 0.5741308668766337\n",
      "===================\n",
      "L = 0.04\n",
      "rho = 0.5234341780257707\n",
      "===================\n",
      "L = 0.05\n",
      "rho = 0.47923693277608054\n",
      "===================\n",
      "L = 0.060000000000000005\n",
      "rho = 0.44046530997390126\n",
      "===================\n",
      "L = 0.07\n",
      "rho = 0.4062598334267098\n",
      "===================\n",
      "L = 0.08\n",
      "rho = 0.37592569890560307\n",
      "===================\n",
      "L = 0.09\n",
      "rho = 0.34889612405318504\n",
      "===================\n",
      "L = 0.09999999999999999\n",
      "rho = 0.3247049198599115\n",
      "===================\n",
      "L = 0.10999999999999999\n",
      "rho = 0.3029657096850839\n",
      "===================\n",
      "L = 0.11999999999999998\n",
      "rho = 0.28335600880168527\n",
      "===================\n",
      "L = 0.12999999999999998\n",
      "rho = 0.26560490271655685\n",
      "===================\n",
      "L = 0.13999999999999999\n",
      "rho = 0.24948342069159934\n",
      "===================\n",
      "L = 0.15\n",
      "rho = 0.23479694912221818\n",
      "===================\n",
      "L = 0.16\n",
      "rho = 0.22137920390207122\n",
      "===================\n",
      "L = 0.17\n",
      "rho = 0.20908740510988547\n",
      "===================\n",
      "L = 0.18000000000000002\n",
      "rho = 0.19779838682185727\n",
      "===================\n",
      "L = 0.19000000000000003\n",
      "rho = 0.1874054400044271\n",
      "===================\n",
      "L = 0.20000000000000004\n",
      "rho = 0.17781573437033435\n",
      "===================\n",
      "L = 0.21000000000000005\n",
      "rho = 0.16894820067524954\n",
      "===================\n",
      "L = 0.22000000000000006\n",
      "rho = 0.16073178160346716\n",
      "===================\n",
      "L = 0.23000000000000007\n",
      "rho = 0.1531039795438427\n",
      "===================\n",
      "L = 0.24000000000000007\n",
      "rho = 0.1460096449052005\n",
      "===================\n",
      "L = 0.25000000000000006\n",
      "rho = 0.13939996039645497\n",
      "===================\n",
      "L = 0.26000000000000006\n",
      "rho = 0.1332315857958424\n",
      "===================\n",
      "L = 0.2700000000000001\n",
      "rho = 0.12746593481149174\n",
      "===================\n",
      "L = 0.2800000000000001\n",
      "rho = 0.1220685611758388\n",
      "===================\n",
      "L = 0.2900000000000001\n",
      "rho = 0.11700863547942848\n",
      "===================\n",
      "L = 0.3000000000000001\n",
      "rho = 0.11225849770510185\n",
      "===================\n",
      "L = 0.3100000000000001\n",
      "rho = 0.10779327317525064\n",
      "===================\n",
      "L = 0.3200000000000001\n",
      "rho = 0.1035905418274587\n",
      "===================\n",
      "L = 0.3300000000000001\n",
      "rho = 0.09963005250566664\n",
      "===================\n",
      "L = 0.34000000000000014\n",
      "rho = 0.09589347538615954\n",
      "===================\n",
      "L = 0.35000000000000014\n",
      "rho = 0.09236418682039962\n",
      "===================\n",
      "L = 0.36000000000000015\n",
      "rho = 0.08902708182492051\n",
      "===================\n",
      "L = 0.37000000000000016\n",
      "rho = 0.08586841022490739\n",
      "===================\n",
      "L = 0.38000000000000017\n",
      "rho = 0.08287563309638929\n",
      "===================\n",
      "L = 0.3900000000000002\n",
      "rho = 0.0800372966787548\n",
      "===================\n",
      "L = 0.4000000000000002\n",
      "rho = 0.07734292136564512\n",
      "===================\n",
      "L = 0.4100000000000002\n",
      "rho = 0.0747829037449942\n",
      "===================\n",
      "L = 0.4200000000000002\n",
      "rho = 0.07234842996153226\n",
      "===================\n",
      "L = 0.4300000000000002\n",
      "rho = 0.07003139892825602\n",
      "===================\n",
      "L = 0.4400000000000002\n",
      "rho = 0.06782435412590854\n",
      "===================\n",
      "L = 0.45000000000000023\n",
      "rho = 0.06572042290850819\n",
      "===================\n",
      "L = 0.46000000000000024\n",
      "rho = 0.06371326238411185\n",
      "===================\n",
      "L = 0.47000000000000025\n",
      "rho = 0.06179701106804376\n",
      "===================\n",
      "L = 0.48000000000000026\n",
      "rho = 0.05996624561454015\n",
      "===================\n",
      "L = 0.49000000000000027\n",
      "rho = 0.0582159420253782\n",
      "===================\n",
      "L = 0.5000000000000002\n",
      "rho = 0.05654144081308782\n",
      "===================\n",
      "L = 0.5100000000000002\n",
      "rho = 0.054938415664040015\n",
      "===================\n",
      "L = 0.5200000000000002\n",
      "rho = 0.05340284520473258\n",
      "===================\n",
      "L = 0.5300000000000002\n",
      "rho = 0.05193098752453868\n",
      "===================\n",
      "L = 0.5400000000000003\n",
      "rho = 0.050519357151211856\n",
      "===================\n",
      "L = 0.5500000000000003\n",
      "rho = 0.049164704212611314\n",
      "===================\n",
      "L = 0.5600000000000003\n",
      "rho = 0.047863995550297626\n",
      "===================\n",
      "L = 0.5700000000000003\n",
      "rho = 0.04661439757856721\n",
      "===================\n",
      "L = 0.5800000000000003\n",
      "rho = 0.04541326070675639\n",
      "===================\n",
      "L = 0.5900000000000003\n",
      "rho = 0.04425810516378419\n",
      "===================\n",
      "L = 0.6000000000000003\n",
      "rho = 0.04314660808234457\n",
      "===================\n",
      "L = 0.6100000000000003\n",
      "rho = 0.04207659171628381\n",
      "===================\n",
      "L = 0.6200000000000003\n",
      "rho = 0.04104601267881811\n",
      "===================\n",
      "L = 0.6300000000000003\n",
      "rho = 0.0400529521016347\n",
      "===================\n",
      "L = 0.6400000000000003\n",
      "rho = 0.03909560662581073\n",
      "===================\n",
      "L = 0.6500000000000004\n",
      "rho = 0.038172280145066184\n",
      "===================\n",
      "L = 0.6600000000000004\n",
      "rho = 0.03728137623031911\n",
      "===================\n",
      "L = 0.6700000000000004\n",
      "rho = 0.03642139117197795\n",
      "===================\n",
      "L = 0.6800000000000004\n",
      "rho = 0.03559090758300028\n",
      "===================\n",
      "L = 0.6900000000000004\n",
      "rho = 0.0347885885116073\n",
      "===================\n",
      "L = 0.7000000000000004\n",
      "rho = 0.034013172017714206\n",
      "===================\n",
      "L = 0.7100000000000004\n",
      "rho = 0.03326346617176578\n",
      "===================\n",
      "L = 0.7200000000000004\n",
      "rho = 0.032538344438746876\n",
      "===================\n",
      "L = 0.7300000000000004\n",
      "rho = 0.03183674141380725\n",
      "===================\n",
      "L = 0.7400000000000004\n",
      "rho = 0.031157648879186067\n",
      "===================\n",
      "L = 0.7500000000000004\n",
      "rho = 0.0305001121550395\n",
      "===================\n",
      "L = 0.7600000000000005\n",
      "rho = 0.02986322671937444\n",
      "===================\n",
      "L = 0.7700000000000005\n",
      "rho = 0.02924613507462415\n",
      "===================\n",
      "L = 0.7800000000000005\n",
      "rho = 0.028648023840488635\n",
      "===================\n",
      "L = 0.7900000000000005\n",
      "rho = 0.028068121054542823\n",
      "===================\n",
      "L = 0.8000000000000005\n",
      "rho = 0.027505693663796953\n",
      "===================\n",
      "L = 0.8100000000000005\n",
      "rho = 0.02696004519191085\n",
      "===================\n",
      "L = 0.8200000000000005\n",
      "rho = 0.026430513568136478\n",
      "===================\n",
      "L = 0.8300000000000005\n",
      "rho = 0.025916469105281288\n",
      "===================\n",
      "L = 0.8400000000000005\n",
      "rho = 0.02541731261511259\n",
      "===================\n",
      "L = 0.8500000000000005\n",
      "rho = 0.02493247365061485\n",
      "===================\n",
      "L = 0.8600000000000005\n",
      "rho = 0.02446140886542927\n",
      "===================\n",
      "L = 0.8700000000000006\n",
      "rho = 0.024003600481621586\n",
      "===================\n",
      "L = 0.8800000000000006\n",
      "rho = 0.023558554857673494\n",
      "===================\n",
      "L = 0.8900000000000006\n",
      "rho = 0.02312580114927081\n",
      "===================\n",
      "L = 0.9000000000000006\n",
      "rho = 0.02270489005606796\n",
      "===================\n",
      "L = 0.9100000000000006\n",
      "rho = 0.02229539264817898\n",
      "===================\n",
      "L = 0.9200000000000006\n",
      "rho = 0.021896899266640957\n",
      "===================\n",
      "L = 0.9300000000000006\n",
      "rho = 0.02150901849256692\n",
      "===================\n",
      "L = 0.9400000000000006\n",
      "rho = 0.02113137618012347\n",
      "===================\n",
      "L = 0.9500000000000006\n",
      "rho = 0.02076361454885005\n",
      "===================\n",
      "L = 0.9600000000000006\n",
      "rho = 0.020405391331195035\n",
      "===================\n",
      "L = 0.9700000000000006\n",
      "rho = 0.02005637897145749\n",
      "===================\n",
      "L = 0.9800000000000006\n",
      "rho = 0.019716263872618333\n",
      "===================\n",
      "L = 0.9900000000000007\n",
      "rho = 0.019384745687817867\n",
      "===================\n",
      "L = 1.0000000000000007\n",
      "rho = 0.01906153665347315\n",
      "===================\n"
     ]
    }
   ],
   "source": [
    "Pnew, Rnew, wnew, Rhoold, Rhonew = homotopy_optimizer_GD(inputsize, A, A, P, R, w, s, learning_rate = 0.001 ,accept_radius = GMM_rho,step_length = 0.01)"
   ]
  },
  {
   "cell_type": "markdown",
   "metadata": {},
   "source": [
    "**Calculate Result and Residual**"
   ]
  },
  {
   "cell_type": "code",
   "execution_count": 22,
   "metadata": {},
   "outputs": [
    {
     "name": "stdout",
     "output_type": "stream",
     "text": [
      "Residual = 2.4466479049197787\n",
      "Interation = 0\n",
      "===================\n",
      "Residual = 0.030439581428146446\n",
      "Interation = 1\n",
      "===================\n",
      "Residual = 0.0016020323660289727\n",
      "Interation = 2\n",
      "===================\n",
      "Residual = 0.0003501257426434722\n",
      "Interation = 3\n",
      "===================\n",
      "Residual = 8.803884215431136e-05\n",
      "Interation = 4\n",
      "===================\n",
      "Residual = 2.2482991711407496e-05\n",
      "Interation = 5\n",
      "===================\n",
      "Residual = 5.754857580813339e-06\n",
      "Interation = 6\n",
      "===================\n",
      "Residual = 1.4738408901842626e-06\n",
      "Interation = 7\n",
      "===================\n",
      "Residual = 3.7755049581421215e-07\n",
      "Interation = 8\n",
      "===================\n",
      "Residual = 9.673298788152045e-08\n",
      "Interation = 9\n",
      "===================\n",
      "Residual = 2.4787563121232884e-08\n",
      "Interation = 10\n",
      "===================\n",
      "Residual = 6.352475003091535e-09\n",
      "Interation = 11\n",
      "===================\n",
      "Residual = 1.6281505394788007e-09\n",
      "Interation = 12\n",
      "===================\n",
      "Residual = 4.173344773661499e-10\n",
      "Interation = 13\n",
      "===================\n",
      "Residual = 1.0698088911171661e-10\n",
      "Interation = 14\n",
      "===================\n",
      "Residual = 2.7425281783050293e-11\n",
      "Interation = 15\n",
      "===================\n",
      "Residual = 7.0313060172960865e-12\n",
      "Interation = 16\n",
      "===================\n",
      "Residual = 1.8015459321809413e-12\n",
      "Interation = 17\n",
      "===================\n",
      "Residual = 4.613740521534344e-13\n",
      "Interation = 18\n",
      "===================\n",
      "Residual = 1.197156275032317e-13\n",
      "Interation = 19\n",
      "===================\n",
      "Residual = 3.492911982012531e-14\n",
      "Interation = 20\n",
      "===================\n",
      "Residual = 1.601802589125465e-14\n",
      "Interation = 21\n",
      "===================\n",
      "Residual = 1.3043685103766975e-14\n",
      "Interation = 22\n",
      "===================\n",
      "Residual = 1.2619202364080366e-14\n",
      "Interation = 23\n",
      "===================\n",
      "Residual = 1.1708683145436953e-14\n",
      "Interation = 24\n",
      "===================\n",
      "Residual = 1.1762179059175243e-14\n",
      "Interation = 25\n",
      "===================\n",
      "Residual = 1.1969515242949693e-14\n",
      "Interation = 26\n",
      "===================\n",
      "Residual = 1.207520389082953e-14\n",
      "Interation = 27\n",
      "===================\n",
      "Residual = 1.2232820922846744e-14\n",
      "Interation = 28\n",
      "===================\n",
      "Residual = 1.190732504513228e-14\n",
      "Interation = 29\n",
      "===================\n",
      "Residual = 1.2492710226617805e-14\n",
      "Interation = 30\n",
      "===================\n",
      "Residual = 1.245232724424904e-14\n",
      "Interation = 31\n",
      "===================\n",
      "Residual = 1.2417819874778246e-14\n",
      "Interation = 32\n",
      "===================\n",
      "Residual = 1.216671164326941e-14\n",
      "Interation = 33\n",
      "===================\n",
      "Residual = 1.1976175564813147e-14\n",
      "Interation = 34\n",
      "===================\n",
      "Residual = 1.199980266458436e-14\n",
      "Interation = 35\n",
      "===================\n",
      "Residual = 1.1965934189369542e-14\n",
      "Interation = 36\n",
      "===================\n",
      "Residual = 1.2161705862395907e-14\n",
      "Interation = 37\n",
      "===================\n",
      "Residual = 1.2021696784811401e-14\n",
      "Interation = 38\n",
      "===================\n",
      "Residual = 1.2195073175500575e-14\n",
      "Interation = 39\n",
      "===================\n"
     ]
    }
   ],
   "source": [
    "DMM_U, DMM_Res = Multigrid_circle(inputsize, A, RightF, Pnew, Rnew, s, wnew, 40)"
   ]
  },
  {
   "cell_type": "markdown",
   "metadata": {},
   "source": [
    "**Plot Result**"
   ]
  },
  {
   "cell_type": "code",
   "execution_count": 23,
   "metadata": {},
   "outputs": [
    {
     "data": {
      "text/plain": [
       "<matplotlib.colorbar.Colorbar at 0x21d013b1470>"
      ]
     },
     "execution_count": 23,
     "metadata": {},
     "output_type": "execute_result"
    },
    {
     "data": {
      "image/png": "[encoded data removed]",
      "text/plain": [
       "<Figure size 432x288 with 2 Axes>"
      ]
     },
     "metadata": {},
     "output_type": "display_data"
    }
   ],
   "source": [
    "plt.imshow(DMM_U.reshape(sqrtinputsize,sqrtinputsize))\n",
    "plt.colorbar()"
   ]
  },
  {
   "cell_type": "markdown",
   "metadata": {},
   "source": [
    "**Plot Residual**"
   ]
  },
  {
   "cell_type": "code",
   "execution_count": 24,
   "metadata": {},
   "outputs": [
    {
     "data": {
      "text/plain": [
       "[<matplotlib.lines.Line2D at 0x21d013e9198>]"
      ]
     },
     "execution_count": 24,
     "metadata": {},
     "output_type": "execute_result"
    },
    {
     "data": {
      "image/png": "[encoded data removed]",
      "text/plain": [
       "<Figure size 432x288 with 1 Axes>"
      ]
     },
     "metadata": {},
     "output_type": "display_data"
    }
   ],
   "source": [
    "plt.semilogy(DMM_Res)"
   ]
  },
  {
   "cell_type": "markdown",
   "metadata": {},
   "source": [
    "**Calculate Spectral Radius**"
   ]
  },
  {
   "cell_type": "code",
   "execution_count": 25,
   "metadata": {},
   "outputs": [
    {
     "name": "stdout",
     "output_type": "stream",
     "text": [
      "0.01906153665347315\n"
     ]
    }
   ],
   "source": [
    "DMM_radius = Rhonew\n",
    "print(Rhonew)"
   ]
  },
  {
   "cell_type": "markdown",
   "metadata": {},
   "source": [
    "## Compare"
   ]
  },
  {
   "cell_type": "code",
   "execution_count": 26,
   "metadata": {},
   "outputs": [
    {
     "name": "stdout",
     "output_type": "stream",
     "text": [
      "GMM_rho = 0.700832950209785\n",
      "DMM_rho = 0.01906153665347315\n"
     ]
    }
   ],
   "source": [
    "print('GMM_rho = {}'.format(GMM_rho))\n",
    "print('DMM_rho = {}'.format(Rhonew))"
   ]
  },
  {
   "cell_type": "code",
   "execution_count": 27,
   "metadata": {},
   "outputs": [
    {
     "data": {
      "text/plain": [
       "<matplotlib.legend.Legend at 0x21d014f77b8>"
      ]
     },
     "execution_count": 27,
     "metadata": {},
     "output_type": "execute_result"
    },
    {
     "data": {
      "image/png": "[encoded data removed]",
      "text/plain": [
       "<Figure size 432x288 with 1 Axes>"
      ]
     },
     "metadata": {},
     "output_type": "display_data"
    }
   ],
   "source": [
    "plt.semilogy(GMM_Res, label = 'GMM_Res')\n",
    "plt.semilogy(DMM_Res, label = 'DMM_Res')\n",
    "plt.legend(loc='upper right')"
   ]
  },
  {
   "cell_type": "markdown",
   "metadata": {},
   "source": [
    "## R, P and  $\\omega$ after Optimization"
   ]
  },
  {
   "cell_type": "code",
   "execution_count": 28,
   "metadata": {},
   "outputs": [
    {
     "name": "stdout",
     "output_type": "stream",
     "text": [
      "omega after optimization = 0.8646068300010896\n"
     ]
    }
   ],
   "source": [
    "print('omega after optimization = {}'.format(wnew))"
   ]
  },
  {
   "cell_type": "code",
   "execution_count": 29,
   "metadata": {},
   "outputs": [
    {
     "name": "stdout",
     "output_type": "stream",
     "text": [
      "P after optimization \n"
     ]
    },
    {
     "data": {
      "text/plain": [
       "<matplotlib.colorbar.Colorbar at 0x21d014ad9b0>"
      ]
     },
     "execution_count": 29,
     "metadata": {},
     "output_type": "execute_result"
    },
    {
     "data": {
      "image/png": "[encoded data removed]",
      "text/plain": [
       "<Figure size 432x288 with 2 Axes>"
      ]
     },
     "metadata": {},
     "output_type": "display_data"
    }
   ],
   "source": [
    "print('P after optimization ')\n",
    "plt.imshow(np.log10(np.abs(Pnew)))\n",
    "plt.colorbar()"
   ]
  },
  {
   "cell_type": "code",
   "execution_count": 30,
   "metadata": {},
   "outputs": [
    {
     "name": "stdout",
     "output_type": "stream",
     "text": [
      "R after optimization \n"
     ]
    },
    {
     "data": {
      "text/plain": [
       "<matplotlib.colorbar.Colorbar at 0x21d01526550>"
      ]
     },
     "execution_count": 30,
     "metadata": {},
     "output_type": "execute_result"
    },
    {
     "data": {
      "image/png": "[encoded data removed]",
      "text/plain": [
       "<Figure size 432x288 with 2 Axes>"
      ]
     },
     "metadata": {},
     "output_type": "display_data"
    }
   ],
   "source": [
    "print('R after optimization ')\n",
    "plt.imshow(np.log10(np.abs(Rnew)))\n",
    "plt.colorbar()"
   ]
  },
  {
   "cell_type": "code",
   "execution_count": 31,
   "metadata": {},
   "outputs": [
    {
     "name": "stdout",
     "output_type": "stream",
     "text": [
      "P under log10(abs())\n"
     ]
    },
    {
     "data": {
      "text/plain": [
       "[<matplotlib.lines.Line2D at 0x21d015f0f60>]"
      ]
     },
     "execution_count": 31,
     "metadata": {},
     "output_type": "execute_result"
    },
    {
     "data": {
      "image/png": "[encoded data removed]",
      "text/plain": [
       "<Figure size 432x288 with 1 Axes>"
      ]
     },
     "metadata": {},
     "output_type": "display_data"
    }
   ],
   "source": [
    "print(\"P under log10(abs())\")\n",
    "plt.plot(np.log10(np.abs(Pnew))[round(0.5*inputsize)][:])"
   ]
  },
  {
   "cell_type": "code",
   "execution_count": 32,
   "metadata": {},
   "outputs": [
    {
     "name": "stdout",
     "output_type": "stream",
     "text": [
      "R under log10(abs())\n"
     ]
    },
    {
     "data": {
      "text/plain": [
       "[<matplotlib.lines.Line2D at 0x21d0509c0f0>]"
      ]
     },
     "execution_count": 32,
     "metadata": {},
     "output_type": "execute_result"
    },
    {
     "data": {
      "image/png": "[encoded data removed]",
      "text/plain": [
       "<Figure size 432x288 with 1 Axes>"
      ]
     },
     "metadata": {},
     "output_type": "display_data"
    }
   ],
   "source": [
    "print(\"R under log10(abs())\")\n",
    "plt.plot(np.log10(np.abs(Rnew))[:][round(0.5*outputsize)])"
   ]
  }
 ],
 "metadata": {
  "kernelspec": {
   "display_name": "Python 3",
   "language": "python",
   "name": "python3"
  },
  "language_info": {
   "codemirror_mode": {
    "name": "ipython",
    "version": 3
   },
   "file_extension": ".py",
   "mimetype": "text/x-python",
   "name": "python",
   "nbconvert_exporter": "python",
   "pygments_lexer": "ipython3",
   "version": "3.6.5"
  }
 },
 "nbformat": 4,
 "nbformat_minor": 2
}
