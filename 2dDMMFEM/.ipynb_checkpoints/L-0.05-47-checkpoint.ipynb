{
 "cells": [
  {
   "cell_type": "code",
   "execution_count": 1,
   "metadata": {},
   "outputs": [],
   "source": [
    "inputsize =47**2\n",
    "e = 0.05"
   ]
  },
  {
   "cell_type": "code",
   "execution_count": 2,
   "metadata": {},
   "outputs": [],
   "source": [
    "import torch\n",
    "import numpy as np\n",
    "import matplotlib.pyplot as plt\n",
    "import autograd.numpy as np\n",
    "from autograd import grad\n",
    "import pyamg\n",
    "import dmg.gallery as gallery\n",
    "import dmg.dgmg as dgmg\n",
    "import dmg.gmg_linear as gmg_linear\n",
    "import dmg.classical_amg as classical_amg\n",
    "from mpl_toolkits.mplot3d import Axes3D\n",
    "import xlsxwriter\n",
    "from scipy.ndimage import convolve"
   ]
  },
  {
   "cell_type": "code",
   "execution_count": 3,
   "metadata": {},
   "outputs": [],
   "source": [
    "def Restriction(inputsize):\n",
    "    inputsize = int(inputsize)\n",
    "    sqrtinputsize = int(np.sqrt(inputsize))     \n",
    "    sqrtoutputsize = int(sqrtinputsize/2)\n",
    "    outputsize = int(sqrtoutputsize**2)\n",
    "    OUTPUT = np.zeros([outputsize, inputsize])\n",
    "    for j in range(sqrtoutputsize):\n",
    "        for i in range(sqrtoutputsize):\n",
    "            OUTPUT[i+sqrtoutputsize*j][2*i+j*2*sqrtinputsize] = 1/16\n",
    "            OUTPUT[i+sqrtoutputsize*j][1+2*i+j*2*sqrtinputsize] = 1/8\n",
    "            OUTPUT[i+sqrtoutputsize*j][2+2*i+j*2*sqrtinputsize] = 1/16\n",
    "            OUTPUT[i+sqrtoutputsize*j][sqrtinputsize +\n",
    "                                       2*i+j*2*sqrtinputsize] = 1/8\n",
    "            OUTPUT[i+sqrtoutputsize*j][1+sqrtinputsize +\n",
    "                                       2*i+j*2*sqrtinputsize] = 1/4\n",
    "            OUTPUT[i+sqrtoutputsize*j][2+sqrtinputsize +\n",
    "                                       2*i+j*2*sqrtinputsize] = 1/8\n",
    "            OUTPUT[i+sqrtoutputsize*j][2*sqrtinputsize +\n",
    "                                       2*i+j*2*sqrtinputsize] = 1/16\n",
    "            OUTPUT[i+sqrtoutputsize*j][1+2 *\n",
    "                                       sqrtinputsize + 2*i+j*2*sqrtinputsize] = 1/8\n",
    "            OUTPUT[i+sqrtoutputsize*j][2+2 *\n",
    "                                       sqrtinputsize+2*i+j*2*sqrtinputsize] = 1/16\n",
    "    return OUTPUT\n",
    "\n",
    "def Poisson(inputsize):\n",
    "    inputsize = int(inputsize)\n",
    "    sqrtinputsize = int(np.sqrt(inputsize))     \n",
    "    sqrtoutputsize = int(sqrtinputsize/2)\n",
    "    outputsize = int(sqrtoutputsize**2)\n",
    "    OUTPUT = np.zeros([outputsize, inputsize])\n",
    "    A1 = 2*np.eye(sqrtinputsize)\n",
    "    for i in range(sqrtinputsize-1):\n",
    "        A1[i, i+1] = -1\n",
    "        A1[i+1, i] = -1\n",
    "    I = np.eye(sqrtinputsize)\n",
    "    OUTPUT = (np.kron(I, A1)+np.kron(A1, I))\n",
    "    return OUTPUT\n",
    "\n",
    "\n",
    "def Multigrid_circle(inputsize, A_A, B, R_A, s, w, error):\n",
    "    A = np.matrix(A_A)\n",
    "    P = 4.*np.transpose(R_A)\n",
    "    R = np.matrix(R_A)\n",
    "    M = np.matrix(w**(-1)*np.diag(np.diag(A)))\n",
    "    K = M - A\n",
    "    C = np.linalg.inv(M)*K\n",
    "    b = np.linalg.inv(M)*B\n",
    "    U0 = np.matrix(np.zeros([inputsize, 1]))\n",
    "    RESIDUAL = []\n",
    "    Residual=1\n",
    "    i=0\n",
    "    while Residual > error:\n",
    "        for j in range(s):\n",
    "            U0 = C*U0+b\n",
    "        r = B - A*U0\n",
    "        Residual = np.linalg.norm(r,2)\n",
    "        rc = R*r\n",
    "        Ac = R*A*P\n",
    "        Uc = np.linalg.solve(Ac, rc)\n",
    "        U = U0 + P*Uc\n",
    "        for k in range(s):\n",
    "            U = C*U+b\n",
    "        U0 = U\n",
    "        RESIDUAL.append(Residual)\n",
    "        i=i+1\n",
    "        print(\"Residual = {}\".format(Residual))\n",
    "        print(\"Interation = {}\".format(i))\n",
    "        print(\"===================\")\n",
    "    return U0, RESIDUAL\n",
    "\n",
    "def rho(inputsize,A,P,R,w,s):\n",
    "    M = (w**(-1)) * np.diag(np.diag(A))\n",
    "    K = M - A\n",
    "    MK = np.matmul(np.linalg.inv(M),K)\n",
    "    I = np.eye(inputsize)\n",
    "    IPRAPRA = I - np.matmul(np.matmul(np.matmul(P,np.linalg.inv(np.matmul(np.matmul(R,A),P))),R),A)\n",
    "    C = np.matmul(np.matmul(MK,IPRAPRA),MK)\n",
    "    for i in range(5):\n",
    "        C = np.matmul(C,C)\n",
    "    radius = np.linalg.norm(C)**(1/32)\n",
    "    return radius\n",
    "\n",
    "def optimizer_GD(inputsize, A1, R, w, s, learning_rate, lam):\n",
    "    rhoold = rho(inputsize,A1,4*np.transpose(R),R,w,s)\n",
    "    device = torch.device('cpu')\n",
    "    R = torch.tensor(R,dtype = torch.double, requires_grad=True,device=device)\n",
    "    w = torch.tensor(w,dtype = torch.double, requires_grad=True, device=device)\n",
    "    lam = torch.tensor(lam,dtype = torch.double, requires_grad=True, device=device)\n",
    "    A = torch.tensor(A1,dtype = torch.double, device=device)\n",
    "    P = 4*torch.t(R)\n",
    "    M = (w**(-1)) * torch.diag(torch.diag(A))\n",
    "    K = M - A\n",
    "    MK = torch.mm(torch.inverse(M),K)\n",
    "    I = torch.eye(inputsize,dtype = torch.double, device=device)\n",
    "    I1 = torch.ones([inputsize,1],dtype = torch.double, device=device)\n",
    "    I2 = torch.ones([outputsize,1],dtype = torch.double, device=device)\n",
    "    IPRAPRA = I - torch.mm(torch.mm(torch.mm(P,torch.inverse(torch.mm(torch.mm(R,A),P))),R),A)\n",
    "    C = torch.mm(torch.mm(MK,IPRAPRA),MK)\n",
    "    for i in range(5):\n",
    "        C = torch.mm(C,C)\n",
    "    loss = torch.norm(C)**(1/32) + torch.mm(lam,torch.mm(R,I1) - I2)\n",
    "    loss.backward()\n",
    "    with torch.no_grad():\n",
    "        R-=learning_rate*R.grad\n",
    "        w-=learning_rate*w.grad \n",
    "        lam-=learning_rate*lam.grad\n",
    "    R = R.detach().numpy()\n",
    "    w = w.detach().numpy()\n",
    "    lam = lam.detach().numpy()\n",
    "    rhonew = rho(inputsize,A1,4*np.transpose(R),R,w,s)\n",
    "    return R, w, lam, rhoold, rhonew\n",
    "\n",
    "def direct_optimizer_GD(inputsize, A0, A1, R, w, s, learning_rate, lam):\n",
    "    Rhoold = rho(inputsize,A1,4*np.transpose(R),R,w,s)\n",
    "    Rhonew = [Rhoold]\n",
    "    for i in range(100):\n",
    "        Rnew, wnew, lamnew, rhoold, rhonew = optimizer_GD(inputsize, A1, R, w, s, learning_rate, lam)\n",
    "        R = Rnew\n",
    "        w = wnew\n",
    "        lam = lamnew\n",
    "        print(\"rho = {}\".format(rhonew))\n",
    "        print(\"===================\")\n",
    "        Rhonew.append(rhonew)\n",
    "        i+=1\n",
    "    print(\"======End======\")\n",
    "    return R, w, Rhoold, Rhonew\n",
    "\n",
    "def homotopy_optimizer_GD(inputsize, A0, A1, R, w, s, learning_rate ,accept_radius ,step_length,lam):\n",
    "    Rhoold = rho(inputsize,A1,4*np.transpose(R),R,w,s)\n",
    "    Radius = [Rhoold]\n",
    "    L = step_length\n",
    "    print(\"======Section 1======\")\n",
    "    while L < 1:\n",
    "        M = (1-L)*A0 + L*A1\n",
    "        Rnew, wnew, lamnew, rhoold, rhonew = optimizer_GD(inputsize, M, R, w, s, learning_rate, lam)\n",
    "        Radius.append(rhonew)\n",
    "        if rhonew > accept_radius:\n",
    "            step_length = 0.1*step_length\n",
    "            learning_rate = 0.1*learning_rate\n",
    "            print('Decrease the step_length, learning_rate and Restart!!')\n",
    "            print(\"step_length = {}\".format(step_length))      \n",
    "            print(\"learning_rate = {}\".format(learning_rate))\n",
    "            print(\"rhonew = {}\".format(rhonew))\n",
    "            print(\"===================\")\n",
    "            R = Restriction(inputsize)\n",
    "            lam = np.zeros([1,outputsize])\n",
    "            w = 2/3\n",
    "            L = step_length\n",
    "        else:\n",
    "            R = Rnew\n",
    "            w = wnew\n",
    "            L += step_length\n",
    "            lam = lamnew\n",
    "            print(\"L = {}\".format(L))\n",
    "            print(\"rho = {}\".format(rhonew))\n",
    "            print(\"===================\")\n",
    "    print(\"======Section 2======\")\n",
    "    i = 0\n",
    "    while rhoold>rhonew and i <10000:\n",
    "        Rnew, wnew, lamnew, rhoold, rhonew = optimizer_GD(inputsize, A1, R, w, s, learning_rate, lam)\n",
    "        Radius.append(rhonew)\n",
    "        R = Rnew\n",
    "        w = wnew\n",
    "        lam = lamnew\n",
    "        print(\"the {} steps\".format(i))\n",
    "        print(\"rho = {}\".format(rhonew))\n",
    "        print(\"===================\")\n",
    "        i+=1            \n",
    "    Rhonew = rhonew\n",
    "    print(\"======End======\")\n",
    "    return R, w, Rhoold, Rhonew, Radius"
   ]
  },
  {
   "cell_type": "code",
   "execution_count": 4,
   "metadata": {},
   "outputs": [],
   "source": [
    "s = 1\n",
    "w = 2/3\n",
    "error=10e-11\n",
    "def u_real(x, y): return np.sin(np.pi*3*x)*np.sin(np.pi*5*y)\n",
    "def rightf(x, y): return  34*np.pi**2*np.sin(3*np.pi*x)*np.sin(5*np.pi*y)*(np.cos((x + y)/e) + 2) + (3*np.pi*np.cos(3*np.pi*x)*np.sin(5*np.pi*y)*np.sin((x + y)/e))/e + (5*np.pi*np.cos(5*np.pi*y)*np.sin(3*np.pi*x)*np.sin((x + y)/e))/e\n",
    "def a(x, y): return 2+np.cos((x+y)/e)\n",
    "sqrtinputsize = int(np.sqrt(inputsize))     \n",
    "sqrtoutputsize = int(sqrtinputsize/2)\n",
    "outputsize = int(sqrtoutputsize**2)\n",
    "h = 1/(sqrtinputsize-1)\n",
    "H = 1/(sqrtoutputsize-1)\n",
    "A0 = Poisson(inputsize)\n",
    "num_levels=2\n",
    "n=sqrtinputsize\n",
    "kx = np.zeros([n,n+1])\n",
    "ky = np.zeros([n+1,n])\n",
    "for i in range(n):\n",
    "    for j in range(n+1):\n",
    "        kx[i][j] = a((j-0.5)*h,i*h)\n",
    "for i in range(n+1):\n",
    "    for j in range(n):\n",
    "        ky[i][j] = a(j*h,(i-0.5)*h)    \n",
    "A1 = gallery.nonlinearPoisson((n,n), kx, ky)\n",
    "n = inputsize\n",
    "[X, Y] = np.meshgrid(np.linspace(0, 1, sqrtinputsize),np.linspace(0, 1, sqrtinputsize))\n",
    "RightF = rightf(X,Y)*h**2\n",
    "RightF = RightF.reshape(inputsize, 1)\n",
    "Ureal = u_real(X,Y).reshape(inputsize, 1)\n",
    "Media = a(X,Y)\n",
    "R = Restriction(inputsize)\n",
    "P = 4*np.transpose(R)"
   ]
  },
  {
   "cell_type": "code",
   "execution_count": 5,
   "metadata": {},
   "outputs": [],
   "source": [
    "num_levels=2\n",
    "n=sqrtinputsize\n",
    "kx = np.zeros([n,n+1])\n",
    "ky = np.zeros([n+1,n])\n",
    "for i in range(n):\n",
    "    for j in range(n+1):\n",
    "        kx[i][j] = a((j-0.5)*h,i*h)\n",
    "for i in range(n+1):\n",
    "    for j in range(n):\n",
    "        ky[i][j] = a(j*h,(i-0.5)*h)    \n",
    "A = gallery.nonlinearPoisson((n,n), kx, ky)"
   ]
  },
  {
   "cell_type": "code",
   "execution_count": 6,
   "metadata": {
    "scrolled": true
   },
   "outputs": [
    {
     "name": "stderr",
     "output_type": "stream",
     "text": [
      "/Library/Frameworks/Python.framework/Versions/3.6/lib/python3.6/site-packages/autograd/numpy/numpy_vjps.py:444: FutureWarning: Using a non-tuple sequence for multidimensional indexing is deprecated; use `arr[tuple(seq)]` instead of `arr[seq]`. In the future this will be interpreted as an array index, `arr[np.array(seq)]`, which will result either in an error or a different result.\n",
      "  return lambda g: g[idxs]\n",
      "/Library/Frameworks/Python.framework/Versions/3.6/lib/python3.6/site-packages/autograd/numpy/numpy_vjps.py:444: FutureWarning: Using a non-tuple sequence for multidimensional indexing is deprecated; use `arr[tuple(seq)]` instead of `arr[seq]`. In the future this will be interpreted as an array index, `arr[np.array(seq)]`, which will result either in an error or a different result.\n",
      "  return lambda g: g[idxs]\n"
     ]
    },
    {
     "name": "stdout",
     "output_type": "stream",
     "text": [
      "Iteration 100/2000\n",
      "Upper bound estimation = 0.2242513616874773\n",
      "Iteration 200/2000\n",
      "Upper bound estimation = 0.21377911139554592\n",
      "Iteration 300/2000\n",
      "Upper bound estimation = 0.20138254229817776\n",
      "Iteration 400/2000\n",
      "Upper bound estimation = 0.20899164077146692\n",
      "Iteration 500/2000\n",
      "Upper bound estimation = 0.18398462156418482\n",
      "Iteration 600/2000\n",
      "Upper bound estimation = 0.1793974910482938\n",
      "Iteration 700/2000\n",
      "Upper bound estimation = 0.17123428032713497\n",
      "Iteration 800/2000\n",
      "Upper bound estimation = 0.16693276090262826\n",
      "Iteration 900/2000\n",
      "Upper bound estimation = 0.1600341164049816\n",
      "Iteration 1000/2000\n",
      "Upper bound estimation = 0.15466510340037878\n",
      "Iteration 1100/2000\n",
      "Upper bound estimation = 0.15068122125100777\n",
      "Iteration 1200/2000\n",
      "Upper bound estimation = 0.14600717925119264\n",
      "Iteration 1300/2000\n",
      "Upper bound estimation = 0.14243450898506035\n",
      "Iteration 1400/2000\n",
      "Upper bound estimation = 0.14290669218012914\n",
      "Iteration 1500/2000\n",
      "Upper bound estimation = 0.14255921064310284\n",
      "Iteration 1600/2000\n",
      "Upper bound estimation = 0.14203359798703524\n",
      "Iteration 1700/2000\n",
      "Upper bound estimation = 0.14210596366120332\n",
      "Iteration 1800/2000\n",
      "Upper bound estimation = 0.14213023179533227\n",
      "Iteration 1900/2000\n",
      "Upper bound estimation = 0.14129996684257268\n",
      "Iteration 2000/2000\n",
      "Upper bound estimation = 0.14198562059290004\n"
     ]
    }
   ],
   "source": [
    "PR_stencil_type = \"m9p\"\n",
    "gmm = dgmg.DeepMG(A, PR_stencil_type=PR_stencil_type, max_levels=num_levels)\n",
    "num_iter = 2000\n",
    "step_size = 1e-4\n",
    "opt_par = gmm.optimize(num_iter=num_iter, step_size=step_size)"
   ]
  },
  {
   "cell_type": "code",
   "execution_count": 7,
   "metadata": {},
   "outputs": [
    {
     "name": "stdout",
     "output_type": "stream",
     "text": [
      "Dimension of matrix A for levels:\n",
      "Level = 0, dimension = (23, 23)\n",
      "Level = 1, dimension = (47, 47)\n",
      "\n",
      "DMM rho = 0.1240657076581246\n"
     ]
    }
   ],
   "source": [
    "print(gmm)\n",
    "convergence = gmm.get_optimizer_convergence()\n",
    "conv_time = gmm.get_optimization_time()\n",
    "gmm.update_prd(opt_par)\n",
    "DMM_rho = gmm.compute_rho()\n",
    "print(\"DMM rho = {}\".format(DMM_rho))"
   ]
  },
  {
   "cell_type": "code",
   "execution_count": 8,
   "metadata": {},
   "outputs": [
    {
     "name": "stdout",
     "output_type": "stream",
     "text": [
      "[1.71304147e+01 1.49629252e+00 1.48894843e-01 1.53541029e-02\n",
      " 1.63327072e-03 1.76140702e-04 1.93603388e-05 2.15548585e-06\n",
      " 2.42599080e-07 2.75538709e-08 3.15345648e-09 3.62982176e-10\n",
      " 4.19446041e-11]\n"
     ]
    },
    {
     "data": {
      "text/plain": [
       "[<matplotlib.lines.Line2D at 0x12a464c88>]"
      ]
     },
     "execution_count": 8,
     "metadata": {},
     "output_type": "execute_result"
    },
    {
     "data": {
      "image/png": "[encoded data removed]",
      "text/plain": [
       "<Figure size 432x288 with 1 Axes>"
      ]
     },
     "metadata": {
      "needs_background": "light"
     },
     "output_type": "display_data"
    }
   ],
   "source": [
    "DMM_U = gmm.solve(RightF, np.random.randn(A.shape), tol=error)\n",
    "print(gmm.get_gmg_convergence())\n",
    "plt.semilogy(gmm.get_gmg_convergence())"
   ]
  },
  {
   "cell_type": "code",
   "execution_count": 9,
   "metadata": {},
   "outputs": [
    {
     "name": "stdout",
     "output_type": "stream",
     "text": [
      "Energy norm: \n",
      "1.4391291089067733\n",
      "L2 norm: \n",
      "0.08260840825295944\n",
      "H1 norm: \n",
      "1.0719672920772734\n",
      "Energy norm: \n",
      "0.11056084186623508\n",
      "L2 norm: \n",
      "0.1652168165059189\n",
      "H1 norm: \n",
      "0.11626887660914186\n"
     ]
    }
   ],
   "source": [
    "UREAL = Ureal.reshape(sqrtinputsize,sqrtinputsize)\n",
    "DMMU = DMM_U.reshape(sqrtinputsize,sqrtinputsize)\n",
    "deltaU = DMMU - UREAL\n",
    "\n",
    "energynorm = np.sqrt(np.sum(np.multiply(np.multiply(np.gradient(UREAL,h,axis=0),np.gradient(UREAL,h,axis=0)),Media)*(h**2))+np.sum(np.multiply(np.multiply(np.gradient(UREAL,h,axis=1),np.gradient(UREAL,h,axis=1)),Media)*(h**2)))\n",
    "l2norm = np.sqrt((np.linalg.norm(UREAL)**2)*(h**2))\n",
    "h1norm = np.sqrt((np.linalg.norm(np.gradient(UREAL,h,axis=0))**2+np.linalg.norm(np.gradient(UREAL,h,axis=1))**2+np.linalg.norm(UREAL)**2)*(h**2))\n",
    "\n",
    "print('Energy norm: ')\n",
    "print(np.sqrt(np.sum(np.multiply(np.multiply(np.gradient(deltaU,h,axis=0),np.gradient(deltaU,h,axis=0)),Media)*(h**2))+np.sum(np.multiply(np.multiply(np.gradient(deltaU,h,axis=1),np.gradient(deltaU,h,axis=1)),Media)*(h**2))))\n",
    "print('L2 norm: ')\n",
    "print(np.sqrt((np.linalg.norm(deltaU)**2)*(h**2)))\n",
    "print('H1 norm: ')\n",
    "print(np.sqrt((np.linalg.norm(np.gradient(deltaU,h,axis=0))**2+np.linalg.norm(np.gradient(deltaU,h,axis=1))**2+np.linalg.norm(deltaU)**2)*(h**2)))\n",
    "\n",
    "print('Energy norm: ')\n",
    "print(np.sqrt(np.sum(np.multiply(np.multiply(np.gradient(deltaU,h,axis=0),np.gradient(deltaU,h,axis=0)),Media)*(h**2))+np.sum(np.multiply(np.multiply(np.gradient(deltaU,h,axis=1),np.gradient(deltaU,h,axis=1)),Media)*(h**2)))/energynorm)\n",
    "print('L2 norm: ')\n",
    "print(np.sqrt((np.linalg.norm(deltaU)**2)*(h**2))/l2norm)\n",
    "print('H1 norm: ')\n",
    "print(np.sqrt((np.linalg.norm(np.gradient(deltaU,h,axis=0))**2+np.linalg.norm(np.gradient(deltaU,h,axis=1))**2+np.linalg.norm(deltaU)**2)*(h**2))/h1norm)"
   ]
  },
  {
   "cell_type": "code",
   "execution_count": 10,
   "metadata": {},
   "outputs": [
    {
     "data": {
      "text/plain": [
       "<matplotlib.colorbar.Colorbar at 0x129576cf8>"
      ]
     },
     "execution_count": 10,
     "metadata": {},
     "output_type": "execute_result"
    },
    {
     "data": {
      "image/png": "[encoded data removed]",
      "text/plain": [
       "<Figure size 432x288 with 2 Axes>"
      ]
     },
     "metadata": {
      "needs_background": "light"
     },
     "output_type": "display_data"
    }
   ],
   "source": [
    "plt.imshow(DMM_U.reshape(sqrtinputsize,sqrtinputsize))\n",
    "plt.colorbar()"
   ]
  },
  {
   "cell_type": "code",
   "execution_count": 11,
   "metadata": {},
   "outputs": [
    {
     "name": "stdout",
     "output_type": "stream",
     "text": [
      "omega = 0.793872464580637\n"
     ]
    }
   ],
   "source": [
    "np.set_printoptions(threshold=np.inf)\n",
    "print(\"omega = {}\".format(opt_par[2]))"
   ]
  },
  {
   "cell_type": "code",
   "execution_count": 12,
   "metadata": {},
   "outputs": [
    {
     "data": {
      "text/plain": [
       "<matplotlib.colorbar.Colorbar at 0x12a2bfb00>"
      ]
     },
     "execution_count": 12,
     "metadata": {},
     "output_type": "execute_result"
    },
    {
     "data": {
      "image/png": "[encoded data removed]",
      "text/plain": [
       "<Figure size 432x288 with 2 Axes>"
      ]
     },
     "metadata": {
      "needs_background": "light"
     },
     "output_type": "display_data"
    }
   ],
   "source": [
    "k = int(2**(np.log2(n+1)-1)-1) \n",
    "R = opt_par[1][0]\n",
    "R_Matrix = np.zeros([k**2,n**2])\n",
    "for i in range(k):\n",
    "    for j in range(k):\n",
    "        C = R[i][j]\n",
    "        for l in range(3):\n",
    "            for m in range(3):\n",
    "                R_Matrix[k*i+j][n*(2*i+l)+(2*j+m)] = C[l][m]\n",
    "Rnew = R_Matrix\n",
    "plt.imshow(R_Matrix)\n",
    "plt.colorbar()"
   ]
  },
  {
   "cell_type": "code",
   "execution_count": 13,
   "metadata": {},
   "outputs": [
    {
     "name": "stderr",
     "output_type": "stream",
     "text": [
      "/Library/Frameworks/Python.framework/Versions/3.6/lib/python3.6/site-packages/autograd/tracer.py:48: RuntimeWarning: divide by zero encountered in log\n",
      "  return f_raw(*args, **kwargs)\n"
     ]
    },
    {
     "data": {
      "text/plain": [
       "<matplotlib.colorbar.Colorbar at 0x12c9a8470>"
      ]
     },
     "execution_count": 13,
     "metadata": {},
     "output_type": "execute_result"
    },
    {
     "data": {
      "image/png": "[encoded data removed]",
      "text/plain": [
       "<Figure size 432x288 with 2 Axes>"
      ]
     },
     "metadata": {
      "needs_background": "light"
     },
     "output_type": "display_data"
    }
   ],
   "source": [
    "plt.imshow(np.log(np.abs(R_Matrix)))\n",
    "plt.colorbar()"
   ]
  },
  {
   "cell_type": "code",
   "execution_count": 14,
   "metadata": {},
   "outputs": [
    {
     "data": {
      "text/plain": [
       "<matplotlib.colorbar.Colorbar at 0x12a2eafd0>"
      ]
     },
     "execution_count": 14,
     "metadata": {},
     "output_type": "execute_result"
    },
    {
     "data": {
      "image/png": "[encoded data removed]",
      "text/plain": [
       "<Figure size 432x288 with 2 Axes>"
      ]
     },
     "metadata": {
      "needs_background": "light"
     },
     "output_type": "display_data"
    }
   ],
   "source": [
    "basis1 = R_Matrix[int(0.5*outputsize)][:]\n",
    "basis1 = basis1.reshape([sqrtinputsize,sqrtinputsize])\n",
    "plt.imshow(basis1)\n",
    "plt.colorbar()"
   ]
  },
  {
   "cell_type": "code",
   "execution_count": 16,
   "metadata": {},
   "outputs": [
    {
     "name": "stdout",
     "output_type": "stream",
     "text": [
      "Energy norm: \n",
      "5.089100271434929\n",
      "L2 norm: \n",
      "0.20385903532120284\n",
      "H1 norm: \n",
      "3.6762101010427735\n",
      "Energy norm: \n",
      "0.3909692374848489\n",
      "L2 norm: \n",
      "0.40771807064240567\n",
      "H1 norm: \n",
      "0.3987330786923037\n"
     ]
    },
    {
     "data": {
      "image/png": "[encoded data removed]",
      "text/plain": [
       "<Figure size 432x288 with 2 Axes>"
      ]
     },
     "metadata": {
      "needs_background": "light"
     },
     "output_type": "display_data"
    }
   ],
   "source": [
    "\n",
    "Anew = np.zeros([outputsize,outputsize])\n",
    "[X1, Y1] = np.meshgrid(np.linspace(0, 1, sqrtinputsize),np.linspace(0, 1, sqrtinputsize))\n",
    "[X2, Y2] = np.meshgrid(np.linspace(0, 1, sqrtoutputsize),np.linspace(0, 1, sqrtoutputsize))\n",
    "A = a(X1,Y1)\n",
    "for i in range(outputsize):\n",
    "    for j in range(outputsize):\n",
    "        basisi = Rnew[i][:].reshape([sqrtinputsize,sqrtinputsize])\n",
    "        basisj = Rnew[j][:].reshape([sqrtinputsize,sqrtinputsize])\n",
    "        gxbasisi = np.gradient(basisi,axis=0)/h\n",
    "        gybasisi = np.gradient(basisi,axis=1)/h\n",
    "        gxbasisj = np.gradient(basisj,axis=0)/h\n",
    "        gybasisj = np.gradient(basisj,axis=1)/h\n",
    "        Anew[i][j]=(np.sum(A*gxbasisi*gxbasisj)+np.sum(A*gybasisi*gybasisj))*(H**2)\n",
    "        \n",
    "Fnew = np.zeros([outputsize,1])\n",
    "for i in range(outputsize):\n",
    "    basisi = Rnew[i][:].reshape([sqrtinputsize,sqrtinputsize])\n",
    "    F = rightf(X1,Y1)\n",
    "    Fnew[i]=np.sum(F*basisi)*(H**2)\n",
    "    \n",
    "UnewCoarse = np.linalg.solve(Anew,Fnew)\n",
    "Unew = np.zeros([sqrtinputsize,sqrtinputsize])\n",
    "for i in range(outputsize):\n",
    "    basisi = Rnew[i][:].reshape([sqrtinputsize,sqrtinputsize])\n",
    "    Unew = Unew + UnewCoarse[i]*basisi\n",
    "\n",
    "plt.imshow(Unew)\n",
    "plt.colorbar()\n",
    "\n",
    "UREAL = u_real(X1,Y1).reshape(sqrtinputsize,sqrtinputsize)\n",
    "deltaU = Unew - UREAL\n",
    "A = a(X1,Y1)\n",
    "\n",
    "energynorm = np.sqrt(np.sum(np.multiply(np.multiply(np.gradient(UREAL,h,axis=0),np.gradient(UREAL,h,axis=0)),A)*(h**2))+np.sum(np.multiply(np.multiply(np.gradient(UREAL,h,axis=1),np.gradient(UREAL,h,axis=1)),A)*(h**2)))\n",
    "l2norm = np.sqrt((np.sum(UREAL**2))*(h**2))\n",
    "h1norm = np.sqrt((np.linalg.norm(np.gradient(UREAL,h,axis=0))**2+np.linalg.norm(np.gradient(UREAL,h,axis=1))**2+np.linalg.norm(UREAL)**2)*(h**2))\n",
    "print('Energy norm: ')\n",
    "print(np.sqrt(np.sum(np.multiply(np.multiply(np.gradient(deltaU,h,axis=0),np.gradient(deltaU,h,axis=0)),A)*(h**2))+np.sum(np.multiply(np.multiply(np.gradient(deltaU,h,axis=1),np.gradient(deltaU,h,axis=1)),A)*(h**2))))\n",
    "print('L2 norm: ')\n",
    "print(np.sqrt((np.linalg.norm(deltaU)**2)*(h**2)))\n",
    "print('H1 norm: ')\n",
    "print(np.sqrt((np.linalg.norm(np.gradient(deltaU,h,axis=0))**2+np.linalg.norm(np.gradient(deltaU,h,axis=1))**2+np.linalg.norm(deltaU)**2)*(h**2)))\n",
    "\n",
    "\n",
    "\n",
    "print('Energy norm: ')\n",
    "print(np.sqrt(np.sum(np.multiply(np.multiply(np.gradient(deltaU,h,axis=0),np.gradient(deltaU,h,axis=0)),A)*(h**2))+np.sum(np.multiply(np.multiply(np.gradient(deltaU,h,axis=1),np.gradient(deltaU,h,axis=1)),A)*(h**2)))/energynorm)\n",
    "print('L2 norm: ')\n",
    "print(np.sqrt((np.sum(deltaU**2))*(h**2))/l2norm)\n",
    "print('H1 norm: ')\n",
    "print(np.sqrt((np.linalg.norm(np.gradient(deltaU,h,axis=0))**2+np.linalg.norm(np.gradient(deltaU,h,axis=1))**2+np.linalg.norm(deltaU)**2)*(h**2))/h1norm)"
   ]
  }
 ],
 "metadata": {
  "kernelspec": {
   "display_name": "Python 3",
   "language": "python",
   "name": "python3"
  },
  "language_info": {
   "codemirror_mode": {
    "name": "ipython",
    "version": 3
   },
   "file_extension": ".py",
   "mimetype": "text/x-python",
   "name": "python",
   "nbconvert_exporter": "python",
   "pygments_lexer": "ipython3",
   "version": "3.6.6"
  }
 },
 "nbformat": 4,
 "nbformat_minor": 2
}
