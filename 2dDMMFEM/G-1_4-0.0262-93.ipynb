{
 "cells": [
  {
   "cell_type": "markdown",
   "metadata": {},
   "source": [
    "Import important parameter"
   ]
  },
  {
   "cell_type": "code",
   "execution_count": 1,
   "metadata": {},
   "outputs": [],
   "source": [
    "inputsize = 91**2\n",
    "e = 0.0262"
   ]
  },
  {
   "cell_type": "markdown",
   "metadata": {},
   "source": [
    "Import Package"
   ]
  },
  {
   "cell_type": "code",
   "execution_count": 2,
   "metadata": {},
   "outputs": [],
   "source": [
    "import torch\n",
    "import numpy as np\n",
    "import matplotlib.pyplot as plt\n",
    "import autograd.numpy as np\n",
    "from autograd import grad\n",
    "import pyamg\n",
    "import dmg.gallery as gallery\n",
    "import dmg.dgmg as dgmg\n",
    "import dmg.gmg_linear as gmg_linear\n",
    "import dmg.classical_amg as classical_amg\n",
    "from mpl_toolkits.mplot3d import Axes3D\n",
    "import xlsxwriter\n",
    "from scipy.ndimage import convolve"
   ]
  },
  {
   "cell_type": "markdown",
   "metadata": {},
   "source": [
    "Define function"
   ]
  },
  {
   "cell_type": "code",
   "execution_count": 3,
   "metadata": {},
   "outputs": [],
   "source": [
    "def Restriction(inputsize):\n",
    "    inputsize = int(inputsize)\n",
    "    sqrtinputsize = int(np.sqrt(inputsize))     \n",
    "    sqrtoutputsize = int(sqrtinputsize/2)\n",
    "    outputsize = int(sqrtoutputsize**2)\n",
    "    OUTPUT = np.zeros([outputsize, inputsize])\n",
    "    for j in range(sqrtoutputsize):\n",
    "        for i in range(sqrtoutputsize):\n",
    "            OUTPUT[i+sqrtoutputsize*j][2*i+j*2*sqrtinputsize] = 1/16\n",
    "            OUTPUT[i+sqrtoutputsize*j][1+2*i+j*2*sqrtinputsize] = 1/8\n",
    "            OUTPUT[i+sqrtoutputsize*j][2+2*i+j*2*sqrtinputsize] = 1/16\n",
    "            OUTPUT[i+sqrtoutputsize*j][sqrtinputsize +\n",
    "                                       2*i+j*2*sqrtinputsize] = 1/8\n",
    "            OUTPUT[i+sqrtoutputsize*j][1+sqrtinputsize +\n",
    "                                       2*i+j*2*sqrtinputsize] = 1/4\n",
    "            OUTPUT[i+sqrtoutputsize*j][2+sqrtinputsize +\n",
    "                                       2*i+j*2*sqrtinputsize] = 1/8\n",
    "            OUTPUT[i+sqrtoutputsize*j][2*sqrtinputsize +\n",
    "                                       2*i+j*2*sqrtinputsize] = 1/16\n",
    "            OUTPUT[i+sqrtoutputsize*j][1+2 *\n",
    "                                       sqrtinputsize + 2*i+j*2*sqrtinputsize] = 1/8\n",
    "            OUTPUT[i+sqrtoutputsize*j][2+2 *\n",
    "                                       sqrtinputsize+2*i+j*2*sqrtinputsize] = 1/16\n",
    "    return OUTPUT\n",
    "\n",
    "def Poisson(inputsize):\n",
    "    inputsize = int(inputsize)\n",
    "    sqrtinputsize = int(np.sqrt(inputsize))     \n",
    "    sqrtoutputsize = int(sqrtinputsize/2)\n",
    "    outputsize = int(sqrtoutputsize**2)\n",
    "    OUTPUT = np.zeros([outputsize, inputsize])\n",
    "    A1 = 2*np.eye(sqrtinputsize)\n",
    "    for i in range(sqrtinputsize-1):\n",
    "        A1[i, i+1] = -1\n",
    "        A1[i+1, i] = -1\n",
    "    I = np.eye(sqrtinputsize)\n",
    "    OUTPUT = (np.kron(I, A1)+np.kron(A1, I))\n",
    "    return OUTPUT\n",
    "\n",
    "\n",
    "def Multigrid_circle(inputsize, A_A, B, R_A, s, w, error):\n",
    "    A = np.matrix(A_A)\n",
    "    P = 16.*np.transpose(R_A)\n",
    "    R = np.matrix(R_A)\n",
    "    M = np.matrix(w**(-1)*np.diag(np.diag(A)))\n",
    "    K = M - A\n",
    "    C = np.linalg.inv(M)*K\n",
    "    b = np.linalg.inv(M)*B\n",
    "    U0 = np.matrix(np.zeros([inputsize, 1]))\n",
    "    RESIDUAL = []\n",
    "    Residual=1\n",
    "    i=0\n",
    "    while Residual > error:\n",
    "        for j in range(s):\n",
    "            U0 = C*U0+b\n",
    "        r = B - A*U0\n",
    "        Residual = np.linalg.norm(r,2)\n",
    "        rc = R*r\n",
    "        Ac = R*A*P\n",
    "        Uc = np.linalg.solve(Ac, rc)\n",
    "        U = U0 + P*Uc\n",
    "        for k in range(s):\n",
    "            U = C*U+b\n",
    "        U0 = U\n",
    "        RESIDUAL.append(Residual)\n",
    "        i=i+1\n",
    "        print(\"Residual = {}\".format(Residual))\n",
    "        print(\"Interation = {}\".format(i))\n",
    "        print(\"===================\")\n",
    "    return U0, RESIDUAL\n",
    "\n",
    "def rho(inputsize,A,P,R,w,s):\n",
    "    M = (w**(-1)) * np.diag(np.diag(A))\n",
    "    K = M - A\n",
    "    MK = np.matmul(np.linalg.inv(M),K)\n",
    "    I = np.eye(inputsize)\n",
    "    IPRAPRA = I - np.matmul(np.matmul(np.matmul(P,np.linalg.inv(np.matmul(np.matmul(R,A),P))),R),A)\n",
    "    C = np.matmul(np.matmul(MK,IPRAPRA),MK)\n",
    "    for i in range(5):\n",
    "        C = np.matmul(C,C)\n",
    "    radius = np.linalg.norm(C)**(1/32)\n",
    "    return radius\n",
    "\n",
    "def optimizer_GD(inputsize, A1, R, w, s, learning_rate, lam):\n",
    "    rhoold = rho(inputsize,A1,16*np.transpose(R),R,w,s)\n",
    "    device = torch.device('cpu')\n",
    "    R = torch.tensor(R,dtype = torch.double, requires_grad=True,device=device)\n",
    "    w = torch.tensor(w,dtype = torch.double, requires_grad=True, device=device)\n",
    "    lam = torch.tensor(lam,dtype = torch.double, requires_grad=True, device=device)\n",
    "    A = torch.tensor(A1,dtype = torch.double, device=device)\n",
    "    P = 16*torch.t(R)\n",
    "    M = (w**(-1)) * torch.diag(torch.diag(A))\n",
    "    K = M - A\n",
    "    MK = torch.mm(torch.inverse(M),K)\n",
    "    I = torch.eye(inputsize,dtype = torch.double, device=device)\n",
    "    I1 = torch.ones([inputsize,1],dtype = torch.double, device=device)\n",
    "    I2 = torch.ones([outputsize,1],dtype = torch.double, device=device)\n",
    "    IPRAPRA = I - torch.mm(torch.mm(torch.mm(P,torch.inverse(torch.mm(torch.mm(R,A),P))),R),A)\n",
    "    C = torch.mm(torch.mm(MK,IPRAPRA),MK)\n",
    "    for i in range(5):\n",
    "        C = torch.mm(C,C)\n",
    "    loss = torch.norm(C)**(1/32) + torch.mm(lam,torch.mm(R,I1) - I2)\n",
    "    loss.backward()\n",
    "    with torch.no_grad():\n",
    "        R-=learning_rate*R.grad\n",
    "        w-=learning_rate*w.grad \n",
    "        lam-=learning_rate*lam.grad\n",
    "    R = R.detach().numpy()\n",
    "    w = w.detach().numpy()\n",
    "    lam = lam.detach().numpy()\n",
    "    rhonew = rho(inputsize,A1,16*np.transpose(R),R,w,s)\n",
    "    return R, w, lam, rhoold, rhonew\n",
    "\n",
    "def direct_optimizer_GD(inputsize, A0, A1, R, w, s, learning_rate, lam):\n",
    "    Rhoold = rho(inputsize,A1,16*np.transpose(R),R,w,s)\n",
    "    Rhonew = [Rhoold]\n",
    "    for i in range(100):\n",
    "        Rnew, wnew, lamnew, rhoold, rhonew = optimizer_GD(inputsize, A1, R, w, s, learning_rate, lam)\n",
    "        R = Rnew\n",
    "        w = wnew\n",
    "        lam = lamnew\n",
    "        print(\"rho = {}\".format(rhonew))\n",
    "        print(\"===================\")\n",
    "        Rhonew.append(rhonew)\n",
    "        i+=1\n",
    "    print(\"======End======\")\n",
    "    return R, w, Rhoold, Rhonew\n",
    "\n",
    "def homotopy_optimizer_GD(inputsize, A0, A1, R, w, s, learning_rate ,accept_radius ,step_length,lam):\n",
    "    Rhoold = rho(inputsize,A1,16*np.transpose(R),R,w,s)\n",
    "    Radius = [Rhoold]\n",
    "    L = step_length\n",
    "    print(\"======Section 1======\")\n",
    "    while L < 1:\n",
    "        M = (1-L)*A0 + L*A1\n",
    "        Rnew, wnew, lamnew, rhoold, rhonew = optimizer_GD(inputsize, M, R, w, s, learning_rate, lam)\n",
    "        Radius.append(rhonew)\n",
    "        if rhonew > accept_radius:\n",
    "            step_length = 0.1*step_length\n",
    "            learning_rate = 0.1*learning_rate\n",
    "            print('Decrease the step_length, learning_rate and Restart!!')\n",
    "            print(\"step_length = {}\".format(step_length))      \n",
    "            print(\"learning_rate = {}\".format(learning_rate))\n",
    "            print(\"rhonew = {}\".format(rhonew))\n",
    "            print(\"===================\")\n",
    "            R = Restriction(inputsize)\n",
    "            lam = np.zeros([1,outputsize])\n",
    "            w = 2/3\n",
    "            L = step_length\n",
    "        else:\n",
    "            R = Rnew\n",
    "            w = wnew\n",
    "            L += step_length\n",
    "            lam = lamnew\n",
    "            print(\"L = {}\".format(L))\n",
    "            print(\"rho = {}\".format(rhonew))\n",
    "            print(\"===================\")\n",
    "    print(\"======Section 2======\")\n",
    "    i = 0\n",
    "    while rhoold>rhonew and i <100:\n",
    "        Rnew, wnew, lamnew, rhoold, rhonew = optimizer_GD(inputsize, A1, R, w, s, learning_rate, lam)\n",
    "        Radius.append(rhonew)\n",
    "        R = Rnew\n",
    "        w = wnew\n",
    "        lam = lamnew\n",
    "        print(\"the {} steps\".format(i))\n",
    "        print(\"rho = {}\".format(rhonew))\n",
    "        print(\"===================\")\n",
    "        i+=1            \n",
    "    Rhonew = rhonew\n",
    "    print(\"======End======\")\n",
    "    return R, w, Rhoold, Rhonew, Radius"
   ]
  },
  {
   "cell_type": "markdown",
   "metadata": {},
   "source": [
    "Define parameter"
   ]
  },
  {
   "cell_type": "code",
   "execution_count": 4,
   "metadata": {},
   "outputs": [],
   "source": [
    "s = 1\n",
    "w = 2/3\n",
    "error=10e-11\n",
    "def u_real(x, y): return np.sin(np.pi*3*x)*np.sin(np.pi*5*y)\n",
    "def rightf(x, y): return  34*np.pi**2*np.sin(3*np.pi*x)*np.sin(5*np.pi*y)*(np.cos((x + y)/e) + 2) + (3*np.pi*np.cos(3*np.pi*x)*np.sin(5*np.pi*y)*np.sin((x + y)/e))/e + (5*np.pi*np.cos(5*np.pi*y)*np.sin(3*np.pi*x)*np.sin((x + y)/e))/e\n",
    "def a(x, y): return 2+np.cos((x+y)/e)\n",
    "\n",
    "sqrtinputsize = int(np.sqrt(inputsize))\n",
    "sqrtmidputsize = int(sqrtinputsize/2)\n",
    "midputsize = int(sqrtmidputsize**2)\n",
    "sqrtoutputsize = int(sqrtmidputsize/2)\n",
    "outputsize = int(sqrtoutputsize**2)\n",
    "\n",
    "h = 1/(sqrtinputsize-1)\n",
    "H = 1/(sqrtoutputsize-1)\n",
    "A0 = Poisson(inputsize)\n",
    "num_levels=2\n",
    "n=sqrtinputsize\n",
    "kx = np.zeros([n,n+1])\n",
    "ky = np.zeros([n+1,n])\n",
    "for i in range(n):\n",
    "    for j in range(n+1):\n",
    "        kx[i][j] = a((j-0.5)*h,i*h)\n",
    "for i in range(n+1):\n",
    "    for j in range(n):\n",
    "        ky[i][j] = a(j*h,(i-0.5)*h)    \n",
    "A1 = gallery.nonlinearPoisson((n,n), kx, ky)\n",
    "n = inputsize\n",
    "[X, Y] = np.meshgrid(np.linspace(0, 1, sqrtinputsize),np.linspace(0, 1, sqrtinputsize))\n",
    "RightF = rightf(X,Y)*h**2\n",
    "RightF = RightF.reshape(inputsize, 1)\n",
    "Ureal = u_real(X,Y).reshape(inputsize, 1)\n",
    "Media = a(X,Y)\n",
    "R1 = Restriction(inputsize)\n",
    "R2 = Restriction(midputsize)\n",
    "R  = np.matmul(R2, R1)\n",
    "P = 16*np.transpose(R)"
   ]
  },
  {
   "cell_type": "markdown",
   "metadata": {},
   "source": [
    "GMM on fine grid"
   ]
  },
  {
   "cell_type": "code",
   "execution_count": 5,
   "metadata": {
    "scrolled": false
   },
   "outputs": [
    {
     "name": "stdout",
     "output_type": "stream",
     "text": [
      "Residual = 4.6626110860219585\n",
      "Interation = 1\n",
      "===================\n",
      "Residual = 1.8600822863102369\n",
      "Interation = 2\n",
      "===================\n",
      "Residual = 0.9134432335459515\n",
      "Interation = 3\n",
      "===================\n",
      "Residual = 0.4709746448622646\n",
      "Interation = 4\n",
      "===================\n",
      "Residual = 0.2521027882674454\n",
      "Interation = 5\n",
      "===================\n",
      "Residual = 0.1402667613730713\n",
      "Interation = 6\n",
      "===================\n",
      "Residual = 0.08163927345783714\n",
      "Interation = 7\n",
      "===================\n",
      "Residual = 0.0500912228249996\n",
      "Interation = 8\n",
      "===================\n",
      "Residual = 0.03250725739017001\n",
      "Interation = 9\n",
      "===================\n",
      "Residual = 0.022211806656538984\n",
      "Interation = 10\n",
      "===================\n",
      "Residual = 0.015814196584247042\n",
      "Interation = 11\n",
      "===================\n",
      "Residual = 0.011597335468641104\n",
      "Interation = 12\n",
      "===================\n",
      "Residual = 0.00867831985800414\n",
      "Interation = 13\n",
      "===================\n",
      "Residual = 0.0065835002140742374\n",
      "Interation = 14\n",
      "===================\n",
      "Residual = 0.005042182771010807\n",
      "Interation = 15\n",
      "===================\n",
      "Residual = 0.0038886229996785843\n",
      "Interation = 16\n",
      "===================\n",
      "Residual = 0.003014928292068497\n",
      "Interation = 17\n",
      "===================\n",
      "Residual = 0.0023474394846538732\n",
      "Interation = 18\n",
      "===================\n",
      "Residual = 0.001834107840521807\n",
      "Interation = 19\n",
      "===================\n",
      "Residual = 0.001437251675318384\n",
      "Interation = 20\n",
      "===================\n",
      "Residual = 0.0011291151739504185\n",
      "Interation = 21\n",
      "===================\n",
      "Residual = 0.000888992511142298\n",
      "Interation = 22\n",
      "===================\n",
      "Residual = 0.0007012863608466782\n",
      "Interation = 23\n",
      "===================\n",
      "Residual = 0.0005541563787896559\n",
      "Interation = 24\n",
      "===================\n",
      "Residual = 0.0004385569382311605\n",
      "Interation = 25\n",
      "===================\n",
      "Residual = 0.00034754033683574996\n",
      "Interation = 26\n",
      "===================\n",
      "Residual = 0.00027574559367553645\n",
      "Interation = 27\n",
      "===================\n",
      "Residual = 0.00021901945203571616\n",
      "Interation = 28\n",
      "===================\n",
      "Residual = 0.0001741329495192152\n",
      "Interation = 29\n",
      "===================\n",
      "Residual = 0.00013856789099162746\n",
      "Interation = 30\n",
      "===================\n",
      "Residual = 0.00011035495585361148\n",
      "Interation = 31\n",
      "===================\n",
      "Residual = 8.795026556367874e-05\n",
      "Interation = 32\n",
      "===================\n",
      "Residual = 7.014080750399603e-05\n",
      "Interation = 33\n",
      "===================\n",
      "Residual = 5.597164869057051e-05\n",
      "Interation = 34\n",
      "===================\n",
      "Residual = 4.468969753720201e-05\n",
      "Interation = 35\n",
      "===================\n",
      "Residual = 3.570009733990471e-05\n",
      "Interation = 36\n",
      "===================\n",
      "Residual = 2.853230653995406e-05\n",
      "Interation = 37\n",
      "===================\n",
      "Residual = 2.2813638328697385e-05\n",
      "Interation = 38\n",
      "===================\n",
      "Residual = 1.824856599165106e-05\n",
      "Interation = 39\n",
      "===================\n",
      "Residual = 1.4602499999045866e-05\n",
      "Interation = 40\n",
      "===================\n",
      "Residual = 1.1689043982071871e-05\n",
      "Interation = 41\n",
      "===================\n",
      "Residual = 9.359964632526366e-06\n",
      "Interation = 42\n",
      "===================\n",
      "Residual = 7.497284099529228e-06\n",
      "Interation = 43\n",
      "===================\n",
      "Residual = 6.007036142705762e-06\n",
      "Interation = 44\n",
      "===================\n",
      "Residual = 4.814329064655603e-06\n",
      "Interation = 45\n",
      "===================\n",
      "Residual = 3.859437002119413e-06\n",
      "Interation = 46\n",
      "===================\n",
      "Residual = 3.094701798674014e-06\n",
      "Interation = 47\n",
      "===================\n",
      "Residual = 2.4820748023178116e-06\n",
      "Interation = 48\n",
      "===================\n",
      "Residual = 1.9911645262788606e-06\n",
      "Interation = 49\n",
      "===================\n",
      "Residual = 1.5976847398382414e-06\n",
      "Interation = 50\n",
      "===================\n",
      "Residual = 1.282219879771964e-06\n",
      "Interation = 51\n",
      "===================\n",
      "Residual = 1.029242136636376e-06\n",
      "Interation = 52\n",
      "===================\n",
      "Residual = 8.263284432307078e-07\n",
      "Interation = 53\n",
      "===================\n",
      "Residual = 6.635362777943106e-07\n",
      "Interation = 54\n",
      "===================\n",
      "Residual = 5.329058006417901e-07\n",
      "Interation = 55\n",
      "===================\n",
      "Residual = 4.280625455956463e-07\n",
      "Interation = 56\n",
      "===================\n",
      "Residual = 3.4390019421096527e-07\n",
      "Interation = 57\n",
      "===================\n",
      "Residual = 2.7632718016746855e-07\n",
      "Interation = 58\n",
      "===================\n",
      "Residual = 2.2206419162001353e-07\n",
      "Interation = 59\n",
      "===================\n",
      "Residual = 1.7848228037939255e-07\n",
      "Interation = 60\n",
      "===================\n",
      "Residual = 1.4347338929853376e-07\n",
      "Interation = 61\n",
      "===================\n",
      "Residual = 1.1534677366755507e-07\n",
      "Interation = 62\n",
      "===================\n",
      "Residual = 9.274610097697697e-08\n",
      "Interation = 63\n",
      "===================\n",
      "Residual = 7.458309080196821e-08\n",
      "Interation = 64\n",
      "===================\n",
      "Residual = 5.998436460015789e-08\n",
      "Interation = 65\n",
      "===================\n",
      "Residual = 4.824888636128204e-08\n",
      "Interation = 66\n",
      "===================\n",
      "Residual = 3.8813849324291634e-08\n",
      "Interation = 67\n",
      "===================\n",
      "Residual = 3.1227343675453446e-08\n",
      "Interation = 68\n",
      "===================\n",
      "Residual = 2.5126445515865864e-08\n",
      "Interation = 69\n",
      "===================\n",
      "Residual = 2.021965027199115e-08\n",
      "Interation = 70\n",
      "===================\n",
      "Residual = 1.6272778540144147e-08\n",
      "Interation = 71\n",
      "===================\n",
      "Residual = 1.309767486075972e-08\n",
      "Interation = 72\n",
      "===================\n",
      "Residual = 1.0543144513098887e-08\n",
      "Interation = 73\n",
      "===================\n",
      "Residual = 8.487673652428315e-09\n",
      "Interation = 74\n",
      "===================\n",
      "Residual = 6.833587651426574e-09\n",
      "Interation = 75\n",
      "===================\n",
      "Residual = 5.502369689283534e-09\n",
      "Interation = 76\n",
      "===================\n",
      "Residual = 4.430888332299013e-09\n",
      "Interation = 77\n",
      "===================\n",
      "Residual = 3.5683783045198616e-09\n",
      "Interation = 78\n",
      "===================\n",
      "Residual = 2.874017460350106e-09\n",
      "Interation = 79\n",
      "===================\n",
      "Residual = 2.3149735929247907e-09\n",
      "Interation = 80\n",
      "===================\n",
      "Residual = 1.8648315883139924e-09\n",
      "Interation = 81\n",
      "===================\n",
      "Residual = 1.5023448595755502e-09\n",
      "Interation = 82\n",
      "===================\n",
      "Residual = 1.2104190953774901e-09\n",
      "Interation = 83\n",
      "===================\n",
      "Residual = 9.752966467833743e-10\n",
      "Interation = 84\n",
      "===================\n",
      "Residual = 7.859092935221926e-10\n",
      "Interation = 85\n",
      "===================\n",
      "Residual = 6.333478684050496e-10\n",
      "Interation = 86\n",
      "===================\n",
      "Residual = 5.10441515289607e-10\n",
      "Interation = 87\n",
      "===================\n",
      "Residual = 4.114167629459881e-10\n",
      "Interation = 88\n",
      "===================\n",
      "Residual = 3.316289462591568e-10\n",
      "Interation = 89\n",
      "===================\n",
      "Residual = 2.673329447289911e-10\n",
      "Interation = 90\n",
      "===================\n",
      "Residual = 2.1551932947979163e-10\n",
      "Interation = 91\n",
      "===================\n",
      "Residual = 1.737602257468815e-10\n",
      "Interation = 92\n",
      "===================\n",
      "Residual = 1.4010267958178189e-10\n",
      "Interation = 93\n",
      "===================\n",
      "Residual = 1.1297233494190478e-10\n",
      "Interation = 94\n",
      "===================\n",
      "Residual = 9.11031316362131e-11\n",
      "Interation = 95\n",
      "===================\n"
     ]
    }
   ],
   "source": [
    "GMM_U, GMM_Res = Multigrid_circle(inputsize, A1.to_full(), RightF, R, s, w, error)"
   ]
  },
  {
   "cell_type": "markdown",
   "metadata": {},
   "source": [
    "Error GMM on fine grid"
   ]
  },
  {
   "cell_type": "code",
   "execution_count": 6,
   "metadata": {},
   "outputs": [
    {
     "name": "stdout",
     "output_type": "stream",
     "text": [
      "Energy norm: \n",
      "0.8071919430450956\n",
      "L2 norm: \n",
      "0.04494106421834905\n",
      "H1 norm: \n",
      "0.6059779025003826\n",
      "Energy norm: \n",
      "0.06190323624269782\n",
      "L2 norm: \n",
      "0.08988212843669809\n",
      "H1 norm: \n",
      "0.06561747534196001\n"
     ]
    }
   ],
   "source": [
    "UREAL = Ureal.reshape(sqrtinputsize,sqrtinputsize)\n",
    "GMMU = GMM_U.reshape(sqrtinputsize,sqrtinputsize)\n",
    "deltaU = GMMU - UREAL\n",
    "\n",
    "energynorm = np.sqrt(np.sum(np.multiply(np.multiply(np.gradient(UREAL,h,axis=0),np.gradient(UREAL,h,axis=0)),Media)*(h**2))+np.sum(np.multiply(np.multiply(np.gradient(UREAL,h,axis=1),np.gradient(UREAL,h,axis=1)),Media)*(h**2)))\n",
    "l2norm = np.sqrt((np.linalg.norm(UREAL)**2)*(h**2))\n",
    "h1norm = np.sqrt((np.linalg.norm(np.gradient(UREAL,h,axis=0))**2+np.linalg.norm(np.gradient(UREAL,h,axis=1))**2+np.linalg.norm(UREAL)**2)*(h**2))\n",
    "\n",
    "print('Energy norm: ')\n",
    "print(np.sqrt(np.sum(np.multiply(np.multiply(np.gradient(deltaU,h,axis=0),np.gradient(deltaU,h,axis=0)),Media)*(h**2))+np.sum(np.multiply(np.multiply(np.gradient(deltaU,h,axis=1),np.gradient(deltaU,h,axis=1)),Media)*(h**2))))\n",
    "print('L2 norm: ')\n",
    "print(np.sqrt((np.linalg.norm(deltaU)**2)*(h**2)))\n",
    "print('H1 norm: ')\n",
    "print(np.sqrt((np.linalg.norm(np.gradient(deltaU,h,axis=0))**2+np.linalg.norm(np.gradient(deltaU,h,axis=1))**2+np.linalg.norm(deltaU)**2)*(h**2)))\n",
    "\n",
    "print('Energy norm: ')\n",
    "print(np.sqrt(np.sum(np.multiply(np.multiply(np.gradient(deltaU,h,axis=0),np.gradient(deltaU,h,axis=0)),Media)*(h**2))+np.sum(np.multiply(np.multiply(np.gradient(deltaU,h,axis=1),np.gradient(deltaU,h,axis=1)),Media)*(h**2)))/energynorm)\n",
    "print('L2 norm: ')\n",
    "print(np.sqrt((np.linalg.norm(deltaU)**2)*(h**2))/l2norm)\n",
    "print('H1 norm: ')\n",
    "print(np.sqrt((np.linalg.norm(np.gradient(deltaU,h,axis=0))**2+np.linalg.norm(np.gradient(deltaU,h,axis=1))**2+np.linalg.norm(deltaU)**2)*(h**2))/h1norm)"
   ]
  },
  {
   "cell_type": "markdown",
   "metadata": {},
   "source": [
    "Solution"
   ]
  },
  {
   "cell_type": "code",
   "execution_count": null,
   "metadata": {},
   "outputs": [
    {
     "data": {
      "text/plain": [
       "<matplotlib.colorbar.Colorbar at 0x1cdbf007c88>"
      ]
     },
     "execution_count": 7,
     "metadata": {},
     "output_type": "execute_result"
    },
    {
     "data": {
      "image/png": "[encoded data removed]",
      "text/plain": [
       "<Figure size 432x288 with 2 Axes>"
      ]
     },
     "metadata": {
      "needs_background": "light"
     },
     "output_type": "display_data"
    }
   ],
   "source": [
    "plt.imshow(GMM_U.reshape(sqrtinputsize,sqrtinputsize))\n",
    "plt.colorbar()"
   ]
  },
  {
   "cell_type": "markdown",
   "metadata": {},
   "source": [
    "Residual"
   ]
  },
  {
   "cell_type": "code",
   "execution_count": null,
   "metadata": {},
   "outputs": [
    {
     "data": {
      "text/plain": [
       "[<matplotlib.lines.Line2D at 0x1cdbef87f60>]"
      ]
     },
     "execution_count": 8,
     "metadata": {},
     "output_type": "execute_result"
    },
    {
     "data": {
      "image/png": "[encoded data removed]",
      "text/plain": [
       "<Figure size 432x288 with 1 Axes>"
      ]
     },
     "metadata": {
      "needs_background": "light"
     },
     "output_type": "display_data"
    }
   ],
   "source": [
    "plt.semilogy(GMM_Res)"
   ]
  },
  {
   "cell_type": "markdown",
   "metadata": {},
   "source": [
    "Radius"
   ]
  },
  {
   "cell_type": "code",
   "execution_count": null,
   "metadata": {},
   "outputs": [
    {
     "name": "stdout",
     "output_type": "stream",
     "text": [
      "GMM_Radius = 0.8577367089875443\n"
     ]
    }
   ],
   "source": [
    "GMM_Radius = rho(inputsize,A1.to_full(),16*np.transpose(R),R,w,s)\n",
    "print('GMM_Radius = {}'.format(GMM_Radius))"
   ]
  },
  {
   "cell_type": "markdown",
   "metadata": {},
   "source": [
    "Global DMM optimization"
   ]
  },
  {
   "cell_type": "code",
   "execution_count": null,
   "metadata": {},
   "outputs": [
    {
     "name": "stdout",
     "output_type": "stream",
     "text": [
      "======Section 1======\n"
     ]
    }
   ],
   "source": [
    "Rnew, wnew, Rhoold, Rhonew, Radius = homotopy_optimizer_GD(inputsize, A0, A1.to_full(), R,  2/3, s, \n",
    "                                                           learning_rate = 1e-6,accept_radius =\n",
    "                                                           GMM_Radius*10,step_length =  1e-2, lam = np.zeros([1,outputsize]))"
   ]
  },
  {
   "cell_type": "markdown",
   "metadata": {},
   "source": [
    "Global DMM on fine grid"
   ]
  },
  {
   "cell_type": "code",
   "execution_count": null,
   "metadata": {},
   "outputs": [],
   "source": [
    "DMM_U, DMM_Res = Multigrid_circle(inputsize, A1.to_full(), RightF, Rnew, s, wnew, error)"
   ]
  },
  {
   "cell_type": "markdown",
   "metadata": {},
   "source": [
    "Error DMM on fine grid"
   ]
  },
  {
   "cell_type": "code",
   "execution_count": null,
   "metadata": {},
   "outputs": [],
   "source": [
    "UREAL = Ureal.reshape(sqrtinputsize,sqrtinputsize)\n",
    "DMMU = DMM_U.reshape(sqrtinputsize,sqrtinputsize)\n",
    "deltaU = DMMU - UREAL\n",
    "\n",
    "energynorm = np.sqrt(np.sum(np.multiply(np.multiply(np.gradient(UREAL,h,axis=0),np.gradient(UREAL,h,axis=0)),Media)*(h**2))+np.sum(np.multiply(np.multiply(np.gradient(UREAL,h,axis=1),np.gradient(UREAL,h,axis=1)),Media)*(h**2)))\n",
    "l2norm = np.sqrt((np.linalg.norm(UREAL)**2)*(h**2))\n",
    "h1norm = np.sqrt((np.linalg.norm(np.gradient(UREAL,h,axis=0))**2+np.linalg.norm(np.gradient(UREAL,h,axis=1))**2+np.linalg.norm(UREAL)**2)*(h**2))\n",
    "\n",
    "print('Energy norm: ')\n",
    "print(np.sqrt(np.sum(np.multiply(np.multiply(np.gradient(deltaU,h,axis=0),np.gradient(deltaU,h,axis=0)),Media)*(h**2))+np.sum(np.multiply(np.multiply(np.gradient(deltaU,h,axis=1),np.gradient(deltaU,h,axis=1)),Media)*(h**2))))\n",
    "print('L2 norm: ')\n",
    "print(np.sqrt((np.linalg.norm(deltaU)**2)*(h**2)))\n",
    "print('H1 norm: ')\n",
    "print(np.sqrt((np.linalg.norm(np.gradient(deltaU,h,axis=0))**2+np.linalg.norm(np.gradient(deltaU,h,axis=1))**2+np.linalg.norm(deltaU)**2)*(h**2)))\n",
    "\n",
    "print('Energy norm: ')\n",
    "print(np.sqrt(np.sum(np.multiply(np.multiply(np.gradient(deltaU,h,axis=0),np.gradient(deltaU,h,axis=0)),Media)*(h**2))+np.sum(np.multiply(np.multiply(np.gradient(deltaU,h,axis=1),np.gradient(deltaU,h,axis=1)),Media)*(h**2)))/energynorm)\n",
    "print('L2 norm: ')\n",
    "print(np.sqrt((np.linalg.norm(deltaU)**2)*(h**2))/l2norm)\n",
    "print('H1 norm: ')\n",
    "print(np.sqrt((np.linalg.norm(np.gradient(deltaU,h,axis=0))**2+np.linalg.norm(np.gradient(deltaU,h,axis=1))**2+np.linalg.norm(deltaU)**2)*(h**2))/h1norm)"
   ]
  },
  {
   "cell_type": "markdown",
   "metadata": {},
   "source": [
    "Solution"
   ]
  },
  {
   "cell_type": "code",
   "execution_count": null,
   "metadata": {},
   "outputs": [],
   "source": [
    "plt.imshow(DMM_U.reshape(sqrtinputsize,sqrtinputsize))\n",
    "plt.colorbar()"
   ]
  },
  {
   "cell_type": "markdown",
   "metadata": {},
   "source": [
    "Residual"
   ]
  },
  {
   "cell_type": "code",
   "execution_count": null,
   "metadata": {},
   "outputs": [],
   "source": [
    "plt.semilogy(DMM_Res)"
   ]
  },
  {
   "cell_type": "markdown",
   "metadata": {},
   "source": [
    "Radius"
   ]
  },
  {
   "cell_type": "code",
   "execution_count": null,
   "metadata": {},
   "outputs": [],
   "source": [
    "DMM_Radius = Rhonew\n",
    "print('DMM_Radius = {}'.format(DMM_Radius))"
   ]
  },
  {
   "cell_type": "markdown",
   "metadata": {},
   "source": [
    "Rrestriction matrix after optimization"
   ]
  },
  {
   "cell_type": "code",
   "execution_count": null,
   "metadata": {},
   "outputs": [],
   "source": [
    "plt.imshow(Rnew)\n",
    "plt.colorbar()"
   ]
  },
  {
   "cell_type": "markdown",
   "metadata": {},
   "source": [
    "Rrestriction matrix (log(abs()) after optimization"
   ]
  },
  {
   "cell_type": "code",
   "execution_count": null,
   "metadata": {},
   "outputs": [],
   "source": [
    "plt.imshow(np.log(np.abs(Rnew)))\n",
    "plt.colorbar()"
   ]
  },
  {
   "cell_type": "markdown",
   "metadata": {},
   "source": [
    "Basis after optimization"
   ]
  },
  {
   "cell_type": "code",
   "execution_count": null,
   "metadata": {},
   "outputs": [],
   "source": [
    "basis1 = Rnew[int(0.45*outputsize)][:]\n",
    "basis1 = basis1.reshape([sqrtinputsize,sqrtinputsize])\n",
    "plt.imshow(basis1)\n",
    "plt.colorbar()"
   ]
  },
  {
   "cell_type": "code",
   "execution_count": null,
   "metadata": {},
   "outputs": [],
   "source": [
    "from matplotlib import pyplot as plt\n",
    "import numpy as np\n",
    "from mpl_toolkits.mplot3d import Axes3D\n",
    "size=basis1.shape\n",
    "Y=np.arange(0,size[0],1)     \n",
    "X=np.arange(0,size[1],1)\n",
    "\n",
    "X,Y=np.meshgrid(X,Y)    \n",
    "fig=plt.figure()\n",
    "ax=fig.gca(projection='3d') \n",
    "ax.plot_surface(X,Y,basis1)\n",
    "plt.show()"
   ]
  },
  {
   "cell_type": "code",
   "execution_count": null,
   "metadata": {},
   "outputs": [],
   "source": [
    "plt.plot(basis1[:][int(sqrtinputsize/2)])"
   ]
  },
  {
   "cell_type": "markdown",
   "metadata": {},
   "source": [
    "Basis after optimization (log(abs()))"
   ]
  },
  {
   "cell_type": "code",
   "execution_count": null,
   "metadata": {},
   "outputs": [],
   "source": [
    "plt.imshow(np.log(np.abs(basis1)))\n",
    "plt.colorbar()"
   ]
  },
  {
   "cell_type": "code",
   "execution_count": null,
   "metadata": {},
   "outputs": [],
   "source": [
    "fig=plt.figure()\n",
    "ax=fig.gca(projection='3d') \n",
    "ax.plot_surface(X,Y,np.log(np.abs(basis1)))\n",
    "plt.show()"
   ]
  },
  {
   "cell_type": "code",
   "execution_count": null,
   "metadata": {},
   "outputs": [],
   "source": [
    "plt.plot(np.log(np.abs(basis1[:][int(sqrtinputsize/2)])))"
   ]
  },
  {
   "cell_type": "markdown",
   "metadata": {},
   "source": [
    "FEM use basis from global DMM"
   ]
  },
  {
   "cell_type": "code",
   "execution_count": null,
   "metadata": {},
   "outputs": [],
   "source": [
    "\n",
    "Anew = np.zeros([outputsize,outputsize])\n",
    "[X1, Y1] = np.meshgrid(np.linspace(0, 1, sqrtinputsize),np.linspace(0, 1, sqrtinputsize))\n",
    "[X2, Y2] = np.meshgrid(np.linspace(0, 1, sqrtoutputsize),np.linspace(0, 1, sqrtoutputsize))\n",
    "A = a(X1,Y1)\n",
    "for i in range(outputsize):\n",
    "    for j in range(outputsize):\n",
    "        basisi = Rnew[i][:].reshape([sqrtinputsize,sqrtinputsize])\n",
    "        basisj = Rnew[j][:].reshape([sqrtinputsize,sqrtinputsize])\n",
    "        gxbasisi = np.gradient(basisi,axis=0)/h\n",
    "        gybasisi = np.gradient(basisi,axis=1)/h\n",
    "        gxbasisj = np.gradient(basisj,axis=0)/h\n",
    "        gybasisj = np.gradient(basisj,axis=1)/h\n",
    "        Anew[i][j]=(np.sum(A*gxbasisi*gxbasisj)+np.sum(A*gybasisi*gybasisj))*(H**2)\n",
    "        \n",
    "Fnew = np.zeros([outputsize,1])\n",
    "for i in range(outputsize):\n",
    "    basisi = Rnew[i][:].reshape([sqrtinputsize,sqrtinputsize])\n",
    "    F = rightf(X1,Y1)\n",
    "    Fnew[i]=np.sum(F*basisi)*(H**2)\n",
    "    \n",
    "UnewCoarse = np.linalg.solve(Anew,Fnew)\n",
    "Unew = np.zeros([sqrtinputsize,sqrtinputsize])\n",
    "for i in range(outputsize):\n",
    "    basisi = Rnew[i][:].reshape([sqrtinputsize,sqrtinputsize])\n",
    "    Unew = Unew + UnewCoarse[i]*basisi\n",
    "\n",
    "plt.imshow(Unew)\n",
    "plt.colorbar()\n",
    "\n",
    "UREAL = u_real(X1,Y1).reshape(sqrtinputsize,sqrtinputsize)\n",
    "deltaU = Unew - UREAL\n",
    "A = a(X1,Y1)\n",
    "\n",
    "energynorm = np.sqrt(np.sum(np.multiply(np.multiply(np.gradient(UREAL,h,axis=0),np.gradient(UREAL,h,axis=0)),A)*(h**2))+np.sum(np.multiply(np.multiply(np.gradient(UREAL,h,axis=1),np.gradient(UREAL,h,axis=1)),A)*(h**2)))\n",
    "l2norm = np.sqrt((np.sum(UREAL**2))*(h**2))\n",
    "h1norm = np.sqrt((np.linalg.norm(np.gradient(UREAL,h,axis=0))**2+np.linalg.norm(np.gradient(UREAL,h,axis=1))**2+np.linalg.norm(UREAL)**2)*(h**2))\n",
    "print('Energy norm: ')\n",
    "print(np.sqrt(np.sum(np.multiply(np.multiply(np.gradient(deltaU,h,axis=0),np.gradient(deltaU,h,axis=0)),A)*(h**2))+np.sum(np.multiply(np.multiply(np.gradient(deltaU,h,axis=1),np.gradient(deltaU,h,axis=1)),A)*(h**2))))\n",
    "print('L2 norm: ')\n",
    "print(np.sqrt((np.linalg.norm(deltaU)**2)*(h**2)))\n",
    "print('H1 norm: ')\n",
    "print(np.sqrt((np.linalg.norm(np.gradient(deltaU,h,axis=0))**2+np.linalg.norm(np.gradient(deltaU,h,axis=1))**2+np.linalg.norm(deltaU)**2)*(h**2)))\n",
    "\n",
    "\n",
    "\n",
    "print('Energy norm: ')\n",
    "print(np.sqrt(np.sum(np.multiply(np.multiply(np.gradient(deltaU,h,axis=0),np.gradient(deltaU,h,axis=0)),A)*(h**2))+np.sum(np.multiply(np.multiply(np.gradient(deltaU,h,axis=1),np.gradient(deltaU,h,axis=1)),A)*(h**2)))/energynorm)\n",
    "print('L2 norm: ')\n",
    "print(np.sqrt((np.sum(deltaU**2))*(h**2))/l2norm)\n",
    "print('H1 norm: ')\n",
    "print(np.sqrt((np.linalg.norm(np.gradient(deltaU,h,axis=0))**2+np.linalg.norm(np.gradient(deltaU,h,axis=1))**2+np.linalg.norm(deltaU)**2)*(h**2))/h1norm)"
   ]
  },
  {
   "cell_type": "code",
   "execution_count": null,
   "metadata": {},
   "outputs": [],
   "source": [
    "import os\n",
    "os.system(\"say 'The program has finished, Please check the results'\")"
   ]
  }
 ],
 "metadata": {
  "kernelspec": {
   "display_name": "Python 3",
   "language": "python",
   "name": "python3"
  },
  "language_info": {
   "codemirror_mode": {
    "name": "ipython",
    "version": 3
   },
   "file_extension": ".py",
   "mimetype": "text/x-python",
   "name": "python",
   "nbconvert_exporter": "python",
   "pygments_lexer": "ipython3",
   "version": "3.6.8"
  }
 },
 "nbformat": 4,
 "nbformat_minor": 2
}
