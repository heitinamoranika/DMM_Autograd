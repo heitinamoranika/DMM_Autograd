{
 "cells": [
  {
   "cell_type": "code",
   "execution_count": 1,
   "metadata": {},
   "outputs": [],
   "source": [
    "import numpy as np\n",
    "import matplotlib.pyplot as plt\n",
    "import autograd.numpy as np\n",
    "from autograd import grad\n",
    "import pyamg\n",
    "import dmg.gallery as gallery\n",
    "import dmg.dgmg as dgmg\n",
    "import dmg.gmg_linear as gmg_linear\n",
    "import dmg.classical_amg as classical_amg"
   ]
  },
  {
   "cell_type": "code",
   "execution_count": 2,
   "metadata": {},
   "outputs": [],
   "source": [
    "def Restriction(inputsize):\n",
    "    inputsize = int(inputsize)\n",
    "    sqrtinputsize = int(np.sqrt(inputsize))\n",
    "    outputsize = int((2**(np.log2(np.sqrt(inputsize)+1)-1)-1)**2)\n",
    "    sqrtoutputsize = int(np.sqrt(outputsize))\n",
    "    OUTPUT = np.zeros([outputsize, inputsize])\n",
    "    for j in range(sqrtoutputsize):\n",
    "        for i in range(sqrtoutputsize):\n",
    "            OUTPUT[i+sqrtoutputsize*j][2*i+j*2*sqrtinputsize] = 1/16\n",
    "            OUTPUT[i+sqrtoutputsize*j][1+2*i+j*2*sqrtinputsize] = 1/8\n",
    "            OUTPUT[i+sqrtoutputsize*j][2+2*i+j*2*sqrtinputsize] = 1/16\n",
    "            OUTPUT[i+sqrtoutputsize*j][sqrtinputsize +\n",
    "                                       2*i+j*2*sqrtinputsize] = 1/8\n",
    "            OUTPUT[i+sqrtoutputsize*j][1+sqrtinputsize +\n",
    "                                       2*i+j*2*sqrtinputsize] = 1/4\n",
    "            OUTPUT[i+sqrtoutputsize*j][2+sqrtinputsize +\n",
    "                                       2*i+j*2*sqrtinputsize] = 1/8\n",
    "            OUTPUT[i+sqrtoutputsize*j][2*sqrtinputsize +\n",
    "                                       2*i+j*2*sqrtinputsize] = 1/16\n",
    "            OUTPUT[i+sqrtoutputsize*j][1+2 *\n",
    "                                       sqrtinputsize + 2*i+j*2*sqrtinputsize] = 1/8\n",
    "            OUTPUT[i+sqrtoutputsize*j][2+2 *\n",
    "                                       sqrtinputsize+2*i+j*2*sqrtinputsize] = 1/16\n",
    "    return OUTPUT\n",
    "\n",
    "def Poisson(inputsize):\n",
    "    inputsize = int(inputsize)\n",
    "    sqrtinputsize = int(np.sqrt(inputsize))\n",
    "    A1 = 2*np.eye(sqrtinputsize)\n",
    "    for i in range(sqrtinputsize-1):\n",
    "        A1[i, i+1] = -1\n",
    "        A1[i+1, i] = -1\n",
    "    I = np.eye(sqrtinputsize)\n",
    "    OUTPUT = (np.kron(I, A1)+np.kron(A1, I))\n",
    "    return OUTPUT\n",
    "\n",
    "\n",
    "def NonlinearPoisson(inputsize):\n",
    "    inputsize = int(inputsize)\n",
    "    sqrtinputsize = int(np.sqrt(inputsize))\n",
    "    h = 1/(sqrtinputsize-1)\n",
    "    KX = np.zeros([inputsize,inputsize+1])\n",
    "    KY = np.zeros([inputsize+1,inputsize])\n",
    "    for i in range(sqrtinputsize):\n",
    "        for j in range(sqrtinputsize+1):\n",
    "            KX[i][j] = a(j*h-0.5*h,i*h)\n",
    "    for i in range(sqrtinputsize+1):\n",
    "        for j in range(sqrtinputsize):\n",
    "            KY[i][j] = a(j*h,i*h-0.5*h)\n",
    "    OUTPUT = (gallery.nonlinearPoisson((sqrtinputsize,sqrtinputsize),KX,KY)).to_full()\n",
    "    return OUTPUT"
   ]
  },
  {
   "cell_type": "code",
   "execution_count": 3,
   "metadata": {},
   "outputs": [],
   "source": [
    "def Multigrid_circle(inputsize, A_A, B, R_A, s, w, NUM_EPOCH):\n",
    "    A = np.matrix(A_A)\n",
    "    P = 4*np.transpose(R_A)\n",
    "    R = np.matrix(R_A)\n",
    "    M = np.matrix(w**(-1)*np.diag(np.diag(A)))\n",
    "    K = M - A\n",
    "    C = np.linalg.inv(M)*K\n",
    "    b = np.linalg.inv(M)*B\n",
    "    U0 = np.matrix(np.zeros([inputsize, 1]))\n",
    "    RESIDUAL = []\n",
    "    for i in range(NUM_EPOCH):\n",
    "        for j in range(s):\n",
    "            U0 = C*U0+b\n",
    "        r = B - A*U0\n",
    "        Residual = np.linalg.norm(r,2)\n",
    "        rc = R*r\n",
    "        Ac = R*A*P\n",
    "        Uc = np.linalg.solve(Ac, rc)\n",
    "        U = U0 + P*Uc\n",
    "        for k in range(s):\n",
    "            U = C*U+b\n",
    "        U0 = U\n",
    "        RESIDUAL.append(Residual)\n",
    "        print(\"Residual = {}\".format(Residual))\n",
    "        print(\"Interation = {}\".format(i))\n",
    "        print(\"===================\")\n",
    "    return U0, RESIDUAL"
   ]
  },
  {
   "cell_type": "code",
   "execution_count": 4,
   "metadata": {},
   "outputs": [],
   "source": [
    "def rho(inputsize,A,P,R,w,s):\n",
    "    M = (w**(-1)) * np.diag(np.diag(A))\n",
    "    K = M - A\n",
    "    MK = np.matmul(np.linalg.inv(M),K)\n",
    "    I = np.eye(inputsize)\n",
    "    IPRAPRA = I - np.matmul(np.matmul(np.matmul(P,np.linalg.inv(np.matmul(np.matmul(R,A),P))),R),A)\n",
    "    C = np.matmul(np.matmul(MK,IPRAPRA),MK)\n",
    "    for i in range(5):\n",
    "        C = np.matmul(C,C)\n",
    "    radius = np.linalg.norm(C)**(1/32)\n",
    "    return radius\n",
    "\n",
    "def rhoAuto(INPUT):\n",
    "    R = INPUT[0]\n",
    "    w = INPUT[1]\n",
    "    P = 4*np.transpose(R)\n",
    "    M = (w**(-1)) * np.diag(np.diag(A1))\n",
    "    K = M - A1\n",
    "    MK = np.matmul(np.linalg.inv(M),K)\n",
    "    I = np.eye(inputsize)\n",
    "    IPRAPRA = I - np.matmul(np.matmul(np.matmul(P,np.linalg.inv(np.matmul(np.matmul(R,A1),P))),R),A1)\n",
    "    C = np.matmul(np.matmul(MK,IPRAPRA),MK)\n",
    "    for i in range(5):\n",
    "        C = np.matmul(C,C)\n",
    "    radius = np.linalg.norm(C)**(1/32)\n",
    "    return radius"
   ]
  },
  {
   "cell_type": "code",
   "execution_count": 5,
   "metadata": {},
   "outputs": [],
   "source": [
    "def optimizer_GD(inputsize, A, R, w, s, learning_rate):\n",
    "    rhoold = rho(inputsize,A,4*np.transpose(R),R,w,s)\n",
    "    INPUT = [R,w]\n",
    "    rhoGra = grad(rhoAuto)\n",
    "    delta = rhoGra(INPUT)\n",
    "    R -= learning_rate*delta[0]\n",
    "    w -= learning_rate*delta[1]\n",
    "    rhonew = rho(inputsize,A,4*np.transpose(R),R,w,s)\n",
    "    return R, w, rhoold, rhonew\n",
    "\n",
    "def direct_optimizer_GD(inputsize, A0, A1, R, w, s, learning_rate):\n",
    "    Rhoold = rho(inputsize,A1,4*np.transpose(R),R,w,s)\n",
    "    Rhonew = [Rhoold]\n",
    "    for i in range(100):\n",
    "        Rnew, wnew, rhoold, rhonew = optimizer_GD(inputsize, A1, R, w, s, learning_rate)\n",
    "        R = Rnew\n",
    "        w = wnew\n",
    "        print(\"rho = {}\".format(rhonew))\n",
    "        print(\"===================\")\n",
    "        Rhonew.append(rhonew)\n",
    "        i+=1\n",
    "    print(\"======End======\")\n",
    "    return R, w, Rhoold, Rhonew\n",
    "\n",
    "def homotopy_optimizer_GD(inputsize, A0, A1, R, w, s, learning_rate ,accept_radius ,step_length):\n",
    "    Rhoold = rho(inputsize,A1,4*np.transpose(R),R,w,s)\n",
    "    Radius = [Rhoold]\n",
    "    L = step_length\n",
    "    print(\"======Section 1======\")\n",
    "    while L < 1:\n",
    "        M = (1-L)*A0 + L*A1\n",
    "        Rnew, wnew, rhoold, rhonew = optimizer_GD(inputsize, M, R, w, s, learning_rate)\n",
    "        Radius.append(rhonew)\n",
    "        if rhonew > accept_radius:\n",
    "            step_length = 0.1*step_length\n",
    "            learning_rate = 0.1*learning_rate\n",
    "            print('Decrease the step_length, learning_rate and Restart!!')\n",
    "            print(\"step_length = {}\".format(step_length))      \n",
    "            print(\"learning_rate = {}\".format(learning_rate))\n",
    "            print(\"rhonew = {}\".format(rhonew))\n",
    "            print(\"===================\")\n",
    "            R = Restriction(inputsize)\n",
    "            P = 4*np.transpose(R)\n",
    "            w = 2/3\n",
    "            L = step_length\n",
    "        else:\n",
    "            R = Rnew\n",
    "            w = wnew\n",
    "            L += step_length\n",
    "            print(\"L = {}\".format(L))\n",
    "            print(\"rho = {}\".format(rhonew))\n",
    "            print(\"===================\")\n",
    "    print(\"======Section 2======\")\n",
    "    i = 0\n",
    "    while rhonew <= rhoold and i<100:\n",
    "        Rnew, wnew, rhoold, rhonew = optimizer_GD(inputsize, A1, R, w, s, learning_rate)\n",
    "        R = Rnew\n",
    "        Radius.append(Rnew)\n",
    "        w = wnew\n",
    "        print(\"rho = {}\".format(rhonew))\n",
    "        print(\"===================\")\n",
    "        i+=1\n",
    "    Rhonew = rhonew\n",
    "    print(\"======End======\")\n",
    "    return R, w, Rhoold, Rhonew, Radius"
   ]
  },
  {
   "cell_type": "code",
   "execution_count": 6,
   "metadata": {},
   "outputs": [],
   "source": [
    "finegridsize = 5\n",
    "s = 1\n",
    "w = 2/3\n",
    "MAX_ITER = 50"
   ]
  },
  {
   "cell_type": "code",
   "execution_count": 7,
   "metadata": {},
   "outputs": [],
   "source": [
    "e = 0.01\n",
    "def u_real(x, y): return np.sin(np.pi*3*x)*np.sin(np.pi*5*y)\n",
    "def rightf(x, y): return  34*np.pi**2*np.sin(3*np.pi*x)*np.sin(5*np.pi*y)*(np.cos((x + y)/e) + 2) + (3*np.pi*np.cos(3*np.pi*x)*np.sin(5*np.pi*y)*np.sin((x + y)/e))/e + (5*np.pi*np.cos(5*np.pi*y)*np.sin(3*np.pi*x)*np.sin((x + y)/e))/e\n",
    "def a(x, y): return 2+np.cos((x+y)/e)"
   ]
  },
  {
   "cell_type": "code",
   "execution_count": 8,
   "metadata": {},
   "outputs": [],
   "source": [
    "inputsize = (2**finegridsize-1)**2\n",
    "inputsize = int(inputsize)\n",
    "sqrtinputsize = int(np.sqrt(inputsize))\n",
    "outputsize = int((2**(np.log2(np.sqrt(inputsize)+1)-1)-1)**2)\n",
    "sqrtoutputsize = int(np.sqrt(outputsize))\n",
    "h = 1/(sqrtinputsize-1)\n",
    "A0 = Poisson(inputsize)\n",
    "A1 = NonlinearPoisson(inputsize)\n",
    "[X, Y] = np.meshgrid(np.linspace(0, 1, sqrtinputsize),np.linspace(0, 1, sqrtinputsize))\n",
    "RightF = rightf(X,Y)*h**2\n",
    "RightF = RightF.reshape(inputsize, 1)\n",
    "Ureal = u_real(X,Y).reshape(inputsize, 1)\n",
    "R = Restriction(inputsize)\n",
    "P = 4*np.transpose(R)"
   ]
  },
  {
   "cell_type": "code",
   "execution_count": 9,
   "metadata": {},
   "outputs": [],
   "source": [
    "num_levels=2\n",
    "n=sqrtinputsize\n",
    "kx = np.zeros([n,n+1])\n",
    "ky = np.zeros([n+1,n])\n",
    "for i in range(n):\n",
    "    for j in range(n+1):\n",
    "        kx[i][j] = a((j-0.5)*h,i*h)\n",
    "for i in range(n+1):\n",
    "    for j in range(n):\n",
    "        ky[i][j] = a(j*h,(i-0.5)*h)    \n",
    "A = gallery.nonlinearPoisson((n,n), kx, ky)"
   ]
  },
  {
   "cell_type": "code",
   "execution_count": 10,
   "metadata": {
    "scrolled": true
   },
   "outputs": [
    {
     "name": "stderr",
     "output_type": "stream",
     "text": [
      "/Library/Frameworks/Python.framework/Versions/3.6/lib/python3.6/site-packages/autograd/numpy/numpy_vjps.py:444: FutureWarning: Using a non-tuple sequence for multidimensional indexing is deprecated; use `arr[tuple(seq)]` instead of `arr[seq]`. In the future this will be interpreted as an array index, `arr[np.array(seq)]`, which will result either in an error or a different result.\n",
      "  return lambda g: g[idxs]\n",
      "/Library/Frameworks/Python.framework/Versions/3.6/lib/python3.6/site-packages/autograd/numpy/numpy_vjps.py:444: FutureWarning: Using a non-tuple sequence for multidimensional indexing is deprecated; use `arr[tuple(seq)]` instead of `arr[seq]`. In the future this will be interpreted as an array index, `arr[np.array(seq)]`, which will result either in an error or a different result.\n",
      "  return lambda g: g[idxs]\n"
     ]
    },
    {
     "name": "stdout",
     "output_type": "stream",
     "text": [
      "Iteration 100/2500\n",
      "Upper bound estimation = 0.25765253890385337\n",
      "Iteration 200/2500\n",
      "Upper bound estimation = 0.24403277810167542\n",
      "Iteration 300/2500\n",
      "Upper bound estimation = 0.23471522723605748\n",
      "Iteration 400/2500\n",
      "Upper bound estimation = 0.22482163037804406\n",
      "Iteration 500/2500\n",
      "Upper bound estimation = 0.21385890403845095\n",
      "Iteration 600/2500\n",
      "Upper bound estimation = 0.2001639485547799\n",
      "Iteration 700/2500\n",
      "Upper bound estimation = 0.19278222408317525\n",
      "Iteration 800/2500\n",
      "Upper bound estimation = 0.1836148811923769\n",
      "Iteration 900/2500\n",
      "Upper bound estimation = 0.17730325694858987\n",
      "Iteration 1000/2500\n",
      "Upper bound estimation = 0.17143415735179499\n",
      "Iteration 1100/2500\n",
      "Upper bound estimation = 0.1669151048849301\n",
      "Iteration 1200/2500\n",
      "Upper bound estimation = 0.162825564232739\n",
      "Iteration 1300/2500\n",
      "Upper bound estimation = 0.1606125977114929\n",
      "Iteration 1400/2500\n",
      "Upper bound estimation = 0.15803634070645842\n",
      "Iteration 1500/2500\n",
      "Upper bound estimation = 0.1570821315407261\n",
      "Iteration 1600/2500\n",
      "Upper bound estimation = 0.15504568438239502\n",
      "Iteration 1700/2500\n",
      "Upper bound estimation = 0.15609221438264934\n",
      "Iteration 1800/2500\n",
      "Upper bound estimation = 0.155039503335988\n",
      "Iteration 1900/2500\n",
      "Upper bound estimation = 0.1532901983649837\n",
      "Iteration 2000/2500\n",
      "Upper bound estimation = 0.15320838756115618\n",
      "Iteration 2100/2500\n",
      "Upper bound estimation = 0.15243289846782476\n",
      "Iteration 2200/2500\n",
      "Upper bound estimation = 0.15145852492314008\n",
      "Iteration 2300/2500\n",
      "Upper bound estimation = 0.15201678486913708\n",
      "Iteration 2400/2500\n",
      "Upper bound estimation = 0.15172334579433502\n",
      "Iteration 2500/2500\n",
      "Upper bound estimation = 0.1507019410949168\n"
     ]
    }
   ],
   "source": [
    "PR_stencil_type = \"m9p\"\n",
    "gmm = dgmg.DeepMG(A, PR_stencil_type=PR_stencil_type, max_levels=num_levels)\n",
    "num_iter = 2500\n",
    "step_size = 1e-4\n",
    "opt_par = gmm.optimize(num_iter=num_iter, step_size=step_size)"
   ]
  },
  {
   "cell_type": "code",
   "execution_count": 11,
   "metadata": {},
   "outputs": [
    {
     "name": "stdout",
     "output_type": "stream",
     "text": [
      "Dimension of matrix A for levels:\n",
      "Level = 0, dimension = (15, 15)\n",
      "Level = 1, dimension = (31, 31)\n",
      "\n",
      "DMM rho = 0.13278393553302176\n"
     ]
    }
   ],
   "source": [
    "print(gmm)\n",
    "convergence = gmm.get_optimizer_convergence()\n",
    "conv_time = gmm.get_optimization_time()\n",
    "gmm.update_prd(opt_par)\n",
    "DMM_rho = gmm.compute_rho()\n",
    "print(\"DMM rho = {}\".format(DMM_rho))"
   ]
  },
  {
   "cell_type": "code",
   "execution_count": 12,
   "metadata": {},
   "outputs": [
    {
     "name": "stdout",
     "output_type": "stream",
     "text": [
      "[1.19379696e+01 1.83724278e+00 1.99128057e-01 2.10789539e-02\n",
      " 1.81000437e-03 2.15632043e-04 2.01701855e-05 2.41188836e-06\n",
      " 2.71170269e-07 3.29724516e-08 4.00288594e-09 4.94044688e-10\n",
      " 6.13382554e-11 7.67644517e-12 9.64307926e-13 1.23515673e-13\n",
      " 1.92857738e-14 1.06274281e-14 1.15950760e-14 9.99271024e-15\n",
      " 1.14747113e-14 1.09438256e-14 1.21866075e-14 1.09982622e-14\n",
      " 1.06314661e-14 1.09126106e-14 1.09154499e-14 1.14375157e-14\n",
      " 1.04210740e-14 1.10779280e-14 1.04128104e-14 1.03605857e-14\n",
      " 1.11662264e-14 1.15273842e-14 1.10514041e-14 1.05358869e-14\n",
      " 1.11183983e-14 1.07518604e-14 1.01993195e-14 1.15503424e-14\n",
      " 9.39243823e-15 1.07378668e-14 1.05727855e-14 1.14353073e-14\n",
      " 1.17949035e-14 1.16593450e-14 1.13474105e-14 1.07888840e-14\n",
      " 1.15599604e-14 1.22536050e-14]\n"
     ]
    },
    {
     "data": {
      "text/plain": [
       "[<matplotlib.lines.Line2D at 0x1265e99b0>]"
      ]
     },
     "execution_count": 12,
     "metadata": {},
     "output_type": "execute_result"
    },
    {
     "data": {
      "image/png": "[encoded data removed]",
      "text/plain": [
       "<Figure size 432x288 with 1 Axes>"
      ]
     },
     "metadata": {
      "needs_background": "light"
     },
     "output_type": "display_data"
    }
   ],
   "source": [
    "x = gmm.solve(RightF, np.random.randn(A.shape), tol=0, max_iter=50)\n",
    "print(gmm.get_gmg_convergence())\n",
    "plt.semilogy(gmm.get_gmg_convergence())"
   ]
  },
  {
   "cell_type": "code",
   "execution_count": 13,
   "metadata": {},
   "outputs": [
    {
     "data": {
      "text/plain": [
       "0.4460645328396121"
      ]
     },
     "execution_count": 13,
     "metadata": {},
     "output_type": "execute_result"
    }
   ],
   "source": [
    "np.linalg.norm(Ureal - x,np.inf)"
   ]
  },
  {
   "cell_type": "code",
   "execution_count": 14,
   "metadata": {},
   "outputs": [
    {
     "data": {
      "text/plain": [
       "<matplotlib.colorbar.Colorbar at 0x125f799b0>"
      ]
     },
     "execution_count": 14,
     "metadata": {},
     "output_type": "execute_result"
    },
    {
     "data": {
      "image/png": "[encoded data removed]",
      "text/plain": [
       "<Figure size 432x288 with 2 Axes>"
      ]
     },
     "metadata": {
      "needs_background": "light"
     },
     "output_type": "display_data"
    }
   ],
   "source": [
    "x = x.reshape(A.dim)\n",
    "plt.imshow(x)\n",
    "plt.colorbar()"
   ]
  },
  {
   "cell_type": "code",
   "execution_count": 15,
   "metadata": {},
   "outputs": [
    {
     "name": "stdout",
     "output_type": "stream",
     "text": [
      "omega = 0.8003095750203217\n"
     ]
    }
   ],
   "source": [
    "np.set_printoptions(threshold=np.inf)\n",
    "print(\"omega = {}\".format(opt_par[2]))"
   ]
  },
  {
   "cell_type": "code",
   "execution_count": 16,
   "metadata": {},
   "outputs": [
    {
     "name": "stderr",
     "output_type": "stream",
     "text": [
      "/Library/Frameworks/Python.framework/Versions/3.6/lib/python3.6/site-packages/autograd/tracer.py:48: RuntimeWarning: divide by zero encountered in log10\n",
      "  return f_raw(*args, **kwargs)\n"
     ]
    },
    {
     "data": {
      "text/plain": [
       "<matplotlib.colorbar.Colorbar at 0x126a8be48>"
      ]
     },
     "execution_count": 16,
     "metadata": {},
     "output_type": "execute_result"
    },
    {
     "data": {
      "image/png": "[encoded data removed]",
      "text/plain": [
       "<Figure size 432x288 with 2 Axes>"
      ]
     },
     "metadata": {
      "needs_background": "light"
     },
     "output_type": "display_data"
    }
   ],
   "source": [
    "P = opt_par[0][0]\n",
    "k = int(2**(np.log2(n+1)-1)-1) \n",
    "P_Matrix = np.zeros([n**2,k**2])\n",
    "for i in range(k):\n",
    "    for j in range(k):\n",
    "        C = P[i][j]\n",
    "        for l in range(3):\n",
    "            for m in range(3):\n",
    "                P_Matrix[n*(2*i+l)+(2*j+m)][k*i+j] = C[l][m]\n",
    "plt.imshow(np.log10(np.abs(P_Matrix)))\n",
    "plt.colorbar()"
   ]
  },
  {
   "cell_type": "code",
   "execution_count": 17,
   "metadata": {},
   "outputs": [
    {
     "data": {
      "text/plain": [
       "<matplotlib.colorbar.Colorbar at 0x125ed6438>"
      ]
     },
     "execution_count": 17,
     "metadata": {},
     "output_type": "execute_result"
    },
    {
     "data": {
      "image/png": "[encoded data removed]",
      "text/plain": [
       "<Figure size 432x288 with 2 Axes>"
      ]
     },
     "metadata": {
      "needs_background": "light"
     },
     "output_type": "display_data"
    }
   ],
   "source": [
    "basis1 = P_Matrix[512][:]\n",
    "basis1 = basis1.reshape([sqrtoutputsize,sqrtoutputsize])\n",
    "plt.imshow(basis1)\n",
    "plt.colorbar()"
   ]
  },
  {
   "cell_type": "code",
   "execution_count": 18,
   "metadata": {},
   "outputs": [
    {
     "name": "stderr",
     "output_type": "stream",
     "text": [
      "/Library/Frameworks/Python.framework/Versions/3.6/lib/python3.6/site-packages/autograd/tracer.py:48: RuntimeWarning: divide by zero encountered in log\n",
      "  return f_raw(*args, **kwargs)\n"
     ]
    },
    {
     "data": {
      "text/plain": [
       "<matplotlib.colorbar.Colorbar at 0x126a10198>"
      ]
     },
     "execution_count": 18,
     "metadata": {},
     "output_type": "execute_result"
    },
    {
     "data": {
      "image/png": "[encoded data removed]",
      "text/plain": [
       "<Figure size 432x288 with 2 Axes>"
      ]
     },
     "metadata": {
      "needs_background": "light"
     },
     "output_type": "display_data"
    }
   ],
   "source": [
    "basis1 = P_Matrix[512][:]\n",
    "basis1 = basis1.reshape([sqrtoutputsize,sqrtoutputsize])\n",
    "plt.imshow(np.log(np.abs(basis1)))\n",
    "plt.colorbar()"
   ]
  }
 ],
 "metadata": {
  "kernelspec": {
   "display_name": "Python 3",
   "language": "python",
   "name": "python3"
  },
  "language_info": {
   "codemirror_mode": {
    "name": "ipython",
    "version": 3
   },
   "file_extension": ".py",
   "mimetype": "text/x-python",
   "name": "python",
   "nbconvert_exporter": "python",
   "pygments_lexer": "ipython3",
   "version": "3.6.6"
  }
 },
 "nbformat": 4,
 "nbformat_minor": 2
}
