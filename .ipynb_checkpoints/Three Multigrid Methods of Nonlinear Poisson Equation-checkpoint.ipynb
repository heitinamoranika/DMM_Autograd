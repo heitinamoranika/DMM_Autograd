{
 "cells": [
  {
   "cell_type": "code",
   "execution_count": 1,
   "metadata": {},
   "outputs": [],
   "source": [
    "import dmg.gallery as gallery\n",
    "import dmg.dgmg as dgmg\n",
    "import dmg.gmg_linear as gmg_linear\n",
    "import dmg.classical_amg as classical_amg\n",
    "import pyamg\n",
    "import numpy as np\n",
    "import matplotlib.pyplot as plt\n",
    "from mpl_toolkits.mplot3d import Axes3D\n",
    "import xlsxwriter"
   ]
  },
  {
   "cell_type": "markdown",
   "metadata": {},
   "source": [
    "## A Simple a(x,y)  = 3+x+2*y with GMM"
   ]
  },
  {
   "cell_type": "code",
   "execution_count": 2,
   "metadata": {},
   "outputs": [],
   "source": [
    "n = 15\n",
    "num_levels = 2\n",
    "def u_real(x, y): return np.sin(np.pi*3*x)*np.sin(np.pi*5*y)\n",
    "def rightf(x, y): return 34*np.pi**2*np.sin(3*np.pi*x)*np.sin(5*np.pi*y)*(x + 2*y + 3) - 10*np.pi*np.cos(5*np.pi*y)*np.sin(3*np.pi*x) - 3*np.pi*np.cos(3*np.pi*x)*np.sin(5*np.pi*y)\n",
    "def a(x, y): return 3+x+2*y"
   ]
  },
  {
   "cell_type": "code",
   "execution_count": 3,
   "metadata": {},
   "outputs": [],
   "source": [
    "h=1/(n-1)\n",
    "kx = np.zeros([n,n+1])\n",
    "ky = np.zeros([n+1,n])\n",
    "for i in range(n):\n",
    "    for j in range(n+1):\n",
    "        kx[i][j] = a((j-0.5)*h,i*h)\n",
    "for i in range(n+1):\n",
    "    for j in range(n):\n",
    "        ky[i][j] = a(j*h,(i-0.5)*h)    \n",
    "A = gallery.nonlinearPoisson((n,n), kx, ky)"
   ]
  },
  {
   "cell_type": "code",
   "execution_count": 4,
   "metadata": {},
   "outputs": [],
   "source": [
    "x0 = np.random.randn(A.shape)\n",
    "x = np.linspace(0, 1, num=n+1, endpoint=False)\n",
    "y = np.linspace(0, 1, num=n+1, endpoint=False)\n",
    "xx, yy = np.meshgrid(x[1:], y[1:])\n",
    "rhs = rightf(xx,yy)/ (n+1)**2\n",
    "rhs = rhs.reshape(A.shape, 1)"
   ]
  },
  {
   "cell_type": "code",
   "execution_count": 5,
   "metadata": {},
   "outputs": [
    {
     "name": "stdout",
     "output_type": "stream",
     "text": [
      "Dimension of matrix A for levels:\n",
      "Level = 0, dimension = (7, 7)\n",
      "Level = 1, dimension = (15, 15)\n",
      "\n",
      "Spectral radius = 0.19045945587518262\n"
     ]
    }
   ],
   "source": [
    "linear_gmg = gmg_linear.LinearGMG(A, max_levels=num_levels)\n",
    "print(linear_gmg)\n",
    "GMM_rho = linear_gmg.compute_rho()\n",
    "print(\"Spectral radius = {}\".format(GMM_rho))"
   ]
  },
  {
   "cell_type": "code",
   "execution_count": 6,
   "metadata": {},
   "outputs": [
    {
     "name": "stdout",
     "output_type": "stream",
     "text": [
      "[8.66266909e+00 1.09116670e+00 1.60054799e-01 2.58972113e-02\n",
      " 4.43398671e-03 7.82032836e-04 1.40164073e-04 2.53676580e-05\n",
      " 4.62221371e-06 8.46574570e-07 1.55711333e-07 2.87433311e-08\n",
      " 5.32235177e-09 9.88201531e-10 1.83913564e-10 3.43001509e-11]\n"
     ]
    },
    {
     "data": {
      "text/plain": [
       "[<matplotlib.lines.Line2D at 0x1f5deb47710>]"
      ]
     },
     "execution_count": 6,
     "metadata": {},
     "output_type": "execute_result"
    },
    {
     "data": {
      "image/png": "[encoded data removed]",
      "text/plain": [
       "<Figure size 432x288 with 1 Axes>"
      ]
     },
     "metadata": {},
     "output_type": "display_data"
    }
   ],
   "source": [
    "x = linear_gmg.solve(rhs, x0, tol=1e-10)\n",
    "print(linear_gmg.get_gmg_convergence())\n",
    "plt.semilogy(linear_gmg.get_gmg_convergence())"
   ]
  },
  {
   "cell_type": "code",
   "execution_count": 7,
   "metadata": {},
   "outputs": [
    {
     "data": {
      "text/plain": [
       "<matplotlib.colorbar.Colorbar at 0x1f5de0fe7b8>"
      ]
     },
     "execution_count": 7,
     "metadata": {},
     "output_type": "execute_result"
    },
    {
     "data": {
      "image/png": "[encoded data removed]",
      "text/plain": [
       "<Figure size 432x288 with 2 Axes>"
      ]
     },
     "metadata": {},
     "output_type": "display_data"
    }
   ],
   "source": [
    "x = x.reshape(A.dim)\n",
    "plt.imshow(x)\n",
    "plt.colorbar()"
   ]
  },
  {
   "cell_type": "markdown",
   "metadata": {},
   "source": [
    "## GMM"
   ]
  },
  {
   "cell_type": "code",
   "execution_count": 8,
   "metadata": {},
   "outputs": [],
   "source": [
    "n = 63\n",
    "num_levels = 2\n",
    "e1 = 1/5\n",
    "e2 = 1/13\n",
    "e3 = 1/17\n",
    "e4 = 1/31\n",
    "e5 = 1/65\n",
    "def u_real(x, y): return np.sin(np.pi*3*x)*np.sin(np.pi*5*y)\n",
    "def rightf(x, y): return 34*np.pi**2*np.sin(3*np.pi*x)*np.sin(5*np.pi*y)*(np.sin(4*x**2*y**2)/6 + (np.sin((2*np.pi*y)/e2) + 11/10)/(6*(np.cos((2*np.pi*x)/e2) + 11/10)) + (np.cos((2*np.pi*x)/e3) + 11/10)/(6*(np.sin((2*np.pi*y)/e3) + 11/10)) + (np.sin((2*np.pi*y)/e4) + 11/10)/(6*(np.cos((2*np.pi*x)/e4) + 11/10)) + (np.cos((2*np.pi*x)/e5) + 11/10)/(6*(np.sin((2*np.pi*y)/e5) + 11/10)) + (np.sin((2*np.pi*x)/e1) + 11/10)/(6*(np.sin((2*np.pi*y)/e1) + 11/10)) + 1/6) - 3*np.pi*np.cos(3*np.pi*x)*np.sin(5*np.pi*y)*((4*x*y**2*np.cos(4*x**2*y**2))/3 + (np.pi*np.cos((2*np.pi*x)/e1))/(3*e1*(np.sin((2*np.pi*y)/e1) + 11/10)) - (np.pi*np.sin((2*np.pi*x)/e3))/(3*e3*(np.sin((2*np.pi*y)/e3) + 11/10)) - (np.pi*np.sin((2*np.pi*x)/e5))/(3*e5*(np.sin((2*np.pi*y)/e5) + 11/10)) + (np.pi*np.sin((2*np.pi*x)/e2)*(np.sin((2*np.pi*y)/e2) + 11/10))/(3*e2*(np.cos((2*x*np.pi)/e2) + 11/10)**2) + (np.pi*np.sin((2*np.pi*x)/e4)*(np.sin((2*np.pi*y)/e4) + 11/10))/(3*e4*(np.cos((2*x*np.pi)/e4) + 11/10)**2)) - 5*np.pi*np.cos(5*np.pi*y)*np.sin(3*np.pi*x)*((4*x**2*y*np.cos(4*x**2*y**2))/3 + (np.pi*np.cos((2*np.pi*y)/e2))/(3*e2*(np.cos((2*np.pi*x)/e2) + 11/10)) + (np.pi*np.cos((2*np.pi*y)/e4))/(3*e4*(np.cos((2*np.pi*x)/e4) + 11/10)) - (np.pi*np.cos((2*np.pi*y)/e3)*(np.cos((2*np.pi*x)/e3) + 11/10))/(3*e3*(np.sin((2*y*np.pi)/e3) + 11/10)**2) - (np.pi*np.cos((2*np.pi*y)/e5)*(np.cos((2*np.pi*x)/e5) + 11/10))/(3*e5*(np.sin((2*y*np.pi)/e5) + 11/10)**2) - (np.pi*np.cos((2*np.pi*y)/e1)*(np.sin((2*np.pi*x)/e1) + 11/10))/(3*e1*(np.sin((2*y*np.pi)/e1) + 11/10)**2))\n",
    "def a(x, y): return (1/6)*((1.1+np.sin(2*np.pi*x/e1))/(1.1+np.sin(2*np.pi*y/e1))+(1.1+np.sin(2*np.pi*y/e2))/(1.1+np.cos(2*np.pi*x/e2))+(1.1+np.cos(2*np.pi*x/e3))/(1.1+np.sin(2*np.pi*y/e3))+(1.1+np.sin(2*np.pi*y/e4))/(1.1+np.cos(2*np.pi*x/e4))+(1.1+np.cos(2*np.pi*x/e5))/(1.1+np.sin(2*np.pi*y/e5))+np.sin(4*(x**2)*(y**2))+1)"
   ]
  },
  {
   "cell_type": "code",
   "execution_count": 9,
   "metadata": {},
   "outputs": [],
   "source": [
    "h=1/(n-1)\n",
    "kx = np.zeros([n,n+1])\n",
    "ky = np.zeros([n+1,n])\n",
    "for i in range(n):\n",
    "    for j in range(n+1):\n",
    "        kx[i][j] = a((j-0.5)*h,i*h)\n",
    "for i in range(n+1):\n",
    "    for j in range(n):\n",
    "        ky[i][j] = a(j*h,(i-0.5)*h)    \n",
    "A = gallery.nonlinearPoisson((n,n), kx, ky)"
   ]
  },
  {
   "cell_type": "code",
   "execution_count": 10,
   "metadata": {},
   "outputs": [
    {
     "name": "stdout",
     "output_type": "stream",
     "text": [
      "Dimension of matrix A for levels:\n",
      "Level = 0, dimension = (31, 31)\n",
      "Level = 1, dimension = (63, 63)\n",
      "\n",
      "Spectral radius = 0.4853871374259107\n"
     ]
    }
   ],
   "source": [
    "x0 = np.random.randn(A.shape)\n",
    "x = np.linspace(0, 1, num=n+1, endpoint=False)\n",
    "y = np.linspace(0, 1, num=n+1, endpoint=False)\n",
    "xx, yy = np.meshgrid(x[1:], y[1:])\n",
    "rhs = rightf(xx,yy)/ (n+1)**2\n",
    "rhs = rhs.reshape(A.shape, 1)\n",
    "linear_gmg = gmg_linear.LinearGMG(A, max_levels=num_levels)\n",
    "print(linear_gmg)\n",
    "GMM_rho = linear_gmg.compute_rho()\n",
    "print(\"Spectral radius = {}\".format(GMM_rho))"
   ]
  },
  {
   "cell_type": "code",
   "execution_count": 11,
   "metadata": {},
   "outputs": [
    {
     "name": "stdout",
     "output_type": "stream",
     "text": [
      "[5.42596378e+01 2.02801051e+01 8.53024660e+00 3.69507497e+00\n",
      " 1.62435136e+00 7.21787321e-01 3.23701937e-01 1.46393190e-01\n",
      " 6.67194179e-02 3.06245522e-02 1.41481081e-02 6.57442444e-03\n",
      " 3.07092301e-03 1.44099529e-03 6.78868514e-04 3.20927137e-04\n",
      " 1.52165711e-04 7.23324335e-05 3.44584207e-05 1.64462146e-05\n",
      " 7.86189454e-06 3.76339080e-06 1.80359049e-06 8.65231121e-07\n",
      " 4.15434046e-07 1.99617112e-07 9.59792020e-08 4.61748388e-08\n",
      " 2.22254749e-08 1.07026608e-08 5.15586418e-09 2.48468278e-09\n",
      " 1.19779319e-09 5.77611498e-10 2.78654586e-10 1.34352462e-10\n",
      " 6.49115557e-11]\n"
     ]
    },
    {
     "data": {
      "text/plain": [
       "[<matplotlib.lines.Line2D at 0x1f5de2912b0>]"
      ]
     },
     "execution_count": 11,
     "metadata": {},
     "output_type": "execute_result"
    },
    {
     "data": {
      "image/png": "[encoded data removed]",
      "text/plain": [
       "<Figure size 432x288 with 1 Axes>"
      ]
     },
     "metadata": {},
     "output_type": "display_data"
    }
   ],
   "source": [
    "x = linear_gmg.solve(rhs, x0, tol=1e-10)\n",
    "print(linear_gmg.get_gmg_convergence())\n",
    "plt.semilogy(linear_gmg.get_gmg_convergence())"
   ]
  },
  {
   "cell_type": "code",
   "execution_count": 12,
   "metadata": {},
   "outputs": [
    {
     "data": {
      "text/plain": [
       "<matplotlib.colorbar.Colorbar at 0x1f5debaaeb8>"
      ]
     },
     "execution_count": 12,
     "metadata": {},
     "output_type": "execute_result"
    },
    {
     "data": {
      "image/png": "[encoded data removed]",
      "text/plain": [
       "<Figure size 432x288 with 2 Axes>"
      ]
     },
     "metadata": {},
     "output_type": "display_data"
    }
   ],
   "source": [
    "x = x.reshape(A.dim)\n",
    "plt.imshow(x)\n",
    "plt.colorbar()"
   ]
  },
  {
   "cell_type": "markdown",
   "metadata": {},
   "source": [
    "## AMG"
   ]
  },
  {
   "cell_type": "code",
   "execution_count": 13,
   "metadata": {},
   "outputs": [
    {
     "name": "stdout",
     "output_type": "stream",
     "text": [
      "multilevel_solver\n",
      "Number of Levels:     2\n",
      "Operator Complexity:  1.852\n",
      "Grid Complexity:      1.495\n",
      "Coarse Solver:        'pinv2'\n",
      "  level   unknowns     nonzeros\n",
      "    0         3969        19593 [53.98%]\n",
      "    1         1965        16701 [46.02%]\n",
      "\n",
      "AMG spectral radius = 0.39207057731146877\n"
     ]
    }
   ],
   "source": [
    "amg_solver = classical_amg.ClassicalAMG(A, num_levels)\n",
    "AMG_rho = amg_solver.compute_rho()\n",
    "print(amg_solver)\n",
    "print(\"AMG spectral radius = {}\".format(AMG_rho))"
   ]
  },
  {
   "cell_type": "code",
   "execution_count": 14,
   "metadata": {},
   "outputs": [
    {
     "name": "stdout",
     "output_type": "stream",
     "text": [
      "[65.42299163202162, 134.77648175583573, 19.392932594896987, 3.38686165327797, 0.7835090998419354, 0.27140844992792024, 0.1192409448296461, 0.056074661583396655, 0.026856462980643255, 0.01296143104276205, 0.006287964665266668, 0.0030644282865505425, 0.0015002135576042913, 0.0007379454934642891, 0.00036487152152175954, 0.00018143547918902136, 9.078497817679675e-05, 4.5735624436850373e-05, 2.3208892368521906e-05, 1.186780431896404e-05, 6.1162584989314705e-06, 3.176857524501361e-06, 1.6627000658027241e-06, 8.765176365826468e-07, 4.6515626626110307e-07, 2.483391510912387e-07, 1.332888728770605e-07, 7.186818651300595e-08, 3.8902578169383196e-08, 2.112749416249176e-08, 1.1505443051482113e-08, 6.2796370715991705e-09]\n"
     ]
    },
    {
     "data": {
      "text/plain": [
       "[<matplotlib.lines.Line2D at 0x1f5de0c87f0>]"
      ]
     },
     "execution_count": 14,
     "metadata": {},
     "output_type": "execute_result"
    },
    {
     "data": {
      "image/png": "[encoded data removed]",
      "text/plain": [
       "<Figure size 432x288 with 1 Axes>"
      ]
     },
     "metadata": {},
     "output_type": "display_data"
    }
   ],
   "source": [
    "amg_solver = pyamg.classical.classical.ruge_stuben_solver(A.to_csr(), max_levels=num_levels, \n",
    "                                                                        max_coarse=1)\n",
    "pyamg.relaxation.smoothing.change_smoothers(amg_solver,presmoother=(\"jacobi\", {\"omega\": 2./3, \"iterations\": 2, \"withrho\": False}),postsmoother=(\"None\"))\n",
    "AMGres = []\n",
    "x = amg_solver.solve(rhs, tol=1e-10,residuals=AMGres)\n",
    "print(AMGres)\n",
    "plt.semilogy(AMGres)"
   ]
  },
  {
   "cell_type": "code",
   "execution_count": 15,
   "metadata": {},
   "outputs": [
    {
     "data": {
      "text/plain": [
       "<matplotlib.colorbar.Colorbar at 0x1f5dcd41668>"
      ]
     },
     "execution_count": 15,
     "metadata": {},
     "output_type": "execute_result"
    },
    {
     "data": {
      "image/png": "[encoded data removed]",
      "text/plain": [
       "<Figure size 432x288 with 2 Axes>"
      ]
     },
     "metadata": {},
     "output_type": "display_data"
    }
   ],
   "source": [
    "plt.imshow(x.reshape([n,n]))\n",
    "plt.colorbar()"
   ]
  },
  {
   "cell_type": "markdown",
   "metadata": {},
   "source": [
    "## DMM"
   ]
  },
  {
   "cell_type": "code",
   "execution_count": 16,
   "metadata": {},
   "outputs": [],
   "source": [
    "x0 = np.random.randn(A.shape)\n",
    "x = np.linspace(0, 1, num=n+1, endpoint=False)\n",
    "y = np.linspace(0, 1, num=n+1, endpoint=False)\n",
    "xx, yy = np.meshgrid(x[1:], y[1:])\n",
    "rhs = rightf(xx,yy)/ (n+1)**2\n",
    "rhs = rhs.reshape(A.shape, 1)"
   ]
  },
  {
   "cell_type": "code",
   "execution_count": null,
   "metadata": {},
   "outputs": [],
   "source": [
    "PR_stencil_type = \"m9p\"\n",
    "gmm = dgmg.DeepMG(A, PR_stencil_type=PR_stencil_type, max_levels=num_levels)\n",
    "num_iter = 2500\n",
    "step_size = 1e-4\n",
    "opt_par = gmm.optimize(num_iter=num_iter, step_size=step_size)"
   ]
  },
  {
   "cell_type": "code",
   "execution_count": null,
   "metadata": {},
   "outputs": [],
   "source": [
    "print(gmm)\n",
    "convergence = gmm.get_optimizer_convergence()\n",
    "conv_time = gmm.get_optimization_time()\n",
    "gmm.update_prd(opt_par)\n",
    "DMM_rho = gmm.compute_rho()\n",
    "print(\"DMM rho = {}\".format(DMM_rho))"
   ]
  },
  {
   "cell_type": "code",
   "execution_count": null,
   "metadata": {},
   "outputs": [],
   "source": [
    "x = gmm.solve(rhs, x0, tol=1e-10)\n",
    "print(gmm.get_gmg_convergence())\n",
    "plt.semilogy(gmm.get_gmg_convergence())"
   ]
  },
  {
   "cell_type": "code",
   "execution_count": null,
   "metadata": {},
   "outputs": [],
   "source": [
    "x = x.reshape(A.dim)\n",
    "plt.imshow(x)\n",
    "plt.colorbar()"
   ]
  },
  {
   "cell_type": "markdown",
   "metadata": {},
   "source": [
    "## Compare"
   ]
  },
  {
   "cell_type": "code",
   "execution_count": null,
   "metadata": {},
   "outputs": [],
   "source": [
    "print(\"Radius of GMM={}\".format(GMM_rho))\n",
    "print(\"Radius of AMG={}\".format(AMG_rho))\n",
    "print(\"Radius of DMM={}\".format(DMM_rho))"
   ]
  },
  {
   "cell_type": "code",
   "execution_count": null,
   "metadata": {},
   "outputs": [],
   "source": [
    "plt.semilogy(linear_gmg.get_gmg_convergence(), label = 'GMM Residual')\n",
    "plt.semilogy(AMGres,label = \"AMG Residual\")\n",
    "plt.semilogy(gmm.get_gmg_convergence(), label = 'DMM Residual')\n",
    "plt.legend(loc='upper right')"
   ]
  },
  {
   "cell_type": "code",
   "execution_count": null,
   "metadata": {},
   "outputs": [],
   "source": [
    "print(\"GMM_rho : AMG_rho : DMM_rho = 1 : %f : %f\" %(AMG_rho/GMM_rho,DMM_rho/GMM_rho))"
   ]
  },
  {
   "cell_type": "markdown",
   "metadata": {},
   "source": [
    "## R, P and  $\\omega$ after Optimization"
   ]
  },
  {
   "cell_type": "markdown",
   "metadata": {},
   "source": [
    "The initial P, R in code is\n",
    "\n",
    "P matrix:\n",
    "\n",
    "[[0.25 0.5  0.25]\n",
    "\n",
    "[0.5  1.   0.5 ]\n",
    "\n",
    "[0.25 0.5  0.25]]\n",
    "\n",
    "R matrix:\n",
    "\n",
    "[[[0.0625 0.125  0.0625]\n",
    "\n",
    "[0.125  0.25   0.125 ]\n",
    "\n",
    "[0.0625 0.125  0.0625]]  "
   ]
  },
  {
   "cell_type": "code",
   "execution_count": null,
   "metadata": {},
   "outputs": [],
   "source": [
    "np.set_printoptions(threshold=np.inf)\n",
    "print(\"omega = {}\".format(opt_par[2]))"
   ]
  },
  {
   "cell_type": "code",
   "execution_count": null,
   "metadata": {},
   "outputs": [],
   "source": [
    "P = opt_par[0][0]\n",
    "k = int(2**(np.log2(n+1)-1)-1) \n",
    "P_Matrix = np.zeros([n**2,k**2])\n",
    "for i in range(k):\n",
    "    for j in range(k):\n",
    "        C = P[i][j]\n",
    "        for l in range(3):\n",
    "            for m in range(3):\n",
    "                P_Matrix[n*(2*i+l)+(2*j+m)][k*i+j] = C[l][m]\n",
    "workbook = xlsxwriter.Workbook('P_nonlinearPoisson.xlsx')\n",
    "worksheet = workbook.add_worksheet()\n",
    "for col, data in enumerate(P_Matrix):\n",
    "    worksheet.write_column(0, col, data)\n",
    "workbook.close()"
   ]
  },
  {
   "cell_type": "code",
   "execution_count": null,
   "metadata": {},
   "outputs": [],
   "source": [
    "R = opt_par[1][0]\n",
    "R_Matrix = np.zeros([k**2,n**2])\n",
    "for i in range(k):\n",
    "    for j in range(k):\n",
    "        C = R[i][j]\n",
    "        for l in range(3):\n",
    "            for m in range(3):\n",
    "                R_Matrix[k*i+j][n*(2*i+l)+(2*j+m)] = C[l][m]\n",
    "workbook = xlsxwriter.Workbook('R_nonlinearPoisson.xlsx')\n",
    "worksheet = workbook.add_worksheet()\n",
    "for col, data in enumerate(R_Matrix):\n",
    "    worksheet.write_column(0, col, data)\n",
    "workbook.close()"
   ]
  }
 ],
 "metadata": {
  "kernelspec": {
   "display_name": "Python 3",
   "language": "python",
   "name": "python3"
  },
  "language_info": {
   "codemirror_mode": {
    "name": "ipython",
    "version": 3
   },
   "file_extension": ".py",
   "mimetype": "text/x-python",
   "name": "python",
   "nbconvert_exporter": "python",
   "pygments_lexer": "ipython3",
   "version": "3.6.5"
  }
 },
 "nbformat": 4,
 "nbformat_minor": 2
}
