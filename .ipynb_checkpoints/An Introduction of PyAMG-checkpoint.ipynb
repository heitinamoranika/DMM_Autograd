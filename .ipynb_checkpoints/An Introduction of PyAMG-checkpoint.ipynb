{
 "cells": [
  {
   "cell_type": "markdown",
   "metadata": {},
   "source": [
    "# An Introduction of PyTorch\n",
    "\n",
    "PyAMG 网站: http://pyamg.readthedocs.io/en/latest/index.html\n",
    "\n"
   ]
  },
  {
   "cell_type": "code",
   "execution_count": 5,
   "metadata": {},
   "outputs": [],
   "source": [
    "import pyamg\n",
    "import numpy as np\n",
    "import xlwt"
   ]
  },
  {
   "cell_type": "markdown",
   "metadata": {},
   "source": [
    "## pyamg.classical.classical.ruge_stuben_solver\n",
    "pyamg.classical.classical.ruge_stuben_solver(A, strength=('classical', {'theta': 0.25}), CF='RS', presmoother=('gauss_seidel', {'sweep': 'symmetric'}), postsmoother=('gauss_seidel', {'sweep': 'symmetric'}), max_levels=10, max_coarse=10, keep=False, **kwargs)[source]\n",
    "Parameters:\n",
    "\n",
    "A (csr_matrix) – Square matrix in CSR format\n",
    "\n",
    "strength ([‘symmetric’, ‘classical’, ‘evolution’, ‘distance’,) – ‘algebraic_distance’,’affinity’, ‘energy_based’, None] Method used to determine the strength of connection between unknowns of the linear system. Method-specific parameters may be passed in using a tuple, e.g. strength=(‘symmetric’,{‘theta’ : 0.25 }). If strength=None, all nonzero entries of the matrix are considered strong.\n",
    "\n",
    "CF ({string} : default ‘RS’) – Method used for coarse grid selection (C/F splitting) Supported methods are RS, PMIS, PMISc, CLJP, CLJPc, and CR.\n",
    "\n",
    "presmoother ({string or dict}) – Method used for presmoothing at each level. Method-specific parameters may be passed in using a tuple, e.g. presmoother=(‘gauss_seidel’,{‘sweep’:’symmetric}), the default.\n",
    "\n",
    "postsmoother ({string or dict}) – Postsmoothing method with the same usage as presmoother\n",
    "\n",
    "max_levels ({integer} : default 10) – Maximum number of levels to be used in the multilevel solver.\n",
    "\n",
    "max_coarse ({integer} : default 500) – Maximum number of variables permitted on the coarse grid.\n",
    "\n",
    "keep ({bool} : default False) – Flag to indicate keeping extra operators in the hierarchy for diagnostics. For example, if True, then strength of connection (C) and tentative prolongation (T) are kept."
   ]
  },
  {
   "cell_type": "code",
   "execution_count": 11,
   "metadata": {},
   "outputs": [
    {
     "name": "stdout",
     "output_type": "stream",
     "text": [
      "[[ 4. -1.  0. ...  0.  0.  0.]\n",
      " [-1.  4. -1. ...  0.  0.  0.]\n",
      " [ 0. -1.  4. ...  0.  0.  0.]\n",
      " ...\n",
      " [ 0.  0.  0. ...  4. -1.  0.]\n",
      " [ 0.  0.  0. ... -1.  4. -1.]\n",
      " [ 0.  0.  0. ...  0. -1.  4.]]\n"
     ]
    }
   ],
   "source": [
    "PoissonA = pyamg.gallery.poisson((7,7), format='csr')\n",
    "print(PoissonA.todense())\n"
   ]
  },
  {
   "cell_type": "markdown",
   "metadata": {},
   "source": [
    "生成一个A矩阵"
   ]
  },
  {
   "cell_type": "code",
   "execution_count": 24,
   "metadata": {},
   "outputs": [],
   "source": [
    "b = np.random.rand(PoissonA.shape[0])  "
   ]
  },
  {
   "cell_type": "code",
   "execution_count": 25,
   "metadata": {},
   "outputs": [],
   "source": [
    "ml = pyamg.ruge_stuben_solver(PoissonA,max_levels=2)  "
   ]
  },
  {
   "cell_type": "code",
   "execution_count": 26,
   "metadata": {},
   "outputs": [
    {
     "name": "stdout",
     "output_type": "stream",
     "text": [
      "multilevel_solver\n",
      "Number of Levels:     1\n",
      "Operator Complexity:  1.000\n",
      "Grid Complexity:      1.000\n",
      "Coarse Solver:        'pinv2'\n",
      "  level   unknowns     nonzeros\n",
      "    0            9           33 [100.00%]\n",
      "\n"
     ]
    }
   ],
   "source": [
    "print(ml) "
   ]
  },
  {
   "cell_type": "code",
   "execution_count": 27,
   "metadata": {},
   "outputs": [],
   "source": [
    "residuals = []"
   ]
  },
  {
   "cell_type": "code",
   "execution_count": 28,
   "metadata": {},
   "outputs": [],
   "source": [
    "x = ml.solve(b, tol=1e-10, cycle='V' , residuals=residuals)"
   ]
  },
  {
   "cell_type": "code",
   "execution_count": 29,
   "metadata": {},
   "outputs": [
    {
     "name": "stdout",
     "output_type": "stream",
     "text": [
      "residual:  2.2327355156692948e-14\n"
     ]
    }
   ],
   "source": [
    "print(\"residual: \", np.linalg.norm(b-PoissonA*x))   "
   ]
  },
  {
   "cell_type": "markdown",
   "metadata": {},
   "source": [
    "这样就可以定一个AMG的算子了, 非常方便.\n",
    "\n",
    "当然这个package还有aggregation.smoothed_aggregation_solver(), multilevel_solver(), aggregation.rootnode_solver(), 之类的.\n"
   ]
  },
  {
   "cell_type": "markdown",
   "metadata": {},
   "source": [
    "## pyamg.classical.interpolate.direct_interpolation(A, C, splitting)\n",
    "\n",
    "Parameters:\n",
    "\n",
    "A ({csr_matrix}) – NxN matrix in CSR format\n",
    "\n",
    "C ({csr_matrix}) – Strength-of-Connection matrix Must have zero diagonal\n",
    "\n",
    "splitting (array) – C/F splitting stored in an array of length N\n",
    "\n",
    "Returns:\n",
    "\n",
    "P – Prolongator using direct interpolation\n",
    "\n",
    "C/F Splitting Methods\n",
    "\n",
    "RS : Original Ruge-Stuben method\n",
    "\n",
    "Produces good C/F splittings but is inherently serial.\n",
    "May produce AMG hierarchies with relatively high operator complexities.\n",
    "See References [1] and [4]\n",
    "\n",
    "PMIS: Parallel Modified Independent Set\n",
    "\n",
    "Very fast construction with low operator complexity.\n",
    "Convergence can deteriorate with increasing problem size on structured meshes.\n",
    "Uses method similar to Luby’s Maximal Independent Set algorithm.\n",
    "See References [1] and [3]\n",
    "\n",
    "PMISc: Parallel Modified Independent Set in Color\n",
    "\n",
    "Fast construction with low operator complexity.\n",
    "Better scalability than PMIS on structured meshes.\n",
    "Augments random weights with a (graph) vertex coloring\n",
    "See References [1]\n",
    "\n",
    "CLJP: Clearly-Luby-Jones-Plassmann\n",
    "\n",
    "Parallel method with cost and complexity comparable to Ruge-Stuben.\n",
    "Convergence can deteriorate with increasing problem size on structured meshes.\n",
    "See References [1] and [2]\n",
    "\n",
    "CLJP-c: Clearly-Luby-Jones-Plassmann in Color\n",
    "\n",
    "Parallel method with cost and complexity comparable to Ruge-Stuben.\n",
    "Better scalability than CLJP on structured meshes.\n",
    "See References [1]"
   ]
  },
  {
   "cell_type": "code",
   "execution_count": 30,
   "metadata": {},
   "outputs": [
    {
     "name": "stdout",
     "output_type": "stream",
     "text": [
      "[[1.   0.   0.   0.   0.  ]\n",
      " [0.25 0.25 0.25 0.   0.  ]\n",
      " [0.   1.   0.   0.   0.  ]\n",
      " [0.25 0.   0.25 0.25 0.  ]\n",
      " [0.   0.   1.   0.   0.  ]\n",
      " [0.   0.25 0.25 0.   0.25]\n",
      " [0.   0.   0.   1.   0.  ]\n",
      " [0.   0.   0.25 0.25 0.25]\n",
      " [0.   0.   0.   0.   1.  ]]\n"
     ]
    }
   ],
   "source": [
    "from pyamg.classical import RS\n",
    "\n",
    "splitting = RS(PoissonA)\n",
    "P = pyamg.classical.interpolate.direct_interpolation(PoissonA, PoissonA, splitting)\n",
    "print(P.todense())"
   ]
  },
  {
   "cell_type": "code",
   "execution_count": 31,
   "metadata": {},
   "outputs": [
    {
     "name": "stdout",
     "output_type": "stream",
     "text": [
      "[[1.   0.   0.   0.   0.  ]\n",
      " [0.25 0.25 0.25 0.   0.  ]\n",
      " [0.   1.   0.   0.   0.  ]\n",
      " [0.25 0.   0.25 0.25 0.  ]\n",
      " [0.   0.   1.   0.   0.  ]\n",
      " [0.   0.25 0.25 0.   0.25]\n",
      " [0.   0.   0.   1.   0.  ]\n",
      " [0.   0.   0.25 0.25 0.25]\n",
      " [0.   0.   0.   0.   1.  ]]\n"
     ]
    }
   ],
   "source": [
    "from pyamg.classical import PMIS\n",
    "\n",
    "splitting = PMIS(PoissonA)\n",
    "P = pyamg.classical.interpolate.direct_interpolation(PoissonA, PoissonA, splitting)\n",
    "print(P.todense())"
   ]
  },
  {
   "cell_type": "code",
   "execution_count": 32,
   "metadata": {},
   "outputs": [
    {
     "name": "stdout",
     "output_type": "stream",
     "text": [
      "[[1.   0.   0.   0.   0.  ]\n",
      " [0.25 0.25 0.25 0.   0.  ]\n",
      " [0.   1.   0.   0.   0.  ]\n",
      " [0.25 0.   0.25 0.25 0.  ]\n",
      " [0.   0.   1.   0.   0.  ]\n",
      " [0.   0.25 0.25 0.   0.25]\n",
      " [0.   0.   0.   1.   0.  ]\n",
      " [0.   0.   0.25 0.25 0.25]\n",
      " [0.   0.   0.   0.   1.  ]]\n"
     ]
    }
   ],
   "source": [
    "from pyamg.classical import PMISc\n",
    "\n",
    "splitting = PMISc(PoissonA)\n",
    "P = pyamg.classical.interpolate.direct_interpolation(PoissonA, PoissonA, splitting)\n",
    "print(P.todense())"
   ]
  },
  {
   "cell_type": "markdown",
   "metadata": {},
   "source": [
    "## pyamg.classical.direct_interpolation(A, C, splitting)"
   ]
  },
  {
   "cell_type": "markdown",
   "metadata": {},
   "source": [
    "Parameters:\n",
    "    \n",
    "A ({csr_matrix}) – NxN matrix in CSR format\n",
    "\n",
    "C ({csr_matrix}) – Strength-of-Connection matrix Must have zero diagonal\n",
    "\n",
    "splitting (array) – C/F splitting stored in an array of length N\n",
    "\n",
    "Returns:\n",
    "    \n",
    "P – Prolongator using direct interpolation\n",
    "\n",
    "Return type:\n",
    "    \n",
    "{csr_matrix}"
   ]
  },
  {
   "cell_type": "code",
   "execution_count": 37,
   "metadata": {},
   "outputs": [
    {
     "name": "stdout",
     "output_type": "stream",
     "text": [
      "[[1.   0.   0.   0.   0.  ]\n",
      " [0.25 0.25 0.25 0.   0.  ]\n",
      " [0.   1.   0.   0.   0.  ]\n",
      " [0.25 0.   0.25 0.25 0.  ]\n",
      " [0.   0.   1.   0.   0.  ]\n",
      " [0.   0.25 0.25 0.   0.25]\n",
      " [0.   0.   0.   1.   0.  ]\n",
      " [0.   0.   0.25 0.25 0.25]\n",
      " [0.   0.   0.   0.   1.  ]]\n"
     ]
    }
   ],
   "source": [
    "splitting = np.array([1,0,1,0,1,0,1,0,1], dtype='intc')\n",
    "P = pyamg.classical.direct_interpolation(PoissonA, PoissonA, splitting)\n",
    "print(P.todense())"
   ]
  },
  {
   "cell_type": "code",
   "execution_count": 38,
   "metadata": {},
   "outputs": [
    {
     "name": "stdout",
     "output_type": "stream",
     "text": [
      "[[1.    0.    0.   ]\n",
      " [0.25  0.25  0.25 ]\n",
      " [0.    1.    0.   ]\n",
      " [0.375 0.    0.375]\n",
      " [0.    0.    1.   ]\n",
      " [0.    0.375 0.375]\n",
      " [0.    0.    0.   ]\n",
      " [0.    0.    0.75 ]\n",
      " [0.    0.    0.   ]]\n"
     ]
    }
   ],
   "source": [
    "splitting = np.array([1,0,1,0,1], dtype='intc')\n",
    "P = pyamg.classical.direct_interpolation(PoissonA, PoissonA, splitting)\n",
    "print(P.todense())"
   ]
  },
  {
   "cell_type": "markdown",
   "metadata": {},
   "source": [
    "## pyamg.relaxation.relaxation.sor(A, x, b, omega, iterations=1, sweep='forward')"
   ]
  },
  {
   "cell_type": "markdown",
   "metadata": {},
   "source": [
    "Perform SOR iteration on the linear system Ax=b\n",
    "\n",
    "\n",
    "Parameters:\n",
    "    \n",
    "A ({csr_matrix, bsr_matrix}) – Sparse NxN matrix\n",
    "\n",
    "x (ndarray) – Approximate solution (length N)\n",
    "\n",
    "b (ndarray) – Right-hand side (length N)\n",
    "\n",
    "omega (scalar) – Damping parameter\n",
    "\n",
    "iterations (int) – Number of iterations to perform\n",
    "\n",
    "sweep ({‘forward’,’backward’,’symmetric’}) – Direction of sweep\n",
    "\n",
    "Returns:\n",
    "\n",
    "Return type:\n",
    "    \n",
    "Nothing, x will be modified in place."
   ]
  },
  {
   "cell_type": "code",
   "execution_count": 41,
   "metadata": {},
   "outputs": [],
   "source": [
    "x0 = np.zeros((PoissonA.shape[0],1))\n",
    "b = np.ones((PoissonA.shape[0],1))"
   ]
  },
  {
   "cell_type": "code",
   "execution_count": 43,
   "metadata": {},
   "outputs": [],
   "source": [
    "pyamg.relaxation.relaxation.sor(PoissonA, x0, b, 1.33, iterations=10)"
   ]
  },
  {
   "cell_type": "code",
   "execution_count": 44,
   "metadata": {},
   "outputs": [
    {
     "name": "stdout",
     "output_type": "stream",
     "text": [
      "[[0.687028  ]\n",
      " [0.87504872]\n",
      " [0.68746824]\n",
      " [0.87504872]\n",
      " [1.12494031]\n",
      " [0.87499087]\n",
      " [0.68746824]\n",
      " [0.87499087]\n",
      " [0.68749161]]\n"
     ]
    }
   ],
   "source": [
    "print(x0)"
   ]
  },
  {
   "cell_type": "markdown",
   "metadata": {},
   "source": [
    "## pyamg.relaxation.smoothing.change_smoothers(ml, presmoother, postsmoother)"
   ]
  },
  {
   "cell_type": "markdown",
   "metadata": {},
   "source": [
    "Parameters:\n",
    "    \n",
    "ml ({pyamg multilevel hierarchy}) – Data structure that stores the multigrid hierarchy.\n",
    "\n",
    "presmoother ({None, string, tuple, list}) – presmoother can be (1) the name of a supported smoother, e.g. “gauss_seidel”, (2) a tuple of the form (‘method’,’opts’) where ‘method’ is the name of a supported smoother and ‘opts’ a dict of keyword arguments to the smoother, or (3) a list of instances of options 1 or 2. See the Examples section for illustrations of the format.\n",
    "\n",
    "If presmoother is a list, presmoother[i] determines the smoothing strategy for level i. Else, presmoother defines the same strategy for all levels.\n",
    "\n",
    "If len(presmoother) < len(ml.levels), then presmoother[-1] is used for all remaining levels\n",
    "\n",
    "If len(presmoother) > len(ml.levels), then the remaining smoothing strategies are ignored\n",
    "\n",
    "postsmoother ({string, tuple, list}) – Defines postsmoother in identical fashion to presmoother\n",
    "\n",
    "Returns:\n",
    "\n",
    "ml changed in place\n",
    "\n",
    "ml.level[i].presmoother <=== presmoother[i]\n",
    "\n",
    "ml.level[i].postsmoother <=== postsmoother[i]\n",
    "\n",
    "ml.symmetric_smoothing is marked True/False depending on whether – the smoothing scheme is symmetric."
   ]
  },
  {
   "cell_type": "markdown",
   "metadata": {},
   "source": [
    "## pyamg.util.linalg.approximate_spectral_radius(A, tol=0.01, maxiter=15, restart=5, symmetric=None, initial_guess=None, return_vector=False)\n",
    "\n",
    "## pyamg.util.linalg.infinity_norm(A)\n",
    "\n",
    "## pyamg.util.linalg.norm(x, pnorm='2')\n"
   ]
  },
  {
   "cell_type": "code",
   "execution_count": 12,
   "metadata": {},
   "outputs": [],
   "source": [
    "A = np.matrix([[1.,0.],[0.,1.]])"
   ]
  },
  {
   "cell_type": "code",
   "execution_count": 7,
   "metadata": {},
   "outputs": [
    {
     "name": "stdout",
     "output_type": "stream",
     "text": [
      "1.0\n"
     ]
    }
   ],
   "source": [
    "print(pyamg.util.linalg.approximate_spectral_radius(A))"
   ]
  },
  {
   "cell_type": "code",
   "execution_count": 9,
   "metadata": {},
   "outputs": [
    {
     "name": "stdout",
     "output_type": "stream",
     "text": [
      "1.0\n"
     ]
    }
   ],
   "source": [
    "print(pyamg.util.linalg.infinity_norm(A))"
   ]
  },
  {
   "cell_type": "code",
   "execution_count": 10,
   "metadata": {},
   "outputs": [
    {
     "name": "stdout",
     "output_type": "stream",
     "text": [
      "1.4142135623730951\n"
     ]
    }
   ],
   "source": [
    "print(pyamg.util.linalg.norm(A, pnorm='2')\n",
    ")"
   ]
  },
  {
   "cell_type": "markdown",
   "metadata": {},
   "source": [
    "## pyamg.util.linalg.residual_norm(A, x, b)\n",
    "\n",
    "Compute ||b - A*x||"
   ]
  },
  {
   "cell_type": "markdown",
   "metadata": {},
   "source": [
    "## pyamg.util.linalg.condest(A, tol=0.1, maxiter=25, symmetric=False)\n",
    "\n",
    "## pyamg.util.linalg.cond(A)\n",
    "\n",
    "Returns condition number of A\n",
    "\n",
    "Returns:\n",
    "    \n",
    "2-norm condition number through use of the SVD\n",
    "Use for small to moderate sized dense matrices.\n",
    "**For large sparse matrices, use condest.**"
   ]
  },
  {
   "cell_type": "code",
   "execution_count": 16,
   "metadata": {},
   "outputs": [
    {
     "name": "stdout",
     "output_type": "stream",
     "text": [
      "1.999999999999998\n",
      "2.0\n"
     ]
    }
   ],
   "source": [
    "c1 = pyamg.util.linalg.condest(np.array([[1.,0.],[0.,2.]]))\n",
    "c2 = pyamg.util.linalg.cond(np.array([[1.,0.],[0.,2.]]))\n",
    "print(c1)\n",
    "print(c2)"
   ]
  }
 ],
 "metadata": {
  "kernelspec": {
   "display_name": "Python 3",
   "language": "python",
   "name": "python3"
  },
  "language_info": {
   "codemirror_mode": {
    "name": "ipython",
    "version": 3
   },
   "file_extension": ".py",
   "mimetype": "text/x-python",
   "name": "python",
   "nbconvert_exporter": "python",
   "pygments_lexer": "ipython3",
   "version": "3.6.5"
  }
 },
 "nbformat": 4,
 "nbformat_minor": 2
}
