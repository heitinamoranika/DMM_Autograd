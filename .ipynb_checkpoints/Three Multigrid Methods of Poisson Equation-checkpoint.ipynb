{
 "cells": [
  {
   "cell_type": "code",
   "execution_count": 1,
   "metadata": {},
   "outputs": [],
   "source": [
    "import dmg.gallery as gallery\n",
    "import dmg.dgmg as dgmg\n",
    "import dmg.gmg_linear as gmg_linear\n",
    "import dmg.classical_amg as classical_amg\n",
    "import numpy as np\n",
    "import pyamg\n",
    "import scipy\n",
    "import matplotlib.pyplot as plt\n",
    "from mpl_toolkits.mplot3d import Axes3D\n",
    "import xlsxwriter"
   ]
  },
  {
   "cell_type": "code",
   "execution_count": 2,
   "metadata": {},
   "outputs": [],
   "source": [
    "n = 63\n",
    "num_levels = 2\n",
    "u_real = lambda x,y: np.sin(np.pi*3*x)*np.sin(np.pi*5*y)\n",
    "rightf = lambda x,y:  34*np.pi**2*np.sin(3*np.pi*x)*np.sin(5*np.pi*y)\n",
    "A = gallery.poisson((n, n))"
   ]
  },
  {
   "cell_type": "markdown",
   "metadata": {},
   "source": [
    "解析解是$u_{real} = np.sin(np.pi*3*x)*np.sin(np.pi*5*y) $\n",
    "\n",
    "右端项函数是$rightf = -34*np.pi**2*np.sin(3*np.pi*x)*np.sin(5*np.pi*y)$\n",
    "\n",
    "解析解画出来是:\n",
    "    ![](pic1.png)"
   ]
  },
  {
   "cell_type": "markdown",
   "metadata": {},
   "source": [
    "## GMM"
   ]
  },
  {
   "cell_type": "code",
   "execution_count": 3,
   "metadata": {},
   "outputs": [],
   "source": [
    "x0 = np.random.randn(A.shape)\n",
    "x = np.linspace(0, 1, num=n+1, endpoint=False)\n",
    "y = np.linspace(0, 1, num=n+1, endpoint=False)\n",
    "xx, yy = np.meshgrid(x[1:], y[1:])\n",
    "x_true = u_real(xx,yy)\n",
    "rhs = rightf(xx,yy)/ (n+1)**2\n",
    "rhs = rhs.reshape(A.shape, 1)"
   ]
  },
  {
   "cell_type": "code",
   "execution_count": null,
   "metadata": {},
   "outputs": [],
   "source": [
    "linear_gmg = gmg_linear.LinearGMG(A, max_levels=num_levels)\n",
    "print(linear_gmg)\n",
    "GMM_rho = linear_gmg.compute_rho()\n",
    "print(\"Spectral radius = {}\".format(GMM_rho))"
   ]
  },
  {
   "cell_type": "code",
   "execution_count": null,
   "metadata": {},
   "outputs": [],
   "source": [
    "x = linear_gmg.solve(rhs, x0, tol=1e-14)\n",
    "print(linear_gmg.get_gmg_convergence())\n",
    "plt.semilogy(linear_gmg.get_gmg_convergence())"
   ]
  },
  {
   "cell_type": "code",
   "execution_count": null,
   "metadata": {},
   "outputs": [],
   "source": [
    "x = x.reshape(A.dim)\n",
    "plt.imshow(x)\n",
    "plt.colorbar()"
   ]
  },
  {
   "cell_type": "markdown",
   "metadata": {},
   "source": [
    "## AMG"
   ]
  },
  {
   "cell_type": "code",
   "execution_count": null,
   "metadata": {},
   "outputs": [],
   "source": [
    "amg_solver = classical_amg.ClassicalAMG(A, num_levels)\n",
    "AMG_rho = amg_solver.compute_rho()\n",
    "print(amg_solver)\n",
    "print(\"AMG spectral radius = {}\".format(AMG_rho))"
   ]
  },
  {
   "cell_type": "code",
   "execution_count": null,
   "metadata": {},
   "outputs": [],
   "source": [
    "amg_solver = pyamg.classical.classical.ruge_stuben_solver(A.to_csr(), max_levels=num_levels, \n",
    "                                                                        max_coarse=1)\n",
    "pyamg.relaxation.smoothing.change_smoothers(amg_solver,presmoother=(\"jacobi\", {\"omega\": 2./3, \"iterations\": 2, \"withrho\": False}),postsmoother=(\"None\"))\n",
    "AMGres = []\n",
    "x = amg_solver.solve(rhs, tol=1e-14,residuals=AMGres)\n",
    "print(AMGres)\n",
    "plt.semilogy(AMGres)"
   ]
  },
  {
   "cell_type": "code",
   "execution_count": null,
   "metadata": {},
   "outputs": [],
   "source": [
    "plt.imshow(x.reshape([n,n]))\n",
    "plt.colorbar()"
   ]
  },
  {
   "cell_type": "markdown",
   "metadata": {},
   "source": [
    "## DMM"
   ]
  },
  {
   "cell_type": "code",
   "execution_count": null,
   "metadata": {},
   "outputs": [],
   "source": [
    "x0 = np.random.randn(A.shape)\n",
    "x = np.linspace(0, 1, num=n+1, endpoint=False)\n",
    "y = np.linspace(0, 1, num=n+1, endpoint=False)\n",
    "xx, yy = np.meshgrid(x[1:], y[1:])\n",
    "rhs = rightf(xx,yy)/ (n+1)**2\n",
    "rhs = rhs.reshape(A.shape, 1)"
   ]
  },
  {
   "cell_type": "code",
   "execution_count": null,
   "metadata": {},
   "outputs": [],
   "source": [
    "PR_stencil_type = \"m9p\"\n",
    "gmm = dgmg.DeepMG(A, PR_stencil_type=PR_stencil_type, max_levels=num_levels)\n",
    "num_iter = 2500\n",
    "step_size = 1e-4\n",
    "opt_par = gmm.optimize(num_iter=num_iter, step_size=step_size)"
   ]
  },
  {
   "cell_type": "code",
   "execution_count": null,
   "metadata": {},
   "outputs": [],
   "source": [
    "print(gmm)\n",
    "convergence = gmm.get_optimizer_convergence()\n",
    "conv_time = gmm.get_optimization_time()\n",
    "gmm.update_prd(opt_par)\n",
    "DMM_rho = gmm.compute_rho()\n",
    "print(\"DMM rho = {}\".format(DMM_rho))"
   ]
  },
  {
   "cell_type": "code",
   "execution_count": null,
   "metadata": {},
   "outputs": [],
   "source": [
    "x = gmm.solve(rhs, x0, tol=1e-14)\n",
    "print(gmm.get_gmg_convergence())\n",
    "plt.semilogy(gmm.get_gmg_convergence())"
   ]
  },
  {
   "cell_type": "code",
   "execution_count": null,
   "metadata": {},
   "outputs": [],
   "source": [
    "x = x.reshape(A.dim)\n",
    "plt.imshow(x)\n",
    "plt.colorbar()"
   ]
  },
  {
   "cell_type": "markdown",
   "metadata": {},
   "source": [
    "## Compare"
   ]
  },
  {
   "cell_type": "code",
   "execution_count": null,
   "metadata": {},
   "outputs": [],
   "source": [
    "print(\"Radius of GMM={}\".format(GMM_rho))\n",
    "print(\"Radius of AMG={}\".format(AMG_rho))\n",
    "print(\"Radius of DMG={}\".format(DMM_rho))"
   ]
  },
  {
   "cell_type": "code",
   "execution_count": null,
   "metadata": {},
   "outputs": [],
   "source": [
    "plt.semilogy(linear_gmg.get_gmg_convergence(), label = 'GMM Residual')\n",
    "plt.semilogy(AMGres,label = \"AMG Residual\")\n",
    "plt.semilogy(gmm.get_gmg_convergence(), label = 'DMM Residual')\n",
    "plt.legend(loc='upper right')"
   ]
  },
  {
   "cell_type": "code",
   "execution_count": null,
   "metadata": {},
   "outputs": [],
   "source": [
    "print(\"GMM_rho : AMG_rho : DMM_rho = 1 : %f : %f\" %(AMG_rho/GMM_rho,DMM_rho/GMM_rho))"
   ]
  },
  {
   "cell_type": "markdown",
   "metadata": {},
   "source": [
    "## R, P and  $\\omega$ after Optimization"
   ]
  },
  {
   "cell_type": "markdown",
   "metadata": {},
   "source": [
    "The initial P, R in code is\n",
    "\n",
    "P matrix:\n",
    "\n",
    "[[0.25 0.5  0.25]\n",
    "\n",
    "[0.5  1.   0.5 ]\n",
    "\n",
    "[0.25 0.5  0.25]]\n",
    "\n",
    "R matrix:\n",
    "\n",
    "[[[0.0625 0.125  0.0625]\n",
    "\n",
    "[0.125  0.25   0.125 ]\n",
    "\n",
    "[0.0625 0.125  0.0625]]  "
   ]
  },
  {
   "cell_type": "code",
   "execution_count": null,
   "metadata": {},
   "outputs": [],
   "source": [
    "np.set_printoptions(threshold=np.inf)\n",
    "print(\"omega = {}\".format(opt_par[2]))"
   ]
  },
  {
   "cell_type": "code",
   "execution_count": null,
   "metadata": {},
   "outputs": [],
   "source": [
    "P = opt_par[0][0]\n",
    "k = int(2**(np.log2(n+1)-1)-1) \n",
    "P_Matrix = np.zeros([n**2,k**2])\n",
    "for i in range(k):\n",
    "    for j in range(k):\n",
    "        C = P[i][j]\n",
    "        for l in range(3):\n",
    "            for m in range(3):\n",
    "                P_Matrix[n*(2*i+l)+(2*j+m)][k*i+j] = C[l][m]\n",
    "workbook = xlsxwriter.Workbook('P_Poisson.xlsx')\n",
    "worksheet = workbook.add_worksheet()\n",
    "for col, data in enumerate(P_Matrix):\n",
    "    worksheet.write_column(0, col, data)\n",
    "workbook.close()"
   ]
  },
  {
   "cell_type": "code",
   "execution_count": null,
   "metadata": {},
   "outputs": [],
   "source": [
    "R = opt_par[1][0]\n",
    "R_Matrix = np.zeros([k**2,n**2])\n",
    "for i in range(k):\n",
    "    for j in range(k):\n",
    "        C = R[i][j]\n",
    "        for l in range(3):\n",
    "            for m in range(3):\n",
    "                R_Matrix[k*i+j][n*(2*i+l)+(2*j+m)] = C[l][m]\n",
    "workbook = xlsxwriter.Workbook('R_Poisson.xlsx')\n",
    "worksheet = workbook.add_worksheet()\n",
    "for col, data in enumerate(R_Matrix):\n",
    "    worksheet.write_column(0, col, data)\n",
    "workbook.close()"
   ]
  }
 ],
 "metadata": {
  "kernelspec": {
   "display_name": "Python 3",
   "language": "python",
   "name": "python3"
  },
  "language_info": {
   "codemirror_mode": {
    "name": "ipython",
    "version": 3
   },
   "file_extension": ".py",
   "mimetype": "text/x-python",
   "name": "python",
   "nbconvert_exporter": "python",
   "pygments_lexer": "ipython3",
   "version": "3.6.5"
  }
 },
 "nbformat": 4,
 "nbformat_minor": 2
}
