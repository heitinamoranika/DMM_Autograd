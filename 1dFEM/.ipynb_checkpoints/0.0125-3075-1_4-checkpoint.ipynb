{
 "cells": [
  {
   "cell_type": "markdown",
   "metadata": {},
   "source": [
    "Import important parameter"
   ]
  },
  {
   "cell_type": "code",
   "execution_count": 1,
   "metadata": {},
   "outputs": [],
   "source": [
    "inputsize = 3075\n",
    "e = 0.0125"
   ]
  },
  {
   "cell_type": "markdown",
   "metadata": {},
   "source": [
    "Import Package"
   ]
  },
  {
   "cell_type": "code",
   "execution_count": 2,
   "metadata": {},
   "outputs": [],
   "source": [
    "import torch\n",
    "import numpy as np\n",
    "import matplotlib.pyplot as plt\n",
    "import autograd.numpy as np\n",
    "from autograd import grad\n",
    "import pyamg\n",
    "import dmg.gallery as gallery\n",
    "import dmg.dgmg as dgmg\n",
    "import dmg.gmg_linear as gmg_linear\n",
    "import dmg.classical_amg as classical_amg\n",
    "from mpl_toolkits.mplot3d import Axes3D\n",
    "import xlsxwriter\n",
    "from scipy.ndimage import convolve"
   ]
  },
  {
   "cell_type": "markdown",
   "metadata": {},
   "source": [
    "Define function"
   ]
  },
  {
   "cell_type": "code",
   "execution_count": 3,
   "metadata": {},
   "outputs": [],
   "source": [
    "def Restriction(inputsize):\n",
    "    inputsize = int(inputsize)\n",
    "    outputsize = int(inputsize/2)\n",
    "    OUTPUT = np.zeros([outputsize, inputsize])\n",
    "    for i in range(outputsize):\n",
    "            OUTPUT[i][2*i] = 1/4\n",
    "            OUTPUT[i][1+2*i] = 1/2\n",
    "            OUTPUT[i][2+2*i] = 1/4\n",
    "    return OUTPUT\n",
    "\n",
    "def Poisson(inputsize):\n",
    "    inputsize = int(inputsize)\n",
    "    outputsize = int(inputsize/4)\n",
    "    A1 = 2*np.eye(inputsize)\n",
    "    for i in range(inputsize-1):\n",
    "        A1[i, i+1] = -1\n",
    "        A1[i+1, i] = -1\n",
    "    OUTPUT = A1\n",
    "    return OUTPUT\n",
    "\n",
    "def Multigrid_circle(inputsize, A_A, B, R_A, s, w, error):\n",
    "    A = np.matrix(A_A)\n",
    "    P = 4.*np.transpose(R_A)\n",
    "    R = np.matrix(R_A)\n",
    "    M = np.matrix(w**(-1)*np.diag(np.diag(A)))\n",
    "    K = M - A\n",
    "    C = np.linalg.inv(M)*K\n",
    "    b = np.linalg.inv(M)*B\n",
    "    U0 = np.matrix(np.zeros([inputsize, 1]))\n",
    "    RESIDUAL = []\n",
    "    Residual=1\n",
    "    i=0\n",
    "    while Residual > error:\n",
    "        for j in range(s):\n",
    "            U0 = C*U0+b\n",
    "        r = B - A*U0\n",
    "        Residual = np.linalg.norm(r,2)\n",
    "        rc = R*r\n",
    "        Ac = R*A*P\n",
    "        Uc = np.linalg.solve(Ac, rc)\n",
    "        U = U0 + P*Uc\n",
    "        for k in range(s):\n",
    "            U = C*U+b\n",
    "        U0 = U\n",
    "        RESIDUAL.append(Residual)\n",
    "        i=i+1\n",
    "        print(\"Residual = {}\".format(Residual))\n",
    "        print(\"Interation = {}\".format(i))\n",
    "        print(\"===================\")\n",
    "    return U0, RESIDUAL\n",
    "\n",
    "def rho(inputsize,A,P,R,w,s):\n",
    "    M = (w**(-1)) * np.diag(np.diag(A))\n",
    "    K = M - A\n",
    "    MK = np.matmul(np.linalg.inv(M),K)\n",
    "    I = np.eye(inputsize)\n",
    "    IPRAPRA = I - np.matmul(np.matmul(np.matmul(P,np.linalg.inv(np.matmul(np.matmul(R,A),P))),R),A)\n",
    "    C = np.matmul(np.matmul(MK,IPRAPRA),MK)\n",
    "    for i in range(5):\n",
    "        C = np.matmul(C,C)\n",
    "    radius = np.linalg.norm(C)**(1/32)\n",
    "    return radius\n",
    "\n",
    "def optimizer_GD(inputsize, A1, R, w, s, learning_rate, lam):\n",
    "    rhoold = rho(inputsize,A1,2.*np.transpose(R),R,w,s)\n",
    "    device = torch.device('cpu')\n",
    "    R = torch.tensor(R,dtype = torch.double, requires_grad=True,device=device)\n",
    "    w = torch.tensor(w,dtype = torch.double, requires_grad=True, device=device)\n",
    "    lam = torch.tensor(lam,dtype = torch.double, requires_grad=True, device=device)\n",
    "    A = torch.tensor(A1,dtype = torch.double, device=device)\n",
    "    P = 4.*torch.t(R)\n",
    "    M = (w**(-1)) * torch.diag(torch.diag(A))\n",
    "    K = M - A\n",
    "    MK = torch.mm(torch.inverse(M),K)\n",
    "    I = torch.eye(inputsize,dtype = torch.double, device=device)\n",
    "    I1 = torch.ones([inputsize,1],dtype = torch.double, device=device)\n",
    "    I2 = torch.ones([outputsize,1],dtype = torch.double, device=device)\n",
    "    IPRAPRA = I - torch.mm(torch.mm(torch.mm(P,torch.inverse(torch.mm(torch.mm(R,A),P))),R),A)\n",
    "    C = torch.mm(torch.mm(MK,IPRAPRA),MK)\n",
    "    for i in range(5):\n",
    "        C = torch.mm(C,C)\n",
    "    loss = torch.norm(C)**(1/32) + torch.mm(lam,torch.mm(R,I1) - I2)\n",
    "    loss.backward()\n",
    "    with torch.no_grad():\n",
    "        R-=learning_rate*R.grad\n",
    "        w-=learning_rate*w.grad \n",
    "        lam-=learning_rate*lam.grad\n",
    "    R = R.detach().numpy()\n",
    "    w = w.detach().numpy()\n",
    "    lam = lam.detach().numpy()\n",
    "    rhonew = rho(inputsize,A1,2.*np.transpose(R),R,w,s)\n",
    "    return R, w, lam, rhoold, rhonew\n",
    "\n",
    "def direct_optimizer_GD(inputsize, A0, A1, R, w, s, learning_rate, lam):\n",
    "    Rhoold = rho(inputsize,A1,4.*np.transpose(R),R,w,s)\n",
    "    Rhonew = [Rhoold]\n",
    "    for i in range(100):\n",
    "        Rnew, wnew, lamnew, rhoold, rhonew = optimizer_GD(inputsize, A1, R, w, s, learning_rate, lam)\n",
    "        R = Rnew\n",
    "        w = wnew\n",
    "        lam = lamnew\n",
    "        print(\"rho = {}\".format(rhonew))\n",
    "        print(\"===================\")\n",
    "        Rhonew.append(rhonew)\n",
    "        i+=1\n",
    "    print(\"======End======\")\n",
    "    return R, w, Rhoold, Rhonew\n",
    "\n",
    "def homotopy_optimizer_GD(inputsize, A0, A1, R, w, s, learning_rate ,accept_radius ,step_length,lam):\n",
    "    Rhoold = rho(inputsize,A1,4.*np.transpose(R),R,w,s)\n",
    "    Radius = [Rhoold]\n",
    "    L = step_length\n",
    "    print(\"======Section 1======\")\n",
    "    while L < 1:\n",
    "        M = (1-L)*A0 + L*A1\n",
    "        Rnew, wnew, lamnew, rhoold, rhonew = optimizer_GD(inputsize, M, R, w, s, learning_rate, lam)\n",
    "        Radius.append(rhonew)\n",
    "        if rhonew > accept_radius:\n",
    "            step_length = 0.1*step_length\n",
    "            learning_rate = 0.1*learning_rate\n",
    "            print('Decrease the step_length, learning_rate and Restart!!')\n",
    "            print(\"step_length = {}\".format(step_length))      \n",
    "            print(\"learning_rate = {}\".format(learning_rate))\n",
    "            print(\"rhonew = {}\".format(rhonew))\n",
    "            print(\"===================\")\n",
    "            R = Restriction(inputsize)\n",
    "            lam = np.zeros([1,outputsize])\n",
    "            w = 2/3\n",
    "            L = step_length\n",
    "        else:\n",
    "            R = Rnew\n",
    "            w = wnew\n",
    "            L += step_length\n",
    "            lam = lamnew\n",
    "            print(\"L = {}\".format(L))\n",
    "            print(\"rho = {}\".format(rhonew))\n",
    "            print(\"===================\")\n",
    "    print(\"======Section 2======\")\n",
    "    i = 0\n",
    "    while rhoold>rhonew and i <20000:\n",
    "        Rnew, wnew, lamnew, rhoold, rhonew = optimizer_GD(inputsize, A1, R, w, s, learning_rate, lam)\n",
    "        Radius.append(rhonew)\n",
    "        R = Rnew\n",
    "        w = wnew\n",
    "        lam = lamnew\n",
    "        print(\"the {} steps\".format(i))\n",
    "        print(\"rho = {}\".format(rhonew))\n",
    "        print(\"===================\")\n",
    "        i+=1            \n",
    "    Rhonew = rhonew\n",
    "    print(\"======End======\")\n",
    "    return R, w, Rhoold, Rhonew, Radius"
   ]
  },
  {
   "cell_type": "markdown",
   "metadata": {},
   "source": [
    "Define parameter"
   ]
  },
  {
   "cell_type": "code",
   "execution_count": 4,
   "metadata": {},
   "outputs": [],
   "source": [
    "s = 1\n",
    "w = 2/3\n",
    "def u_real(x): return np.sin(4.*np.pi*x)\n",
    "def rightf(x): return  -4*np.pi**2*np.cos(4*np.pi*x)*np.cos(np.pi*x/e)/e+16*(np.pi**2)*(2+np.sin(np.pi*x/e))*np.sin(4*np.pi*x)\n",
    "def a(x): return 2+np.sin(np.pi*x/e)\n",
    "outputsize = int(inputsize/4)\n",
    "\n",
    "h = 1/(inputsize-1)\n",
    "X = np.linspace(0, 1, inputsize)\n",
    "H = 1/(outputsize-1)\n",
    "Media = a(np.linspace(-h,1+h,inputsize+1))\n",
    "A0 = Poisson(inputsize)\n",
    "A1 = gallery.divkrad((inputsize,),Media)\n",
    "RightF = rightf(X)*h**2\n",
    "RightF = RightF.reshape(inputsize, 1)\n",
    "UREAL = u_real(X).reshape(inputsize, 1)\n",
    "R =  np.matmul(Restriction(int(inputsize/2)),Restriction(inputsize))\n",
    "P = 4.*np.transpose(R)\n"
   ]
  },
  {
   "cell_type": "code",
   "execution_count": 5,
   "metadata": {},
   "outputs": [
    {
     "name": "stdout",
     "output_type": "stream",
     "text": [
      "Residual = 0.009349206775744766\n",
      "Interation = 1\n",
      "===================\n",
      "Residual = 0.00027945287767476595\n",
      "Interation = 2\n",
      "===================\n",
      "Residual = 4.1783339029185445e-05\n",
      "Interation = 3\n",
      "===================\n",
      "Residual = 1.6559071531799993e-05\n",
      "Interation = 4\n",
      "===================\n",
      "Residual = 9.810844834112093e-06\n",
      "Interation = 5\n",
      "===================\n",
      "Residual = 6.043794740389329e-06\n",
      "Interation = 6\n",
      "===================\n",
      "Residual = 3.762502467107673e-06\n",
      "Interation = 7\n",
      "===================\n",
      "Residual = 2.357731153003644e-06\n",
      "Interation = 8\n",
      "===================\n",
      "Residual = 1.4844705190150037e-06\n",
      "Interation = 9\n",
      "===================\n",
      "Residual = 9.380203539639036e-07\n",
      "Interation = 10\n",
      "===================\n",
      "Residual = 5.944008924715469e-07\n",
      "Interation = 11\n",
      "===================\n",
      "Residual = 3.775146178601876e-07\n",
      "Interation = 12\n",
      "===================\n",
      "Residual = 2.4021439386336904e-07\n",
      "Interation = 13\n",
      "===================\n",
      "Residual = 1.530882208563447e-07\n",
      "Interation = 14\n",
      "===================\n",
      "Residual = 9.769189702895666e-08\n",
      "Interation = 15\n",
      "===================\n",
      "Residual = 6.241191137898426e-08\n",
      "Interation = 16\n",
      "===================\n",
      "Residual = 3.991193215791207e-08\n",
      "Interation = 17\n",
      "===================\n",
      "Residual = 2.5545276276933415e-08\n",
      "Interation = 18\n",
      "===================\n",
      "Residual = 1.6362384721823417e-08\n",
      "Interation = 19\n",
      "===================\n",
      "Residual = 1.0487538926908205e-08\n",
      "Interation = 20\n",
      "===================\n",
      "Residual = 6.726051260985706e-09\n",
      "Interation = 21\n",
      "===================\n",
      "Residual = 4.315982690256742e-09\n",
      "Interation = 22\n",
      "===================\n",
      "Residual = 2.7708255454952355e-09\n",
      "Interation = 23\n",
      "===================\n",
      "Residual = 1.7796261847399006e-09\n",
      "Interation = 24\n",
      "===================\n",
      "Residual = 1.1434605181826188e-09\n",
      "Interation = 25\n",
      "===================\n",
      "Residual = 7.349730659751778e-10\n",
      "Interation = 26\n",
      "===================\n",
      "Residual = 4.725699348973769e-10\n",
      "Interation = 27\n",
      "===================\n",
      "Residual = 3.039435694383727e-10\n",
      "Interation = 28\n",
      "===================\n",
      "Residual = 1.9554317277278237e-10\n",
      "Interation = 29\n",
      "===================\n",
      "Residual = 1.25835928842692e-10\n",
      "Interation = 30\n",
      "===================\n",
      "Residual = 8.099745120975642e-11\n",
      "Interation = 31\n",
      "===================\n",
      "Residual = 5.214787680626118e-11\n",
      "Interation = 32\n",
      "===================\n",
      "Residual = 3.3580581891259646e-11\n",
      "Interation = 33\n",
      "===================\n",
      "Residual = 2.162853346417491e-11\n",
      "Interation = 34\n",
      "===================\n",
      "Residual = 1.39330693904294e-11\n",
      "Interation = 35\n",
      "===================\n",
      "Residual = 8.977201920233177e-12\n",
      "Interation = 36\n",
      "===================\n",
      "Residual = 5.78489612556588e-12\n",
      "Interation = 37\n",
      "===================\n",
      "Residual = 3.728413452692834e-12\n",
      "Interation = 38\n",
      "===================\n",
      "Residual = 2.4031899606080145e-12\n",
      "Interation = 39\n",
      "===================\n",
      "Residual = 1.5495351760138269e-12\n",
      "Interation = 40\n",
      "===================\n",
      "Residual = 9.993277414748927e-13\n",
      "Interation = 41\n",
      "===================\n"
     ]
    }
   ],
   "source": [
    "GMM_U, GMM_Res = Multigrid_circle(inputsize, A1.to_full(), RightF, R, s, 2/3, 1e-12)"
   ]
  },
  {
   "cell_type": "code",
   "execution_count": 6,
   "metadata": {},
   "outputs": [
    {
     "data": {
      "text/plain": [
       "[<matplotlib.lines.Line2D at 0x107a48f28>]"
      ]
     },
     "execution_count": 6,
     "metadata": {},
     "output_type": "execute_result"
    },
    {
     "data": {
      "image/png": "[encoded data removed]",
      "text/plain": [
       "<Figure size 432x288 with 1 Axes>"
      ]
     },
     "metadata": {
      "needs_background": "light"
     },
     "output_type": "display_data"
    }
   ],
   "source": [
    "plt.plot(GMM_U)"
   ]
  },
  {
   "cell_type": "code",
   "execution_count": 7,
   "metadata": {},
   "outputs": [
    {
     "name": "stdout",
     "output_type": "stream",
     "text": [
      "GMM_Radius = 0.6920824911177965\n"
     ]
    }
   ],
   "source": [
    "GMM_Radius = rho(inputsize,A1.to_full(),4*np.transpose(R),R,w,s)\n",
    "print('GMM_Radius = {}'.format(GMM_Radius))"
   ]
  },
  {
   "cell_type": "markdown",
   "metadata": {},
   "source": [
    "Local DMM on fine grid"
   ]
  },
  {
   "cell_type": "code",
   "execution_count": 8,
   "metadata": {},
   "outputs": [
    {
     "name": "stdout",
     "output_type": "stream",
     "text": [
      "======Section 1======\n",
      "L = 0.2\n",
      "rho = 0.7372430239147965\n",
      "===================\n",
      "L = 0.30000000000000004\n",
      "rho = 0.9601238618591685\n",
      "===================\n",
      "L = 0.4\n",
      "rho = 0.7986926676899626\n",
      "===================\n",
      "L = 0.5\n",
      "rho = 0.8365572267564038\n",
      "===================\n",
      "L = 0.6\n",
      "rho = 0.8387491548611773\n",
      "===================\n",
      "L = 0.7\n",
      "rho = 0.8562142798498055\n",
      "===================\n",
      "L = 0.7999999999999999\n",
      "rho = 0.8560678741851913\n",
      "===================\n",
      "L = 0.8999999999999999\n",
      "rho = 0.8713533448337998\n",
      "===================\n",
      "L = 0.9999999999999999\n",
      "rho = 0.8689775484520172\n",
      "===================\n",
      "L = 1.0999999999999999\n",
      "rho = 0.8863408499936112\n",
      "===================\n",
      "======Section 2======\n",
      "======End======\n"
     ]
    }
   ],
   "source": [
    "Rnew, wnew, Rhoold, Rhonew, Radius = homotopy_optimizer_GD(inputsize, A0, A1.to_full(), R,  2/3, s, learning_rate = 1e-6,accept_radius = 1 ,step_length = 1e-1, lam = np.zeros([1,outputsize]))"
   ]
  },
  {
   "cell_type": "code",
   "execution_count": 9,
   "metadata": {},
   "outputs": [],
   "source": [
    "GLOBALR = Rnew"
   ]
  },
  {
   "cell_type": "code",
   "execution_count": 10,
   "metadata": {},
   "outputs": [
    {
     "data": {
      "text/plain": [
       "<matplotlib.colorbar.Colorbar at 0x1086c4208>"
      ]
     },
     "execution_count": 10,
     "metadata": {},
     "output_type": "execute_result"
    },
    {
     "data": {
      "image/png": "[encoded data removed]",
      "text/plain": [
       "<Figure size 432x288 with 2 Axes>"
      ]
     },
     "metadata": {
      "needs_background": "light"
     },
     "output_type": "display_data"
    }
   ],
   "source": [
    "plt.imshow(GLOBALR)\n",
    "plt.colorbar()"
   ]
  },
  {
   "cell_type": "code",
   "execution_count": 11,
   "metadata": {},
   "outputs": [
    {
     "data": {
      "text/plain": [
       "<matplotlib.colorbar.Colorbar at 0x124e569e8>"
      ]
     },
     "execution_count": 11,
     "metadata": {},
     "output_type": "execute_result"
    },
    {
     "data": {
      "image/png": "[encoded data removed]",
      "text/plain": [
       "<Figure size 432x288 with 2 Axes>"
      ]
     },
     "metadata": {
      "needs_background": "light"
     },
     "output_type": "display_data"
    }
   ],
   "source": [
    "plt.imshow(np.log(np.abs(GLOBALR)))\n",
    "plt.colorbar()"
   ]
  },
  {
   "cell_type": "code",
   "execution_count": 12,
   "metadata": {},
   "outputs": [
    {
     "data": {
      "text/plain": [
       "[<matplotlib.lines.Line2D at 0x12c0df048>]"
      ]
     },
     "execution_count": 12,
     "metadata": {},
     "output_type": "execute_result"
    },
    {
     "data": {
      "image/png": "[encoded data removed]",
      "text/plain": [
       "<Figure size 432x288 with 1 Axes>"
      ]
     },
     "metadata": {
      "needs_background": "light"
     },
     "output_type": "display_data"
    }
   ],
   "source": [
    "plt.plot(np.log(np.abs(GLOBALR[int(outputsize/2)][:])))"
   ]
  },
  {
   "cell_type": "code",
   "execution_count": 13,
   "metadata": {},
   "outputs": [
    {
     "name": "stdout",
     "output_type": "stream",
     "text": [
      "Energy norm: \n",
      "0.13626150708952434\n",
      "L2 norm: \n",
      "0.004467649110969942\n",
      "H1 norm: \n",
      "0.09715616933839116\n",
      "Energy norm: \n",
      "0.010843353753526094\n",
      "L2 norm: \n",
      "0.006318209964657793\n",
      "H1 norm: \n",
      "0.010899461763596756\n",
      "0.8863408499936112\n"
     ]
    },
    {
     "data": {
      "text/plain": [
       "[<matplotlib.lines.Line2D at 0x12c0ae0f0>]"
      ]
     },
     "execution_count": 13,
     "metadata": {},
     "output_type": "execute_result"
    },
    {
     "data": {
      "image/png": "[encoded data removed]",
      "text/plain": [
       "<Figure size 432x288 with 1 Axes>"
      ]
     },
     "metadata": {
      "needs_background": "light"
     },
     "output_type": "display_data"
    }
   ],
   "source": [
    "Xfine = np.linspace(0,1,inputsize)\n",
    "Xcoarse = np.linspace(0,1,outputsize)\n",
    "Mediafine = a(Xfine)\n",
    "Mediacoarse = a(Xcoarse)\n",
    "Urealfine = u_real(Xfine).reshape([inputsize,1])\n",
    "Urealcoarse = u_real(Xcoarse).reshape([outputsize,1])\n",
    "GLOBALA = np.zeros([outputsize,outputsize])\n",
    "\n",
    "for i in range(outputsize):\n",
    "    for j in range(outputsize):\n",
    "        basisi = GLOBALR[i][:]\n",
    "        basisj = GLOBALR[j][:]\n",
    "        gxbasisi = np.gradient(basisi,h)\n",
    "        gxbasisj = np.gradient(basisj,h)\n",
    "        GLOBALA[i][j] = (np.sum(Mediafine*gxbasisi*gxbasisj))*(H)\n",
    "        \n",
    "GLOBALF = np.zeros([outputsize,1])\n",
    "F = rightf(Xfine)\n",
    "for j in range(outputsize):\n",
    "        basisj = GLOBALR[j][:]\n",
    "        GLOBALF[j][0] = (np.sum(F*basisj))*(H)\n",
    "        \n",
    "GLOBALU = np.linalg.solve(GLOBALA,GLOBALF)\n",
    "GlobalU = np.zeros([inputsize,1])\n",
    "for i in range(outputsize):\n",
    "    GlobalU = GlobalU + GLOBALU[i]*GLOBALR[i][:].reshape([inputsize,1])\n",
    "    \n",
    "deltaU = GlobalU - Urealfine    \n",
    "Mediafine = a(np.linspace(0,1,inputsize-1)).reshape([inputsize-1,1])\n",
    "energynorm = np.sqrt(np.sum(np.multiply(np.multiply(np.diff(Urealfine,axis=0)/h,np.diff(Urealfine,axis=0)/h),Mediafine)*(h)))\n",
    "l2norm = np.sqrt((np.sum((Urealfine)**2)*(h)))\n",
    "h1norm = np.sqrt((np.sum((Urealfine)**2)*(h))+(np.sum((np.diff(Urealfine,axis=0)/h)**2)*(h)))\n",
    "\n",
    "print('Energy norm: ')\n",
    "print(np.sqrt(np.sum(np.multiply(np.multiply(np.diff(deltaU,axis=0)/h,np.diff(deltaU,axis=0)/h),Mediafine)*(h))))\n",
    "print('L2 norm: ')\n",
    "print(np.sqrt((np.sum((deltaU)**2)*(h))))\n",
    "print('H1 norm: ')\n",
    "print(np.sqrt((np.sum((deltaU)**2)*(h))+(np.sum((np.diff(deltaU,axis=0)/h)**2)*(h))))\n",
    "\n",
    "\n",
    "print('Energy norm: ')\n",
    "print(np.sqrt(np.sum(np.multiply(np.multiply(np.diff(deltaU,axis=0)/h,np.diff(deltaU,axis=0)/h),Mediafine)*(h)))/energynorm)\n",
    "print('L2 norm: ')\n",
    "print(np.sqrt((np.sum((deltaU)**2)*(h)))/l2norm)\n",
    "print('H1 norm: ')\n",
    "print(np.sqrt((np.sum((deltaU)**2)*(h))+(np.sum((np.diff(deltaU,axis=0)/h)**2)*(h)))/h1norm)\n",
    "print(Rhonew)\n",
    "\n",
    "plt.plot(GlobalU)\n",
    "plt.plot(Urealfine)"
   ]
  },
  {
   "cell_type": "code",
   "execution_count": null,
   "metadata": {},
   "outputs": [],
   "source": []
  }
 ],
 "metadata": {
  "kernelspec": {
   "display_name": "Python 3",
   "language": "python",
   "name": "python3"
  },
  "language_info": {
   "codemirror_mode": {
    "name": "ipython",
    "version": 3
   },
   "file_extension": ".py",
   "mimetype": "text/x-python",
   "name": "python",
   "nbconvert_exporter": "python",
   "pygments_lexer": "ipython3",
   "version": "3.6.6"
  }
 },
 "nbformat": 4,
 "nbformat_minor": 2
}
