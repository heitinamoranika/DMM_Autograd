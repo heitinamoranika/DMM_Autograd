{
 "cells": [
  {
   "cell_type": "markdown",
   "metadata": {},
   "source": [
    "Import important parameter"
   ]
  },
  {
   "cell_type": "code",
   "execution_count": 1,
   "metadata": {},
   "outputs": [],
   "source": [
    "inputsize = 769\n",
    "e = 0.0125"
   ]
  },
  {
   "cell_type": "markdown",
   "metadata": {},
   "source": [
    "Import Package"
   ]
  },
  {
   "cell_type": "code",
   "execution_count": 2,
   "metadata": {},
   "outputs": [],
   "source": [
    "import torch\n",
    "import numpy as np\n",
    "import matplotlib.pyplot as plt\n",
    "import autograd.numpy as np\n",
    "from autograd import grad\n",
    "import pyamg\n",
    "import dmg.gallery as gallery\n",
    "import dmg.dgmg as dgmg\n",
    "import dmg.gmg_linear as gmg_linear\n",
    "import dmg.classical_amg as classical_amg\n",
    "from mpl_toolkits.mplot3d import Axes3D\n",
    "import xlsxwriter\n",
    "from scipy.ndimage import convolve"
   ]
  },
  {
   "cell_type": "markdown",
   "metadata": {},
   "source": [
    "Define function"
   ]
  },
  {
   "cell_type": "code",
   "execution_count": 3,
   "metadata": {},
   "outputs": [],
   "source": [
    "def Restriction(inputsize):\n",
    "    inputsize = int(inputsize)\n",
    "    outputsize = int(inputsize/2)\n",
    "    OUTPUT = np.zeros([outputsize, inputsize])\n",
    "    for i in range(outputsize):\n",
    "            OUTPUT[i][2*i] = 1/4\n",
    "            OUTPUT[i][1+2*i] = 1/2\n",
    "            OUTPUT[i][2+2*i] = 1/4\n",
    "    return OUTPUT\n",
    "\n",
    "def Poisson(inputsize):\n",
    "    inputsize = int(inputsize)\n",
    "    outputsize = int(inputsize/2)\n",
    "    A1 = 2*np.eye(inputsize)\n",
    "    for i in range(inputsize-1):\n",
    "        A1[i, i+1] = -1\n",
    "        A1[i+1, i] = -1\n",
    "    OUTPUT = A1\n",
    "    return OUTPUT\n",
    "\n",
    "def Multigrid_circle(inputsize, A_A, B, R_A, s, w, error):\n",
    "    A = np.matrix(A_A)\n",
    "    P = 2.*np.transpose(R_A)\n",
    "    R = np.matrix(R_A)\n",
    "    M = np.matrix(w**(-1)*np.diag(np.diag(A)))\n",
    "    K = M - A\n",
    "    C = np.linalg.inv(M)*K\n",
    "    b = np.linalg.inv(M)*B\n",
    "    U0 = np.matrix(np.zeros([inputsize, 1]))\n",
    "    RESIDUAL = []\n",
    "    Residual=1\n",
    "    i=0\n",
    "    while Residual > error:\n",
    "        for j in range(s):\n",
    "            U0 = C*U0+b\n",
    "        r = B - A*U0\n",
    "        Residual = np.linalg.norm(r,2)\n",
    "        rc = R*r\n",
    "        Ac = R*A*P\n",
    "        Uc = np.linalg.solve(Ac, rc)\n",
    "        U = U0 + P*Uc\n",
    "        for k in range(s):\n",
    "            U = C*U+b\n",
    "        U0 = U\n",
    "        RESIDUAL.append(Residual)\n",
    "        i=i+1\n",
    "        print(\"Residual = {}\".format(Residual))\n",
    "        print(\"Interation = {}\".format(i))\n",
    "        print(\"===================\")\n",
    "    return U0, RESIDUAL\n",
    "\n",
    "def rho(inputsize,A,P,R,w,s):\n",
    "    M = (w**(-1)) * np.diag(np.diag(A))\n",
    "    K = M - A\n",
    "    MK = np.matmul(np.linalg.inv(M),K)\n",
    "    I = np.eye(inputsize)\n",
    "    IPRAPRA = I - np.matmul(np.matmul(np.matmul(P,np.linalg.inv(np.matmul(np.matmul(R,A),P))),R),A)\n",
    "    C = np.matmul(np.matmul(MK,IPRAPRA),MK)\n",
    "    for i in range(5):\n",
    "        C = np.matmul(C,C)\n",
    "    radius = np.linalg.norm(C)**(1/32)\n",
    "    return radius\n",
    "\n",
    "def optimizer_GD(inputsize, A1, R, w, s, learning_rate, lam):\n",
    "    rhoold = rho(inputsize,A1,2.*np.transpose(R),R,w,s)\n",
    "    device = torch.device('cpu')\n",
    "    R = torch.tensor(R,dtype = torch.double, requires_grad=True,device=device)\n",
    "    w = torch.tensor(w,dtype = torch.double, requires_grad=True, device=device)\n",
    "    lam = torch.tensor(lam,dtype = torch.double, requires_grad=True, device=device)\n",
    "    A = torch.tensor(A1,dtype = torch.double, device=device)\n",
    "    P = 2.*torch.t(R)\n",
    "    M = (w**(-1)) * torch.diag(torch.diag(A))\n",
    "    K = M - A\n",
    "    MK = torch.mm(torch.inverse(M),K)\n",
    "    I = torch.eye(inputsize,dtype = torch.double, device=device)\n",
    "    I1 = torch.ones([inputsize,1],dtype = torch.double, device=device)\n",
    "    I2 = torch.ones([outputsize,1],dtype = torch.double, device=device)\n",
    "    IPRAPRA = I - torch.mm(torch.mm(torch.mm(P,torch.inverse(torch.mm(torch.mm(R,A),P))),R),A)\n",
    "    C = torch.mm(torch.mm(MK,IPRAPRA),MK)\n",
    "    for i in range(5):\n",
    "        C = torch.mm(C,C)\n",
    "    loss = torch.norm(C)**(1/32) + torch.mm(lam,torch.mm(R,I1) - I2)\n",
    "    loss.backward()\n",
    "    with torch.no_grad():\n",
    "        R-=learning_rate*R.grad\n",
    "        w-=learning_rate*w.grad \n",
    "        lam-=learning_rate*lam.grad\n",
    "    R = R.detach().numpy()\n",
    "    w = w.detach().numpy()\n",
    "    lam = lam.detach().numpy()\n",
    "    rhonew = rho(inputsize,A1,2.*np.transpose(R),R,w,s)\n",
    "    return R, w, lam, rhoold, rhonew\n",
    "\n",
    "def direct_optimizer_GD(inputsize, A0, A1, R, w, s, learning_rate, lam):\n",
    "    Rhoold = rho(inputsize,A1,2.*np.transpose(R),R,w,s)\n",
    "    Rhonew = [Rhoold]\n",
    "    for i in range(100):\n",
    "        Rnew, wnew, lamnew, rhoold, rhonew = optimizer_GD(inputsize, A1, R, w, s, learning_rate, lam)\n",
    "        R = Rnew\n",
    "        w = wnew\n",
    "        lam = lamnew\n",
    "        print(\"rho = {}\".format(rhonew))\n",
    "        print(\"===================\")\n",
    "        Rhonew.append(rhonew)\n",
    "        i+=1\n",
    "    print(\"======End======\")\n",
    "    return R, w, Rhoold, Rhonew\n",
    "\n",
    "def homotopy_optimizer_GD(inputsize, A0, A1, R, w, s, learning_rate ,accept_radius ,step_length,lam):\n",
    "    Rhoold = rho(inputsize,A1,2.*np.transpose(R),R,w,s)\n",
    "    Radius = [Rhoold]\n",
    "    L = step_length\n",
    "    print(\"======Section 1======\")\n",
    "    while L < 1:\n",
    "        M = (1-L)*A0 + L*A1\n",
    "        Rnew, wnew, lamnew, rhoold, rhonew = optimizer_GD(inputsize, M, R, w, s, learning_rate, lam)\n",
    "        Radius.append(rhonew)\n",
    "        if rhonew > accept_radius:\n",
    "            step_length = 0.1*step_length\n",
    "            learning_rate = 0.1*learning_rate\n",
    "            print('Decrease the step_length, learning_rate and Restart!!')\n",
    "            print(\"step_length = {}\".format(step_length))      \n",
    "            print(\"learning_rate = {}\".format(learning_rate))\n",
    "            print(\"rhonew = {}\".format(rhonew))\n",
    "            print(\"===================\")\n",
    "            R = Restriction(inputsize)\n",
    "            lam = np.zeros([1,outputsize])\n",
    "            w = 2/3\n",
    "            L = step_length\n",
    "        else:\n",
    "            R = Rnew\n",
    "            w = wnew\n",
    "            L += step_length\n",
    "            lam = lamnew\n",
    "            print(\"L = {}\".format(L))\n",
    "            print(\"rho = {}\".format(rhonew))\n",
    "            print(\"===================\")\n",
    "    print(\"======Section 2======\")\n",
    "    i = 0\n",
    "    while rhoold>rhonew and i <20000:\n",
    "        Rnew, wnew, lamnew, rhoold, rhonew = optimizer_GD(inputsize, A1, R, w, s, learning_rate, lam)\n",
    "        Radius.append(rhonew)\n",
    "        R = Rnew\n",
    "        w = wnew\n",
    "        lam = lamnew\n",
    "        print(\"the {} steps\".format(i))\n",
    "        print(\"rho = {}\".format(rhonew))\n",
    "        print(\"===================\")\n",
    "        i+=1            \n",
    "    Rhonew = rhonew\n",
    "    print(\"======End======\")\n",
    "    return R, w, Rhoold, Rhonew, Radius"
   ]
  },
  {
   "cell_type": "markdown",
   "metadata": {},
   "source": [
    "Define parameter"
   ]
  },
  {
   "cell_type": "code",
   "execution_count": 4,
   "metadata": {},
   "outputs": [],
   "source": [
    "s = 1\n",
    "w = 2/3\n",
    "MAX_ITER = 50\n",
    "def u_real(x): return np.sin(4.*np.pi*x)\n",
    "def rightf(x): return  -4*np.pi**2*np.cos(4*np.pi*x)*np.cos(np.pi*x/e)/e+16*(np.pi**2)*(2+np.sin(np.pi*x/e))*np.sin(4*np.pi*x)\n",
    "def a(x): return 2+np.sin(np.pi*x/e)\n",
    "outputsize = int(inputsize/2)\n",
    "h = 1/(inputsize-1)\n",
    "X = np.linspace(0, 1, inputsize)\n",
    "H = 1/(outputsize-1)\n",
    "Media = a(np.linspace(-h,1+h,inputsize+1))\n",
    "A0 = Poisson(inputsize)\n",
    "A1 = gallery.divkrad((inputsize,),Media)\n",
    "RightF = rightf(X)*h**2\n",
    "RightF = RightF.reshape(inputsize, 1)\n",
    "UREAL = u_real(X).reshape(inputsize, 1)\n",
    "R = Restriction(inputsize)\n",
    "P = 2.*np.transpose(R)"
   ]
  },
  {
   "cell_type": "markdown",
   "metadata": {},
   "source": [
    "Local DMM on fine grid"
   ]
  },
  {
   "cell_type": "code",
   "execution_count": 5,
   "metadata": {},
   "outputs": [
    {
     "name": "stderr",
     "output_type": "stream",
     "text": [
      "/Library/Frameworks/Python.framework/Versions/3.6/lib/python3.6/site-packages/autograd/numpy/numpy_vjps.py:444: FutureWarning: Using a non-tuple sequence for multidimensional indexing is deprecated; use `arr[tuple(seq)]` instead of `arr[seq]`. In the future this will be interpreted as an array index, `arr[np.array(seq)]`, which will result either in an error or a different result.\n",
      "  return lambda g: g[idxs]\n",
      "/Library/Frameworks/Python.framework/Versions/3.6/lib/python3.6/site-packages/autograd/numpy/numpy_vjps.py:444: FutureWarning: Using a non-tuple sequence for multidimensional indexing is deprecated; use `arr[tuple(seq)]` instead of `arr[seq]`. In the future this will be interpreted as an array index, `arr[np.array(seq)]`, which will result either in an error or a different result.\n",
      "  return lambda g: g[idxs]\n"
     ]
    },
    {
     "name": "stdout",
     "output_type": "stream",
     "text": [
      "Iteration 100/4000\n",
      "Upper bound estimation = 0.8031315013623703\n",
      "Iteration 200/4000\n",
      "Upper bound estimation = 0.788068653113781\n",
      "Iteration 300/4000\n",
      "Upper bound estimation = 0.7967837851138393\n",
      "Iteration 400/4000\n",
      "Upper bound estimation = 0.7977809617143082\n",
      "Iteration 500/4000\n",
      "Upper bound estimation = 0.7641702574582689\n",
      "Iteration 600/4000\n",
      "Upper bound estimation = 0.7646641123339392\n",
      "Iteration 700/4000\n",
      "Upper bound estimation = 0.7919846865776408\n",
      "Iteration 800/4000\n",
      "Upper bound estimation = 0.7460321350503522\n",
      "Iteration 900/4000\n",
      "Upper bound estimation = 0.7234010298068457\n",
      "Iteration 1000/4000\n",
      "Upper bound estimation = 0.775632588355963\n",
      "Iteration 1100/4000\n",
      "Upper bound estimation = 0.7284969484534561\n",
      "Iteration 1200/4000\n",
      "Upper bound estimation = 0.7290300941596046\n",
      "Iteration 1300/4000\n",
      "Upper bound estimation = 0.7139375841785391\n",
      "Iteration 1400/4000\n",
      "Upper bound estimation = 0.7226481024098211\n",
      "Iteration 1500/4000\n",
      "Upper bound estimation = 0.6752143715028475\n",
      "Iteration 1600/4000\n",
      "Upper bound estimation = 0.6650877792002474\n",
      "Iteration 1700/4000\n",
      "Upper bound estimation = 0.6500571931334039\n",
      "Iteration 1800/4000\n",
      "Upper bound estimation = 0.6647140637900452\n",
      "Iteration 1900/4000\n",
      "Upper bound estimation = 0.637299614961334\n",
      "Iteration 2000/4000\n",
      "Upper bound estimation = 0.6052866338196782\n",
      "Iteration 2100/4000\n",
      "Upper bound estimation = 0.569514261754476\n",
      "Iteration 2200/4000\n",
      "Upper bound estimation = 0.5561520160558432\n",
      "Iteration 2300/4000\n",
      "Upper bound estimation = 0.5196159356831833\n",
      "Iteration 2400/4000\n",
      "Upper bound estimation = 0.49121696838717877\n",
      "Iteration 2500/4000\n",
      "Upper bound estimation = 0.480252221646104\n",
      "Iteration 2600/4000\n",
      "Upper bound estimation = 0.47344384093557174\n",
      "Iteration 2700/4000\n",
      "Upper bound estimation = 0.4622454344332527\n",
      "Iteration 2800/4000\n",
      "Upper bound estimation = 0.44089173379238766\n",
      "Iteration 2900/4000\n",
      "Upper bound estimation = 0.43969957827730444\n",
      "Iteration 3000/4000\n",
      "Upper bound estimation = 0.42291529346847384\n",
      "Iteration 3100/4000\n",
      "Upper bound estimation = 0.4105899411953995\n",
      "Iteration 3200/4000\n",
      "Upper bound estimation = 0.42246454558042806\n",
      "Iteration 3300/4000\n",
      "Upper bound estimation = 0.40339745687808637\n",
      "Iteration 3400/4000\n",
      "Upper bound estimation = 0.40674856501768925\n",
      "Iteration 3500/4000\n",
      "Upper bound estimation = 0.40321672771176165\n",
      "Iteration 3600/4000\n",
      "Upper bound estimation = 0.39797312031756926\n",
      "Iteration 3700/4000\n",
      "Upper bound estimation = 0.3954071934669088\n",
      "Iteration 3800/4000\n",
      "Upper bound estimation = 0.3944074062309309\n",
      "Iteration 3900/4000\n",
      "Upper bound estimation = 0.40314187681797004\n",
      "Iteration 4000/4000\n",
      "Upper bound estimation = 0.38800033024158137\n"
     ]
    }
   ],
   "source": [
    "K = 10\n",
    "batch_size = 10\n",
    "num_iter = 4000\n",
    "step_size = 5e-5\n",
    "PR_stencil_type = \"m3p\"\n",
    "init_point = None\n",
    "convergence = {}\n",
    "deep_gmm = dgmg.DeepMG(A1, K=K, PR_stencil_type=PR_stencil_type, max_levels=2)\n",
    "opt_par = deep_gmm.optimize(num_iter=num_iter, step_size=step_size, batch_size=batch_size, init_point=init_point)"
   ]
  },
  {
   "cell_type": "code",
   "execution_count": 6,
   "metadata": {},
   "outputs": [
    {
     "name": "stdout",
     "output_type": "stream",
     "text": [
      "Optimized rho = 0.32812819530128423\n"
     ]
    }
   ],
   "source": [
    "deep_gmm.update_prd(opt_par)  \n",
    "current_rho = deep_gmm.compute_rho()\n",
    "print(\"Optimized rho = {}\".format(current_rho))"
   ]
  },
  {
   "cell_type": "code",
   "execution_count": 7,
   "metadata": {},
   "outputs": [
    {
     "data": {
      "text/plain": [
       "<matplotlib.colorbar.Colorbar at 0x1224b0588>"
      ]
     },
     "execution_count": 7,
     "metadata": {},
     "output_type": "execute_result"
    },
    {
     "data": {
      "image/png": "[encoded data removed]",
      "text/plain": [
       "<Figure size 432x288 with 2 Axes>"
      ]
     },
     "metadata": {
      "needs_background": "light"
     },
     "output_type": "display_data"
    }
   ],
   "source": [
    "localR = opt_par[1][0]\n",
    "LOCALR = np.zeros([outputsize-1,inputsize-2])\n",
    "for i in range(outputsize-1):\n",
    "    C = localR[i][:]\n",
    "    for l in range(3):\n",
    "        LOCALR[i][2*i+l] = C[l]\n",
    "        \n",
    "        \n",
    "plt.imshow(LOCALR)\n",
    "plt.colorbar()"
   ]
  },
  {
   "cell_type": "code",
   "execution_count": 8,
   "metadata": {},
   "outputs": [
    {
     "name": "stderr",
     "output_type": "stream",
     "text": [
      "/Library/Frameworks/Python.framework/Versions/3.6/lib/python3.6/site-packages/autograd/tracer.py:48: RuntimeWarning: divide by zero encountered in log\n",
      "  return f_raw(*args, **kwargs)\n"
     ]
    },
    {
     "data": {
      "text/plain": [
       "<matplotlib.colorbar.Colorbar at 0x126491390>"
      ]
     },
     "execution_count": 8,
     "metadata": {},
     "output_type": "execute_result"
    },
    {
     "data": {
      "image/png": "[encoded data removed]",
      "text/plain": [
       "<Figure size 432x288 with 2 Axes>"
      ]
     },
     "metadata": {
      "needs_background": "light"
     },
     "output_type": "display_data"
    }
   ],
   "source": [
    "plt.imshow(np.log(np.abs(LOCALR)))\n",
    "plt.colorbar()"
   ]
  },
  {
   "cell_type": "code",
   "execution_count": 9,
   "metadata": {},
   "outputs": [
    {
     "name": "stdout",
     "output_type": "stream",
     "text": [
      "======Section 1======\n",
      "L = 0.02\n",
      "rho = 0.12439256822058253\n",
      "===================\n",
      "L = 0.03\n",
      "rho = 0.12461345930739287\n",
      "===================\n",
      "L = 0.04\n",
      "rho = 0.12565901824622608\n",
      "===================\n",
      "L = 0.05\n",
      "rho = 0.1279149807249002\n",
      "===================\n",
      "L = 0.060000000000000005\n",
      "rho = 0.1283301844323029\n",
      "===================\n",
      "L = 0.07\n",
      "rho = 0.1285335251290447\n",
      "===================\n",
      "L = 0.08\n",
      "rho = 0.1288009122374854\n",
      "===================\n",
      "L = 0.09\n",
      "rho = 0.12902938656699836\n",
      "===================\n",
      "L = 0.09999999999999999\n",
      "rho = 0.1292681509727816\n",
      "===================\n",
      "L = 0.10999999999999999\n",
      "rho = 0.12948751045712595\n",
      "===================\n",
      "L = 0.11999999999999998\n",
      "rho = 0.1297123176207052\n",
      "===================\n",
      "L = 0.12999999999999998\n",
      "rho = 0.1299198661353412\n",
      "===================\n",
      "L = 0.13999999999999999\n",
      "rho = 0.1301344882969853\n",
      "===================\n",
      "L = 0.15\n",
      "rho = 0.13033111939894768\n",
      "===================\n",
      "L = 0.16\n",
      "rho = 0.13053731936567542\n",
      "===================\n",
      "L = 0.17\n",
      "rho = 0.13072429742019614\n",
      "===================\n",
      "L = 0.18000000000000002\n",
      "rho = 0.13092356233667907\n",
      "===================\n",
      "L = 0.19000000000000003\n",
      "rho = 0.13110297792079062\n",
      "===================\n",
      "L = 0.20000000000000004\n",
      "rho = 0.13130042898747288\n",
      "===================\n",
      "L = 0.21000000000000005\n",
      "rho = 0.13148860529955997\n",
      "===================\n",
      "L = 0.22000000000000006\n",
      "rho = 0.1317473078734805\n",
      "===================\n",
      "L = 0.23000000000000007\n",
      "rho = 0.13214850258661506\n",
      "===================\n",
      "L = 0.24000000000000007\n",
      "rho = 0.13277963557145173\n",
      "===================\n",
      "L = 0.25000000000000006\n",
      "rho = 0.13286431126196946\n",
      "===================\n",
      "L = 0.26000000000000006\n",
      "rho = 0.1331883504177824\n",
      "===================\n",
      "L = 0.2700000000000001\n",
      "rho = 0.1332666690524858\n",
      "===================\n",
      "L = 0.2800000000000001\n",
      "rho = 0.13388720278748992\n",
      "===================\n",
      "L = 0.2900000000000001\n",
      "rho = 0.1336411545962113\n",
      "===================\n",
      "L = 0.3000000000000001\n",
      "rho = 0.13478263496205833\n",
      "===================\n",
      "L = 0.3100000000000001\n",
      "rho = 0.13374466663973253\n",
      "===================\n",
      "L = 0.3200000000000001\n",
      "rho = 0.13615434752646532\n",
      "===================\n",
      "L = 0.3300000000000001\n",
      "rho = 0.133161445723692\n",
      "===================\n",
      "L = 0.34000000000000014\n",
      "rho = 0.13899182898637247\n",
      "===================\n",
      "L = 0.35000000000000014\n",
      "rho = 0.13043150474044019\n",
      "===================\n",
      "L = 0.36000000000000015\n",
      "rho = 0.15011176183115937\n",
      "===================\n",
      "L = 0.37000000000000016\n",
      "rho = 0.1339899303964756\n",
      "===================\n",
      "L = 0.38000000000000017\n",
      "rho = 0.14055254864933003\n",
      "===================\n",
      "L = 0.3900000000000002\n",
      "rho = 0.13137288393024557\n",
      "===================\n",
      "L = 0.4000000000000002\n",
      "rho = 0.15275021565912875\n",
      "===================\n",
      "L = 0.4100000000000002\n",
      "rho = 0.1355894847718878\n",
      "===================\n",
      "L = 0.4200000000000002\n",
      "rho = 0.14067978120494112\n",
      "===================\n",
      "L = 0.4300000000000002\n",
      "rho = 0.13380054938860303\n",
      "===================\n",
      "L = 0.4400000000000002\n",
      "rho = 0.14820575817649778\n",
      "===================\n",
      "L = 0.45000000000000023\n",
      "rho = 0.1335120762421449\n",
      "===================\n",
      "L = 0.46000000000000024\n",
      "rho = 0.15205522425001336\n",
      "===================\n",
      "L = 0.47000000000000025\n",
      "rho = 0.13585419223143416\n",
      "===================\n",
      "L = 0.48000000000000026\n",
      "rho = 0.1457046314548648\n",
      "===================\n",
      "L = 0.49000000000000027\n",
      "rho = 0.1297561666002263\n",
      "===================\n",
      "L = 0.5000000000000002\n",
      "rho = 0.1318163102730476\n",
      "===================\n",
      "L = 0.5100000000000002\n",
      "rho = 0.16920385840693436\n",
      "===================\n",
      "L = 0.5200000000000002\n",
      "rho = 0.14274733967303926\n",
      "===================\n",
      "L = 0.5300000000000002\n",
      "rho = 0.13592611419752743\n",
      "===================\n",
      "L = 0.5400000000000003\n",
      "rho = 0.1537959655510315\n",
      "===================\n",
      "L = 0.5500000000000003\n",
      "rho = 0.13839306412058663\n",
      "===================\n",
      "L = 0.5600000000000003\n",
      "rho = 0.14630667401791791\n",
      "===================\n",
      "L = 0.5700000000000003\n",
      "rho = 0.1342338423149878\n",
      "===================\n",
      "L = 0.5800000000000003\n",
      "rho = 0.17248970867784416\n",
      "===================\n",
      "L = 0.5900000000000003\n",
      "rho = 0.1442360775513564\n",
      "===================\n",
      "L = 0.6000000000000003\n",
      "rho = 0.1379704645771536\n",
      "===================\n",
      "L = 0.6100000000000003\n",
      "rho = 0.15355768740560166\n",
      "===================\n",
      "L = 0.6200000000000003\n",
      "rho = 0.13873503678625831\n",
      "===================\n",
      "L = 0.6300000000000003\n",
      "rho = 0.15221677543244924\n",
      "===================\n",
      "L = 0.6400000000000003\n",
      "rho = 0.13516792043395445\n",
      "===================\n",
      "L = 0.6500000000000004\n",
      "rho = 0.18119668009859968\n",
      "===================\n",
      "L = 0.6600000000000004\n",
      "rho = 0.14746810227200915\n",
      "===================\n",
      "L = 0.6700000000000004\n",
      "rho = 0.13614961270123463\n",
      "===================\n",
      "L = 0.6800000000000004\n",
      "rho = 0.18039073256036656\n",
      "===================\n",
      "L = 0.6900000000000004\n",
      "rho = 0.14846199958825695\n",
      "===================\n",
      "L = 0.7000000000000004\n",
      "rho = 0.13600117154892422\n",
      "===================\n",
      "L = 0.7100000000000004\n",
      "rho = 0.1906392197113191\n",
      "===================\n",
      "L = 0.7200000000000004\n",
      "rho = 0.15144365942695107\n",
      "===================\n",
      "L = 0.7300000000000004\n",
      "rho = 0.13594157278010505\n",
      "===================\n",
      "L = 0.7400000000000004\n",
      "rho = 0.20177345627252766\n",
      "===================\n",
      "L = 0.7500000000000004\n",
      "rho = 0.15196199746564237\n",
      "===================\n",
      "L = 0.7600000000000005\n",
      "rho = 0.13591070848136264\n",
      "===================\n",
      "L = 0.7700000000000005\n",
      "rho = 0.2058390327813396\n",
      "===================\n",
      "L = 0.7800000000000005\n",
      "rho = 0.15366460511477506\n",
      "===================\n",
      "L = 0.7900000000000005\n",
      "rho = 0.13863253072783494\n",
      "===================\n",
      "L = 0.8000000000000005\n",
      "rho = 0.18533500319450305\n",
      "===================\n",
      "L = 0.8100000000000005\n",
      "rho = 0.1490596008576881\n",
      "===================\n",
      "L = 0.8200000000000005\n",
      "rho = 0.14249189863546685\n",
      "===================\n",
      "L = 0.8300000000000005\n",
      "rho = 0.15865359282129443\n",
      "===================\n",
      "L = 0.8400000000000005\n",
      "rho = 0.14287663160690223\n",
      "===================\n",
      "L = 0.8500000000000005\n",
      "rho = 0.15833850333119925\n",
      "===================\n",
      "L = 0.8600000000000005\n",
      "rho = 0.14006174577452818\n",
      "===================\n",
      "L = 0.8700000000000006\n",
      "rho = 0.18177844206268073\n",
      "===================\n",
      "L = 0.8800000000000006\n",
      "rho = 0.15019169117990697\n",
      "===================\n",
      "L = 0.8900000000000006\n",
      "rho = 0.14416411075149693\n",
      "===================\n",
      "L = 0.9000000000000006\n",
      "rho = 0.15855742047426177\n",
      "===================\n",
      "L = 0.9100000000000006\n",
      "rho = 0.142933601953432\n",
      "===================\n",
      "L = 0.9200000000000006\n",
      "rho = 0.16627818046177112\n",
      "===================\n",
      "L = 0.9300000000000006\n",
      "rho = 0.1452911568525903\n",
      "===================\n",
      "L = 0.9400000000000006\n",
      "rho = 0.1567427194676533\n",
      "===================\n",
      "L = 0.9500000000000006\n",
      "rho = 0.13716726281011382\n",
      "===================\n",
      "L = 0.9600000000000006\n",
      "rho = 0.16626587555595052\n",
      "===================\n",
      "L = 0.9700000000000006\n",
      "rho = 0.14646307411850318\n",
      "===================\n",
      "L = 0.9800000000000006\n",
      "rho = 0.15594600531135985\n",
      "===================\n",
      "L = 0.9900000000000007\n",
      "rho = 0.14059711902564087\n",
      "===================\n",
      "L = 1.0000000000000007\n",
      "rho = 0.20691091521390614\n",
      "===================\n",
      "======Section 2======\n",
      "======End======\n"
     ]
    }
   ],
   "source": [
    "Rnew, wnew, Rhoold, Rhonew, Radius = homotopy_optimizer_GD(inputsize, A0, A1.to_full(), R,  2/3, s, learning_rate = 1e-6,accept_radius = 1 ,step_length = 1e-2, lam = np.zeros([1,outputsize]))"
   ]
  },
  {
   "cell_type": "code",
   "execution_count": 10,
   "metadata": {},
   "outputs": [],
   "source": [
    "GLOBALR = Rnew"
   ]
  },
  {
   "cell_type": "code",
   "execution_count": 11,
   "metadata": {},
   "outputs": [
    {
     "data": {
      "text/plain": [
       "<matplotlib.colorbar.Colorbar at 0x12602feb8>"
      ]
     },
     "execution_count": 11,
     "metadata": {},
     "output_type": "execute_result"
    },
    {
     "data": {
      "image/png": "[encoded data removed]",
      "text/plain": [
       "<Figure size 432x288 with 2 Axes>"
      ]
     },
     "metadata": {
      "needs_background": "light"
     },
     "output_type": "display_data"
    }
   ],
   "source": [
    "plt.imshow(GLOBALR)\n",
    "plt.colorbar()"
   ]
  },
  {
   "cell_type": "code",
   "execution_count": 12,
   "metadata": {},
   "outputs": [
    {
     "data": {
      "text/plain": [
       "<matplotlib.colorbar.Colorbar at 0x124c12fd0>"
      ]
     },
     "execution_count": 12,
     "metadata": {},
     "output_type": "execute_result"
    },
    {
     "data": {
      "image/png": "[encoded data removed]",
      "text/plain": [
       "<Figure size 432x288 with 2 Axes>"
      ]
     },
     "metadata": {
      "needs_background": "light"
     },
     "output_type": "display_data"
    }
   ],
   "source": [
    "plt.imshow(np.log(np.abs(GLOBALR)))\n",
    "plt.colorbar()"
   ]
  },
  {
   "cell_type": "code",
   "execution_count": 13,
   "metadata": {},
   "outputs": [
    {
     "data": {
      "text/plain": [
       "[<matplotlib.lines.Line2D at 0x126654d68>]"
      ]
     },
     "execution_count": 13,
     "metadata": {},
     "output_type": "execute_result"
    },
    {
     "data": {
      "image/png": "[encoded data removed]",
      "text/plain": [
       "<Figure size 432x288 with 1 Axes>"
      ]
     },
     "metadata": {
      "needs_background": "light"
     },
     "output_type": "display_data"
    }
   ],
   "source": [
    "plt.plot(np.log(np.abs(GLOBALR[int(outputsize/2)][:])))"
   ]
  },
  {
   "cell_type": "code",
   "execution_count": 14,
   "metadata": {},
   "outputs": [
    {
     "name": "stdout",
     "output_type": "stream",
     "text": [
      "Energy norm: \n",
      "0.4583770272533756\n",
      "L2 norm: \n",
      "0.04415128820307148\n",
      "H1 norm: \n",
      "0.33878797411339806\n",
      "Energy norm: \n",
      "0.03647689175737027\n",
      "L2 norm: \n",
      "0.06243935057302692\n",
      "H1 norm: \n",
      "0.03800731310853292\n",
      "0.20691091521390614\n"
     ]
    },
    {
     "data": {
      "text/plain": [
       "[<matplotlib.lines.Line2D at 0x126297d68>]"
      ]
     },
     "execution_count": 14,
     "metadata": {},
     "output_type": "execute_result"
    },
    {
     "data": {
      "image/png": "[encoded data removed]",
      "text/plain": [
       "<Figure size 432x288 with 1 Axes>"
      ]
     },
     "metadata": {
      "needs_background": "light"
     },
     "output_type": "display_data"
    }
   ],
   "source": [
    "Xfine = np.linspace(0,1,inputsize)\n",
    "Xcoarse = np.linspace(0,1,outputsize)\n",
    "Mediafine = a(Xfine)\n",
    "Mediacoarse = a(Xcoarse)\n",
    "Urealfine = u_real(Xfine).reshape([inputsize,1])\n",
    "Urealcoarse = u_real(Xcoarse).reshape([outputsize,1])\n",
    "GLOBALA = np.zeros([outputsize,outputsize])\n",
    "\n",
    "for i in range(outputsize):\n",
    "    for j in range(outputsize):\n",
    "        basisi = GLOBALR[i][:]\n",
    "        basisj = GLOBALR[j][:]\n",
    "        gxbasisi = np.gradient(basisi,h)\n",
    "        gxbasisj = np.gradient(basisj,h)\n",
    "        GLOBALA[i][j] = (np.sum(Mediafine*gxbasisi*gxbasisj))*(H)\n",
    "        \n",
    "GLOBALF = np.zeros([outputsize,1])\n",
    "F = rightf(Xfine)\n",
    "for j in range(outputsize):\n",
    "        basisj = GLOBALR[j][:]\n",
    "        GLOBALF[j][0] = (np.sum(F*basisj))*(H)\n",
    "        \n",
    "GLOBALU = np.linalg.solve(GLOBALA,GLOBALF)\n",
    "GlobalU = np.zeros([inputsize,1])\n",
    "for i in range(outputsize):\n",
    "    GlobalU = GlobalU + GLOBALU[i]*GLOBALR[i][:].reshape([inputsize,1])\n",
    "    \n",
    "deltaU = GlobalU - Urealfine    \n",
    "Mediafine = a(np.linspace(0,1,inputsize-1)).reshape([inputsize-1,1])\n",
    "energynorm = np.sqrt(np.sum(np.multiply(np.multiply(np.diff(Urealfine,axis=0)/h,np.diff(Urealfine,axis=0)/h),Mediafine)*(h)))\n",
    "l2norm = np.sqrt((np.sum((Urealfine)**2)*(h)))\n",
    "h1norm = np.sqrt((np.sum((Urealfine)**2)*(h))+(np.sum((np.diff(Urealfine,axis=0)/h)**2)*(h)))\n",
    "\n",
    "print('Energy norm: ')\n",
    "print(np.sqrt(np.sum(np.multiply(np.multiply(np.diff(deltaU,axis=0)/h,np.diff(deltaU,axis=0)/h),Mediafine)*(h))))\n",
    "print('L2 norm: ')\n",
    "print(np.sqrt((np.sum((deltaU)**2)*(h))))\n",
    "print('H1 norm: ')\n",
    "print(np.sqrt((np.sum((deltaU)**2)*(h))+(np.sum((np.diff(deltaU,axis=0)/h)**2)*(h))))\n",
    "\n",
    "\n",
    "print('Energy norm: ')\n",
    "print(np.sqrt(np.sum(np.multiply(np.multiply(np.diff(deltaU,axis=0)/h,np.diff(deltaU,axis=0)/h),Mediafine)*(h)))/energynorm)\n",
    "print('L2 norm: ')\n",
    "print(np.sqrt((np.sum((deltaU)**2)*(h)))/l2norm)\n",
    "print('H1 norm: ')\n",
    "print(np.sqrt((np.sum((deltaU)**2)*(h))+(np.sum((np.diff(deltaU,axis=0)/h)**2)*(h)))/h1norm)\n",
    "print(Rhonew)\n",
    "\n",
    "plt.plot(GlobalU)\n",
    "plt.plot(Urealfine)"
   ]
  },
  {
   "cell_type": "code",
   "execution_count": 15,
   "metadata": {},
   "outputs": [
    {
     "name": "stdout",
     "output_type": "stream",
     "text": [
      "Energy norm: \n",
      "11.17914854048612\n",
      "L2 norm: \n",
      "0.13742381837967524\n",
      "H1 norm: \n",
      "8.312406163853902\n",
      "Energy norm: \n",
      "0.8896183508144551\n",
      "L2 norm: \n",
      "0.19434662774563372\n",
      "H1 norm: \n",
      "0.9325367669669596\n",
      "0.32812819530128423\n"
     ]
    },
    {
     "data": {
      "text/plain": [
       "[<matplotlib.lines.Line2D at 0x126236c88>]"
      ]
     },
     "execution_count": 15,
     "metadata": {},
     "output_type": "execute_result"
    },
    {
     "data": {
      "image/png": "[encoded data removed]",
      "text/plain": [
       "<Figure size 432x288 with 1 Axes>"
      ]
     },
     "metadata": {
      "needs_background": "light"
     },
     "output_type": "display_data"
    }
   ],
   "source": [
    "outputsize = np.size(LOCALR,0)\n",
    "inputsize = np.size(LOCALR,1)\n",
    "Xfine = np.linspace(0,1,inputsize)\n",
    "Xcoarse = np.linspace(0,1,outputsize)\n",
    "Mediafine = a(Xfine)\n",
    "Mediacoarse = a(Xcoarse)\n",
    "Urealfine = u_real(Xfine).reshape([inputsize,1])\n",
    "Urealcoarse = u_real(Xcoarse).reshape([outputsize,1])\n",
    "h = 1/(inputsize-1)\n",
    "H = 1/(outputsize-1)\n",
    "LOCALA = np.zeros([outputsize,outputsize])\n",
    "for i in range(outputsize):\n",
    "    for j in range(outputsize):\n",
    "        basisi = LOCALR[i][:]\n",
    "        basisj = LOCALR[j][:]\n",
    "        gxbasisi = np.gradient(basisi,h)\n",
    "        gxbasisj = np.gradient(basisj,h)\n",
    "        LOCALA[i][j] = (np.sum(Mediafine*gxbasisi*gxbasisj))*(H)\n",
    "        \n",
    "LOCALF = np.zeros([outputsize,1])\n",
    "F = rightf(Xfine)\n",
    "for j in range(outputsize):\n",
    "        basisj = LOCALR[j][:]\n",
    "        LOCALF[j][0] = (np.sum(F*basisj))*(H)\n",
    "        \n",
    "LOCALU = np.linalg.solve(LOCALA,LOCALF)\n",
    "LocalU = np.zeros([inputsize,1])\n",
    "for i in range(outputsize):\n",
    "    LocalU = LocalU + LOCALU[i]*LOCALR[i][:].reshape([inputsize,1])\n",
    "    \n",
    "deltaU = LocalU - Urealfine    \n",
    "\n",
    "Mediafine = a(np.linspace(0,1,inputsize-1)).reshape([inputsize-1,1])\n",
    "energynorm = np.sqrt(np.sum(np.multiply(np.multiply(np.diff(Urealfine,axis=0)/h,np.diff(Urealfine,axis=0)/h),Mediafine)*(h)))\n",
    "l2norm = np.sqrt((np.sum((Urealfine)**2)*(h)))\n",
    "h1norm = np.sqrt((np.sum((Urealfine)**2)*(h))+(np.sum((np.diff(Urealfine,axis=0)/h)**2)*(h)))\n",
    "\n",
    "print('Energy norm: ')\n",
    "print(np.sqrt(np.sum(np.multiply(np.multiply(np.diff(deltaU,axis=0)/h,np.diff(deltaU,axis=0)/h),Mediafine)*(h))))\n",
    "print('L2 norm: ')\n",
    "print(np.sqrt((np.sum((deltaU)**2)*(h))))\n",
    "print('H1 norm: ')\n",
    "print(np.sqrt((np.sum((deltaU)**2)*(h))+(np.sum((np.diff(deltaU,axis=0)/h)**2)*(h))))\n",
    "\n",
    "\n",
    "print('Energy norm: ')\n",
    "print(np.sqrt(np.sum(np.multiply(np.multiply(np.diff(deltaU,axis=0)/h,np.diff(deltaU,axis=0)/h),Mediafine)*(h)))/energynorm)\n",
    "print('L2 norm: ')\n",
    "print(np.sqrt((np.sum((deltaU)**2)*(h)))/l2norm)\n",
    "print('H1 norm: ')\n",
    "print(np.sqrt((np.sum((deltaU)**2)*(h))+(np.sum((np.diff(deltaU,axis=0)/h)**2)*(h)))/h1norm)\n",
    "\n",
    "\n",
    "print(current_rho)\n",
    "\n",
    "plt.plot(LocalU)\n",
    "plt.plot(Urealfine)"
   ]
  },
  {
   "cell_type": "code",
   "execution_count": null,
   "metadata": {},
   "outputs": [],
   "source": []
  }
 ],
 "metadata": {
  "kernelspec": {
   "display_name": "Python 3",
   "language": "python",
   "name": "python3"
  },
  "language_info": {
   "codemirror_mode": {
    "name": "ipython",
    "version": 3
   },
   "file_extension": ".py",
   "mimetype": "text/x-python",
   "name": "python",
   "nbconvert_exporter": "python",
   "pygments_lexer": "ipython3",
   "version": "3.6.6"
  }
 },
 "nbformat": 4,
 "nbformat_minor": 2
}
