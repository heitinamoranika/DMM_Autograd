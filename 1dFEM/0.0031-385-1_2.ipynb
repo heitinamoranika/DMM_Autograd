{
 "cells": [
  {
   "cell_type": "markdown",
   "metadata": {},
   "source": [
    "Import important parameter"
   ]
  },
  {
   "cell_type": "code",
   "execution_count": 1,
   "metadata": {},
   "outputs": [],
   "source": [
    "inputsize = 385\n",
    "e = 0.0031"
   ]
  },
  {
   "cell_type": "markdown",
   "metadata": {},
   "source": [
    "Import Package"
   ]
  },
  {
   "cell_type": "code",
   "execution_count": 2,
   "metadata": {},
   "outputs": [],
   "source": [
    "import torch\n",
    "import numpy as np\n",
    "import matplotlib.pyplot as plt\n",
    "import autograd.numpy as np\n",
    "from autograd import grad\n",
    "import pyamg\n",
    "import dmg.gallery as gallery\n",
    "import dmg.dgmg as dgmg\n",
    "import dmg.gmg_linear as gmg_linear\n",
    "import dmg.classical_amg as classical_amg\n",
    "from mpl_toolkits.mplot3d import Axes3D\n",
    "import xlsxwriter\n",
    "from scipy.ndimage import convolve"
   ]
  },
  {
   "cell_type": "markdown",
   "metadata": {},
   "source": [
    "Define function"
   ]
  },
  {
   "cell_type": "code",
   "execution_count": 3,
   "metadata": {},
   "outputs": [],
   "source": [
    "def Restriction(inputsize):\n",
    "    inputsize = int(inputsize)\n",
    "    outputsize = int(inputsize/2)\n",
    "    OUTPUT = np.zeros([outputsize, inputsize])\n",
    "    for i in range(outputsize):\n",
    "            OUTPUT[i][2*i] = 1/4\n",
    "            OUTPUT[i][1+2*i] = 1/2\n",
    "            OUTPUT[i][2+2*i] = 1/4\n",
    "    return OUTPUT\n",
    "\n",
    "def Poisson(inputsize):\n",
    "    inputsize = int(inputsize)\n",
    "    outputsize = int(inputsize/2)\n",
    "    A1 = 2*np.eye(inputsize)\n",
    "    for i in range(inputsize-1):\n",
    "        A1[i, i+1] = -1\n",
    "        A1[i+1, i] = -1\n",
    "    OUTPUT = A1\n",
    "    return OUTPUT\n",
    "\n",
    "def Multigrid_circle(inputsize, A_A, B, R_A, s, w, error):\n",
    "    A = np.matrix(A_A)\n",
    "    P = 2.*np.transpose(R_A)\n",
    "    R = np.matrix(R_A)\n",
    "    M = np.matrix(w**(-1)*np.diag(np.diag(A)))\n",
    "    K = M - A\n",
    "    C = np.linalg.inv(M)*K\n",
    "    b = np.linalg.inv(M)*B\n",
    "    U0 = np.matrix(np.zeros([inputsize, 1]))\n",
    "    RESIDUAL = []\n",
    "    Residual=1\n",
    "    i=0\n",
    "    while Residual > error:\n",
    "        for j in range(s):\n",
    "            U0 = C*U0+b\n",
    "        r = B - A*U0\n",
    "        Residual = np.linalg.norm(r,2)\n",
    "        rc = R*r\n",
    "        Ac = R*A*P\n",
    "        Uc = np.linalg.solve(Ac, rc)\n",
    "        U = U0 + P*Uc\n",
    "        for k in range(s):\n",
    "            U = C*U+b\n",
    "        U0 = U\n",
    "        RESIDUAL.append(Residual)\n",
    "        i=i+1\n",
    "        print(\"Residual = {}\".format(Residual))\n",
    "        print(\"Interation = {}\".format(i))\n",
    "        print(\"===================\")\n",
    "    return U0, RESIDUAL\n",
    "\n",
    "def rho(inputsize,A,P,R,w,s):\n",
    "    M = (w**(-1)) * np.diag(np.diag(A))\n",
    "    K = M - A\n",
    "    MK = np.matmul(np.linalg.inv(M),K)\n",
    "    I = np.eye(inputsize)\n",
    "    IPRAPRA = I - np.matmul(np.matmul(np.matmul(P,np.linalg.inv(np.matmul(np.matmul(R,A),P))),R),A)\n",
    "    C = np.matmul(np.matmul(MK,IPRAPRA),MK)\n",
    "    for i in range(5):\n",
    "        C = np.matmul(C,C)\n",
    "    radius = np.linalg.norm(C)**(1/32)\n",
    "    return radius\n",
    "\n",
    "def optimizer_GD(inputsize, A1, R, w, s, learning_rate, lam):\n",
    "    rhoold = rho(inputsize,A1,2.*np.transpose(R),R,w,s)\n",
    "    device = torch.device('cpu')\n",
    "    R = torch.tensor(R,dtype = torch.double, requires_grad=True,device=device)\n",
    "    w = torch.tensor(w,dtype = torch.double, requires_grad=True, device=device)\n",
    "    lam = torch.tensor(lam,dtype = torch.double, requires_grad=True, device=device)\n",
    "    A = torch.tensor(A1,dtype = torch.double, device=device)\n",
    "    P = 2.*torch.t(R)\n",
    "    M = (w**(-1)) * torch.diag(torch.diag(A))\n",
    "    K = M - A\n",
    "    MK = torch.mm(torch.inverse(M),K)\n",
    "    I = torch.eye(inputsize,dtype = torch.double, device=device)\n",
    "    I1 = torch.ones([inputsize,1],dtype = torch.double, device=device)\n",
    "    I2 = torch.ones([outputsize,1],dtype = torch.double, device=device)\n",
    "    IPRAPRA = I - torch.mm(torch.mm(torch.mm(P,torch.inverse(torch.mm(torch.mm(R,A),P))),R),A)\n",
    "    C = torch.mm(torch.mm(MK,IPRAPRA),MK)\n",
    "    for i in range(5):\n",
    "        C = torch.mm(C,C)\n",
    "    loss = torch.norm(C)**(1/32) + torch.mm(lam,torch.mm(R,I1) - I2)\n",
    "    loss.backward()\n",
    "    with torch.no_grad():\n",
    "        R-=learning_rate*R.grad\n",
    "        w-=learning_rate*w.grad \n",
    "        lam-=learning_rate*lam.grad\n",
    "    R = R.detach().numpy()\n",
    "    w = w.detach().numpy()\n",
    "    lam = lam.detach().numpy()\n",
    "    rhonew = rho(inputsize,A1,2.*np.transpose(R),R,w,s)\n",
    "    return R, w, lam, rhoold, rhonew\n",
    "\n",
    "def direct_optimizer_GD(inputsize, A0, A1, R, w, s, learning_rate, lam):\n",
    "    Rhoold = rho(inputsize,A1,2.*np.transpose(R),R,w,s)\n",
    "    Rhonew = [Rhoold]\n",
    "    for i in range(100):\n",
    "        Rnew, wnew, lamnew, rhoold, rhonew = optimizer_GD(inputsize, A1, R, w, s, learning_rate, lam)\n",
    "        R = Rnew\n",
    "        w = wnew\n",
    "        lam = lamnew\n",
    "        print(\"rho = {}\".format(rhonew))\n",
    "        print(\"===================\")\n",
    "        Rhonew.append(rhonew)\n",
    "        i+=1\n",
    "    print(\"======End======\")\n",
    "    return R, w, Rhoold, Rhonew\n",
    "\n",
    "def homotopy_optimizer_GD(inputsize, A0, A1, R, w, s, learning_rate ,accept_radius ,step_length,lam):\n",
    "    Rhoold = rho(inputsize,A1,2.*np.transpose(R),R,w,s)\n",
    "    Radius = [Rhoold]\n",
    "    L = step_length\n",
    "    print(\"======Section 1======\")\n",
    "    while L < 1:\n",
    "        M = (1-L)*A0 + L*A1\n",
    "        Rnew, wnew, lamnew, rhoold, rhonew = optimizer_GD(inputsize, M, R, w, s, learning_rate, lam)\n",
    "        Radius.append(rhonew)\n",
    "        if rhonew > accept_radius:\n",
    "            step_length = 0.1*step_length\n",
    "            learning_rate = 0.1*learning_rate\n",
    "            print('Decrease the step_length, learning_rate and Restart!!')\n",
    "            print(\"step_length = {}\".format(step_length))      \n",
    "            print(\"learning_rate = {}\".format(learning_rate))\n",
    "            print(\"rhonew = {}\".format(rhonew))\n",
    "            print(\"===================\")\n",
    "            R = Restriction(inputsize)\n",
    "            lam = np.zeros([1,outputsize])\n",
    "            w = 2/3\n",
    "            L = step_length\n",
    "        else:\n",
    "            R = Rnew\n",
    "            w = wnew\n",
    "            L += step_length\n",
    "            lam = lamnew\n",
    "            print(\"L = {}\".format(L))\n",
    "            print(\"rho = {}\".format(rhonew))\n",
    "            print(\"===================\")\n",
    "    print(\"======Section 2======\")\n",
    "    i = 0\n",
    "    while rhoold>rhonew and i <20000:\n",
    "        Rnew, wnew, lamnew, rhoold, rhonew = optimizer_GD(inputsize, A1, R, w, s, learning_rate, lam)\n",
    "        Radius.append(rhonew)\n",
    "        R = Rnew\n",
    "        w = wnew\n",
    "        lam = lamnew\n",
    "        print(\"the {} steps\".format(i))\n",
    "        print(\"rho = {}\".format(rhonew))\n",
    "        print(\"===================\")\n",
    "        i+=1            \n",
    "    Rhonew = rhonew\n",
    "    print(\"======End======\")\n",
    "    return R, w, Rhoold, Rhonew, Radius"
   ]
  },
  {
   "cell_type": "markdown",
   "metadata": {},
   "source": [
    "Define parameter"
   ]
  },
  {
   "cell_type": "code",
   "execution_count": 4,
   "metadata": {},
   "outputs": [],
   "source": [
    "s = 1\n",
    "w = 2/3\n",
    "MAX_ITER = 50\n",
    "def u_real(x): return np.sin(4.*np.pi*x)\n",
    "def rightf(x): return  -4*np.pi**2*np.cos(4*np.pi*x)*np.cos(np.pi*x/e)/e+16*(np.pi**2)*(2+np.sin(np.pi*x/e))*np.sin(4*np.pi*x)\n",
    "def a(x): return 2+np.sin(np.pi*x/e)\n",
    "outputsize = int(inputsize/2)\n",
    "h = 1/(inputsize-1)\n",
    "X = np.linspace(0, 1, inputsize)\n",
    "H = 1/(outputsize-1)\n",
    "Media = a(np.linspace(-h,1+h,inputsize+1))\n",
    "A0 = Poisson(inputsize)\n",
    "A1 = gallery.divkrad((inputsize,),Media)\n",
    "RightF = rightf(X)*h**2\n",
    "RightF = RightF.reshape(inputsize, 1)\n",
    "UREAL = u_real(X).reshape(inputsize, 1)\n",
    "R = Restriction(inputsize)\n",
    "P = 2.*np.transpose(R)"
   ]
  },
  {
   "cell_type": "markdown",
   "metadata": {},
   "source": [
    "Local DMM on fine grid"
   ]
  },
  {
   "cell_type": "code",
   "execution_count": 5,
   "metadata": {},
   "outputs": [
    {
     "name": "stderr",
     "output_type": "stream",
     "text": [
      "/Library/Frameworks/Python.framework/Versions/3.6/lib/python3.6/site-packages/autograd/numpy/numpy_vjps.py:444: FutureWarning: Using a non-tuple sequence for multidimensional indexing is deprecated; use `arr[tuple(seq)]` instead of `arr[seq]`. In the future this will be interpreted as an array index, `arr[np.array(seq)]`, which will result either in an error or a different result.\n",
      "  return lambda g: g[idxs]\n",
      "/Library/Frameworks/Python.framework/Versions/3.6/lib/python3.6/site-packages/autograd/numpy/numpy_vjps.py:444: FutureWarning: Using a non-tuple sequence for multidimensional indexing is deprecated; use `arr[tuple(seq)]` instead of `arr[seq]`. In the future this will be interpreted as an array index, `arr[np.array(seq)]`, which will result either in an error or a different result.\n",
      "  return lambda g: g[idxs]\n"
     ]
    },
    {
     "name": "stdout",
     "output_type": "stream",
     "text": [
      "Iteration 100/4000\n",
      "Upper bound estimation = 0.9474542686421099\n",
      "Iteration 200/4000\n",
      "Upper bound estimation = 0.9353182190515892\n",
      "Iteration 300/4000\n",
      "Upper bound estimation = 0.9352023861869593\n",
      "Iteration 400/4000\n",
      "Upper bound estimation = 0.8949643561938706\n",
      "Iteration 500/4000\n",
      "Upper bound estimation = 0.8840348101935633\n",
      "Iteration 600/4000\n",
      "Upper bound estimation = 0.8552483939012782\n",
      "Iteration 700/4000\n",
      "Upper bound estimation = 0.853502828098472\n",
      "Iteration 800/4000\n",
      "Upper bound estimation = 0.8334904488449303\n",
      "Iteration 900/4000\n",
      "Upper bound estimation = 0.8389808812263477\n",
      "Iteration 1000/4000\n",
      "Upper bound estimation = 0.8179198328851662\n",
      "Iteration 1100/4000\n",
      "Upper bound estimation = 0.8136768899604092\n",
      "Iteration 1200/4000\n",
      "Upper bound estimation = 0.8145318840277544\n",
      "Iteration 1300/4000\n",
      "Upper bound estimation = 0.7817519850965455\n",
      "Iteration 1400/4000\n",
      "Upper bound estimation = 0.7893695815538012\n",
      "Iteration 1500/4000\n",
      "Upper bound estimation = 0.767567241669587\n",
      "Iteration 1600/4000\n",
      "Upper bound estimation = 0.7643343595544865\n",
      "Iteration 1700/4000\n",
      "Upper bound estimation = 0.7576801519553593\n",
      "Iteration 1800/4000\n",
      "Upper bound estimation = 0.7725580090489416\n",
      "Iteration 1900/4000\n",
      "Upper bound estimation = 0.7444581884420016\n",
      "Iteration 2000/4000\n",
      "Upper bound estimation = 0.7672372481703181\n",
      "Iteration 2100/4000\n",
      "Upper bound estimation = 0.75137567425491\n",
      "Iteration 2200/4000\n",
      "Upper bound estimation = 0.7589517938826339\n",
      "Iteration 2300/4000\n",
      "Upper bound estimation = 0.7051798616735144\n",
      "Iteration 2400/4000\n",
      "Upper bound estimation = 0.7330317176814837\n",
      "Iteration 2500/4000\n",
      "Upper bound estimation = 0.7434942186193254\n",
      "Iteration 2600/4000\n",
      "Upper bound estimation = 0.7483422778538626\n",
      "Iteration 2700/4000\n",
      "Upper bound estimation = 0.7515280305569804\n",
      "Iteration 2800/4000\n",
      "Upper bound estimation = 0.7129340610506478\n",
      "Iteration 2900/4000\n",
      "Upper bound estimation = 0.7399893631515901\n",
      "Iteration 3000/4000\n",
      "Upper bound estimation = 0.7370203973227202\n",
      "Iteration 3100/4000\n",
      "Upper bound estimation = 0.7313235255258076\n",
      "Iteration 3200/4000\n",
      "Upper bound estimation = 0.7161064042229568\n",
      "Iteration 3300/4000\n",
      "Upper bound estimation = 0.7302457700133146\n",
      "Iteration 3400/4000\n",
      "Upper bound estimation = 0.7215399086027874\n",
      "Iteration 3500/4000\n",
      "Upper bound estimation = 0.7235870184988122\n",
      "Iteration 3600/4000\n",
      "Upper bound estimation = 0.720049689144668\n",
      "Iteration 3700/4000\n",
      "Upper bound estimation = 0.7187287773682706\n",
      "Iteration 3800/4000\n",
      "Upper bound estimation = 0.7213322594532492\n",
      "Iteration 3900/4000\n",
      "Upper bound estimation = 0.732844142838594\n",
      "Iteration 4000/4000\n",
      "Upper bound estimation = 0.7138610122904016\n"
     ]
    }
   ],
   "source": [
    "K = 10\n",
    "batch_size = 10\n",
    "num_iter = 4000\n",
    "step_size = 5e-5\n",
    "PR_stencil_type = \"m3p\"\n",
    "init_point = None\n",
    "convergence = {}\n",
    "deep_gmm = dgmg.DeepMG(A1, K=K, PR_stencil_type=PR_stencil_type, max_levels=2)\n",
    "opt_par = deep_gmm.optimize(num_iter=num_iter, step_size=step_size, batch_size=batch_size, init_point=init_point)"
   ]
  },
  {
   "cell_type": "code",
   "execution_count": 6,
   "metadata": {},
   "outputs": [
    {
     "name": "stdout",
     "output_type": "stream",
     "text": [
      "Optimized rho = 0.6445347748014526\n"
     ]
    }
   ],
   "source": [
    "deep_gmm.update_prd(opt_par)  \n",
    "current_rho = deep_gmm.compute_rho()\n",
    "print(\"Optimized rho = {}\".format(current_rho))"
   ]
  },
  {
   "cell_type": "code",
   "execution_count": 7,
   "metadata": {},
   "outputs": [
    {
     "data": {
      "text/plain": [
       "<matplotlib.colorbar.Colorbar at 0x11bacb470>"
      ]
     },
     "execution_count": 7,
     "metadata": {},
     "output_type": "execute_result"
    },
    {
     "data": {
      "image/png": "[encoded data removed]",
      "text/plain": [
       "<Figure size 432x288 with 2 Axes>"
      ]
     },
     "metadata": {
      "needs_background": "light"
     },
     "output_type": "display_data"
    }
   ],
   "source": [
    "localR = opt_par[1][0]\n",
    "LOCALR = np.zeros([outputsize-1,inputsize-2])\n",
    "for i in range(outputsize-1):\n",
    "    C = localR[i][:]\n",
    "    for l in range(3):\n",
    "        LOCALR[i][2*i+l] = C[l]\n",
    "        \n",
    "        \n",
    "plt.imshow(LOCALR)\n",
    "plt.colorbar()"
   ]
  },
  {
   "cell_type": "code",
   "execution_count": 8,
   "metadata": {},
   "outputs": [
    {
     "name": "stderr",
     "output_type": "stream",
     "text": [
      "/Library/Frameworks/Python.framework/Versions/3.6/lib/python3.6/site-packages/autograd/tracer.py:48: RuntimeWarning: divide by zero encountered in log\n",
      "  return f_raw(*args, **kwargs)\n"
     ]
    },
    {
     "data": {
      "text/plain": [
       "<matplotlib.colorbar.Colorbar at 0x11bc34940>"
      ]
     },
     "execution_count": 8,
     "metadata": {},
     "output_type": "execute_result"
    },
    {
     "data": {
      "image/png": "[encoded data removed]",
      "text/plain": [
       "<Figure size 432x288 with 2 Axes>"
      ]
     },
     "metadata": {
      "needs_background": "light"
     },
     "output_type": "display_data"
    }
   ],
   "source": [
    "plt.imshow(np.log(np.abs(LOCALR)))\n",
    "plt.colorbar()"
   ]
  },
  {
   "cell_type": "code",
   "execution_count": 9,
   "metadata": {},
   "outputs": [
    {
     "name": "stdout",
     "output_type": "stream",
     "text": [
      "======Section 1======\n",
      "L = 0.02\n",
      "rho = 0.12344733161200759\n",
      "===================\n",
      "L = 0.03\n",
      "rho = 0.12453636799484219\n",
      "===================\n",
      "L = 0.04\n",
      "rho = 0.12593801711697297\n",
      "===================\n",
      "L = 0.05\n",
      "rho = 0.12753161168805033\n",
      "===================\n",
      "L = 0.060000000000000005\n",
      "rho = 0.12933592798427335\n",
      "===================\n",
      "L = 0.07\n",
      "rho = 0.13134935962892652\n",
      "===================\n",
      "L = 0.08\n",
      "rho = 0.13559494156763793\n",
      "===================\n",
      "L = 0.09\n",
      "rho = 0.1421323027015737\n",
      "===================\n",
      "L = 0.09999999999999999\n",
      "rho = 0.13955394307424165\n",
      "===================\n",
      "L = 0.10999999999999999\n",
      "rho = 0.14794357112308062\n",
      "===================\n",
      "L = 0.11999999999999998\n",
      "rho = 0.14543463055778724\n",
      "===================\n",
      "L = 0.12999999999999998\n",
      "rho = 0.15271850634130124\n",
      "===================\n",
      "L = 0.13999999999999999\n",
      "rho = 0.15476369012848798\n",
      "===================\n",
      "L = 0.15\n",
      "rho = 0.159218665333506\n",
      "===================\n",
      "L = 0.16\n",
      "rho = 0.16103515171112812\n",
      "===================\n",
      "L = 0.17\n",
      "rho = 0.1659360427369884\n",
      "===================\n",
      "L = 0.18000000000000002\n",
      "rho = 0.16724393572857854\n",
      "===================\n",
      "L = 0.19000000000000003\n",
      "rho = 0.17285218119302637\n",
      "===================\n",
      "L = 0.20000000000000004\n",
      "rho = 0.1733712517307582\n",
      "===================\n",
      "L = 0.21000000000000005\n",
      "rho = 0.1797640674976173\n",
      "===================\n",
      "L = 0.22000000000000006\n",
      "rho = 0.17971430831485938\n",
      "===================\n",
      "L = 0.23000000000000007\n",
      "rho = 0.18636912566893907\n",
      "===================\n",
      "L = 0.24000000000000007\n",
      "rho = 0.1866361206248738\n",
      "===================\n",
      "L = 0.25000000000000006\n",
      "rho = 0.19294634443563555\n",
      "===================\n",
      "L = 0.26000000000000006\n",
      "rho = 0.19362818895265765\n",
      "===================\n",
      "L = 0.2700000000000001\n",
      "rho = 0.19950450190218882\n",
      "===================\n",
      "L = 0.2800000000000001\n",
      "rho = 0.20063568417957475\n",
      "===================\n",
      "L = 0.2900000000000001\n",
      "rho = 0.20602269271451315\n",
      "===================\n",
      "L = 0.3000000000000001\n",
      "rho = 0.2076511560189492\n",
      "===================\n",
      "L = 0.3100000000000001\n",
      "rho = 0.2124865772802353\n",
      "===================\n",
      "L = 0.3200000000000001\n",
      "rho = 0.214658369597121\n",
      "===================\n",
      "L = 0.3300000000000001\n",
      "rho = 0.21889005061474665\n",
      "===================\n",
      "L = 0.34000000000000014\n",
      "rho = 0.22163062442182288\n",
      "===================\n",
      "L = 0.35000000000000014\n",
      "rho = 0.22524382276520155\n",
      "===================\n",
      "L = 0.36000000000000015\n",
      "rho = 0.22852601390579247\n",
      "===================\n",
      "L = 0.37000000000000016\n",
      "rho = 0.2315823219766941\n",
      "===================\n",
      "L = 0.38000000000000017\n",
      "rho = 0.23529623714847286\n",
      "===================\n",
      "L = 0.3900000000000002\n",
      "rho = 0.2379515323268073\n",
      "===================\n",
      "L = 0.4000000000000002\n",
      "rho = 0.24191603808374135\n",
      "===================\n",
      "L = 0.4100000000000002\n",
      "rho = 0.2443705134740452\n",
      "===================\n",
      "L = 0.4200000000000002\n",
      "rho = 0.2484013706263309\n",
      "===================\n",
      "L = 0.4300000000000002\n",
      "rho = 0.2508108248445964\n",
      "===================\n",
      "L = 0.4400000000000002\n",
      "rho = 0.2547854047757748\n",
      "===================\n",
      "L = 0.45000000000000023\n",
      "rho = 0.25722727278307617\n",
      "===================\n",
      "L = 0.46000000000000024\n",
      "rho = 0.26109134078575535\n",
      "===================\n",
      "L = 0.47000000000000025\n",
      "rho = 0.263588768363495\n",
      "===================\n",
      "L = 0.48000000000000026\n",
      "rho = 0.26732942671017024\n",
      "===================\n",
      "L = 0.49000000000000027\n",
      "rho = 0.26988019836338817\n",
      "===================\n",
      "L = 0.5000000000000002\n",
      "rho = 0.27350255051646033\n",
      "===================\n",
      "L = 0.5100000000000002\n",
      "rho = 0.27609530683997807\n",
      "===================\n",
      "L = 0.5200000000000002\n",
      "rho = 0.27961029544479105\n",
      "===================\n",
      "L = 0.5300000000000002\n",
      "rho = 0.2822318699781639\n",
      "===================\n",
      "L = 0.5400000000000003\n",
      "rho = 0.2856509951053088\n",
      "===================\n",
      "L = 0.5500000000000003\n",
      "rho = 0.2882893575011611\n",
      "===================\n",
      "L = 0.5600000000000003\n",
      "rho = 0.29162271966022635\n",
      "===================\n",
      "L = 0.5700000000000003\n",
      "rho = 0.2942678803539562\n",
      "===================\n",
      "L = 0.5800000000000003\n",
      "rho = 0.29752372358461177\n",
      "===================\n",
      "L = 0.5900000000000003\n",
      "rho = 0.3001677488877162\n",
      "===================\n",
      "L = 0.6000000000000003\n",
      "rho = 0.30335261198966157\n",
      "===================\n",
      "L = 0.6100000000000003\n",
      "rho = 0.30598931695624093\n",
      "===================\n",
      "L = 0.6200000000000003\n",
      "rho = 0.3091083662418937\n",
      "===================\n",
      "L = 0.6300000000000003\n",
      "rho = 0.3117329495414506\n",
      "===================\n",
      "L = 0.6400000000000003\n",
      "rho = 0.3147903098916035\n",
      "===================\n",
      "L = 0.6500000000000004\n",
      "rho = 0.3173990335549984\n",
      "===================\n",
      "L = 0.6600000000000004\n",
      "rho = 0.32039805756420026\n",
      "===================\n",
      "L = 0.6700000000000004\n",
      "rho = 0.3229879963438855\n",
      "===================\n",
      "L = 0.6800000000000004\n",
      "rho = 0.325931465472067\n",
      "===================\n",
      "L = 0.6900000000000004\n",
      "rho = 0.3285003195788125\n",
      "===================\n",
      "L = 0.7000000000000004\n",
      "rho = 0.331390589432482\n",
      "===================\n",
      "L = 0.7100000000000004\n",
      "rho = 0.3339365463821302\n",
      "===================\n",
      "L = 0.7200000000000004\n",
      "rho = 0.3367756507946935\n",
      "===================\n",
      "L = 0.7300000000000004\n",
      "rho = 0.3392972829774205\n",
      "===================\n",
      "L = 0.7400000000000004\n",
      "rho = 0.34208700896841643\n",
      "===================\n",
      "L = 0.7500000000000004\n",
      "rho = 0.3445831967036059\n",
      "===================\n",
      "L = 0.7600000000000005\n",
      "rho = 0.3473251390705471\n",
      "===================\n",
      "L = 0.7700000000000005\n",
      "rho = 0.34979501188983253\n",
      "===================\n",
      "L = 0.7800000000000005\n",
      "rho = 0.3524906134814202\n",
      "===================\n",
      "L = 0.7900000000000005\n",
      "rho = 0.3549335046147644\n",
      "===================\n",
      "L = 0.8000000000000005\n",
      "rho = 0.3575840864186334\n",
      "===================\n",
      "L = 0.8100000000000005\n",
      "rho = 0.35999949699840583\n",
      "===================\n",
      "L = 0.8200000000000005\n",
      "rho = 0.3626062808853681\n",
      "===================\n",
      "L = 0.8300000000000005\n",
      "rho = 0.36499385142267177\n",
      "===================\n",
      "L = 0.8400000000000005\n",
      "rho = 0.3675579775244283\n",
      "===================\n",
      "L = 0.8500000000000005\n",
      "rho = 0.3699174649134094\n",
      "===================\n",
      "L = 0.8600000000000005\n",
      "rho = 0.37244000503200225\n",
      "===================\n",
      "L = 0.8700000000000006\n",
      "rho = 0.37477126381673415\n",
      "===================\n",
      "L = 0.8800000000000006\n",
      "rho = 0.37725323186585746\n",
      "===================\n",
      "L = 0.8900000000000006\n",
      "rho = 0.3795561988378683\n",
      "===================\n",
      "L = 0.9000000000000006\n",
      "rho = 0.3819985590437401\n",
      "===================\n",
      "L = 0.9100000000000006\n",
      "rho = 0.3842732404734122\n",
      "===================\n",
      "L = 0.9200000000000006\n",
      "rho = 0.3866769138681657\n",
      "===================\n",
      "L = 0.9300000000000006\n",
      "rho = 0.3889233748414154\n",
      "===================\n",
      "L = 0.9400000000000006\n",
      "rho = 0.3912892444466455\n",
      "===================\n",
      "L = 0.9500000000000006\n",
      "rho = 0.3935075999016371\n",
      "===================\n",
      "L = 0.9600000000000006\n",
      "rho = 0.39583651489777066\n",
      "===================\n",
      "L = 0.9700000000000006\n",
      "rho = 0.39802692204709317\n",
      "===================\n",
      "L = 0.9800000000000006\n",
      "rho = 0.40031970115483745\n",
      "===================\n",
      "L = 0.9900000000000007\n",
      "rho = 0.4024823530456096\n",
      "===================\n",
      "L = 1.0000000000000007\n",
      "rho = 0.40473978728938026\n",
      "===================\n",
      "======Section 2======\n",
      "======End======\n"
     ]
    }
   ],
   "source": [
    "Rnew, wnew, Rhoold, Rhonew, Radius = homotopy_optimizer_GD(inputsize, A0, A1.to_full(), R,  2/3, s, learning_rate = 1e-6,accept_radius = 1 ,step_length = 1e-2, lam = np.zeros([1,outputsize]))"
   ]
  },
  {
   "cell_type": "code",
   "execution_count": 10,
   "metadata": {},
   "outputs": [],
   "source": [
    "GLOBALR = Rnew"
   ]
  },
  {
   "cell_type": "code",
   "execution_count": 11,
   "metadata": {},
   "outputs": [
    {
     "data": {
      "text/plain": [
       "<matplotlib.colorbar.Colorbar at 0x11e3817b8>"
      ]
     },
     "execution_count": 11,
     "metadata": {},
     "output_type": "execute_result"
    },
    {
     "data": {
      "image/png": "[encoded data removed]",
      "text/plain": [
       "<Figure size 432x288 with 2 Axes>"
      ]
     },
     "metadata": {
      "needs_background": "light"
     },
     "output_type": "display_data"
    }
   ],
   "source": [
    "plt.imshow(GLOBALR)\n",
    "plt.colorbar()"
   ]
  },
  {
   "cell_type": "code",
   "execution_count": 12,
   "metadata": {},
   "outputs": [
    {
     "data": {
      "text/plain": [
       "<matplotlib.colorbar.Colorbar at 0x11be1bfd0>"
      ]
     },
     "execution_count": 12,
     "metadata": {},
     "output_type": "execute_result"
    },
    {
     "data": {
      "image/png": "[encoded data removed]",
      "text/plain": [
       "<Figure size 432x288 with 2 Axes>"
      ]
     },
     "metadata": {
      "needs_background": "light"
     },
     "output_type": "display_data"
    }
   ],
   "source": [
    "plt.imshow(np.log(np.abs(GLOBALR)))\n",
    "plt.colorbar()"
   ]
  },
  {
   "cell_type": "code",
   "execution_count": 13,
   "metadata": {},
   "outputs": [
    {
     "data": {
      "text/plain": [
       "[<matplotlib.lines.Line2D at 0x11ba69b38>]"
      ]
     },
     "execution_count": 13,
     "metadata": {},
     "output_type": "execute_result"
    },
    {
     "data": {
      "image/png": "[encoded data removed]",
      "text/plain": [
       "<Figure size 432x288 with 1 Axes>"
      ]
     },
     "metadata": {
      "needs_background": "light"
     },
     "output_type": "display_data"
    }
   ],
   "source": [
    "plt.plot(np.log(np.abs(GLOBALR[int(outputsize/2)][:])))"
   ]
  },
  {
   "cell_type": "code",
   "execution_count": 14,
   "metadata": {},
   "outputs": [
    {
     "name": "stdout",
     "output_type": "stream",
     "text": [
      "Energy norm: \n",
      "1.5111723853234462\n",
      "L2 norm: \n",
      "0.03792959051219071\n",
      "H1 norm: \n",
      "1.0668063195349904\n",
      "Energy norm: \n",
      "0.12016017066482867\n",
      "L2 norm: \n",
      "0.05364054131759797\n",
      "H1 norm: \n",
      "0.11968485704114062\n",
      "0.40473978728938026\n"
     ]
    },
    {
     "data": {
      "text/plain": [
       "[<matplotlib.lines.Line2D at 0x11dedecc0>]"
      ]
     },
     "execution_count": 14,
     "metadata": {},
     "output_type": "execute_result"
    },
    {
     "data": {
      "image/png": "[encoded data removed]",
      "text/plain": [
       "<Figure size 432x288 with 1 Axes>"
      ]
     },
     "metadata": {
      "needs_background": "light"
     },
     "output_type": "display_data"
    }
   ],
   "source": [
    "Xfine = np.linspace(0,1,inputsize)\n",
    "Xcoarse = np.linspace(0,1,outputsize)\n",
    "Mediafine = a(Xfine)\n",
    "Mediacoarse = a(Xcoarse)\n",
    "Urealfine = u_real(Xfine).reshape([inputsize,1])\n",
    "Urealcoarse = u_real(Xcoarse).reshape([outputsize,1])\n",
    "GLOBALA = np.zeros([outputsize,outputsize])\n",
    "\n",
    "for i in range(outputsize):\n",
    "    for j in range(outputsize):\n",
    "        basisi = GLOBALR[i][:]\n",
    "        basisj = GLOBALR[j][:]\n",
    "        gxbasisi = np.gradient(basisi,h)\n",
    "        gxbasisj = np.gradient(basisj,h)\n",
    "        GLOBALA[i][j] = (np.sum(Mediafine*gxbasisi*gxbasisj))*(H)\n",
    "        \n",
    "GLOBALF = np.zeros([outputsize,1])\n",
    "F = rightf(Xfine)\n",
    "for j in range(outputsize):\n",
    "        basisj = GLOBALR[j][:]\n",
    "        GLOBALF[j][0] = (np.sum(F*basisj))*(H)\n",
    "        \n",
    "GLOBALU = np.linalg.solve(GLOBALA,GLOBALF)\n",
    "GlobalU = np.zeros([inputsize,1])\n",
    "for i in range(outputsize):\n",
    "    GlobalU = GlobalU + GLOBALU[i]*GLOBALR[i][:].reshape([inputsize,1])\n",
    "    \n",
    "deltaU = GlobalU - Urealfine    \n",
    "Mediafine = a(np.linspace(0,1,inputsize-1)).reshape([inputsize-1,1])\n",
    "energynorm = np.sqrt(np.sum(np.multiply(np.multiply(np.diff(Urealfine,axis=0)/h,np.diff(Urealfine,axis=0)/h),Mediafine)*(h)))\n",
    "l2norm = np.sqrt((np.sum((Urealfine)**2)*(h)))\n",
    "h1norm = np.sqrt((np.sum((Urealfine)**2)*(h))+(np.sum((np.diff(Urealfine,axis=0)/h)**2)*(h)))\n",
    "\n",
    "print('Energy norm: ')\n",
    "print(np.sqrt(np.sum(np.multiply(np.multiply(np.diff(deltaU,axis=0)/h,np.diff(deltaU,axis=0)/h),Mediafine)*(h))))\n",
    "print('L2 norm: ')\n",
    "print(np.sqrt((np.sum((deltaU)**2)*(h))))\n",
    "print('H1 norm: ')\n",
    "print(np.sqrt((np.sum((deltaU)**2)*(h))+(np.sum((np.diff(deltaU,axis=0)/h)**2)*(h))))\n",
    "\n",
    "\n",
    "print('Energy norm: ')\n",
    "print(np.sqrt(np.sum(np.multiply(np.multiply(np.diff(deltaU,axis=0)/h,np.diff(deltaU,axis=0)/h),Mediafine)*(h)))/energynorm)\n",
    "print('L2 norm: ')\n",
    "print(np.sqrt((np.sum((deltaU)**2)*(h)))/l2norm)\n",
    "print('H1 norm: ')\n",
    "print(np.sqrt((np.sum((deltaU)**2)*(h))+(np.sum((np.diff(deltaU,axis=0)/h)**2)*(h)))/h1norm)\n",
    "print(Rhonew)\n",
    "\n",
    "plt.plot(GlobalU)\n",
    "plt.plot(Urealfine)"
   ]
  },
  {
   "cell_type": "code",
   "execution_count": 15,
   "metadata": {},
   "outputs": [
    {
     "name": "stdout",
     "output_type": "stream",
     "text": [
      "Energy norm: \n",
      "16.061527474366102\n",
      "L2 norm: \n",
      "0.28133819646247027\n",
      "H1 norm: \n",
      "11.238673450301812\n",
      "Energy norm: \n",
      "1.2771276139692282\n",
      "L2 norm: \n",
      "0.39787229305081173\n",
      "H1 norm: \n",
      "1.2608658448861492\n",
      "0.6445347748014526\n"
     ]
    },
    {
     "data": {
      "text/plain": [
       "[<matplotlib.lines.Line2D at 0x11e54e9b0>]"
      ]
     },
     "execution_count": 15,
     "metadata": {},
     "output_type": "execute_result"
    },
    {
     "data": {
      "image/png": "[encoded data removed]",
      "text/plain": [
       "<Figure size 432x288 with 1 Axes>"
      ]
     },
     "metadata": {
      "needs_background": "light"
     },
     "output_type": "display_data"
    }
   ],
   "source": [
    "outputsize = np.size(LOCALR,0)\n",
    "inputsize = np.size(LOCALR,1)\n",
    "Xfine = np.linspace(0,1,inputsize)\n",
    "Xcoarse = np.linspace(0,1,outputsize)\n",
    "Mediafine = a(Xfine)\n",
    "Mediacoarse = a(Xcoarse)\n",
    "Urealfine = u_real(Xfine).reshape([inputsize,1])\n",
    "Urealcoarse = u_real(Xcoarse).reshape([outputsize,1])\n",
    "h = 1/(inputsize-1)\n",
    "H = 1/(outputsize-1)\n",
    "LOCALA = np.zeros([outputsize,outputsize])\n",
    "for i in range(outputsize):\n",
    "    for j in range(outputsize):\n",
    "        basisi = LOCALR[i][:]\n",
    "        basisj = LOCALR[j][:]\n",
    "        gxbasisi = np.gradient(basisi,h)\n",
    "        gxbasisj = np.gradient(basisj,h)\n",
    "        LOCALA[i][j] = (np.sum(Mediafine*gxbasisi*gxbasisj))*(H)\n",
    "        \n",
    "LOCALF = np.zeros([outputsize,1])\n",
    "F = rightf(Xfine)\n",
    "for j in range(outputsize):\n",
    "        basisj = LOCALR[j][:]\n",
    "        LOCALF[j][0] = (np.sum(F*basisj))*(H)\n",
    "        \n",
    "LOCALU = np.linalg.solve(LOCALA,LOCALF)\n",
    "LocalU = np.zeros([inputsize,1])\n",
    "for i in range(outputsize):\n",
    "    LocalU = LocalU + LOCALU[i]*LOCALR[i][:].reshape([inputsize,1])\n",
    "    \n",
    "deltaU = LocalU - Urealfine    \n",
    "\n",
    "Mediafine = a(np.linspace(0,1,inputsize-1)).reshape([inputsize-1,1])\n",
    "energynorm = np.sqrt(np.sum(np.multiply(np.multiply(np.diff(Urealfine,axis=0)/h,np.diff(Urealfine,axis=0)/h),Mediafine)*(h)))\n",
    "l2norm = np.sqrt((np.sum((Urealfine)**2)*(h)))\n",
    "h1norm = np.sqrt((np.sum((Urealfine)**2)*(h))+(np.sum((np.diff(Urealfine,axis=0)/h)**2)*(h)))\n",
    "\n",
    "print('Energy norm: ')\n",
    "print(np.sqrt(np.sum(np.multiply(np.multiply(np.diff(deltaU,axis=0)/h,np.diff(deltaU,axis=0)/h),Mediafine)*(h))))\n",
    "print('L2 norm: ')\n",
    "print(np.sqrt((np.sum((deltaU)**2)*(h))))\n",
    "print('H1 norm: ')\n",
    "print(np.sqrt((np.sum((deltaU)**2)*(h))+(np.sum((np.diff(deltaU,axis=0)/h)**2)*(h))))\n",
    "\n",
    "\n",
    "print('Energy norm: ')\n",
    "print(np.sqrt(np.sum(np.multiply(np.multiply(np.diff(deltaU,axis=0)/h,np.diff(deltaU,axis=0)/h),Mediafine)*(h)))/energynorm)\n",
    "print('L2 norm: ')\n",
    "print(np.sqrt((np.sum((deltaU)**2)*(h)))/l2norm)\n",
    "print('H1 norm: ')\n",
    "print(np.sqrt((np.sum((deltaU)**2)*(h))+(np.sum((np.diff(deltaU,axis=0)/h)**2)*(h)))/h1norm)\n",
    "\n",
    "\n",
    "print(current_rho)\n",
    "\n",
    "plt.plot(LocalU)\n",
    "plt.plot(Urealfine)"
   ]
  }
 ],
 "metadata": {
  "kernelspec": {
   "display_name": "Python 3",
   "language": "python",
   "name": "python3"
  },
  "language_info": {
   "codemirror_mode": {
    "name": "ipython",
    "version": 3
   },
   "file_extension": ".py",
   "mimetype": "text/x-python",
   "name": "python",
   "nbconvert_exporter": "python",
   "pygments_lexer": "ipython3",
   "version": "3.6.6"
  }
 },
 "nbformat": 4,
 "nbformat_minor": 2
}
