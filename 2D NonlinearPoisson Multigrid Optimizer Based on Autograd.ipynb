{
 "cells": [
  {
   "cell_type": "markdown",
   "metadata": {},
   "source": [
    "**这个Notebook不需要文件夹中任何一个.py文件, 所有函数在Notebook中定义.**"
   ]
  },
  {
   "cell_type": "markdown",
   "metadata": {},
   "source": [
    "## Package Import"
   ]
  },
  {
   "cell_type": "code",
   "execution_count": 1,
   "metadata": {},
   "outputs": [],
   "source": [
    "import numpy as np\n",
    "from mpl_toolkits.mplot3d import Axes3D\n",
    "import matplotlib.pyplot as plt\n",
    "from matplotlib import cm\n",
    "from matplotlib.ticker import LinearLocator, FormatStrFormatter\n",
    "import pyamg\n",
    "import autograd.numpy as np\n",
    "from autograd import grad"
   ]
  },
  {
   "cell_type": "markdown",
   "metadata": {},
   "source": [
    "## Define Function"
   ]
  },
  {
   "cell_type": "code",
   "execution_count": 2,
   "metadata": {},
   "outputs": [],
   "source": [
    "e1 = 1/5\n",
    "e2 = 1/13\n",
    "e3 = 1/17\n",
    "e4 = 1/31\n",
    "e5 = 1/65\n",
    "def u_real(x, y): return np.sin(np.pi*3*x)*np.sin(np.pi*5*y)\n",
    "def rightf(x, y): return 34*np.pi**2*np.sin(3*np.pi*x)*np.sin(5*np.pi*y)*(np.sin(4*x**2*y**2)/6 + (np.sin((2*np.pi*y)/e2) + 11/10)/(6*(np.cos((2*np.pi*x)/e2) + 11/10)) + (np.cos((2*np.pi*x)/e3) + 11/10)/(6*(np.sin((2*np.pi*y)/e3) + 11/10)) + (np.sin((2*np.pi*y)/e4) + 11/10)/(6*(np.cos((2*np.pi*x)/e4) + 11/10)) + (np.cos((2*np.pi*x)/e5) + 11/10)/(6*(np.sin((2*np.pi*y)/e5) + 11/10)) + (np.sin((2*np.pi*x)/e1) + 11/10)/(6*(np.sin((2*np.pi*y)/e1) + 11/10)) + 1/6) - 3*np.pi*np.cos(3*np.pi*x)*np.sin(5*np.pi*y)*((4*x*y**2*np.cos(4*x**2*y**2))/3 + (np.pi*np.cos((2*np.pi*x)/e1))/(3*e1*(np.sin((2*np.pi*y)/e1) + 11/10)) - (np.pi*np.sin((2*np.pi*x)/e3))/(3*e3*(np.sin((2*np.pi*y)/e3) + 11/10)) - (np.pi*np.sin((2*np.pi*x)/e5))/(3*e5*(np.sin((2*np.pi*y)/e5) + 11/10)) + (np.pi*np.sin((2*np.pi*x)/e2)*(np.sin((2*np.pi*y)/e2) + 11/10))/(3*e2*(np.cos((2*x*np.pi)/e2) + 11/10)**2) + (np.pi*np.sin((2*np.pi*x)/e4)*(np.sin((2*np.pi*y)/e4) + 11/10))/(3*e4*(np.cos((2*x*np.pi)/e4) + 11/10)**2)) - 5*np.pi*np.cos(5*np.pi*y)*np.sin(3*np.pi*x)*((4*x**2*y*np.cos(4*x**2*y**2))/3 + (np.pi*np.cos((2*np.pi*y)/e2))/(3*e2*(np.cos((2*np.pi*x)/e2) + 11/10)) + (np.pi*np.cos((2*np.pi*y)/e4))/(3*e4*(np.cos((2*np.pi*x)/e4) + 11/10)) - (np.pi*np.cos((2*np.pi*y)/e3)*(np.cos((2*np.pi*x)/e3) + 11/10))/(3*e3*(np.sin((2*y*np.pi)/e3) + 11/10)**2) - (np.pi*np.cos((2*np.pi*y)/e5)*(np.cos((2*np.pi*x)/e5) + 11/10))/(3*e5*(np.sin((2*y*np.pi)/e5) + 11/10)**2) - (np.pi*np.cos((2*np.pi*y)/e1)*(np.sin((2*np.pi*x)/e1) + 11/10))/(3*e1*(np.sin((2*y*np.pi)/e1) + 11/10)**2))\n",
    "def a(x, y): return (1/6)*((1.1+np.sin(2*np.pi*x/e1))/(1.1+np.sin(2*np.pi*y/e1))+(1.1+np.sin(2*np.pi*y/e2))/(1.1+np.cos(2*np.pi*x/e2))+(1.1+np.cos(2*np.pi*x/e3))/(1.1+np.sin(2*np.pi*y/e3))+(1.1+np.sin(2*np.pi*y/e4))/(1.1+np.cos(2*np.pi*x/e4))+(1.1+np.cos(2*np.pi*x/e5))/(1.1+np.sin(2*np.pi*y/e5))+np.sin(4*(x**2)*(y**2))+1)"
   ]
  },
  {
   "cell_type": "markdown",
   "metadata": {},
   "source": [
    "## Define R, P, Poisson, Nonlinear Poisson"
   ]
  },
  {
   "cell_type": "code",
   "execution_count": 3,
   "metadata": {},
   "outputs": [],
   "source": [
    "def Restriction(inputsize):\n",
    "    inputsize = int(inputsize)\n",
    "    sqrtinputsize = int(np.sqrt(inputsize))\n",
    "    outputsize = int((2**(np.log2(np.sqrt(inputsize)+1)-1)-1)**2)\n",
    "    sqrtoutputsize = int(np.sqrt(outputsize))\n",
    "    OUTPUT = np.zeros([outputsize, inputsize])\n",
    "    for j in range(sqrtoutputsize):\n",
    "        for i in range(sqrtoutputsize):\n",
    "            OUTPUT[i+sqrtoutputsize*j][2*i+j*2*sqrtinputsize] = 1/16\n",
    "            OUTPUT[i+sqrtoutputsize*j][1+2*i+j*2*sqrtinputsize] = 1/8\n",
    "            OUTPUT[i+sqrtoutputsize*j][2+2*i+j*2*sqrtinputsize] = 1/16\n",
    "            OUTPUT[i+sqrtoutputsize*j][sqrtinputsize +\n",
    "                                       2*i+j*2*sqrtinputsize] = 1/8\n",
    "            OUTPUT[i+sqrtoutputsize*j][1+sqrtinputsize +\n",
    "                                       2*i+j*2*sqrtinputsize] = 1/4\n",
    "            OUTPUT[i+sqrtoutputsize*j][2+sqrtinputsize +\n",
    "                                       2*i+j*2*sqrtinputsize] = 1/8\n",
    "            OUTPUT[i+sqrtoutputsize*j][2*sqrtinputsize +\n",
    "                                       2*i+j*2*sqrtinputsize] = 1/16\n",
    "            OUTPUT[i+sqrtoutputsize*j][1+2 *\n",
    "                                       sqrtinputsize + 2*i+j*2*sqrtinputsize] = 1/8\n",
    "            OUTPUT[i+sqrtoutputsize*j][2+2 *\n",
    "                                       sqrtinputsize+2*i+j*2*sqrtinputsize] = 1/16\n",
    "    return OUTPUT\n",
    "\n",
    "\n",
    "def Interpolation(inputsize):\n",
    "    inputsize = int(inputsize)\n",
    "    OUTPUT = 4*np.transpose(Restriction(inputsize))\n",
    "    return OUTPUT\n",
    "\n",
    "\n",
    "def Poisson(inputsize):\n",
    "    inputsize = int(inputsize)\n",
    "    sqrtinputsize = int(np.sqrt(inputsize))\n",
    "    A1 = 2*np.eye(sqrtinputsize)\n",
    "    for i in range(sqrtinputsize-1):\n",
    "        A1[i, i+1] = -1\n",
    "        A1[i+1, i] = -1\n",
    "    I = np.eye(sqrtinputsize)\n",
    "    OUTPUT = (np.kron(I, A1)+np.kron(A1, I))\n",
    "    return OUTPUT\n",
    "\n",
    "\n",
    "def NonlinearPoisson(inputsize):\n",
    "    inputsize = int(inputsize)\n",
    "    sqrtinputsize = int(np.sqrt(inputsize))\n",
    "    area = 1\n",
    "    [X, Y] = np.meshgrid(np.linspace(0, 1, sqrtinputsize),\n",
    "                         np.linspace(0, 1, sqrtinputsize))\n",
    "    A = area*(a(X, Y).reshape([inputsize, 1]))\n",
    "    Poi = Poisson(inputsize)\n",
    "    for i in range(inputsize):\n",
    "        Poi[i][:] = A[i]*Poi[i][:]\n",
    "    OUTPUT = Poi\n",
    "    return OUTPUT"
   ]
  },
  {
   "cell_type": "markdown",
   "metadata": {},
   "source": [
    "## Define Multigrid"
   ]
  },
  {
   "cell_type": "code",
   "execution_count": 4,
   "metadata": {},
   "outputs": [],
   "source": [
    "def Multigrid_circle(inputsize, A_A, B, P_A, R_A, s, w, NUM_EPOCH):\n",
    "    A = np.matrix(A_A)\n",
    "    P = np.matrix(P_A)\n",
    "    R = np.matrix(R_A)\n",
    "    M = np.matrix(w**(-1)*np.diag(np.diag(A)))\n",
    "    K = M - A\n",
    "    C = np.linalg.inv(M)*K\n",
    "    b = np.linalg.inv(M)*B\n",
    "    U0 = np.matrix(np.zeros([inputsize, 1]))\n",
    "    RESIDUAL = []\n",
    "    for i in range(NUM_EPOCH):\n",
    "        for j in range(s):\n",
    "            U0 = C*U0+b\n",
    "        r = B - A*U0\n",
    "        Residual = np.linalg.norm(r,2)\n",
    "        rc = R*r\n",
    "        Ac = R*A*P\n",
    "        Uc = np.linalg.solve(Ac, rc)\n",
    "        U = U0 + P*Uc\n",
    "        for k in range(s):\n",
    "            U = C*U+b\n",
    "        U0 = U\n",
    "        RESIDUAL.append(Residual)\n",
    "        print(\"Residual = {}\".format(Residual))\n",
    "        print(\"Interation = {}\".format(i))\n",
    "        print(\"===================\")\n",
    "    return U0, RESIDUAL"
   ]
  },
  {
   "cell_type": "markdown",
   "metadata": {},
   "source": [
    "## Define Spectral Radius Calculator"
   ]
  },
  {
   "cell_type": "code",
   "execution_count": 5,
   "metadata": {},
   "outputs": [],
   "source": [
    "def rho(inputsize,A,P,R,w,s):\n",
    "    M = (w**(-1)) * np.diag(np.diag(A))\n",
    "    K = M - A\n",
    "    MK = np.linalg.inv(M)*K\n",
    "    I = np.eye(inputsize)\n",
    "    IPRAPRA = I - np.matmul(np.matmul(np.matmul(P,np.linalg.inv(np.matmul(np.matmul(R,A),P))),R),A)\n",
    "    C = np.matmul(np.matmul(MK**s,IPRAPRA),MK**s)\n",
    "    radius = np.linalg.norm(C,'fro')\n",
    "    return radius\n",
    "\n",
    "def rhoAuto(INPUT):\n",
    "    P = INPUT[0]\n",
    "    R = INPUT[1]\n",
    "    w = INPUT[2]\n",
    "    M = (w**(-1)) * np.diag(np.diag(A1))\n",
    "    K = M - A1\n",
    "    MK = np.linalg.inv(M)*K\n",
    "    I = np.eye(inputsize)\n",
    "    IPRAPRA = I - np.matmul(np.matmul(np.matmul(P,np.linalg.inv(np.matmul(np.matmul(R,A1),P))),R),A1)\n",
    "    C = np.matmul(np.matmul(MK**s,IPRAPRA),MK**s)\n",
    "    radius = np.linalg.norm(C,'fro')\n",
    "    return radius"
   ]
  },
  {
   "cell_type": "markdown",
   "metadata": {},
   "source": [
    "## Define Optimizer"
   ]
  },
  {
   "cell_type": "code",
   "execution_count": 6,
   "metadata": {},
   "outputs": [],
   "source": [
    "def optimizer_GD(inputsize, A, P, R, w, s, learning_rate):\n",
    "    rhoold = rho(inputsize,A,P,R,w,s)\n",
    "    INPUT = [P,R,w]\n",
    "    rhoGra = grad(rhoAuto)\n",
    "    delta = rhoGra(INPUT)\n",
    "    P -= learning_rate*delta[0]\n",
    "    R -= learning_rate*delta[1]\n",
    "    w -= learning_rate*delta[2]\n",
    "    rhonew = rho(inputsize,A,P,R,w,s)\n",
    "    return P, R, w, rhoold, rhonew\n",
    "\n",
    "def homotopy_optimizer_GD(inputsize, A0, A1, P, R, w, s, learning_rate ,accept_radius ,step_length):\n",
    "    Rhoold = rho(inputsize,A1,P,R,w,s)\n",
    "    L = step_length\n",
    "    while L < 1:\n",
    "        M = (1-L)*A0 + L*A1\n",
    "        Pnew, Rnew, wnew, rhoold, rhonew = optimizer_GD(inputsize, M, P, R, w, s, learning_rate)\n",
    "        if rhonew > accept_radius:\n",
    "            M = M + L*A0 - L*A1\n",
    "            step_length = 0.1*step_length\n",
    "            M = (1-L)*A0 + L*A1\n",
    "            print('Decrease the step_length and try again!!')\n",
    "            print(\"rho = {}\".format(rhonew))\n",
    "            print(\"===================\")\n",
    "        else:\n",
    "            P = Pnew\n",
    "            R = Rnew\n",
    "            w = wnew\n",
    "            L += step_length\n",
    "            print(\"L = {}\".format(L))\n",
    "            print(\"rho = {}\".format(rhonew))\n",
    "            print(\"===================\")\n",
    "    Rhonew = rhonew\n",
    "    return P, R, w, Rhoold, Rhonew"
   ]
  },
  {
   "cell_type": "markdown",
   "metadata": {},
   "source": [
    "## GMM"
   ]
  },
  {
   "cell_type": "code",
   "execution_count": 7,
   "metadata": {},
   "outputs": [],
   "source": [
    "finegridsize = 6\n",
    "inputsize = (2**finegridsize-1)**2\n",
    "inputsize = int(inputsize)\n",
    "sqrtinputsize = int(np.sqrt(inputsize))\n",
    "outputsize = int((2**(np.log2(np.sqrt(inputsize)+1)-1)-1)**2)\n",
    "sqrtoutputsize = int(np.sqrt(outputsize))\n",
    "h = 1/(sqrtinputsize+1)\n",
    "A0 = Poisson(inputsize)\n",
    "A1 = NonlinearPoisson(inputsize)\n",
    "[X, Y] = np.meshgrid(np.linspace(0, 1, sqrtinputsize),np.linspace(0, 1, sqrtinputsize))\n",
    "RightF = rightf(X,Y)*h**2\n",
    "RightF = RightF.reshape(inputsize, 1)\n",
    "R = Restriction(inputsize)\n",
    "P = Interpolation(inputsize)\n",
    "s = 2\n",
    "w=2/3\n",
    "NUM_EPOCH = 10\n"
   ]
  },
  {
   "cell_type": "markdown",
   "metadata": {},
   "source": [
    "**Calculate Result and Residual**"
   ]
  },
  {
   "cell_type": "code",
   "execution_count": 8,
   "metadata": {},
   "outputs": [
    {
     "name": "stdout",
     "output_type": "stream",
     "text": [
      "Residual = 29.92683539031339\n",
      "Interation = 0\n",
      "===================\n",
      "Residual = 3.907522186129551\n",
      "Interation = 1\n",
      "===================\n",
      "Residual = 0.729410298919665\n",
      "Interation = 2\n",
      "===================\n",
      "Residual = 0.1553254731887576\n",
      "Interation = 3\n",
      "===================\n",
      "Residual = 0.035633516024290296\n",
      "Interation = 4\n",
      "===================\n",
      "Residual = 0.008608135206512444\n",
      "Interation = 5\n",
      "===================\n",
      "Residual = 0.0021618231820417907\n",
      "Interation = 6\n",
      "===================\n",
      "Residual = 0.0005595312037292345\n",
      "Interation = 7\n",
      "===================\n",
      "Residual = 0.0001483205983951562\n",
      "Interation = 8\n",
      "===================\n",
      "Residual = 4.0086441198760105e-05\n",
      "Interation = 9\n",
      "===================\n",
      "Residual = 1.1010579466193627e-05\n",
      "Interation = 10\n",
      "===================\n",
      "Residual = 3.066230185901172e-06\n",
      "Interation = 11\n",
      "===================\n",
      "Residual = 8.641239538017301e-07\n",
      "Interation = 12\n",
      "===================\n",
      "Residual = 2.4607043639937945e-07\n",
      "Interation = 13\n",
      "===================\n",
      "Residual = 7.070997841911484e-08\n",
      "Interation = 14\n",
      "===================\n",
      "Residual = 2.0480054173789915e-08\n",
      "Interation = 15\n",
      "===================\n",
      "Residual = 5.972495385114369e-09\n",
      "Interation = 16\n",
      "===================\n",
      "Residual = 1.7520725827290048e-09\n",
      "Interation = 17\n",
      "===================\n",
      "Residual = 5.166125374331868e-10\n",
      "Interation = 18\n",
      "===================\n",
      "Residual = 1.529950928728483e-10\n",
      "Interation = 19\n",
      "===================\n",
      "Residual = 4.5481470799535406e-11\n",
      "Interation = 20\n",
      "===================\n",
      "Residual = 1.3562120168918637e-11\n",
      "Interation = 21\n",
      "===================\n",
      "Residual = 4.061107956084435e-12\n",
      "Interation = 22\n",
      "===================\n",
      "Residual = 1.2201187409954168e-12\n",
      "Interation = 23\n",
      "===================\n",
      "Residual = 3.9354506468480796e-13\n",
      "Interation = 24\n",
      "===================\n",
      "Residual = 1.854213172213834e-13\n",
      "Interation = 25\n",
      "===================\n",
      "Residual = 1.5576056243068723e-13\n",
      "Interation = 26\n",
      "===================\n",
      "Residual = 1.5676048002130181e-13\n",
      "Interation = 27\n",
      "===================\n",
      "Residual = 1.444730086072098e-13\n",
      "Interation = 28\n",
      "===================\n",
      "Residual = 1.5436549413565612e-13\n",
      "Interation = 29\n",
      "===================\n",
      "Residual = 1.536264604671394e-13\n",
      "Interation = 30\n",
      "===================\n",
      "Residual = 1.496784632088359e-13\n",
      "Interation = 31\n",
      "===================\n",
      "Residual = 1.6042432138118222e-13\n",
      "Interation = 32\n",
      "===================\n",
      "Residual = 1.530585255717486e-13\n",
      "Interation = 33\n",
      "===================\n",
      "Residual = 1.4746250040464613e-13\n",
      "Interation = 34\n",
      "===================\n",
      "Residual = 1.4910730365772814e-13\n",
      "Interation = 35\n",
      "===================\n",
      "Residual = 1.4761138235988128e-13\n",
      "Interation = 36\n",
      "===================\n",
      "Residual = 1.5290291615298716e-13\n",
      "Interation = 37\n",
      "===================\n",
      "Residual = 1.51063287841247e-13\n",
      "Interation = 38\n",
      "===================\n",
      "Residual = 1.5245983479916083e-13\n",
      "Interation = 39\n",
      "===================\n"
     ]
    }
   ],
   "source": [
    "GMM_U, GMM_Res = Multigrid_circle(inputsize, A1, RightF, P, R, s, w, 40)"
   ]
  },
  {
   "cell_type": "markdown",
   "metadata": {},
   "source": [
    "**Plot Result**"
   ]
  },
  {
   "cell_type": "code",
   "execution_count": 9,
   "metadata": {},
   "outputs": [
    {
     "data": {
      "text/plain": [
       "<matplotlib.colorbar.Colorbar at 0x1f100029898>"
      ]
     },
     "execution_count": 9,
     "metadata": {},
     "output_type": "execute_result"
    },
    {
     "data": {
      "image/png": "[encoded data removed]",
      "text/plain": [
       "<Figure size 432x288 with 2 Axes>"
      ]
     },
     "metadata": {},
     "output_type": "display_data"
    }
   ],
   "source": [
    "plt.imshow(GMM_U.reshape(sqrtinputsize,sqrtinputsize))\n",
    "plt.colorbar()"
   ]
  },
  {
   "cell_type": "markdown",
   "metadata": {},
   "source": [
    "**Plot Residual**"
   ]
  },
  {
   "cell_type": "code",
   "execution_count": 10,
   "metadata": {},
   "outputs": [
    {
     "data": {
      "text/plain": [
       "[<matplotlib.lines.Line2D at 0x1f1000c6278>]"
      ]
     },
     "execution_count": 10,
     "metadata": {},
     "output_type": "execute_result"
    },
    {
     "data": {
      "image/png": "[encoded data removed]",
      "text/plain": [
       "<Figure size 432x288 with 1 Axes>"
      ]
     },
     "metadata": {},
     "output_type": "display_data"
    }
   ],
   "source": [
    "plt.semilogy(GMM_Res)"
   ]
  },
  {
   "cell_type": "markdown",
   "metadata": {},
   "source": [
    "**Calculate Spectral Radius**"
   ]
  },
  {
   "cell_type": "code",
   "execution_count": 11,
   "metadata": {},
   "outputs": [
    {
     "name": "stdout",
     "output_type": "stream",
     "text": [
      "4.850005147161799\n"
     ]
    }
   ],
   "source": [
    "GMM_rho = rho(inputsize,A1,P,R,w,s)\n",
    "print(GMM_rho)"
   ]
  },
  {
   "cell_type": "markdown",
   "metadata": {},
   "source": [
    "## DMM"
   ]
  },
  {
   "cell_type": "markdown",
   "metadata": {},
   "source": [
    "**Optimize R, P, $\\omega$**"
   ]
  },
  {
   "cell_type": "code",
   "execution_count": null,
   "metadata": {},
   "outputs": [
    {
     "name": "stdout",
     "output_type": "stream",
     "text": [
      "L = 0.0002\n",
      "rho = 0.6961108233646985\n",
      "===================\n",
      "L = 0.00030000000000000003\n",
      "rho = 0.6923048539946061\n",
      "===================\n",
      "L = 0.0004\n",
      "rho = 0.6886817079054247\n",
      "===================\n",
      "L = 0.0005\n",
      "rho = 0.6851850808000954\n",
      "===================\n",
      "L = 0.0006000000000000001\n",
      "rho = 0.6817881532039248\n",
      "===================\n",
      "L = 0.0007000000000000001\n",
      "rho = 0.6784749497248592\n",
      "===================\n",
      "L = 0.0008000000000000001\n",
      "rho = 0.6752347320081866\n",
      "===================\n",
      "L = 0.0009000000000000002\n",
      "rho = 0.672059709637982\n",
      "===================\n",
      "L = 0.0010000000000000002\n",
      "rho = 0.6689439264967233\n",
      "===================\n",
      "L = 0.0011000000000000003\n",
      "rho = 0.6658826517629023\n",
      "===================\n",
      "L = 0.0012000000000000003\n",
      "rho = 0.6628720175506878\n",
      "===================\n",
      "L = 0.0013000000000000004\n",
      "rho = 0.6599087890622166\n",
      "===================\n",
      "L = 0.0014000000000000004\n",
      "rho = 0.6569902112912147\n",
      "===================\n",
      "L = 0.0015000000000000005\n",
      "rho = 0.654113902568145\n",
      "===================\n",
      "L = 0.0016000000000000005\n",
      "rho = 0.6512777781398233\n",
      "===================\n",
      "L = 0.0017000000000000006\n",
      "rho = 0.6484799937683142\n",
      "===================\n",
      "L = 0.0018000000000000006\n",
      "rho = 0.6457189031163257\n",
      "===================\n",
      "L = 0.0019000000000000006\n",
      "rho = 0.6429930248950503\n",
      "===================\n",
      "L = 0.0020000000000000005\n",
      "rho = 0.6403010170929927\n",
      "===================\n",
      "L = 0.0021000000000000003\n",
      "rho = 0.6376416564494748\n",
      "===================\n",
      "L = 0.0022\n",
      "rho = 0.6350138218846636\n",
      "===================\n",
      "L = 0.0023\n",
      "rho = 0.6324164809633788\n",
      "===================\n",
      "L = 0.0024\n",
      "rho = 0.6298486787188778\n",
      "===================\n",
      "L = 0.0024999999999999996\n",
      "rho = 0.6273095283366392\n",
      "===================\n",
      "L = 0.0025999999999999994\n",
      "rho = 0.6247982033210876\n",
      "===================\n",
      "L = 0.0026999999999999993\n",
      "rho = 0.6223139308574182\n",
      "===================\n",
      "L = 0.002799999999999999\n",
      "rho = 0.6198559861456668\n",
      "===================\n",
      "L = 0.002899999999999999\n",
      "rho = 0.6174236875328664\n",
      "===================\n",
      "L = 0.0029999999999999988\n",
      "rho = 0.6150163923055205\n",
      "===================\n",
      "L = 0.0030999999999999986\n",
      "rho = 0.6126334930324736\n",
      "===================\n",
      "L = 0.0031999999999999984\n",
      "rho = 0.6102744143698134\n",
      "===================\n",
      "L = 0.0032999999999999982\n",
      "rho = 0.6079386102558944\n",
      "===================\n",
      "L = 0.003399999999999998\n",
      "rho = 0.6056255614379448\n",
      "===================\n",
      "L = 0.003499999999999998\n",
      "rho = 0.6033347732818442\n",
      "===================\n",
      "L = 0.0035999999999999977\n",
      "rho = 0.6010657738250946\n",
      "===================\n",
      "L = 0.0036999999999999976\n",
      "rho = 0.5988181120395956\n",
      "===================\n",
      "L = 0.0037999999999999974\n",
      "rho = 0.5965913562762784\n",
      "===================\n",
      "L = 0.0038999999999999972\n",
      "rho = 0.594385092867995\n",
      "===================\n",
      "L = 0.0039999999999999975\n",
      "rho = 0.5921989248706889\n",
      "===================\n",
      "L = 0.004099999999999998\n",
      "rho = 0.5900324709258864\n",
      "===================\n",
      "L = 0.004199999999999998\n",
      "rho = 0.5878853642299364\n",
      "===================\n",
      "L = 0.004299999999999998\n",
      "rho = 0.5857572515975568\n",
      "===================\n",
      "L = 0.0043999999999999985\n",
      "rho = 0.5836477926089276\n",
      "===================\n",
      "L = 0.004499999999999999\n",
      "rho = 0.581556658831035\n",
      "===================\n",
      "L = 0.004599999999999999\n",
      "rho = 0.5794835331051754\n",
      "===================\n",
      "L = 0.004699999999999999\n",
      "rho = 0.5774281088936299\n",
      "===================\n",
      "L = 0.0048\n",
      "rho = 0.5753900896793042\n",
      "===================\n",
      "L = 0.0049\n",
      "rho = 0.5733691884129837\n",
      "===================\n",
      "L = 0.005\n",
      "rho = 0.5713651270034681\n",
      "===================\n",
      "L = 0.0051\n",
      "rho = 0.5693776358463767\n",
      "===================\n",
      "L = 0.005200000000000001\n",
      "rho = 0.5674064533879409\n",
      "===================\n",
      "L = 0.005300000000000001\n",
      "rho = 0.5654513257205442\n",
      "===================\n",
      "L = 0.005400000000000001\n",
      "rho = 0.5635120062070477\n",
      "===================\n",
      "L = 0.005500000000000001\n",
      "rho = 0.5615882551313243\n",
      "===================\n",
      "L = 0.005600000000000002\n",
      "rho = 0.5596798393727173\n",
      "===================\n",
      "L = 0.005700000000000002\n",
      "rho = 0.5577865321023076\n",
      "===================\n",
      "L = 0.005800000000000002\n",
      "rho = 0.5559081124991679\n",
      "===================\n",
      "L = 0.0059000000000000025\n",
      "rho = 0.5540443654849156\n",
      "===================\n",
      "L = 0.006000000000000003\n",
      "rho = 0.5521950814750618\n",
      "===================\n",
      "L = 0.006100000000000003\n",
      "rho = 0.5503600561458233\n",
      "===================\n",
      "L = 0.006200000000000003\n",
      "rho = 0.5485390902151516\n",
      "===================\n",
      "L = 0.0063000000000000035\n",
      "rho = 0.5467319892368615\n",
      "===================\n",
      "L = 0.006400000000000004\n",
      "rho = 0.5449385634069072\n",
      "===================\n",
      "L = 0.006500000000000004\n",
      "rho = 0.543158627380823\n",
      "===================\n",
      "L = 0.006600000000000004\n",
      "rho = 0.5413920001015401\n",
      "===================\n",
      "L = 0.0067000000000000046\n",
      "rho = 0.539638504636842\n",
      "===================\n",
      "L = 0.006800000000000005\n",
      "rho = 0.5378979680257034\n",
      "===================\n",
      "L = 0.006900000000000005\n",
      "rho = 0.5361702211329497\n",
      "===================\n",
      "L = 0.007000000000000005\n",
      "rho = 0.5344550985116192\n",
      "===================\n",
      "L = 0.007100000000000006\n",
      "rho = 0.5327524382725122\n",
      "===================\n",
      "L = 0.007200000000000006\n",
      "rho = 0.5310620819604548\n",
      "===================\n",
      "L = 0.007300000000000006\n",
      "rho = 0.5293838744367979\n",
      "===================\n",
      "L = 0.007400000000000006\n",
      "rho = 0.5277176637677764\n",
      "===================\n",
      "L = 0.007500000000000007\n",
      "rho = 0.5260633011183398\n",
      "===================\n",
      "L = 0.007600000000000007\n",
      "rho = 0.5244206406510901\n",
      "===================\n",
      "L = 0.007700000000000007\n",
      "rho = 0.5227895394300348\n",
      "===================\n",
      "L = 0.0078000000000000074\n",
      "rho = 0.5211698573288277\n",
      "===================\n",
      "L = 0.007900000000000008\n",
      "rho = 0.519561456943251\n",
      "===================\n",
      "L = 0.008000000000000007\n",
      "rho = 0.5179642035076654\n",
      "===================\n",
      "L = 0.008100000000000007\n",
      "rho = 0.5163779648151918\n",
      "===================\n",
      "L = 0.008200000000000006\n",
      "rho = 0.5148026111414338\n",
      "===================\n",
      "L = 0.008300000000000005\n",
      "rho = 0.5132380151714797\n",
      "===================\n",
      "L = 0.008400000000000005\n",
      "rho = 0.5116840519300739\n",
      "===================\n"
     ]
    }
   ],
   "source": [
    "Pnew, Rnew, wnew, Rhoold, Rhonew = homotopy_optimizer_GD(inputsize, A0, A1, P, R, w, s, learning_rate = 1e-5 ,accept_radius = GMM_rho,step_length = 1e-4)"
   ]
  },
  {
   "cell_type": "markdown",
   "metadata": {},
   "source": [
    "**Calculate Result and Residual**"
   ]
  },
  {
   "cell_type": "code",
   "execution_count": null,
   "metadata": {},
   "outputs": [],
   "source": [
    "DMM_U, DMM_Res = Multigrid_circle(inputsize, A, RightF, Pnew, Rnew, s, wnew, 40)"
   ]
  },
  {
   "cell_type": "markdown",
   "metadata": {},
   "source": [
    "**Plot Result**"
   ]
  },
  {
   "cell_type": "code",
   "execution_count": null,
   "metadata": {},
   "outputs": [],
   "source": [
    "plt.imshow(DMM_U.reshape(sqrtinputsize,sqrtinputsize))\n",
    "plt.colorbar()"
   ]
  },
  {
   "cell_type": "markdown",
   "metadata": {},
   "source": [
    "**Plot Residual**"
   ]
  },
  {
   "cell_type": "code",
   "execution_count": null,
   "metadata": {},
   "outputs": [],
   "source": [
    "plt.semilogy(DMM_Res)"
   ]
  },
  {
   "cell_type": "markdown",
   "metadata": {},
   "source": [
    "**Calculate Spectral Radius**"
   ]
  },
  {
   "cell_type": "code",
   "execution_count": null,
   "metadata": {},
   "outputs": [],
   "source": [
    "DMM_radius = Rhonew\n",
    "print(Rhonew)"
   ]
  },
  {
   "cell_type": "markdown",
   "metadata": {},
   "source": [
    "## Compare"
   ]
  },
  {
   "cell_type": "code",
   "execution_count": null,
   "metadata": {},
   "outputs": [],
   "source": [
    "print('GMM_rho = {}'.format(GMM_rho))\n",
    "print('DMM_rho = {}'.format(Rhonew))\n"
   ]
  },
  {
   "cell_type": "code",
   "execution_count": null,
   "metadata": {},
   "outputs": [],
   "source": [
    "plt.semilogy(GMM_Res, label = 'GMM_Res')\n",
    "plt.semilogy(DMM_Res, label = 'DMM_Res')\n",
    "plt.legend(loc='upper right')"
   ]
  },
  {
   "cell_type": "markdown",
   "metadata": {},
   "source": [
    "## R, P and  $\\omega$ after Optimization"
   ]
  },
  {
   "cell_type": "code",
   "execution_count": null,
   "metadata": {},
   "outputs": [],
   "source": [
    "print('omega after optimization = {}'.format(wnew))"
   ]
  },
  {
   "cell_type": "code",
   "execution_count": null,
   "metadata": {},
   "outputs": [],
   "source": [
    "print('P after optimization ')\n",
    "plt.imshow(np.log10(np.abs(Pnew)))\n",
    "plt.colorbar()"
   ]
  },
  {
   "cell_type": "code",
   "execution_count": null,
   "metadata": {},
   "outputs": [],
   "source": [
    "print('R after optimization ')\n",
    "plt.imshow(np.log10(np.abs(Rnew)))\n",
    "plt.colorbar()"
   ]
  },
  {
   "cell_type": "code",
   "execution_count": null,
   "metadata": {},
   "outputs": [],
   "source": [
    "print(\"P under log10(abs())\")\n",
    "plt.plot(np.log10(np.abs(Pnew))[round(0.5*inputsize)][:])"
   ]
  },
  {
   "cell_type": "code",
   "execution_count": null,
   "metadata": {},
   "outputs": [],
   "source": [
    "print(\"R under log10(abs())\")\n",
    "plt.plot(np.log10(np.abs(Rnew))[:][round(0.5*outputsize)])"
   ]
  }
 ],
 "metadata": {
  "kernelspec": {
   "display_name": "Python 3",
   "language": "python",
   "name": "python3"
  },
  "language_info": {
   "codemirror_mode": {
    "name": "ipython",
    "version": 3
   },
   "file_extension": ".py",
   "mimetype": "text/x-python",
   "name": "python",
   "nbconvert_exporter": "python",
   "pygments_lexer": "ipython3",
   "version": "3.6.5"
  }
 },
 "nbformat": 4,
 "nbformat_minor": 2
}
