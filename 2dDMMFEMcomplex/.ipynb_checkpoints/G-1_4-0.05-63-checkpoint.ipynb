{
 "cells": [
  {
   "cell_type": "markdown",
   "metadata": {},
   "source": [
    "Import important parameter"
   ]
  },
  {
   "cell_type": "code",
   "execution_count": 1,
   "metadata": {},
   "outputs": [],
   "source": [
    "inputsize = 63**2\n",
    "e = 0.05"
   ]
  },
  {
   "cell_type": "markdown",
   "metadata": {},
   "source": [
    "Import Package"
   ]
  },
  {
   "cell_type": "code",
   "execution_count": 2,
   "metadata": {},
   "outputs": [],
   "source": [
    "import torch\n",
    "import numpy as np\n",
    "import matplotlib.pyplot as plt\n",
    "import autograd.numpy as np\n",
    "from autograd import grad\n",
    "import pyamg\n",
    "import dmg.gallery as gallery\n",
    "import dmg.dgmg as dgmg\n",
    "import dmg.gmg_linear as gmg_linear\n",
    "import dmg.classical_amg as classical_amg\n",
    "from mpl_toolkits.mplot3d import Axes3D\n",
    "import xlsxwriter\n",
    "from scipy.ndimage import convolve"
   ]
  },
  {
   "cell_type": "markdown",
   "metadata": {},
   "source": [
    "Define function"
   ]
  },
  {
   "cell_type": "code",
   "execution_count": 3,
   "metadata": {},
   "outputs": [],
   "source": [
    "def Restriction(inputsize):\n",
    "    inputsize = int(inputsize)\n",
    "    sqrtinputsize = int(np.sqrt(inputsize))     \n",
    "    sqrtoutputsize = int(sqrtinputsize/2)\n",
    "    outputsize = int(sqrtoutputsize**2)\n",
    "    OUTPUT = np.zeros([outputsize, inputsize])\n",
    "    for j in range(sqrtoutputsize):\n",
    "        for i in range(sqrtoutputsize):\n",
    "            OUTPUT[i+sqrtoutputsize*j][2*i+j*2*sqrtinputsize] = 1/16\n",
    "            OUTPUT[i+sqrtoutputsize*j][1+2*i+j*2*sqrtinputsize] = 1/8\n",
    "            OUTPUT[i+sqrtoutputsize*j][2+2*i+j*2*sqrtinputsize] = 1/16\n",
    "            OUTPUT[i+sqrtoutputsize*j][sqrtinputsize +\n",
    "                                       2*i+j*2*sqrtinputsize] = 1/8\n",
    "            OUTPUT[i+sqrtoutputsize*j][1+sqrtinputsize +\n",
    "                                       2*i+j*2*sqrtinputsize] = 1/4\n",
    "            OUTPUT[i+sqrtoutputsize*j][2+sqrtinputsize +\n",
    "                                       2*i+j*2*sqrtinputsize] = 1/8\n",
    "            OUTPUT[i+sqrtoutputsize*j][2*sqrtinputsize +\n",
    "                                       2*i+j*2*sqrtinputsize] = 1/16\n",
    "            OUTPUT[i+sqrtoutputsize*j][1+2 *\n",
    "                                       sqrtinputsize + 2*i+j*2*sqrtinputsize] = 1/8\n",
    "            OUTPUT[i+sqrtoutputsize*j][2+2 *\n",
    "                                       sqrtinputsize+2*i+j*2*sqrtinputsize] = 1/16\n",
    "    return OUTPUT\n",
    "\n",
    "def Poisson(inputsize):\n",
    "    inputsize = int(inputsize)\n",
    "    sqrtinputsize = int(np.sqrt(inputsize))     \n",
    "    sqrtoutputsize = int(sqrtinputsize/2)\n",
    "    outputsize = int(sqrtoutputsize**2)\n",
    "    OUTPUT = np.zeros([outputsize, inputsize])\n",
    "    A1 = 2*np.eye(sqrtinputsize)\n",
    "    for i in range(sqrtinputsize-1):\n",
    "        A1[i, i+1] = -1\n",
    "        A1[i+1, i] = -1\n",
    "    I = np.eye(sqrtinputsize)\n",
    "    OUTPUT = (np.kron(I, A1)+np.kron(A1, I))\n",
    "    return OUTPUT\n",
    "\n",
    "\n",
    "def Multigrid_circle(inputsize, A_A, B, R_A, s, w, error):\n",
    "    A = np.matrix(A_A)\n",
    "    P = 16.*np.transpose(R_A)\n",
    "    R = np.matrix(R_A)\n",
    "    M = np.matrix(w**(-1)*np.diag(np.diag(A)))\n",
    "    K = M - A\n",
    "    C = np.linalg.inv(M)*K\n",
    "    b = np.linalg.inv(M)*B\n",
    "    U0 = np.matrix(np.zeros([inputsize, 1]))\n",
    "    RESIDUAL = []\n",
    "    Residual=1\n",
    "    i=0\n",
    "    while Residual > error:\n",
    "        for j in range(s):\n",
    "            U0 = C*U0+b\n",
    "        r = B - A*U0\n",
    "        Residual = np.linalg.norm(r,2)\n",
    "        rc = R*r\n",
    "        Ac = R*A*P\n",
    "        Uc = np.linalg.solve(Ac, rc)\n",
    "        U = U0 + P*Uc\n",
    "        for k in range(s):\n",
    "            U = C*U+b\n",
    "        U0 = U\n",
    "        RESIDUAL.append(Residual)\n",
    "        i=i+1\n",
    "        print(\"Residual = {}\".format(Residual))\n",
    "        print(\"Interation = {}\".format(i))\n",
    "        print(\"===================\")\n",
    "    return U0, RESIDUAL\n",
    "\n",
    "def rho(inputsize,A,P,R,w,s):\n",
    "    M = (w**(-1)) * np.diag(np.diag(A))\n",
    "    K = M - A\n",
    "    MK = np.matmul(np.linalg.inv(M),K)\n",
    "    I = np.eye(inputsize)\n",
    "    IPRAPRA = I - np.matmul(np.matmul(np.matmul(P,np.linalg.inv(np.matmul(np.matmul(R,A),P))),R),A)\n",
    "    C = np.matmul(np.matmul(MK,IPRAPRA),MK)\n",
    "    for i in range(5):\n",
    "        C = np.matmul(C,C)\n",
    "    radius = np.linalg.norm(C)**(1/32)\n",
    "    return radius\n",
    "\n",
    "def optimizer_GD(inputsize, A1, R, w, s, learning_rate, lam):\n",
    "    rhoold = rho(inputsize,A1,16*np.transpose(R),R,w,s)\n",
    "    device = torch.device('cpu')\n",
    "    R = torch.tensor(R,dtype = torch.double, requires_grad=True,device=device)\n",
    "    w = torch.tensor(w,dtype = torch.double, requires_grad=True, device=device)\n",
    "    lam = torch.tensor(lam,dtype = torch.double, requires_grad=True, device=device)\n",
    "    A = torch.tensor(A1,dtype = torch.double, device=device)\n",
    "    P = 16*torch.t(R)\n",
    "    M = (w**(-1)) * torch.diag(torch.diag(A))\n",
    "    K = M - A\n",
    "    MK = torch.mm(torch.inverse(M),K)\n",
    "    I = torch.eye(inputsize,dtype = torch.double, device=device)\n",
    "    I1 = torch.ones([inputsize,1],dtype = torch.double, device=device)\n",
    "    I2 = torch.ones([outputsize,1],dtype = torch.double, device=device)\n",
    "    IPRAPRA = I - torch.mm(torch.mm(torch.mm(P,torch.inverse(torch.mm(torch.mm(R,A),P))),R),A)\n",
    "    C = torch.mm(torch.mm(MK,IPRAPRA),MK)\n",
    "    for i in range(5):\n",
    "        C = torch.mm(C,C)\n",
    "    loss = torch.norm(C)**(1/32) + torch.mm(lam,torch.mm(R,I1) - I2)\n",
    "    loss.backward()\n",
    "    with torch.no_grad():\n",
    "        R-=learning_rate*R.grad\n",
    "        w-=learning_rate*w.grad \n",
    "        lam-=learning_rate*lam.grad\n",
    "    R = R.detach().numpy()\n",
    "    w = w.detach().numpy()\n",
    "    lam = lam.detach().numpy()\n",
    "    rhonew = rho(inputsize,A1,16*np.transpose(R),R,w,s)\n",
    "    return R, w, lam, rhoold, rhonew\n",
    "\n",
    "def direct_optimizer_GD(inputsize, A0, A1, R, w, s, learning_rate, lam):\n",
    "    Rhoold = rho(inputsize,A1,16*np.transpose(R),R,w,s)\n",
    "    Rhonew = [Rhoold]\n",
    "    for i in range(100):\n",
    "        Rnew, wnew, lamnew, rhoold, rhonew = optimizer_GD(inputsize, A1, R, w, s, learning_rate, lam)\n",
    "        R = Rnew\n",
    "        w = wnew\n",
    "        lam = lamnew\n",
    "        print(\"rho = {}\".format(rhonew))\n",
    "        print(\"===================\")\n",
    "        Rhonew.append(rhonew)\n",
    "        i+=1\n",
    "    print(\"======End======\")\n",
    "    return R, w, Rhoold, Rhonew\n",
    "\n",
    "def homotopy_optimizer_GD(inputsize, A0, A1, R, w, s, learning_rate ,accept_radius ,step_length,lam):\n",
    "    Rhoold = rho(inputsize,A1,16*np.transpose(R),R,w,s)\n",
    "    Radius = [Rhoold]\n",
    "    L = step_length\n",
    "    print(\"======Section 1======\")\n",
    "    while L < 1:\n",
    "        M = (1-L)*A0 + L*A1\n",
    "        Rnew, wnew, lamnew, rhoold, rhonew = optimizer_GD(inputsize, M, R, w, s, learning_rate, lam)\n",
    "        Radius.append(rhonew)\n",
    "        if rhonew > accept_radius:\n",
    "            step_length = 0.1*step_length\n",
    "            learning_rate = 0.1*learning_rate\n",
    "            print('Decrease the step_length, learning_rate and Restart!!')\n",
    "            print(\"step_length = {}\".format(step_length))      \n",
    "            print(\"learning_rate = {}\".format(learning_rate))\n",
    "            print(\"rhonew = {}\".format(rhonew))\n",
    "            print(\"===================\")\n",
    "            R = Restriction(inputsize)\n",
    "            lam = np.zeros([1,outputsize])\n",
    "            w = 2/3\n",
    "            L = step_length\n",
    "        else:\n",
    "            R = Rnew\n",
    "            w = wnew\n",
    "            L += step_length\n",
    "            lam = lamnew\n",
    "            print(\"L = {}\".format(L))\n",
    "            print(\"rho = {}\".format(rhonew))\n",
    "            print(\"===================\")\n",
    "    print(\"======Section 2======\")\n",
    "    i = 0\n",
    "    while rhoold>rhonew and i <10:\n",
    "        Rnew, wnew, lamnew, rhoold, rhonew = optimizer_GD(inputsize, A1, R, w, s, learning_rate, lam)\n",
    "        Radius.append(rhonew)\n",
    "        R = Rnew\n",
    "        w = wnew\n",
    "        lam = lamnew\n",
    "        print(\"the {} steps\".format(i))\n",
    "        print(\"rho = {}\".format(rhonew))\n",
    "        print(\"===================\")\n",
    "        i+=1            \n",
    "    Rhonew = rhonew\n",
    "    print(\"======End======\")\n",
    "    return R, w, Rhoold, Rhonew, Radius"
   ]
  },
  {
   "cell_type": "markdown",
   "metadata": {},
   "source": [
    "Define parameter"
   ]
  },
  {
   "cell_type": "code",
   "execution_count": 4,
   "metadata": {},
   "outputs": [],
   "source": [
    "s = 1\n",
    "w = 2/3\n",
    "error=10e-11\n",
    "def u_real(x, y): return np.sin(np.pi*3*x)*np.sin(np.pi*5*y)\n",
    "def rightf(x, y): return  (-(5/6))*np.pi*np.cos(5*np.pi*y)*np.sin(3*np.pi*x)*(-((np.pi*np.cos(np.pi*y)*(1.1 + np.sin(np.pi*x)))/(1.1 + np.sin(np.pi*y))**2)-(10*np.pi*np.cos(10*np.pi*y)*(1.1 + np.sin(10*np.pi*x)))/(1.1 + np.sin(10*np.pi*y))**2)-(1/2)*np.pi*np.cos(3*np.pi*x)*np.sin(5*np.pi*y)*((np.pi*np.cos(np.pi*x))/(1.1 + np.sin(np.pi*y)) + (10*np.pi*np.cos(10*np.pi*x))/(1.1 + np.sin(10*np.pi*y))) +  (17/3)*np.pi**2*np.sin(3*np.pi*x)*np.sin(5*np.pi*y)*((1.1 + np.sin(np.pi*x))/(1.1 + np.sin(np.pi*y)) + (1.1 + np.sin(10*np.pi*x))/(1.1 + np.sin(10*np.pi*y)))\n",
    "def a(x,y): return (1/6)*((1.1 + np.sin(np.pi*x))/(1.1 + np.sin(np.pi*y)) + (1.1 +np.sin(np.pi*x*10))/(1.1 + np.sin(np.pi*y*10)))\n",
    "\n",
    "\n",
    "sqrtinputsize = int(np.sqrt(inputsize))\n",
    "sqrtmidputsize = int(sqrtinputsize/2)\n",
    "midputsize = int(sqrtmidputsize**2)\n",
    "sqrtoutputsize = int(sqrtmidputsize/2)\n",
    "outputsize = int(sqrtoutputsize**2)\n",
    "\n",
    "h = 1/(sqrtinputsize-1)\n",
    "H = 1/(sqrtoutputsize-1)\n",
    "A0 = Poisson(inputsize)\n",
    "num_levels=2\n",
    "n=sqrtinputsize\n",
    "kx = np.zeros([n,n+1])\n",
    "ky = np.zeros([n+1,n])\n",
    "for i in range(n):\n",
    "    for j in range(n+1):\n",
    "        kx[i][j] = a((j-0.5)*h,i*h)\n",
    "for i in range(n+1):\n",
    "    for j in range(n):\n",
    "        ky[i][j] = a(j*h,(i-0.5)*h)    \n",
    "A1 = gallery.nonlinearPoisson((n,n), kx, ky)\n",
    "n = inputsize\n",
    "[X, Y] = np.meshgrid(np.linspace(0, 1, sqrtinputsize),np.linspace(0, 1, sqrtinputsize))\n",
    "RightF = rightf(X,Y)*h**2\n",
    "RightF = RightF.reshape(inputsize, 1)\n",
    "Ureal = u_real(X,Y).reshape(inputsize, 1)\n",
    "Media = a(X,Y)\n",
    "R1 = Restriction(inputsize)\n",
    "R2 = Restriction(midputsize)\n",
    "R  = np.matmul(R2, R1)\n",
    "P = 16*np.transpose(R)"
   ]
  },
  {
   "cell_type": "markdown",
   "metadata": {},
   "source": [
    "GMM on fine grid"
   ]
  },
  {
   "cell_type": "code",
   "execution_count": 5,
   "metadata": {
    "scrolled": false
   },
   "outputs": [
    {
     "name": "stdout",
     "output_type": "stream",
     "text": [
      "Residual = 3.5927248734866715\n",
      "Interation = 1\n",
      "===================\n",
      "Residual = 0.7553956493914566\n",
      "Interation = 2\n",
      "===================\n",
      "Residual = 0.4231372304194774\n",
      "Interation = 3\n",
      "===================\n",
      "Residual = 0.2565432348291408\n",
      "Interation = 4\n",
      "===================\n",
      "Residual = 0.1677361351687203\n",
      "Interation = 5\n",
      "===================\n",
      "Residual = 0.11777478576867699\n",
      "Interation = 6\n",
      "===================\n",
      "Residual = 0.08765983478606477\n",
      "Interation = 7\n",
      "===================\n",
      "Residual = 0.06798474099365875\n",
      "Interation = 8\n",
      "===================\n",
      "Residual = 0.05411656856452637\n",
      "Interation = 9\n",
      "===================\n",
      "Residual = 0.04375293016562102\n",
      "Interation = 10\n",
      "===================\n",
      "Residual = 0.03569959955543512\n",
      "Interation = 11\n",
      "===================\n",
      "Residual = 0.029288693084142087\n",
      "Interation = 12\n",
      "===================\n",
      "Residual = 0.02411090787969425\n",
      "Interation = 13\n",
      "===================\n",
      "Residual = 0.01989253760561643\n",
      "Interation = 14\n",
      "===================\n",
      "Residual = 0.016437340729508206\n",
      "Interation = 15\n",
      "===================\n",
      "Residual = 0.013597513066413052\n",
      "Interation = 16\n",
      "===================\n",
      "Residual = 0.011258069304917871\n",
      "Interation = 17\n",
      "===================\n",
      "Residual = 0.009327695132727064\n",
      "Interation = 18\n",
      "===================\n",
      "Residual = 0.00773292406232773\n",
      "Interation = 19\n",
      "===================\n",
      "Residual = 0.006414154326171532\n",
      "Interation = 20\n",
      "===================\n",
      "Residual = 0.005322767441438841\n",
      "Interation = 21\n",
      "===================\n",
      "Residual = 0.004418957458671025\n",
      "Interation = 22\n",
      "===================\n",
      "Residual = 0.003670049044319221\n",
      "Interation = 23\n",
      "===================\n",
      "Residual = 0.003049169312141493\n",
      "Interation = 24\n",
      "===================\n",
      "Residual = 0.002534185504069609\n",
      "Interation = 25\n",
      "===================\n",
      "Residual = 0.0021068479273353446\n",
      "Interation = 26\n",
      "===================\n",
      "Residual = 0.0017520943772843872\n",
      "Interation = 27\n",
      "===================\n",
      "Residual = 0.0014574832724573172\n",
      "Interation = 28\n",
      "===================\n",
      "Residual = 0.0012127303054529452\n",
      "Interation = 29\n",
      "===================\n",
      "Residual = 0.0010093288679147924\n",
      "Interation = 30\n",
      "===================\n",
      "Residual = 0.0008402385734978689\n",
      "Interation = 31\n",
      "===================\n",
      "Residual = 0.0006996293133276933\n",
      "Interation = 32\n",
      "===================\n",
      "Residual = 0.0005826707050525373\n",
      "Interation = 33\n",
      "===================\n",
      "Residual = 0.00048535871575601606\n",
      "Interation = 34\n",
      "===================\n",
      "Residual = 0.0004043727721317789\n",
      "Interation = 35\n",
      "===================\n",
      "Residual = 0.00033695790456945144\n",
      "Interation = 36\n",
      "===================\n",
      "Residual = 0.00028082746889320826\n",
      "Interation = 37\n",
      "===================\n",
      "Residual = 0.00023408279852544261\n",
      "Interation = 38\n",
      "===================\n",
      "Residual = 0.0001951467981596841\n",
      "Interation = 39\n",
      "===================\n",
      "Residual = 0.00016270902672778294\n",
      "Interation = 40\n",
      "===================\n",
      "Residual = 0.00013568025582259233\n",
      "Interation = 41\n",
      "===================\n",
      "Residual = 0.00011315484811163038\n",
      "Interation = 42\n",
      "===================\n",
      "Residual = 9.437959388985255e-05\n",
      "Interation = 43\n",
      "===================\n",
      "Residual = 7.872788446006105e-05\n",
      "Interation = 44\n",
      "===================\n",
      "Residual = 6.567829832520485e-05\n",
      "Interation = 45\n",
      "===================\n",
      "Residual = 5.479683835771845e-05\n",
      "Interation = 46\n",
      "===================\n",
      "Residual = 4.572219127351274e-05\n",
      "Interation = 47\n",
      "===================\n",
      "Residual = 3.815349026546964e-05\n",
      "Interation = 48\n",
      "===================\n",
      "Residual = 3.1840151933882854e-05\n",
      "Interation = 49\n",
      "===================\n",
      "Residual = 2.657343288436944e-05\n",
      "Interation = 50\n",
      "===================\n",
      "Residual = 2.2179412666034623e-05\n",
      "Interation = 51\n",
      "===================\n",
      "Residual = 1.8513160257255075e-05\n",
      "Interation = 52\n",
      "===================\n",
      "Residual = 1.545388300687485e-05\n",
      "Interation = 53\n",
      "===================\n",
      "Residual = 1.2900891478968877e-05\n",
      "Interation = 54\n",
      "===================\n",
      "Residual = 1.0770242027581592e-05\n",
      "Interation = 55\n",
      "===================\n",
      "Residual = 8.991942638578252e-06\n",
      "Interation = 56\n",
      "===================\n",
      "Residual = 7.507626953146212e-06\n",
      "Interation = 57\n",
      "===================\n",
      "Residual = 6.268617618326407e-06\n",
      "Interation = 58\n",
      "===================\n",
      "Residual = 5.234313460048634e-06\n",
      "Interation = 59\n",
      "===================\n",
      "Residual = 4.370846084784093e-06\n",
      "Interation = 60\n",
      "===================\n",
      "Residual = 3.649960673615981e-06\n",
      "Interation = 61\n",
      "===================\n",
      "Residual = 3.0480834136568325e-06\n",
      "Interation = 62\n",
      "===================\n",
      "Residual = 2.5455443108468615e-06\n",
      "Interation = 63\n",
      "===================\n",
      "Residual = 2.1259293958063303e-06\n",
      "Interation = 64\n",
      "===================\n",
      "Residual = 1.775540708178533e-06\n",
      "Interation = 65\n",
      "===================\n",
      "Residual = 1.4829460633687318e-06\n",
      "Interation = 66\n",
      "===================\n",
      "Residual = 1.2386036253577175e-06\n",
      "Interation = 67\n",
      "===================\n",
      "Residual = 1.034548823801954e-06\n",
      "Interation = 68\n",
      "===================\n",
      "Residual = 8.641332382863827e-07\n",
      "Interation = 69\n",
      "===================\n",
      "Residual = 7.218067780008726e-07\n",
      "Interation = 70\n",
      "===================\n",
      "Residual = 6.029360007711958e-07\n",
      "Interation = 71\n",
      "===================\n",
      "Residual = 5.036525139171583e-07\n",
      "Interation = 72\n",
      "===================\n",
      "Residual = 4.207264993808272e-07\n",
      "Interation = 73\n",
      "===================\n",
      "Residual = 3.5146118727456834e-07\n",
      "Interation = 74\n",
      "===================\n",
      "Residual = 2.936047733737361e-07\n",
      "Interation = 75\n",
      "===================\n",
      "Residual = 2.4527693340579154e-07\n",
      "Interation = 76\n",
      "===================\n",
      "Residual = 2.0490746979772727e-07\n",
      "Interation = 77\n",
      "===================\n",
      "Residual = 1.711851257077993e-07\n",
      "Interation = 78\n",
      "===================\n",
      "Residual = 1.4301483417361536e-07\n",
      "Interation = 79\n",
      "===================\n",
      "Residual = 1.1948205102886268e-07\n",
      "Interation = 80\n",
      "===================\n",
      "Residual = 9.98229689963309e-08\n",
      "Interation = 81\n",
      "===================\n",
      "Residual = 8.339965555000755e-08\n",
      "Interation = 82\n",
      "===================\n",
      "Residual = 6.96792919083789e-08\n",
      "Interation = 83\n",
      "===================\n",
      "Residual = 5.8216845125408586e-08\n",
      "Interation = 84\n",
      "===================\n",
      "Residual = 4.864058737941152e-08\n",
      "Interation = 85\n",
      "===================\n",
      "Residual = 4.064002467555486e-08\n",
      "Interation = 86\n",
      "===================\n",
      "Residual = 3.395579570546359e-08\n",
      "Interation = 87\n",
      "===================\n",
      "Residual = 2.8371249212960315e-08\n",
      "Interation = 88\n",
      "===================\n",
      "Residual = 2.370540696275938e-08\n",
      "Interation = 89\n",
      "===================\n",
      "Residual = 1.9807086871969916e-08\n",
      "Interation = 90\n",
      "===================\n",
      "Residual = 1.654999473688518e-08\n",
      "Interation = 91\n",
      "===================\n",
      "Residual = 1.38286259648158e-08\n",
      "Interation = 92\n",
      "===================\n",
      "Residual = 1.1554839864427076e-08\n",
      "Interation = 93\n",
      "===================\n",
      "Residual = 9.655003069894836e-09\n",
      "Interation = 94\n",
      "===================\n",
      "Residual = 8.067601833894684e-09\n",
      "Interation = 95\n",
      "===================\n",
      "Residual = 6.741238186434995e-09\n",
      "Interation = 96\n",
      "===================\n",
      "Residual = 5.632980658084603e-09\n",
      "Interation = 97\n",
      "===================\n",
      "Residual = 4.7069528593821996e-09\n",
      "Interation = 98\n",
      "===================\n",
      "Residual = 3.933186666186988e-09\n",
      "Interation = 99\n",
      "===================\n",
      "Residual = 3.286637100184813e-09\n",
      "Interation = 100\n",
      "===================\n",
      "Residual = 2.7463887178272262e-09\n",
      "Interation = 101\n",
      "===================\n",
      "Residual = 2.2949590277670914e-09\n",
      "Interation = 102\n",
      "===================\n",
      "Residual = 1.9177428440362947e-09\n",
      "Interation = 103\n",
      "===================\n",
      "Residual = 1.602538728972271e-09\n",
      "Interation = 104\n",
      "===================\n",
      "Residual = 1.3391483492607296e-09\n",
      "Interation = 105\n",
      "===================\n",
      "Residual = 1.1190540033360976e-09\n",
      "Interation = 106\n",
      "===================\n",
      "Residual = 9.351389381960301e-10\n",
      "Interation = 107\n",
      "===================\n",
      "Residual = 7.814536064575894e-10\n",
      "Interation = 108\n",
      "===================\n",
      "Residual = 6.530290884149482e-10\n",
      "Interation = 109\n",
      "===================\n",
      "Residual = 5.457126531910712e-10\n",
      "Interation = 110\n",
      "===================\n",
      "Residual = 4.5603270222277214e-10\n",
      "Interation = 111\n",
      "===================\n",
      "Residual = 3.8109304397797544e-10\n",
      "Interation = 112\n",
      "===================\n",
      "Residual = 3.1847003913133836e-10\n",
      "Interation = 113\n",
      "===================\n",
      "Residual = 2.6613860800633423e-10\n",
      "Interation = 114\n",
      "===================\n",
      "Residual = 2.2240619699642211e-10\n",
      "Interation = 115\n",
      "===================\n",
      "Residual = 1.8586109291495957e-10\n",
      "Interation = 116\n",
      "===================\n",
      "Residual = 1.553222101293131e-10\n",
      "Interation = 117\n",
      "===================\n",
      "Residual = 1.2980161283537444e-10\n",
      "Interation = 118\n",
      "===================\n",
      "Residual = 1.0847450660710874e-10\n",
      "Interation = 119\n",
      "===================\n"
     ]
    },
    {
     "name": "stdout",
     "output_type": "stream",
     "text": [
      "Residual = 9.065082535870549e-11\n",
      "Interation = 120\n",
      "===================\n"
     ]
    }
   ],
   "source": [
    "GMM_U, GMM_Res = Multigrid_circle(inputsize, A1.to_full(), RightF, R, s, w, error)"
   ]
  },
  {
   "cell_type": "markdown",
   "metadata": {},
   "source": [
    "Error GMM on fine grid"
   ]
  },
  {
   "cell_type": "code",
   "execution_count": 6,
   "metadata": {},
   "outputs": [
    {
     "name": "stdout",
     "output_type": "stream",
     "text": [
      "Energy norm: \n",
      "1.3534826996966005\n",
      "L2 norm: \n",
      "0.21210340044856865\n",
      "H1 norm: \n",
      "2.2968036851629785\n",
      "Energy norm: \n",
      "0.19426106599756196\n",
      "L2 norm: \n",
      "0.42420680089713736\n",
      "H1 norm: \n",
      "0.24865425164444718\n"
     ]
    }
   ],
   "source": [
    "UREAL = Ureal.reshape(sqrtinputsize,sqrtinputsize)\n",
    "GMMU = GMM_U.reshape(sqrtinputsize,sqrtinputsize)\n",
    "deltaU = GMMU - UREAL\n",
    "\n",
    "energynorm = np.sqrt(np.sum(np.multiply(np.multiply(np.gradient(UREAL,h,axis=0),np.gradient(UREAL,h,axis=0)),Media)*(h**2))+np.sum(np.multiply(np.multiply(np.gradient(UREAL,h,axis=1),np.gradient(UREAL,h,axis=1)),Media)*(h**2)))\n",
    "l2norm = np.sqrt((np.linalg.norm(UREAL)**2)*(h**2))\n",
    "h1norm = np.sqrt((np.linalg.norm(np.gradient(UREAL,h,axis=0))**2+np.linalg.norm(np.gradient(UREAL,h,axis=1))**2+np.linalg.norm(UREAL)**2)*(h**2))\n",
    "\n",
    "print('Energy norm: ')\n",
    "print(np.sqrt(np.sum(np.multiply(np.multiply(np.gradient(deltaU,h,axis=0),np.gradient(deltaU,h,axis=0)),Media)*(h**2))+np.sum(np.multiply(np.multiply(np.gradient(deltaU,h,axis=1),np.gradient(deltaU,h,axis=1)),Media)*(h**2))))\n",
    "print('L2 norm: ')\n",
    "print(np.sqrt((np.linalg.norm(deltaU)**2)*(h**2)))\n",
    "print('H1 norm: ')\n",
    "print(np.sqrt((np.linalg.norm(np.gradient(deltaU,h,axis=0))**2+np.linalg.norm(np.gradient(deltaU,h,axis=1))**2+np.linalg.norm(deltaU)**2)*(h**2)))\n",
    "\n",
    "print('Energy norm: ')\n",
    "print(np.sqrt(np.sum(np.multiply(np.multiply(np.gradient(deltaU,h,axis=0),np.gradient(deltaU,h,axis=0)),Media)*(h**2))+np.sum(np.multiply(np.multiply(np.gradient(deltaU,h,axis=1),np.gradient(deltaU,h,axis=1)),Media)*(h**2)))/energynorm)\n",
    "print('L2 norm: ')\n",
    "print(np.sqrt((np.linalg.norm(deltaU)**2)*(h**2))/l2norm)\n",
    "print('H1 norm: ')\n",
    "print(np.sqrt((np.linalg.norm(np.gradient(deltaU,h,axis=0))**2+np.linalg.norm(np.gradient(deltaU,h,axis=1))**2+np.linalg.norm(deltaU)**2)*(h**2))/h1norm)"
   ]
  },
  {
   "cell_type": "markdown",
   "metadata": {},
   "source": [
    "Solution"
   ]
  },
  {
   "cell_type": "code",
   "execution_count": 7,
   "metadata": {},
   "outputs": [
    {
     "data": {
      "text/plain": [
       "<matplotlib.colorbar.Colorbar at 0x160f32e80>"
      ]
     },
     "execution_count": 7,
     "metadata": {},
     "output_type": "execute_result"
    },
    {
     "data": {
      "image/png": "[encoded data removed]",
      "text/plain": [
       "<Figure size 432x288 with 2 Axes>"
      ]
     },
     "metadata": {
      "needs_background": "light"
     },
     "output_type": "display_data"
    }
   ],
   "source": [
    "plt.imshow(GMM_U.reshape(sqrtinputsize,sqrtinputsize))\n",
    "plt.colorbar()"
   ]
  },
  {
   "cell_type": "markdown",
   "metadata": {},
   "source": [
    "Residual"
   ]
  },
  {
   "cell_type": "code",
   "execution_count": 8,
   "metadata": {},
   "outputs": [
    {
     "data": {
      "text/plain": [
       "[<matplotlib.lines.Line2D at 0x160f8bc50>]"
      ]
     },
     "execution_count": 8,
     "metadata": {},
     "output_type": "execute_result"
    },
    {
     "data": {
      "image/png": "[encoded data removed]",
      "text/plain": [
       "<Figure size 432x288 with 1 Axes>"
      ]
     },
     "metadata": {
      "needs_background": "light"
     },
     "output_type": "display_data"
    }
   ],
   "source": [
    "plt.semilogy(GMM_Res)"
   ]
  },
  {
   "cell_type": "markdown",
   "metadata": {},
   "source": [
    "Radius"
   ]
  },
  {
   "cell_type": "code",
   "execution_count": 9,
   "metadata": {},
   "outputs": [
    {
     "name": "stdout",
     "output_type": "stream",
     "text": [
      "GMM_Radius = 0.8818747350602262\n"
     ]
    }
   ],
   "source": [
    "GMM_Radius = rho(inputsize,A1.to_full(),16*np.transpose(R),R,w,s)\n",
    "print('GMM_Radius = {}'.format(GMM_Radius))"
   ]
  },
  {
   "cell_type": "markdown",
   "metadata": {},
   "source": [
    "Global DMM optimization"
   ]
  },
  {
   "cell_type": "code",
   "execution_count": 10,
   "metadata": {},
   "outputs": [
    {
     "name": "stdout",
     "output_type": "stream",
     "text": [
      "======Section 1======\n",
      "L = 0.02\n",
      "rho = 0.8500348261301671\n",
      "===================\n",
      "L = 0.03\n",
      "rho = 0.8500158343268578\n",
      "===================\n",
      "L = 0.04\n",
      "rho = 0.8500029991893032\n",
      "===================\n",
      "L = 0.05\n",
      "rho = 0.8499960319683242\n",
      "===================\n",
      "L = 0.060000000000000005\n",
      "rho = 0.8499946679488697\n",
      "===================\n",
      "L = 0.07\n",
      "rho = 0.8499986643026556\n",
      "===================\n",
      "L = 0.08\n",
      "rho = 0.8500077981839866\n",
      "===================\n",
      "L = 0.09\n",
      "rho = 0.8500218650392274\n",
      "===================\n",
      "L = 0.09999999999999999\n",
      "rho = 0.8500406771044136\n",
      "===================\n",
      "L = 0.10999999999999999\n",
      "rho = 0.8500640620689143\n",
      "===================\n",
      "L = 0.11999999999999998\n",
      "rho = 0.8500918618859663\n",
      "===================\n",
      "L = 0.12999999999999998\n",
      "rho = 0.8501239317133862\n",
      "===================\n",
      "L = 0.13999999999999999\n",
      "rho = 0.8501601389699085\n",
      "===================\n",
      "L = 0.15\n",
      "rho = 0.850200362494435\n",
      "===================\n",
      "L = 0.16\n",
      "rho = 0.8502444917970722\n",
      "===================\n",
      "L = 0.17\n",
      "rho = 0.8502924263922136\n",
      "===================\n",
      "L = 0.18000000000000002\n",
      "rho = 0.8503440752051252\n",
      "===================\n",
      "L = 0.19000000000000003\n",
      "rho = 0.850399356044541\n",
      "===================\n",
      "L = 0.20000000000000004\n",
      "rho = 0.8504581951346873\n",
      "===================\n",
      "L = 0.21000000000000005\n",
      "rho = 0.8505205267009707\n",
      "===================\n",
      "L = 0.22000000000000006\n",
      "rho = 0.8505862926042622\n",
      "===================\n",
      "L = 0.23000000000000007\n",
      "rho = 0.8506554420193512\n",
      "===================\n",
      "L = 0.24000000000000007\n",
      "rho = 0.8507279311536879\n",
      "===================\n",
      "L = 0.25000000000000006\n",
      "rho = 0.8508037230030397\n",
      "===================\n",
      "L = 0.26000000000000006\n",
      "rho = 0.8508827871411255\n",
      "===================\n",
      "L = 0.2700000000000001\n",
      "rho = 0.8509650995406953\n",
      "===================\n",
      "L = 0.2800000000000001\n",
      "rho = 0.8510506424238825\n",
      "===================\n",
      "L = 0.2900000000000001\n",
      "rho = 0.8511394041399879\n",
      "===================\n",
      "L = 0.3000000000000001\n",
      "rho = 0.8512313790691538\n",
      "===================\n",
      "L = 0.3100000000000001\n",
      "rho = 0.8513265675506692\n",
      "===================\n",
      "L = 0.3200000000000001\n",
      "rho = 0.8514249758349048\n",
      "===================\n",
      "L = 0.3300000000000001\n",
      "rho = 0.8515266160581233\n",
      "===================\n",
      "L = 0.34000000000000014\n",
      "rho = 0.851631506239644\n",
      "===================\n",
      "L = 0.35000000000000014\n",
      "rho = 0.8517396703010656\n",
      "===================\n",
      "L = 0.36000000000000015\n",
      "rho = 0.8518511381074719\n",
      "===================\n",
      "L = 0.37000000000000016\n",
      "rho = 0.8519659455307618\n",
      "===================\n",
      "L = 0.38000000000000017\n",
      "rho = 0.8520841345354621\n",
      "===================\n",
      "L = 0.3900000000000002\n",
      "rho = 0.852205753287606\n",
      "===================\n",
      "L = 0.4000000000000002\n",
      "rho = 0.8523308562874854\n",
      "===================\n",
      "L = 0.4100000000000002\n",
      "rho = 0.8524595045273227\n",
      "===================\n",
      "L = 0.4200000000000002\n",
      "rho = 0.8525917656751592\n",
      "===================\n",
      "L = 0.4300000000000002\n",
      "rho = 0.8527277142865237\n",
      "===================\n",
      "L = 0.4400000000000002\n",
      "rho = 0.85286743204573\n",
      "===================\n",
      "L = 0.45000000000000023\n",
      "rho = 0.8530110080389649\n",
      "===================\n",
      "L = 0.46000000000000024\n",
      "rho = 0.8531585390616658\n",
      "===================\n",
      "L = 0.47000000000000025\n",
      "rho = 0.8533101299630645\n",
      "===================\n",
      "L = 0.48000000000000026\n",
      "rho = 0.8534658940311813\n",
      "===================\n",
      "L = 0.49000000000000027\n",
      "rho = 0.8536259534220205\n",
      "===================\n",
      "L = 0.5000000000000002\n",
      "rho = 0.8537904396372255\n",
      "===================\n",
      "L = 0.5100000000000002\n",
      "rho = 0.85395949405503\n",
      "===================\n",
      "L = 0.5200000000000002\n",
      "rho = 0.8541332685199904\n",
      "===================\n",
      "L = 0.5300000000000002\n",
      "rho = 0.8543119259977087\n",
      "===================\n",
      "L = 0.5400000000000003\n",
      "rho = 0.8544956413015862\n",
      "===================\n",
      "L = 0.5500000000000003\n",
      "rho = 0.8546846018995797\n",
      "===================\n",
      "L = 0.5600000000000003\n",
      "rho = 0.8548790088099922\n",
      "===================\n",
      "L = 0.5700000000000003\n",
      "rho = 0.8550790775965428\n",
      "===================\n",
      "L = 0.5800000000000003\n",
      "rho = 0.8552850394743293\n",
      "===================\n",
      "L = 0.5900000000000003\n",
      "rho = 0.8554971425398769\n",
      "===================\n",
      "L = 0.6000000000000003\n",
      "rho = 0.8557156531402509\n",
      "===================\n",
      "L = 0.6100000000000003\n",
      "rho = 0.8559408573982797\n",
      "===================\n",
      "L = 0.6200000000000003\n",
      "rho = 0.8561730629132782\n",
      "===================\n",
      "L = 0.6300000000000003\n",
      "rho = 0.8564126006593744\n",
      "===================\n",
      "L = 0.6400000000000003\n",
      "rho = 0.8566598271066429\n",
      "===================\n",
      "L = 0.6500000000000004\n",
      "rho = 0.8569151265938189\n",
      "===================\n",
      "L = 0.6600000000000004\n",
      "rho = 0.8571789139854825\n",
      "===================\n",
      "L = 0.6700000000000004\n",
      "rho = 0.8574516376513264\n",
      "===================\n",
      "L = 0.6800000000000004\n",
      "rho = 0.8577337828105821\n",
      "===================\n",
      "L = 0.6900000000000004\n",
      "rho = 0.858025875290962\n",
      "===================\n",
      "L = 0.7000000000000004\n",
      "rho = 0.8583284857587277\n",
      "===================\n",
      "L = 0.7100000000000004\n",
      "rho = 0.8586422344848521\n",
      "===================\n",
      "L = 0.7200000000000004\n",
      "rho = 0.858967796721883\n",
      "===================\n",
      "L = 0.7300000000000004\n",
      "rho = 0.8593059087772202\n",
      "===================\n",
      "L = 0.7400000000000004\n",
      "rho = 0.8596573748813026\n",
      "===================\n",
      "L = 0.7500000000000004\n",
      "rho = 0.8600230749638988\n",
      "===================\n",
      "L = 0.7600000000000005\n",
      "rho = 0.8604039734685736\n",
      "===================\n",
      "L = 0.7700000000000005\n",
      "rho = 0.8608011293547096\n",
      "===================\n",
      "L = 0.7800000000000005\n",
      "rho = 0.8612157074585328\n",
      "===================\n",
      "L = 0.7900000000000005\n",
      "rho = 0.8616489914096661\n",
      "===================\n",
      "L = 0.8000000000000005\n",
      "rho = 0.8621023983281443\n",
      "===================\n",
      "L = 0.8100000000000005\n",
      "rho = 0.8625774955587764\n",
      "===================\n",
      "L = 0.8200000000000005\n",
      "rho = 0.8630760197354631\n",
      "===================\n",
      "L = 0.8300000000000005\n",
      "rho = 0.8635998985076199\n",
      "===================\n",
      "L = 0.8400000000000005\n",
      "rho = 0.8641512753041943\n",
      "===================\n",
      "L = 0.8500000000000005\n",
      "rho = 0.864732537557602\n",
      "===================\n",
      "L = 0.8600000000000005\n",
      "rho = 0.8653463488597344\n",
      "===================\n",
      "L = 0.8700000000000006\n",
      "rho = 0.8659956855741464\n",
      "===================\n",
      "L = 0.8800000000000006\n",
      "rho = 0.8666838784814618\n",
      "===================\n",
      "L = 0.8900000000000006\n",
      "rho = 0.8674146600874807\n",
      "===================\n",
      "L = 0.9000000000000006\n",
      "rho = 0.868192218273992\n",
      "===================\n",
      "L = 0.9100000000000006\n",
      "rho = 0.8690212570198498\n",
      "===================\n",
      "L = 0.9200000000000006\n",
      "rho = 0.869907064964973\n",
      "===================\n",
      "L = 0.9300000000000006\n",
      "rho = 0.8708555926362685\n",
      "===================\n",
      "L = 0.9400000000000006\n",
      "rho = 0.8718735392121828\n",
      "===================\n",
      "L = 0.9500000000000006\n",
      "rho = 0.8729684497931168\n",
      "===================\n",
      "L = 0.9600000000000006\n",
      "rho = 0.8741488243092979\n",
      "===================\n",
      "L = 0.9700000000000006\n",
      "rho = 0.8754242395089997\n",
      "===================\n",
      "L = 0.9800000000000006\n",
      "rho = 0.876805486053083\n",
      "===================\n",
      "L = 0.9900000000000007\n",
      "rho = 0.8783047238037276\n",
      "===================\n",
      "L = 1.0000000000000007\n",
      "rho = 0.879935660273486\n",
      "===================\n",
      "======Section 2======\n",
      "the 0 steps\n",
      "rho = 0.881713760443639\n",
      "===================\n",
      "the 1 steps\n",
      "rho = 0.8817043477725331\n",
      "===================\n",
      "the 2 steps\n",
      "rho = 0.8816949600622436\n",
      "===================\n",
      "the 3 steps\n",
      "rho = 0.8816855972152315\n",
      "===================\n",
      "the 4 steps\n",
      "rho = 0.8816762591343945\n",
      "===================\n",
      "the 5 steps\n",
      "rho = 0.8816669457230641\n",
      "===================\n",
      "the 6 steps\n",
      "rho = 0.8816576568850045\n",
      "===================\n",
      "the 7 steps\n",
      "rho = 0.8816483925244094\n",
      "===================\n",
      "the 8 steps\n",
      "rho = 0.8816391525459015\n",
      "===================\n",
      "the 9 steps\n",
      "rho = 0.8816299368545295\n",
      "===================\n",
      "======End======\n"
     ]
    }
   ],
   "source": [
    "Rnew, wnew, Rhoold, Rhonew, Radius = homotopy_optimizer_GD(inputsize, A0, A1.to_full(), R,  2/3, s, \n",
    "                                                           learning_rate = 1e-6,accept_radius =\n",
    "                                                           GMM_Radius*10,step_length =  1e-2, lam = np.zeros([1,outputsize]))"
   ]
  },
  {
   "cell_type": "markdown",
   "metadata": {},
   "source": [
    "Global DMM on fine grid"
   ]
  },
  {
   "cell_type": "code",
   "execution_count": 11,
   "metadata": {},
   "outputs": [
    {
     "name": "stdout",
     "output_type": "stream",
     "text": [
      "Residual = 3.592658636857481\n",
      "Interation = 1\n",
      "===================\n",
      "Residual = 0.7554214690729105\n",
      "Interation = 2\n",
      "===================\n",
      "Residual = 0.4230575798489041\n",
      "Interation = 3\n",
      "===================\n",
      "Residual = 0.2563925516309482\n",
      "Interation = 4\n",
      "===================\n",
      "Residual = 0.16754061809942342\n",
      "Interation = 5\n",
      "===================\n",
      "Residual = 0.11755766156636697\n",
      "Interation = 6\n",
      "===================\n",
      "Residual = 0.08743980227241853\n",
      "Interation = 7\n",
      "===================\n",
      "Residual = 0.06777407328641245\n",
      "Interation = 8\n",
      "===================\n",
      "Residual = 0.05392171471214459\n",
      "Interation = 9\n",
      "===================\n",
      "Residual = 0.04357640714686739\n",
      "Interation = 10\n",
      "===================\n",
      "Residual = 0.03554170120865145\n",
      "Interation = 11\n",
      "===================\n",
      "Residual = 0.02914859452581379\n",
      "Interation = 12\n",
      "===================\n",
      "Residual = 0.023987282563870758\n",
      "Interation = 13\n",
      "===================\n",
      "Residual = 0.019783879900404477\n",
      "Interation = 14\n",
      "===================\n",
      "Residual = 0.016342128932789045\n",
      "Interation = 15\n",
      "===================\n",
      "Residual = 0.013514289288448424\n",
      "Interation = 16\n",
      "===================\n",
      "Residual = 0.011185476354352417\n",
      "Interation = 17\n",
      "===================\n",
      "Residual = 0.009264491032916437\n",
      "Interation = 18\n",
      "===================\n",
      "Residual = 0.007677984843905843\n",
      "Interation = 19\n",
      "===================\n",
      "Residual = 0.006366470685981474\n",
      "Interation = 20\n",
      "===================\n",
      "Residual = 0.005281438271217313\n",
      "Interation = 21\n",
      "===================\n",
      "Residual = 0.00438318189622371\n",
      "Interation = 22\n",
      "===================\n",
      "Residual = 0.0036391179757806666\n",
      "Interation = 23\n",
      "===================\n",
      "Residual = 0.003022456854215504\n",
      "Interation = 24\n",
      "===================\n",
      "Residual = 0.0025111407676968573\n",
      "Interation = 25\n",
      "===================\n",
      "Residual = 0.002086987230921208\n",
      "Interation = 26\n",
      "===================\n",
      "Residual = 0.0017349939973049916\n",
      "Interation = 27\n",
      "===================\n",
      "Residual = 0.0014427727696361252\n",
      "Interation = 28\n",
      "===================\n",
      "Residual = 0.001200086433739354\n",
      "Interation = 29\n",
      "===================\n",
      "Residual = 0.0009984700538833524\n",
      "Interation = 30\n",
      "===================\n",
      "Residual = 0.0008309199416084443\n",
      "Interation = 31\n",
      "===================\n",
      "Residual = 0.0006916382252024446\n",
      "Interation = 32\n",
      "===================\n",
      "Residual = 0.0005758227768107619\n",
      "Interation = 33\n",
      "===================\n",
      "Residual = 0.00047949427572274885\n",
      "Interation = 34\n",
      "===================\n",
      "Residual = 0.00039935372091095823\n",
      "Interation = 35\n",
      "===================\n",
      "Residual = 0.00033266494037008647\n",
      "Interation = 36\n",
      "===================\n",
      "Residual = 0.000277157642434164\n",
      "Interation = 37\n",
      "===================\n",
      "Residual = 0.00023094736387151463\n",
      "Interation = 38\n",
      "===================\n",
      "Residual = 0.00019246932813102663\n",
      "Interation = 39\n",
      "===================\n",
      "Residual = 0.0001604237638467599\n",
      "Interation = 40\n",
      "===================\n",
      "Residual = 0.0001337306722400953\n",
      "Interation = 41\n",
      "===================\n",
      "Residual = 0.00011149239037034818\n",
      "Interation = 42\n",
      "===================\n",
      "Residual = 9.296259067663329e-05\n",
      "Interation = 43\n",
      "===================\n",
      "Residual = 7.752059766978673e-05\n",
      "Interation = 44\n",
      "===================\n",
      "Residual = 6.465009989141307e-05\n",
      "Interation = 45\n",
      "===================\n",
      "Residual = 5.392149717193325e-05\n",
      "Interation = 46\n",
      "===================\n",
      "Residual = 4.497725623971756e-05\n",
      "Interation = 47\n",
      "===================\n",
      "Residual = 3.751975722286115e-05\n",
      "Interation = 48\n",
      "===================\n",
      "Residual = 3.130120353579767e-05\n",
      "Interation = 49\n",
      "===================\n",
      "Residual = 2.611524189540271e-05\n",
      "Interation = 50\n",
      "===================\n",
      "Residual = 2.1790000273724626e-05\n",
      "Interation = 51\n",
      "===================\n",
      "Residual = 1.818230204064099e-05\n",
      "Interation = 52\n",
      "===================\n",
      "Residual = 1.5172856161866603e-05\n",
      "Interation = 53\n",
      "===================\n",
      "Residual = 1.2662257674720298e-05\n",
      "Interation = 54\n",
      "===================\n",
      "Residual = 1.0567661023599577e-05\n",
      "Interation = 55\n",
      "===================\n",
      "Residual = 8.820012439899022e-06\n",
      "Interation = 56\n",
      "===================\n",
      "Residual = 7.361746805637831e-06\n",
      "Interation = 57\n",
      "===================\n",
      "Residual = 6.144870662099052e-06\n",
      "Interation = 58\n",
      "===================\n",
      "Residual = 5.129366306905698e-06\n",
      "Interation = 59\n",
      "===================\n",
      "Residual = 4.281862897738093e-06\n",
      "Interation = 60\n",
      "===================\n",
      "Residual = 3.5745297182756693e-06\n",
      "Interation = 61\n",
      "===================\n",
      "Residual = 2.984154306176117e-06\n",
      "Interation = 62\n",
      "===================\n",
      "Residual = 2.4913744183656325e-06\n",
      "Interation = 63\n",
      "===================\n",
      "Residual = 2.0800380957847915e-06\n",
      "Interation = 64\n",
      "===================\n",
      "Residual = 1.7366703603388188e-06\n",
      "Interation = 65\n",
      "===================\n",
      "Residual = 1.4500287259335281e-06\n",
      "Interation = 66\n",
      "===================\n",
      "Residual = 1.2107326851780948e-06\n",
      "Interation = 67\n",
      "===================\n",
      "Residual = 1.0109548323492533e-06\n",
      "Interation = 68\n",
      "===================\n",
      "Residual = 8.4416331534296e-07\n",
      "Interation = 69\n",
      "===================\n",
      "Residual = 7.049070979060477e-07\n",
      "Interation = 70\n",
      "===================\n",
      "Residual = 5.886368617744926e-07\n",
      "Interation = 71\n",
      "===================\n",
      "Residual = 4.915556590383875e-07\n",
      "Interation = 72\n",
      "===================\n",
      "Residual = 4.10494323943047e-07\n",
      "Interation = 73\n",
      "===================\n",
      "Residual = 3.428075556492882e-07\n",
      "Interation = 74\n",
      "===================\n",
      "Residual = 2.862872318654137e-07\n",
      "Interation = 75\n",
      "===================\n",
      "Residual = 2.390900743904599e-07\n",
      "Interation = 76\n",
      "===================\n",
      "Residual = 1.996773103025191e-07\n",
      "Interation = 77\n",
      "===================\n",
      "Residual = 1.6676432643220718e-07\n",
      "Interation = 78\n",
      "===================\n",
      "Residual = 1.3927864104356368e-07\n",
      "Interation = 79\n",
      "===================\n",
      "Residual = 1.1632485199467457e-07\n",
      "Interation = 80\n",
      "===================\n",
      "Residual = 9.715537348557838e-08\n",
      "Interation = 81\n",
      "===================\n",
      "Residual = 8.114601411176041e-08\n",
      "Interation = 82\n",
      "===================\n",
      "Residual = 6.777559625272757e-08\n",
      "Interation = 83\n",
      "===================\n",
      "Residual = 5.6608943920458315e-08\n",
      "Interation = 84\n",
      "===================\n",
      "Residual = 4.7282675804499816e-08\n",
      "Interation = 85\n",
      "===================\n",
      "Residual = 3.949336442758531e-08\n",
      "Interation = 86\n",
      "===================\n",
      "Residual = 3.2987628852200124e-08\n",
      "Interation = 87\n",
      "===================\n",
      "Residual = 2.755387698499847e-08\n",
      "Interation = 88\n",
      "===================\n",
      "Residual = 2.3015414821162037e-08\n",
      "Interation = 89\n",
      "===================\n",
      "Residual = 1.9224684725770798e-08\n",
      "Interation = 90\n",
      "===================\n",
      "Residual = 1.6058454026564147e-08\n",
      "Interation = 91\n",
      "===================\n",
      "Residual = 1.3413811628599852e-08\n",
      "Interation = 92\n",
      "===================\n",
      "Residual = 1.120481023718755e-08\n",
      "Interation = 93\n",
      "===================\n",
      "Residual = 9.359668632177156e-09\n",
      "Interation = 94\n",
      "===================\n",
      "Residual = 7.818437070560425e-09\n",
      "Interation = 95\n",
      "===================\n",
      "Residual = 6.531048243654328e-09\n",
      "Interation = 96\n",
      "===================\n",
      "Residual = 5.455681544107607e-09\n",
      "Interation = 97\n",
      "===================\n",
      "Residual = 4.557411072087793e-09\n",
      "Interation = 98\n",
      "===================\n",
      "Residual = 3.807066000379847e-09\n",
      "Interation = 99\n",
      "===================\n",
      "Residual = 3.1802838217346583e-09\n",
      "Interation = 100\n",
      "===================\n",
      "Residual = 2.6567073370420346e-09\n",
      "Interation = 101\n",
      "===================\n",
      "Residual = 2.2193428095171273e-09\n",
      "Interation = 102\n",
      "===================\n",
      "Residual = 1.8539924677229818e-09\n",
      "Interation = 103\n",
      "===================\n",
      "Residual = 1.5487943109236226e-09\n",
      "Interation = 104\n",
      "===================\n",
      "Residual = 1.2938436107750685e-09\n",
      "Interation = 105\n",
      "===================\n",
      "Residual = 1.080867951129402e-09\n",
      "Interation = 106\n",
      "===================\n",
      "Residual = 9.029531968107513e-10\n",
      "Interation = 107\n",
      "===================\n",
      "Residual = 7.543275505659805e-10\n",
      "Interation = 108\n",
      "===================\n",
      "Residual = 6.301697742322698e-10\n",
      "Interation = 109\n",
      "===================\n",
      "Residual = 5.264495419945463e-10\n",
      "Interation = 110\n",
      "===================\n",
      "Residual = 4.398031778987534e-10\n",
      "Interation = 111\n",
      "===================\n",
      "Residual = 3.674183172625244e-10\n",
      "Interation = 112\n",
      "===================\n",
      "Residual = 3.0694901499291315e-10\n",
      "Interation = 113\n",
      "===================\n",
      "Residual = 2.564314918767916e-10\n",
      "Interation = 114\n",
      "===================\n",
      "Residual = 2.1423085119520733e-10\n",
      "Interation = 115\n",
      "===================\n",
      "Residual = 1.789746897485273e-10\n",
      "Interation = 116\n",
      "===================\n",
      "Residual = 1.4952215695540322e-10\n",
      "Interation = 117\n",
      "===================\n",
      "Residual = 1.2491577505367225e-10\n",
      "Interation = 118\n",
      "===================\n",
      "Residual = 1.0436050976552522e-10\n",
      "Interation = 119\n",
      "===================\n"
     ]
    },
    {
     "name": "stdout",
     "output_type": "stream",
     "text": [
      "Residual = 8.718702153267382e-11\n",
      "Interation = 120\n",
      "===================\n"
     ]
    }
   ],
   "source": [
    "DMM_U, DMM_Res = Multigrid_circle(inputsize, A1.to_full(), RightF, Rnew, s, wnew, error)"
   ]
  },
  {
   "cell_type": "markdown",
   "metadata": {},
   "source": [
    "Error DMM on fine grid"
   ]
  },
  {
   "cell_type": "code",
   "execution_count": 12,
   "metadata": {},
   "outputs": [
    {
     "name": "stdout",
     "output_type": "stream",
     "text": [
      "Energy norm: \n",
      "1.3534826996980114\n",
      "L2 norm: \n",
      "0.21210340044895765\n",
      "H1 norm: \n",
      "2.296803685167784\n",
      "Energy norm: \n",
      "0.19426106599776446\n",
      "L2 norm: \n",
      "0.42420680089791535\n",
      "H1 norm: \n",
      "0.24865425164496743\n"
     ]
    }
   ],
   "source": [
    "UREAL = Ureal.reshape(sqrtinputsize,sqrtinputsize)\n",
    "DMMU = DMM_U.reshape(sqrtinputsize,sqrtinputsize)\n",
    "deltaU = DMMU - UREAL\n",
    "\n",
    "energynorm = np.sqrt(np.sum(np.multiply(np.multiply(np.gradient(UREAL,h,axis=0),np.gradient(UREAL,h,axis=0)),Media)*(h**2))+np.sum(np.multiply(np.multiply(np.gradient(UREAL,h,axis=1),np.gradient(UREAL,h,axis=1)),Media)*(h**2)))\n",
    "l2norm = np.sqrt((np.linalg.norm(UREAL)**2)*(h**2))\n",
    "h1norm = np.sqrt((np.linalg.norm(np.gradient(UREAL,h,axis=0))**2+np.linalg.norm(np.gradient(UREAL,h,axis=1))**2+np.linalg.norm(UREAL)**2)*(h**2))\n",
    "\n",
    "print('Energy norm: ')\n",
    "print(np.sqrt(np.sum(np.multiply(np.multiply(np.gradient(deltaU,h,axis=0),np.gradient(deltaU,h,axis=0)),Media)*(h**2))+np.sum(np.multiply(np.multiply(np.gradient(deltaU,h,axis=1),np.gradient(deltaU,h,axis=1)),Media)*(h**2))))\n",
    "print('L2 norm: ')\n",
    "print(np.sqrt((np.linalg.norm(deltaU)**2)*(h**2)))\n",
    "print('H1 norm: ')\n",
    "print(np.sqrt((np.linalg.norm(np.gradient(deltaU,h,axis=0))**2+np.linalg.norm(np.gradient(deltaU,h,axis=1))**2+np.linalg.norm(deltaU)**2)*(h**2)))\n",
    "\n",
    "print('Energy norm: ')\n",
    "print(np.sqrt(np.sum(np.multiply(np.multiply(np.gradient(deltaU,h,axis=0),np.gradient(deltaU,h,axis=0)),Media)*(h**2))+np.sum(np.multiply(np.multiply(np.gradient(deltaU,h,axis=1),np.gradient(deltaU,h,axis=1)),Media)*(h**2)))/energynorm)\n",
    "print('L2 norm: ')\n",
    "print(np.sqrt((np.linalg.norm(deltaU)**2)*(h**2))/l2norm)\n",
    "print('H1 norm: ')\n",
    "print(np.sqrt((np.linalg.norm(np.gradient(deltaU,h,axis=0))**2+np.linalg.norm(np.gradient(deltaU,h,axis=1))**2+np.linalg.norm(deltaU)**2)*(h**2))/h1norm)"
   ]
  },
  {
   "cell_type": "markdown",
   "metadata": {},
   "source": [
    "Solution"
   ]
  },
  {
   "cell_type": "code",
   "execution_count": 13,
   "metadata": {},
   "outputs": [
    {
     "data": {
      "text/plain": [
       "<matplotlib.colorbar.Colorbar at 0x119ce96a0>"
      ]
     },
     "execution_count": 13,
     "metadata": {},
     "output_type": "execute_result"
    },
    {
     "data": {
      "image/png": "[encoded data removed]",
      "text/plain": [
       "<Figure size 432x288 with 2 Axes>"
      ]
     },
     "metadata": {
      "needs_background": "light"
     },
     "output_type": "display_data"
    }
   ],
   "source": [
    "plt.imshow(DMM_U.reshape(sqrtinputsize,sqrtinputsize))\n",
    "plt.colorbar()"
   ]
  },
  {
   "cell_type": "markdown",
   "metadata": {},
   "source": [
    "Residual"
   ]
  },
  {
   "cell_type": "code",
   "execution_count": 14,
   "metadata": {},
   "outputs": [
    {
     "data": {
      "text/plain": [
       "[<matplotlib.lines.Line2D at 0x121b8a390>]"
      ]
     },
     "execution_count": 14,
     "metadata": {},
     "output_type": "execute_result"
    },
    {
     "data": {
      "image/png": "[encoded data removed]",
      "text/plain": [
       "<Figure size 432x288 with 1 Axes>"
      ]
     },
     "metadata": {
      "needs_background": "light"
     },
     "output_type": "display_data"
    }
   ],
   "source": [
    "plt.semilogy(DMM_Res)"
   ]
  },
  {
   "cell_type": "markdown",
   "metadata": {},
   "source": [
    "Radius"
   ]
  },
  {
   "cell_type": "code",
   "execution_count": 15,
   "metadata": {},
   "outputs": [
    {
     "name": "stdout",
     "output_type": "stream",
     "text": [
      "DMM_Radius = 0.8816299368545295\n"
     ]
    }
   ],
   "source": [
    "DMM_Radius = Rhonew\n",
    "print('DMM_Radius = {}'.format(DMM_Radius))"
   ]
  },
  {
   "cell_type": "markdown",
   "metadata": {},
   "source": [
    "Rrestriction matrix after optimization"
   ]
  },
  {
   "cell_type": "code",
   "execution_count": 16,
   "metadata": {},
   "outputs": [
    {
     "data": {
      "text/plain": [
       "<matplotlib.colorbar.Colorbar at 0x121cf15c0>"
      ]
     },
     "execution_count": 16,
     "metadata": {},
     "output_type": "execute_result"
    },
    {
     "data": {
      "image/png": "[encoded data removed]",
      "text/plain": [
       "<Figure size 432x288 with 2 Axes>"
      ]
     },
     "metadata": {
      "needs_background": "light"
     },
     "output_type": "display_data"
    }
   ],
   "source": [
    "plt.imshow(Rnew)\n",
    "plt.colorbar()"
   ]
  },
  {
   "cell_type": "markdown",
   "metadata": {},
   "source": [
    "Rrestriction matrix (log(abs()) after optimization"
   ]
  },
  {
   "cell_type": "code",
   "execution_count": 17,
   "metadata": {},
   "outputs": [
    {
     "data": {
      "text/plain": [
       "<matplotlib.colorbar.Colorbar at 0x13109f668>"
      ]
     },
     "execution_count": 17,
     "metadata": {},
     "output_type": "execute_result"
    },
    {
     "data": {
      "image/png": "[encoded data removed]",
      "text/plain": [
       "<Figure size 432x288 with 2 Axes>"
      ]
     },
     "metadata": {
      "needs_background": "light"
     },
     "output_type": "display_data"
    }
   ],
   "source": [
    "plt.imshow(np.log(np.abs(Rnew)))\n",
    "plt.colorbar()"
   ]
  },
  {
   "cell_type": "markdown",
   "metadata": {},
   "source": [
    "Basis after optimization"
   ]
  },
  {
   "cell_type": "code",
   "execution_count": 18,
   "metadata": {},
   "outputs": [
    {
     "data": {
      "text/plain": [
       "<matplotlib.colorbar.Colorbar at 0x1311867f0>"
      ]
     },
     "execution_count": 18,
     "metadata": {},
     "output_type": "execute_result"
    },
    {
     "data": {
      "image/png": "[encoded data removed]",
      "text/plain": [
       "<Figure size 432x288 with 2 Axes>"
      ]
     },
     "metadata": {
      "needs_background": "light"
     },
     "output_type": "display_data"
    }
   ],
   "source": [
    "basis1 = Rnew[int(0.45*outputsize)][:]\n",
    "basis1 = basis1.reshape([sqrtinputsize,sqrtinputsize])\n",
    "plt.imshow(basis1)\n",
    "plt.colorbar()"
   ]
  },
  {
   "cell_type": "code",
   "execution_count": 19,
   "metadata": {},
   "outputs": [
    {
     "data": {
      "image/png": "[encoded data removed]",
      "text/plain": [
       "<Figure size 432x288 with 1 Axes>"
      ]
     },
     "metadata": {
      "needs_background": "light"
     },
     "output_type": "display_data"
    }
   ],
   "source": [
    "from matplotlib import pyplot as plt\n",
    "import numpy as np\n",
    "from mpl_toolkits.mplot3d import Axes3D\n",
    "size=basis1.shape\n",
    "Y=np.arange(0,size[0],1)     \n",
    "X=np.arange(0,size[1],1)\n",
    "\n",
    "X,Y=np.meshgrid(X,Y)    \n",
    "fig=plt.figure()\n",
    "ax=fig.gca(projection='3d') \n",
    "ax.plot_surface(X,Y,basis1)\n",
    "plt.show()"
   ]
  },
  {
   "cell_type": "code",
   "execution_count": 20,
   "metadata": {},
   "outputs": [
    {
     "data": {
      "text/plain": [
       "[<matplotlib.lines.Line2D at 0x1418f7908>]"
      ]
     },
     "execution_count": 20,
     "metadata": {},
     "output_type": "execute_result"
    },
    {
     "data": {
      "image/png": "[encoded data removed]",
      "text/plain": [
       "<Figure size 432x288 with 1 Axes>"
      ]
     },
     "metadata": {
      "needs_background": "light"
     },
     "output_type": "display_data"
    }
   ],
   "source": [
    "plt.plot(basis1[:][int(sqrtinputsize/2)])"
   ]
  },
  {
   "cell_type": "markdown",
   "metadata": {},
   "source": [
    "Basis after optimization (log(abs()))"
   ]
  },
  {
   "cell_type": "code",
   "execution_count": 21,
   "metadata": {},
   "outputs": [
    {
     "data": {
      "text/plain": [
       "<matplotlib.colorbar.Colorbar at 0x1309b6d30>"
      ]
     },
     "execution_count": 21,
     "metadata": {},
     "output_type": "execute_result"
    },
    {
     "data": {
      "image/png": "[encoded data removed]",
      "text/plain": [
       "<Figure size 432x288 with 2 Axes>"
      ]
     },
     "metadata": {
      "needs_background": "light"
     },
     "output_type": "display_data"
    }
   ],
   "source": [
    "plt.imshow(np.log(np.abs(basis1)))\n",
    "plt.colorbar()"
   ]
  },
  {
   "cell_type": "code",
   "execution_count": 22,
   "metadata": {},
   "outputs": [
    {
     "data": {
      "image/png": "[encoded data removed]",
      "text/plain": [
       "<Figure size 432x288 with 1 Axes>"
      ]
     },
     "metadata": {
      "needs_background": "light"
     },
     "output_type": "display_data"
    }
   ],
   "source": [
    "fig=plt.figure()\n",
    "ax=fig.gca(projection='3d') \n",
    "ax.plot_surface(X,Y,np.log(np.abs(basis1)))\n",
    "plt.show()"
   ]
  },
  {
   "cell_type": "code",
   "execution_count": 23,
   "metadata": {},
   "outputs": [
    {
     "data": {
      "text/plain": [
       "[<matplotlib.lines.Line2D at 0x121d6c1d0>]"
      ]
     },
     "execution_count": 23,
     "metadata": {},
     "output_type": "execute_result"
    },
    {
     "data": {
      "image/png": "[encoded data removed]",
      "text/plain": [
       "<Figure size 432x288 with 1 Axes>"
      ]
     },
     "metadata": {
      "needs_background": "light"
     },
     "output_type": "display_data"
    }
   ],
   "source": [
    "plt.plot(np.log(np.abs(basis1[:][int(sqrtinputsize/2)])))"
   ]
  },
  {
   "cell_type": "markdown",
   "metadata": {},
   "source": [
    "FEM use basis from global DMM"
   ]
  },
  {
   "cell_type": "code",
   "execution_count": 24,
   "metadata": {},
   "outputs": [
    {
     "name": "stdout",
     "output_type": "stream",
     "text": [
      "Energy norm: \n",
      "1.8566438237191578\n",
      "L2 norm: \n",
      "0.21598018567232133\n",
      "H1 norm: \n",
      "2.8399883322500075\n",
      "Energy norm: \n",
      "0.26647818140144863\n",
      "L2 norm: \n",
      "0.4319603713446428\n",
      "H1 norm: \n",
      "0.3074599618575925\n"
     ]
    },
    {
     "data": {
      "image/png": "[encoded data removed]",
      "text/plain": [
       "<Figure size 432x288 with 2 Axes>"
      ]
     },
     "metadata": {
      "needs_background": "light"
     },
     "output_type": "display_data"
    }
   ],
   "source": [
    "\n",
    "Anew = np.zeros([outputsize,outputsize])\n",
    "[X1, Y1] = np.meshgrid(np.linspace(0, 1, sqrtinputsize),np.linspace(0, 1, sqrtinputsize))\n",
    "[X2, Y2] = np.meshgrid(np.linspace(0, 1, sqrtoutputsize),np.linspace(0, 1, sqrtoutputsize))\n",
    "A = a(X1,Y1)\n",
    "for i in range(outputsize):\n",
    "    for j in range(outputsize):\n",
    "        basisi = Rnew[i][:].reshape([sqrtinputsize,sqrtinputsize])\n",
    "        basisj = Rnew[j][:].reshape([sqrtinputsize,sqrtinputsize])\n",
    "        gxbasisi = np.gradient(basisi,axis=0)/h\n",
    "        gybasisi = np.gradient(basisi,axis=1)/h\n",
    "        gxbasisj = np.gradient(basisj,axis=0)/h\n",
    "        gybasisj = np.gradient(basisj,axis=1)/h\n",
    "        Anew[i][j]=(np.sum(A*gxbasisi*gxbasisj)+np.sum(A*gybasisi*gybasisj))*(H**2)\n",
    "        \n",
    "Fnew = np.zeros([outputsize,1])\n",
    "for i in range(outputsize):\n",
    "    basisi = Rnew[i][:].reshape([sqrtinputsize,sqrtinputsize])\n",
    "    F = rightf(X1,Y1)\n",
    "    Fnew[i]=np.sum(F*basisi)*(H**2)\n",
    "    \n",
    "UnewCoarse = np.linalg.solve(Anew,Fnew)\n",
    "Unew = np.zeros([sqrtinputsize,sqrtinputsize])\n",
    "for i in range(outputsize):\n",
    "    basisi = Rnew[i][:].reshape([sqrtinputsize,sqrtinputsize])\n",
    "    Unew = Unew + UnewCoarse[i]*basisi\n",
    "\n",
    "plt.imshow(Unew)\n",
    "plt.colorbar()\n",
    "\n",
    "UREAL = u_real(X1,Y1).reshape(sqrtinputsize,sqrtinputsize)\n",
    "deltaU = Unew - UREAL\n",
    "A = a(X1,Y1)\n",
    "\n",
    "energynorm = np.sqrt(np.sum(np.multiply(np.multiply(np.gradient(UREAL,h,axis=0),np.gradient(UREAL,h,axis=0)),A)*(h**2))+np.sum(np.multiply(np.multiply(np.gradient(UREAL,h,axis=1),np.gradient(UREAL,h,axis=1)),A)*(h**2)))\n",
    "l2norm = np.sqrt((np.sum(UREAL**2))*(h**2))\n",
    "h1norm = np.sqrt((np.linalg.norm(np.gradient(UREAL,h,axis=0))**2+np.linalg.norm(np.gradient(UREAL,h,axis=1))**2+np.linalg.norm(UREAL)**2)*(h**2))\n",
    "print('Energy norm: ')\n",
    "print(np.sqrt(np.sum(np.multiply(np.multiply(np.gradient(deltaU,h,axis=0),np.gradient(deltaU,h,axis=0)),A)*(h**2))+np.sum(np.multiply(np.multiply(np.gradient(deltaU,h,axis=1),np.gradient(deltaU,h,axis=1)),A)*(h**2))))\n",
    "print('L2 norm: ')\n",
    "print(np.sqrt((np.linalg.norm(deltaU)**2)*(h**2)))\n",
    "print('H1 norm: ')\n",
    "print(np.sqrt((np.linalg.norm(np.gradient(deltaU,h,axis=0))**2+np.linalg.norm(np.gradient(deltaU,h,axis=1))**2+np.linalg.norm(deltaU)**2)*(h**2)))\n",
    "\n",
    "\n",
    "\n",
    "print('Energy norm: ')\n",
    "print(np.sqrt(np.sum(np.multiply(np.multiply(np.gradient(deltaU,h,axis=0),np.gradient(deltaU,h,axis=0)),A)*(h**2))+np.sum(np.multiply(np.multiply(np.gradient(deltaU,h,axis=1),np.gradient(deltaU,h,axis=1)),A)*(h**2)))/energynorm)\n",
    "print('L2 norm: ')\n",
    "print(np.sqrt((np.sum(deltaU**2))*(h**2))/l2norm)\n",
    "print('H1 norm: ')\n",
    "print(np.sqrt((np.linalg.norm(np.gradient(deltaU,h,axis=0))**2+np.linalg.norm(np.gradient(deltaU,h,axis=1))**2+np.linalg.norm(deltaU)**2)*(h**2))/h1norm)"
   ]
  },
  {
   "cell_type": "code",
   "execution_count": 25,
   "metadata": {},
   "outputs": [
    {
     "data": {
      "text/plain": [
       "0"
      ]
     },
     "execution_count": 25,
     "metadata": {},
     "output_type": "execute_result"
    }
   ],
   "source": [
    "import os\n",
    "os.system(\"say 'The program has finished, Please check the results'\")"
   ]
  },
  {
   "cell_type": "code",
   "execution_count": null,
   "metadata": {},
   "outputs": [],
   "source": []
  }
 ],
 "metadata": {
  "kernelspec": {
   "display_name": "Python 3",
   "language": "python",
   "name": "python3"
  },
  "language_info": {
   "codemirror_mode": {
    "name": "ipython",
    "version": 3
   },
   "file_extension": ".py",
   "mimetype": "text/x-python",
   "name": "python",
   "nbconvert_exporter": "python",
   "pygments_lexer": "ipython3",
   "version": "3.6.6"
  }
 },
 "nbformat": 4,
 "nbformat_minor": 2
}
