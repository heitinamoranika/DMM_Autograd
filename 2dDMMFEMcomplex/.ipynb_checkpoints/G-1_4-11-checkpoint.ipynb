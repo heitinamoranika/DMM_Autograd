{
 "cells": [
  {
   "cell_type": "markdown",
   "metadata": {},
   "source": [
    "Import important parameter"
   ]
  },
  {
   "cell_type": "code",
   "execution_count": 1,
   "metadata": {},
   "outputs": [],
   "source": [
    "inputsize = 47**2\n",
    "e = 0.05"
   ]
  },
  {
   "cell_type": "markdown",
   "metadata": {},
   "source": [
    "Import Package"
   ]
  },
  {
   "cell_type": "code",
   "execution_count": 2,
   "metadata": {},
   "outputs": [],
   "source": [
    "import torch\n",
    "import numpy as np\n",
    "import matplotlib.pyplot as plt\n",
    "import autograd.numpy as np\n",
    "from autograd import grad\n",
    "import pyamg\n",
    "import dmg.gallery as gallery\n",
    "import dmg.dgmg as dgmg\n",
    "import dmg.gmg_linear as gmg_linear\n",
    "import dmg.classical_amg as classical_amg\n",
    "from mpl_toolkits.mplot3d import Axes3D\n",
    "import xlsxwriter\n",
    "from scipy.ndimage import convolve"
   ]
  },
  {
   "cell_type": "markdown",
   "metadata": {},
   "source": [
    "Define function"
   ]
  },
  {
   "cell_type": "code",
   "execution_count": 3,
   "metadata": {},
   "outputs": [],
   "source": [
    "def Restriction(inputsize):\n",
    "    inputsize = int(inputsize)\n",
    "    sqrtinputsize = int(np.sqrt(inputsize))     \n",
    "    sqrtoutputsize = int(sqrtinputsize/2)\n",
    "    outputsize = int(sqrtoutputsize**2)\n",
    "    OUTPUT = np.zeros([outputsize, inputsize])\n",
    "    for j in range(sqrtoutputsize):\n",
    "        for i in range(sqrtoutputsize):\n",
    "            OUTPUT[i+sqrtoutputsize*j][2*i+j*2*sqrtinputsize] = 1/16\n",
    "            OUTPUT[i+sqrtoutputsize*j][1+2*i+j*2*sqrtinputsize] = 1/8\n",
    "            OUTPUT[i+sqrtoutputsize*j][2+2*i+j*2*sqrtinputsize] = 1/16\n",
    "            OUTPUT[i+sqrtoutputsize*j][sqrtinputsize +\n",
    "                                       2*i+j*2*sqrtinputsize] = 1/8\n",
    "            OUTPUT[i+sqrtoutputsize*j][1+sqrtinputsize +\n",
    "                                       2*i+j*2*sqrtinputsize] = 1/4\n",
    "            OUTPUT[i+sqrtoutputsize*j][2+sqrtinputsize +\n",
    "                                       2*i+j*2*sqrtinputsize] = 1/8\n",
    "            OUTPUT[i+sqrtoutputsize*j][2*sqrtinputsize +\n",
    "                                       2*i+j*2*sqrtinputsize] = 1/16\n",
    "            OUTPUT[i+sqrtoutputsize*j][1+2 *\n",
    "                                       sqrtinputsize + 2*i+j*2*sqrtinputsize] = 1/8\n",
    "            OUTPUT[i+sqrtoutputsize*j][2+2 *\n",
    "                                       sqrtinputsize+2*i+j*2*sqrtinputsize] = 1/16\n",
    "    return OUTPUT\n",
    "\n",
    "def Poisson(inputsize):\n",
    "    inputsize = int(inputsize)\n",
    "    sqrtinputsize = int(np.sqrt(inputsize))     \n",
    "    sqrtoutputsize = int(sqrtinputsize/2)\n",
    "    outputsize = int(sqrtoutputsize**2)\n",
    "    OUTPUT = np.zeros([outputsize, inputsize])\n",
    "    A1 = 2*np.eye(sqrtinputsize)\n",
    "    for i in range(sqrtinputsize-1):\n",
    "        A1[i, i+1] = -1\n",
    "        A1[i+1, i] = -1\n",
    "    I = np.eye(sqrtinputsize)\n",
    "    OUTPUT = (np.kron(I, A1)+np.kron(A1, I))\n",
    "    return OUTPUT\n",
    "\n",
    "\n",
    "def Multigrid_circle(inputsize, A_A, B, R_A, s, w, error):\n",
    "    A = np.matrix(A_A)\n",
    "    P = 16.*np.transpose(R_A)\n",
    "    R = np.matrix(R_A)\n",
    "    M = np.matrix(w**(-1)*np.diag(np.diag(A)))\n",
    "    K = M - A\n",
    "    C = np.linalg.inv(M)*K\n",
    "    b = np.linalg.inv(M)*B\n",
    "    U0 = np.matrix(np.zeros([inputsize, 1]))\n",
    "    RESIDUAL = []\n",
    "    Residual=1\n",
    "    i=0\n",
    "    while Residual > error:\n",
    "        for j in range(s):\n",
    "            U0 = C*U0+b\n",
    "        r = B - A*U0\n",
    "        Residual = np.linalg.norm(r,2)\n",
    "        rc = R*r\n",
    "        Ac = R*A*P\n",
    "        Uc = np.linalg.solve(Ac, rc)\n",
    "        U = U0 + P*Uc\n",
    "        for k in range(s):\n",
    "            U = C*U+b\n",
    "        U0 = U\n",
    "        RESIDUAL.append(Residual)\n",
    "        i=i+1\n",
    "        print(\"Residual = {}\".format(Residual))\n",
    "        print(\"Interation = {}\".format(i))\n",
    "        print(\"===================\")\n",
    "    return U0, RESIDUAL\n",
    "\n",
    "def rho(inputsize,A,P,R,w,s):\n",
    "    M = (w**(-1)) * np.diag(np.diag(A))\n",
    "    K = M - A\n",
    "    MK = np.matmul(np.linalg.inv(M),K)\n",
    "    I = np.eye(inputsize)\n",
    "    IPRAPRA = I - np.matmul(np.matmul(np.matmul(P,np.linalg.inv(np.matmul(np.matmul(R,A),P))),R),A)\n",
    "    C = np.matmul(np.matmul(MK,IPRAPRA),MK)\n",
    "    for i in range(5):\n",
    "        C = np.matmul(C,C)\n",
    "    radius = np.linalg.norm(C)**(1/32)\n",
    "    return radius\n",
    "\n",
    "def optimizer_GD(inputsize, A1, R, w, s, learning_rate, lam):\n",
    "    rhoold = rho(inputsize,A1,16*np.transpose(R),R,w,s)\n",
    "    device = torch.device('cpu')\n",
    "    R = torch.tensor(R,dtype = torch.double, requires_grad=True,device=device)\n",
    "    w = torch.tensor(w,dtype = torch.double, requires_grad=True, device=device)\n",
    "    lam = torch.tensor(lam,dtype = torch.double, requires_grad=True, device=device)\n",
    "    A = torch.tensor(A1,dtype = torch.double, device=device)\n",
    "    P = 16*torch.t(R)\n",
    "    M = (w**(-1)) * torch.diag(torch.diag(A))\n",
    "    K = M - A\n",
    "    MK = torch.mm(torch.inverse(M),K)\n",
    "    I = torch.eye(inputsize,dtype = torch.double, device=device)\n",
    "    I1 = torch.ones([inputsize,1],dtype = torch.double, device=device)\n",
    "    I2 = torch.ones([outputsize,1],dtype = torch.double, device=device)\n",
    "    IPRAPRA = I - torch.mm(torch.mm(torch.mm(P,torch.inverse(torch.mm(torch.mm(R,A),P))),R),A)\n",
    "    C = torch.mm(torch.mm(MK,IPRAPRA),MK)\n",
    "    for i in range(5):\n",
    "        C = torch.mm(C,C)\n",
    "    loss = torch.norm(C)**(1/32) + torch.mm(lam,torch.mm(R,I1) - I2)\n",
    "    loss.backward()\n",
    "    with torch.no_grad():\n",
    "        R-=learning_rate*R.grad\n",
    "        w-=learning_rate*w.grad \n",
    "        lam-=learning_rate*lam.grad\n",
    "    R = R.detach().numpy()\n",
    "    w = w.detach().numpy()\n",
    "    lam = lam.detach().numpy()\n",
    "    rhonew = rho(inputsize,A1,16*np.transpose(R),R,w,s)\n",
    "    return R, w, lam, rhoold, rhonew\n",
    "\n",
    "def direct_optimizer_GD(inputsize, A0, A1, R, w, s, learning_rate, lam):\n",
    "    Rhoold = rho(inputsize,A1,16*np.transpose(R),R,w,s)\n",
    "    Rhonew = [Rhoold]\n",
    "    for i in range(100):\n",
    "        Rnew, wnew, lamnew, rhoold, rhonew = optimizer_GD(inputsize, A1, R, w, s, learning_rate, lam)\n",
    "        R = Rnew\n",
    "        w = wnew\n",
    "        lam = lamnew\n",
    "        print(\"rho = {}\".format(rhonew))\n",
    "        print(\"===================\")\n",
    "        Rhonew.append(rhonew)\n",
    "        i+=1\n",
    "    print(\"======End======\")\n",
    "    return R, w, Rhoold, Rhonew\n",
    "\n",
    "def homotopy_optimizer_GD(inputsize, A0, A1, R, w, s, learning_rate ,accept_radius ,step_length,lam):\n",
    "    Rhoold = rho(inputsize,A1,16*np.transpose(R),R,w,s)\n",
    "    Radius = [Rhoold]\n",
    "    L = step_length\n",
    "    print(\"======Section 1======\")\n",
    "    while L < 1:\n",
    "        M = (1-L)*A0 + L*A1\n",
    "        Rnew, wnew, lamnew, rhoold, rhonew = optimizer_GD(inputsize, M, R, w, s, learning_rate, lam)\n",
    "        Radius.append(rhonew)\n",
    "        if rhonew > accept_radius:\n",
    "            step_length = 0.1*step_length\n",
    "            learning_rate = 0.1*learning_rate\n",
    "            print('Decrease the step_length, learning_rate and Restart!!')\n",
    "            print(\"step_length = {}\".format(step_length))      \n",
    "            print(\"learning_rate = {}\".format(learning_rate))\n",
    "            print(\"rhonew = {}\".format(rhonew))\n",
    "            print(\"===================\")\n",
    "            R = Restriction(inputsize)\n",
    "            lam = np.zeros([1,outputsize])\n",
    "            w = 2/3\n",
    "            L = step_length\n",
    "        else:\n",
    "            R = Rnew\n",
    "            w = wnew\n",
    "            L += step_length\n",
    "            lam = lamnew\n",
    "            print(\"L = {}\".format(L))\n",
    "            print(\"rho = {}\".format(rhonew))\n",
    "            print(\"===================\")\n",
    "    print(\"======Section 2======\")\n",
    "    i = 0\n",
    "    while rhoold>rhonew and i <10:\n",
    "        Rnew, wnew, lamnew, rhoold, rhonew = optimizer_GD(inputsize, A1, R, w, s, learning_rate, lam)\n",
    "        Radius.append(rhonew)\n",
    "        R = Rnew\n",
    "        w = wnew\n",
    "        lam = lamnew\n",
    "        print(\"the {} steps\".format(i))\n",
    "        print(\"rho = {}\".format(rhonew))\n",
    "        print(\"===================\")\n",
    "        i+=1            \n",
    "    Rhonew = rhonew\n",
    "    print(\"======End======\")\n",
    "    return R, w, Rhoold, Rhonew, Radius"
   ]
  },
  {
   "cell_type": "markdown",
   "metadata": {},
   "source": [
    "Define parameter"
   ]
  },
  {
   "cell_type": "code",
   "execution_count": 4,
   "metadata": {},
   "outputs": [],
   "source": [
    "s = 1\n",
    "w = 2/3\n",
    "error=10e-11\n",
    "def u_real(x, y): return np.sin(np.pi*3*x)*np.sin(np.pi*5*y)\n",
    "def rightf(x, y): return  34*np.pi**2*(1 + (2 + np.cos(np.pi*x))/(2 + np.cos(np.pi*y)) + (2 + np.cos(5*np.pi*x))/(2 + np.cos(5*np.pi*y)))*np.sin(3*np.pi*x)*np.sin(5*np.pi*y) - 3*np.pi*np.cos(3*np.pi*x)*(-((np.pi*np.sin(np.pi*x))/(2 + np.cos(np.pi*y))) - (5*np.pi*np.sin(5*np.pi*x))/(2 + np.cos(5*np.pi*y)))*np.sin(5*np.pi*y) - 5*np.pi*np.cos(5*np.pi*y)*np.sin(3*np.pi*x)*((np.pi*(2 + np.cos(np.pi*x))*np.sin(np.pi*y))/(2 + np.cos(np.pi*y))**2 + (5*np.pi*(2 + np.cos(5*np.pi*x))*np.sin(5*np.pi*y))/(2 + np.cos(5*np.pi*y))**2)\n",
    "def a(x,y): return(1 + (2 + np.cos(np.pi*x))/(2 + np.cos(np.pi*y)) + (2 + np.cos(5*np.pi*x))/(2 + np.cos(5*np.pi*y)))\n",
    "\n",
    "sqrtinputsize = int(np.sqrt(inputsize))\n",
    "sqrtmidputsize = int(sqrtinputsize/2)\n",
    "midputsize = int(sqrtmidputsize**2)\n",
    "sqrtoutputsize = int(sqrtmidputsize/2)\n",
    "outputsize = int(sqrtoutputsize**2)\n",
    "\n",
    "h = 1/(sqrtinputsize-1)\n",
    "H = 1/(sqrtoutputsize-1)\n",
    "A0 = Poisson(inputsize)\n",
    "num_levels=2\n",
    "n=sqrtinputsize\n",
    "kx = np.zeros([n,n+1])\n",
    "ky = np.zeros([n+1,n])\n",
    "for i in range(n):\n",
    "    for j in range(n+1):\n",
    "        kx[i][j] = a((j-0.5)*h,i*h)\n",
    "for i in range(n+1):\n",
    "    for j in range(n):\n",
    "        ky[i][j] = a(j*h,(i-0.5)*h)    \n",
    "A1 = gallery.nonlinearPoisson((n,n), kx, ky)\n",
    "n = inputsize\n",
    "[X, Y] = np.meshgrid(np.linspace(0, 1, sqrtinputsize),np.linspace(0, 1, sqrtinputsize))\n",
    "RightF = rightf(X,Y)*h**2\n",
    "RightF = RightF.reshape(inputsize, 1)\n",
    "Ureal = u_real(X,Y).reshape(inputsize, 1)\n",
    "Media = a(X,Y)\n",
    "R1 = Restriction(inputsize)\n",
    "R2 = Restriction(midputsize)\n",
    "R  = np.matmul(R2, R1)\n",
    "P = 16*np.transpose(R)"
   ]
  },
  {
   "cell_type": "markdown",
   "metadata": {},
   "source": [
    "GMM on fine grid"
   ]
  },
  {
   "cell_type": "code",
   "execution_count": 5,
   "metadata": {
    "scrolled": false
   },
   "outputs": [
    {
     "name": "stdout",
     "output_type": "stream",
     "text": [
      "Residual = 12.34333948172427\n",
      "Interation = 1\n",
      "===================\n",
      "Residual = 5.715313302993734\n",
      "Interation = 2\n",
      "===================\n",
      "Residual = 3.3455678643106523\n",
      "Interation = 3\n",
      "===================\n",
      "Residual = 2.051954835548209\n",
      "Interation = 4\n",
      "===================\n",
      "Residual = 1.283879927128967\n",
      "Interation = 5\n",
      "===================\n",
      "Residual = 0.8163711307264029\n",
      "Interation = 6\n",
      "===================\n",
      "Residual = 0.5289260372079119\n",
      "Interation = 7\n",
      "===================\n",
      "Residual = 0.35066305918002233\n",
      "Interation = 8\n",
      "===================\n",
      "Residual = 0.23873716476699391\n",
      "Interation = 9\n",
      "===================\n",
      "Residual = 0.1671486819047258\n",
      "Interation = 10\n",
      "===================\n",
      "Residual = 0.12019383851876284\n",
      "Interation = 11\n",
      "===================\n",
      "Residual = 0.08845858185865337\n",
      "Interation = 12\n",
      "===================\n",
      "Residual = 0.06632775200610572\n",
      "Interation = 13\n",
      "===================\n",
      "Residual = 0.050441320569009025\n",
      "Interation = 14\n",
      "===================\n",
      "Residual = 0.03875759345413726\n",
      "Interation = 15\n",
      "===================\n",
      "Residual = 0.0300013313918157\n",
      "Interation = 16\n",
      "===================\n",
      "Residual = 0.023346895761011018\n",
      "Interation = 17\n",
      "===================\n",
      "Residual = 0.018238710640540653\n",
      "Interation = 18\n",
      "===================\n",
      "Residual = 0.014289215804775915\n",
      "Interation = 19\n",
      "===================\n",
      "Residual = 0.011219738402902564\n",
      "Interation = 20\n",
      "===================\n",
      "Residual = 0.00882510155608057\n",
      "Interation = 21\n",
      "===================\n",
      "Residual = 0.006951557147999493\n",
      "Interation = 22\n",
      "===================\n",
      "Residual = 0.005482415468158514\n",
      "Interation = 23\n",
      "===================\n",
      "Residual = 0.004328296995940724\n",
      "Interation = 24\n",
      "===================\n",
      "Residual = 0.00342028483249011\n",
      "Interation = 25\n",
      "===================\n",
      "Residual = 0.0027049793132450507\n",
      "Interation = 26\n",
      "===================\n",
      "Residual = 0.0021408505383269548\n",
      "Interation = 27\n",
      "===================\n",
      "Residual = 0.0016955062517263575\n",
      "Interation = 28\n",
      "===================\n",
      "Residual = 0.0013436221876932586\n",
      "Interation = 29\n",
      "===================\n",
      "Residual = 0.0010653612981770403\n",
      "Interation = 30\n",
      "===================\n",
      "Residual = 0.0008451589787956036\n",
      "Interation = 31\n",
      "===================\n",
      "Residual = 0.0006707851998187195\n",
      "Interation = 32\n",
      "===================\n",
      "Residual = 0.0005326177762097671\n",
      "Interation = 33\n",
      "===================\n",
      "Residual = 0.0004230775799991546\n",
      "Interation = 34\n",
      "===================\n",
      "Residual = 0.0003361885284703656\n",
      "Interation = 35\n",
      "===================\n",
      "Residual = 0.0002672340615225909\n",
      "Interation = 36\n",
      "===================\n",
      "Residual = 0.00021248845735328102\n",
      "Interation = 37\n",
      "===================\n",
      "Residual = 0.00016900634042119373\n",
      "Interation = 38\n",
      "===================\n",
      "Residual = 0.00013445753709055946\n",
      "Interation = 39\n",
      "===================\n",
      "Residual = 0.00010699733750919342\n",
      "Interation = 40\n",
      "===================\n",
      "Residual = 8.516444941742976e-05\n",
      "Interation = 41\n",
      "===================\n",
      "Residual = 6.780064402221511e-05\n",
      "Interation = 42\n",
      "===================\n",
      "Residual = 5.398741821292589e-05\n",
      "Interation = 43\n",
      "===================\n",
      "Residual = 4.2996022643391156e-05\n",
      "Interation = 44\n",
      "===================\n",
      "Residual = 3.4248000815087216e-05\n",
      "Interation = 45\n",
      "===================\n",
      "Residual = 2.728400332993358e-05\n",
      "Interation = 46\n",
      "===================\n",
      "Residual = 2.1739123624265653e-05\n",
      "Interation = 47\n",
      "===================\n",
      "Residual = 1.7323378072852264e-05\n",
      "Interation = 48\n",
      "===================\n",
      "Residual = 1.3806247653120577e-05\n",
      "Interation = 49\n",
      "===================\n",
      "Residual = 1.1004428888163831e-05\n",
      "Interation = 50\n",
      "===================\n",
      "Residual = 8.772122544084758e-06\n",
      "Interation = 51\n",
      "===================\n",
      "Residual = 6.9933304283420025e-06\n",
      "Interation = 52\n",
      "===================\n",
      "Residual = 5.575742271849582e-06\n",
      "Interation = 53\n",
      "===================\n",
      "Residual = 4.445882324417168e-06\n",
      "Interation = 54\n",
      "===================\n",
      "Residual = 3.5452546298839693e-06\n",
      "Interation = 55\n",
      "===================\n",
      "Residual = 2.827280309685389e-06\n",
      "Interation = 56\n",
      "===================\n",
      "Residual = 2.254863334959097e-06\n",
      "Interation = 57\n",
      "===================\n",
      "Residual = 1.7984552205438347e-06\n",
      "Interation = 58\n",
      "===================\n",
      "Residual = 1.434515878148276e-06\n",
      "Interation = 59\n",
      "===================\n",
      "Residual = 1.14428931797917e-06\n",
      "Interation = 60\n",
      "===================\n",
      "Residual = 9.128294396680815e-07\n",
      "Interation = 61\n",
      "===================\n",
      "Residual = 7.282247213611764e-07\n",
      "Interation = 62\n",
      "===================\n",
      "Residual = 5.809810543637723e-07\n",
      "Interation = 63\n",
      "===================\n",
      "Residual = 4.635303629008682e-07\n",
      "Interation = 64\n",
      "===================\n",
      "Residual = 3.698392925529273e-07\n",
      "Interation = 65\n",
      "===================\n",
      "Residual = 2.9509756500472056e-07\n",
      "Interation = 66\n",
      "===================\n",
      "Residual = 2.3546971934475661e-07\n",
      "Interation = 67\n",
      "===================\n",
      "Residual = 1.8789731848455004e-07\n",
      "Interation = 68\n",
      "===================\n",
      "Residual = 1.499413677338345e-07\n",
      "Interation = 69\n",
      "===================\n",
      "Residual = 1.196567123323735e-07\n",
      "Interation = 70\n",
      "===================\n",
      "Residual = 9.549195397207715e-08\n",
      "Interation = 71\n",
      "===================\n",
      "Residual = 7.620966728845551e-08\n",
      "Interation = 72\n",
      "===================\n",
      "Residual = 6.082280395677164e-08\n",
      "Interation = 73\n",
      "===================\n",
      "Residual = 4.8543983381607823e-08\n",
      "Interation = 74\n",
      "===================\n",
      "Residual = 3.874508259586118e-08\n",
      "Interation = 75\n",
      "===================\n",
      "Residual = 3.0924992680695805e-08\n",
      "Interation = 76\n",
      "===================\n",
      "Residual = 2.468391810333959e-08\n",
      "Interation = 77\n",
      "===================\n",
      "Residual = 1.970288252690632e-08\n",
      "Interation = 78\n",
      "===================\n",
      "Residual = 1.5727380592251857e-08\n",
      "Interation = 79\n",
      "===================\n",
      "Residual = 1.2554330864444175e-08\n",
      "Interation = 80\n",
      "===================\n",
      "Residual = 1.0021696468916446e-08\n",
      "Interation = 81\n",
      "===================\n",
      "Residual = 8.000167436598275e-09\n",
      "Interation = 82\n",
      "===================\n",
      "Residual = 6.3865614298180185e-09\n",
      "Interation = 83\n",
      "===================\n",
      "Residual = 5.098527713800039e-09\n",
      "Interation = 84\n",
      "===================\n",
      "Residual = 4.070353321181054e-09\n",
      "Interation = 85\n",
      "===================\n",
      "Residual = 3.249595207127173e-09\n",
      "Interation = 86\n",
      "===================\n",
      "Residual = 2.5943952345259163e-09\n",
      "Interation = 87\n",
      "===================\n",
      "Residual = 2.071342498794995e-09\n",
      "Interation = 88\n",
      "===================\n",
      "Residual = 1.6537782685127086e-09\n",
      "Interation = 89\n",
      "===================\n",
      "Residual = 1.3204190221762508e-09\n",
      "Interation = 90\n",
      "===================\n",
      "Residual = 1.054277591045952e-09\n",
      "Interation = 91\n",
      "===================\n",
      "Residual = 8.41797880141948e-10\n",
      "Interation = 92\n",
      "===================\n",
      "Residual = 6.721561725382205e-10\n",
      "Interation = 93\n",
      "===================\n",
      "Residual = 5.367112308059685e-10\n",
      "Interation = 94\n",
      "===================\n",
      "Residual = 4.285689196381214e-10\n",
      "Interation = 95\n",
      "===================\n",
      "Residual = 3.422244079457121e-10\n",
      "Interation = 96\n",
      "===================\n",
      "Residual = 2.732782368164311e-10\n",
      "Interation = 97\n",
      "===================\n",
      "Residual = 2.1823140977387633e-10\n",
      "Interation = 98\n",
      "===================\n",
      "Residual = 1.7427311255091909e-10\n",
      "Interation = 99\n",
      "===================\n",
      "Residual = 1.3917431491662812e-10\n",
      "Interation = 100\n",
      "===================\n",
      "Residual = 1.1114520610408968e-10\n",
      "Interation = 101\n",
      "===================\n",
      "Residual = 8.876358814892555e-11\n",
      "Interation = 102\n",
      "===================\n"
     ]
    }
   ],
   "source": [
    "GMM_U, GMM_Res = Multigrid_circle(inputsize, A1.to_full(), RightF, R, s, w, error)"
   ]
  },
  {
   "cell_type": "markdown",
   "metadata": {},
   "source": [
    "Error GMM on fine grid"
   ]
  },
  {
   "cell_type": "code",
   "execution_count": 6,
   "metadata": {},
   "outputs": [
    {
     "name": "stdout",
     "output_type": "stream",
     "text": [
      "Energy norm: \n",
      "1.9500455532936636\n",
      "L2 norm: \n",
      "0.08567976775341536\n",
      "H1 norm: \n",
      "1.059197639484219\n",
      "Energy norm: \n",
      "0.11562674973038249\n",
      "L2 norm: \n",
      "0.17135953550683075\n",
      "H1 norm: \n",
      "0.11488384072916986\n"
     ]
    }
   ],
   "source": [
    "UREAL = Ureal.reshape(sqrtinputsize,sqrtinputsize)\n",
    "GMMU = GMM_U.reshape(sqrtinputsize,sqrtinputsize)\n",
    "deltaU = GMMU - UREAL\n",
    "\n",
    "energynorm = np.sqrt(np.sum(np.multiply(np.multiply(np.gradient(UREAL,h,axis=0),np.gradient(UREAL,h,axis=0)),Media)*(h**2))+np.sum(np.multiply(np.multiply(np.gradient(UREAL,h,axis=1),np.gradient(UREAL,h,axis=1)),Media)*(h**2)))\n",
    "l2norm = np.sqrt((np.linalg.norm(UREAL)**2)*(h**2))\n",
    "h1norm = np.sqrt((np.linalg.norm(np.gradient(UREAL,h,axis=0))**2+np.linalg.norm(np.gradient(UREAL,h,axis=1))**2+np.linalg.norm(UREAL)**2)*(h**2))\n",
    "\n",
    "print('Energy norm: ')\n",
    "print(np.sqrt(np.sum(np.multiply(np.multiply(np.gradient(deltaU,h,axis=0),np.gradient(deltaU,h,axis=0)),Media)*(h**2))+np.sum(np.multiply(np.multiply(np.gradient(deltaU,h,axis=1),np.gradient(deltaU,h,axis=1)),Media)*(h**2))))\n",
    "print('L2 norm: ')\n",
    "print(np.sqrt((np.linalg.norm(deltaU)**2)*(h**2)))\n",
    "print('H1 norm: ')\n",
    "print(np.sqrt((np.linalg.norm(np.gradient(deltaU,h,axis=0))**2+np.linalg.norm(np.gradient(deltaU,h,axis=1))**2+np.linalg.norm(deltaU)**2)*(h**2)))\n",
    "\n",
    "print('Energy norm: ')\n",
    "print(np.sqrt(np.sum(np.multiply(np.multiply(np.gradient(deltaU,h,axis=0),np.gradient(deltaU,h,axis=0)),Media)*(h**2))+np.sum(np.multiply(np.multiply(np.gradient(deltaU,h,axis=1),np.gradient(deltaU,h,axis=1)),Media)*(h**2)))/energynorm)\n",
    "print('L2 norm: ')\n",
    "print(np.sqrt((np.linalg.norm(deltaU)**2)*(h**2))/l2norm)\n",
    "print('H1 norm: ')\n",
    "print(np.sqrt((np.linalg.norm(np.gradient(deltaU,h,axis=0))**2+np.linalg.norm(np.gradient(deltaU,h,axis=1))**2+np.linalg.norm(deltaU)**2)*(h**2))/h1norm)"
   ]
  },
  {
   "cell_type": "markdown",
   "metadata": {},
   "source": [
    "Solution"
   ]
  },
  {
   "cell_type": "code",
   "execution_count": 7,
   "metadata": {},
   "outputs": [
    {
     "data": {
      "text/plain": [
       "<matplotlib.colorbar.Colorbar at 0x10f39be48>"
      ]
     },
     "execution_count": 7,
     "metadata": {},
     "output_type": "execute_result"
    },
    {
     "data": {
      "image/png": "[encoded data removed]",
      "text/plain": [
       "<Figure size 432x288 with 2 Axes>"
      ]
     },
     "metadata": {
      "needs_background": "light"
     },
     "output_type": "display_data"
    }
   ],
   "source": [
    "plt.imshow(GMM_U.reshape(sqrtinputsize,sqrtinputsize))\n",
    "plt.colorbar()"
   ]
  },
  {
   "cell_type": "markdown",
   "metadata": {},
   "source": [
    "Residual"
   ]
  },
  {
   "cell_type": "code",
   "execution_count": 8,
   "metadata": {},
   "outputs": [
    {
     "data": {
      "text/plain": [
       "[<matplotlib.lines.Line2D at 0x11ed3bcf8>]"
      ]
     },
     "execution_count": 8,
     "metadata": {},
     "output_type": "execute_result"
    },
    {
     "data": {
      "image/png": "[encoded data removed]",
      "text/plain": [
       "<Figure size 432x288 with 1 Axes>"
      ]
     },
     "metadata": {
      "needs_background": "light"
     },
     "output_type": "display_data"
    }
   ],
   "source": [
    "plt.semilogy(GMM_Res)"
   ]
  },
  {
   "cell_type": "markdown",
   "metadata": {},
   "source": [
    "Radius"
   ]
  },
  {
   "cell_type": "code",
   "execution_count": 9,
   "metadata": {},
   "outputs": [
    {
     "name": "stdout",
     "output_type": "stream",
     "text": [
      "GMM_Radius = 0.8433520645901631\n"
     ]
    }
   ],
   "source": [
    "GMM_Radius = rho(inputsize,A1.to_full(),16*np.transpose(R),R,w,s)\n",
    "print('GMM_Radius = {}'.format(GMM_Radius))"
   ]
  },
  {
   "cell_type": "markdown",
   "metadata": {},
   "source": [
    "Global DMM optimization"
   ]
  },
  {
   "cell_type": "code",
   "execution_count": 10,
   "metadata": {},
   "outputs": [
    {
     "name": "stdout",
     "output_type": "stream",
     "text": [
      "======Section 1======\n",
      "L = 0.02\n",
      "rho = 0.842611655079575\n",
      "===================\n",
      "L = 0.03\n",
      "rho = 0.8426160515066595\n",
      "===================\n",
      "L = 0.04\n",
      "rho = 0.842621378472172\n",
      "===================\n",
      "L = 0.05\n",
      "rho = 0.8426275025639954\n",
      "===================\n",
      "L = 0.060000000000000005\n",
      "rho = 0.8426343091203284\n",
      "===================\n",
      "L = 0.07\n",
      "rho = 0.842641699224775\n",
      "===================\n",
      "L = 0.08\n",
      "rho = 0.8426495872594617\n",
      "===================\n",
      "L = 0.09\n",
      "rho = 0.8426578988971304\n",
      "===================\n",
      "L = 0.09999999999999999\n",
      "rho = 0.8426665694419047\n",
      "===================\n",
      "L = 0.10999999999999999\n",
      "rho = 0.8426755424494415\n",
      "===================\n",
      "L = 0.11999999999999998\n",
      "rho = 0.8426847685727413\n",
      "===================\n",
      "L = 0.12999999999999998\n",
      "rho = 0.8426942045915604\n",
      "===================\n",
      "L = 0.13999999999999999\n",
      "rho = 0.8427038125922082\n",
      "===================\n",
      "L = 0.15\n",
      "rho = 0.8427135592712885\n",
      "===================\n",
      "L = 0.16\n",
      "rho = 0.842723415342172\n",
      "===================\n",
      "L = 0.17\n",
      "rho = 0.8427333550270721\n",
      "===================\n",
      "L = 0.18000000000000002\n",
      "rho = 0.842743355620803\n",
      "===================\n",
      "L = 0.19000000000000003\n",
      "rho = 0.8427533971148328\n",
      "===================\n",
      "L = 0.20000000000000004\n",
      "rho = 0.8427634618722775\n",
      "===================\n",
      "L = 0.21000000000000005\n",
      "rho = 0.8427735343461\n",
      "===================\n",
      "L = 0.22000000000000006\n",
      "rho = 0.8427836008340902\n",
      "===================\n",
      "L = 0.23000000000000007\n",
      "rho = 0.8427936492652733\n",
      "===================\n",
      "L = 0.24000000000000007\n",
      "rho = 0.8428036690132535\n",
      "===================\n",
      "L = 0.25000000000000006\n",
      "rho = 0.8428136507327224\n",
      "===================\n",
      "L = 0.26000000000000006\n",
      "rho = 0.8428235862159427\n",
      "===================\n",
      "L = 0.2700000000000001\n",
      "rho = 0.8428334682665083\n",
      "===================\n",
      "L = 0.2800000000000001\n",
      "rho = 0.8428432905880838\n",
      "===================\n",
      "L = 0.2900000000000001\n",
      "rho = 0.8428530476861679\n",
      "===================\n",
      "L = 0.3000000000000001\n",
      "rho = 0.8428627347812013\n",
      "===================\n",
      "L = 0.3100000000000001\n",
      "rho = 0.8428723477315875\n",
      "===================\n",
      "L = 0.3200000000000001\n",
      "rho = 0.8428818829653845\n",
      "===================\n",
      "L = 0.3300000000000001\n",
      "rho = 0.8428913374196055\n",
      "===================\n",
      "L = 0.34000000000000014\n",
      "rho = 0.8429007084862034\n",
      "===================\n",
      "L = 0.35000000000000014\n",
      "rho = 0.8429099939639396\n",
      "===================\n",
      "L = 0.36000000000000015\n",
      "rho = 0.8429191920154451\n",
      "===================\n",
      "L = 0.37000000000000016\n",
      "rho = 0.8429283011288661\n",
      "===================\n",
      "L = 0.38000000000000017\n",
      "rho = 0.8429373200835673\n",
      "===================\n",
      "L = 0.3900000000000002\n",
      "rho = 0.8429462479194336\n",
      "===================\n",
      "L = 0.4000000000000002\n",
      "rho = 0.8429550839093622\n",
      "===================\n",
      "L = 0.4100000000000002\n",
      "rho = 0.8429638275345941\n",
      "===================\n",
      "L = 0.4200000000000002\n",
      "rho = 0.8429724784625698\n",
      "===================\n",
      "L = 0.4300000000000002\n",
      "rho = 0.8429810365270394\n",
      "===================\n",
      "L = 0.4400000000000002\n",
      "rho = 0.8429895017101781\n",
      "===================\n",
      "L = 0.45000000000000023\n",
      "rho = 0.8429978741265002\n",
      "===================\n",
      "L = 0.46000000000000024\n",
      "rho = 0.8430061540083766\n",
      "===================\n",
      "L = 0.47000000000000025\n",
      "rho = 0.843014341692992\n",
      "===================\n",
      "L = 0.48000000000000026\n",
      "rho = 0.8430224376105898\n",
      "===================\n",
      "L = 0.49000000000000027\n",
      "rho = 0.8430304422738747\n",
      "===================\n",
      "L = 0.5000000000000002\n",
      "rho = 0.8430383562684544\n",
      "===================\n",
      "L = 0.5100000000000002\n",
      "rho = 0.8430461802442148\n",
      "===================\n",
      "L = 0.5200000000000002\n",
      "rho = 0.8430539149075367\n",
      "===================\n",
      "L = 0.5300000000000002\n",
      "rho = 0.843061561014269\n",
      "===================\n",
      "L = 0.5400000000000003\n",
      "rho = 0.8430691193633847\n",
      "===================\n",
      "L = 0.5500000000000003\n",
      "rho = 0.8430765907912526\n",
      "===================\n",
      "L = 0.5600000000000003\n",
      "rho = 0.8430839761664635\n",
      "===================\n",
      "L = 0.5700000000000003\n",
      "rho = 0.8430912763851603\n",
      "===================\n",
      "L = 0.5800000000000003\n",
      "rho = 0.8430984923668204\n",
      "===================\n",
      "L = 0.5900000000000003\n",
      "rho = 0.8431056250504483\n",
      "===================\n",
      "L = 0.6000000000000003\n",
      "rho = 0.8431126753911411\n",
      "===================\n",
      "L = 0.6100000000000003\n",
      "rho = 0.8431196443569887\n",
      "===================\n",
      "L = 0.6200000000000003\n",
      "rho = 0.8431265329262795\n",
      "===================\n",
      "L = 0.6300000000000003\n",
      "rho = 0.8431333420849818\n",
      "===================\n",
      "L = 0.6400000000000003\n",
      "rho = 0.8431400728244764\n",
      "===================\n",
      "L = 0.6500000000000004\n",
      "rho = 0.8431467261395155\n",
      "===================\n",
      "L = 0.6600000000000004\n",
      "rho = 0.8431533030263875\n",
      "===================\n",
      "L = 0.6700000000000004\n",
      "rho = 0.8431598044812704\n",
      "===================\n",
      "L = 0.6800000000000004\n",
      "rho = 0.8431662314987538\n",
      "===================\n",
      "L = 0.6900000000000004\n",
      "rho = 0.8431725850705153\n",
      "===================\n",
      "L = 0.7000000000000004\n",
      "rho = 0.8431788661841382\n",
      "===================\n",
      "L = 0.7100000000000004\n",
      "rho = 0.8431850758220549\n",
      "===================\n",
      "L = 0.7200000000000004\n",
      "rho = 0.843191214960608\n",
      "===================\n",
      "L = 0.7300000000000004\n",
      "rho = 0.8431972845692149\n",
      "===================\n",
      "L = 0.7400000000000004\n",
      "rho = 0.8432032856096294\n",
      "===================\n",
      "L = 0.7500000000000004\n",
      "rho = 0.8432092190352889\n",
      "===================\n",
      "L = 0.7600000000000005\n",
      "rho = 0.8432150857907419\n",
      "===================\n",
      "L = 0.7700000000000005\n",
      "rho = 0.8432208868111465\n",
      "===================\n",
      "L = 0.7800000000000005\n",
      "rho = 0.8432266230218345\n",
      "===================\n",
      "L = 0.7900000000000005\n",
      "rho = 0.8432322953379342\n",
      "===================\n",
      "L = 0.8000000000000005\n",
      "rho = 0.8432379046640477\n",
      "===================\n",
      "L = 0.8100000000000005\n",
      "rho = 0.8432434518939766\n",
      "===================\n",
      "L = 0.8200000000000005\n",
      "rho = 0.8432489379104925\n",
      "===================\n",
      "L = 0.8300000000000005\n",
      "rho = 0.8432543635851467\n",
      "===================\n",
      "L = 0.8400000000000005\n",
      "rho = 0.8432597297781178\n",
      "===================\n",
      "L = 0.8500000000000005\n",
      "rho = 0.8432650373380913\n",
      "===================\n",
      "L = 0.8600000000000005\n",
      "rho = 0.8432702871021691\n",
      "===================\n",
      "L = 0.8700000000000006\n",
      "rho = 0.8432754798958065\n",
      "===================\n",
      "L = 0.8800000000000006\n",
      "rho = 0.8432806165327738\n",
      "===================\n",
      "L = 0.8900000000000006\n",
      "rho = 0.8432856978151386\n",
      "===================\n",
      "L = 0.9000000000000006\n",
      "rho = 0.8432907245332704\n",
      "===================\n",
      "L = 0.9100000000000006\n",
      "rho = 0.8432956974658601\n",
      "===================\n",
      "L = 0.9200000000000006\n",
      "rho = 0.8433006173799582\n",
      "===================\n",
      "L = 0.9300000000000006\n",
      "rho = 0.8433054850310261\n",
      "===================\n",
      "L = 0.9400000000000006\n",
      "rho = 0.8433103011630002\n",
      "===================\n",
      "L = 0.9500000000000006\n",
      "rho = 0.8433150665083684\n",
      "===================\n",
      "L = 0.9600000000000006\n",
      "rho = 0.8433197817882562\n",
      "===================\n",
      "L = 0.9700000000000006\n",
      "rho = 0.8433244477125216\n",
      "===================\n",
      "L = 0.9800000000000006\n",
      "rho = 0.8433290649798594\n",
      "===================\n",
      "L = 0.9900000000000007\n",
      "rho = 0.8433336342779109\n",
      "===================\n",
      "L = 1.0000000000000007\n",
      "rho = 0.8433381562833814\n",
      "===================\n",
      "======Section 2======\n",
      "the 0 steps\n",
      "rho = 0.8433426316621617\n",
      "===================\n",
      "the 1 steps\n",
      "rho = 0.8433425359714498\n",
      "===================\n",
      "the 2 steps\n",
      "rho = 0.8433424402815786\n",
      "===================\n",
      "the 3 steps\n",
      "rho = 0.8433423445925476\n",
      "===================\n",
      "the 4 steps\n",
      "rho = 0.8433422489043566\n",
      "===================\n",
      "the 5 steps\n",
      "rho = 0.8433421532170051\n",
      "===================\n",
      "the 6 steps\n",
      "rho = 0.8433420575304926\n",
      "===================\n",
      "the 7 steps\n",
      "rho = 0.8433419618448191\n",
      "===================\n",
      "the 8 steps\n",
      "rho = 0.8433418661599839\n",
      "===================\n",
      "the 9 steps\n",
      "rho = 0.8433417704759866\n",
      "===================\n",
      "======End======\n"
     ]
    }
   ],
   "source": [
    "Rnew, wnew, Rhoold, Rhonew, Radius = homotopy_optimizer_GD(inputsize, A0, A1.to_full(), R,  2/3, s, \n",
    "                                                           learning_rate = 1e-6,accept_radius =\n",
    "                                                           GMM_Radius*10,step_length =  1e-2, lam = np.zeros([1,outputsize]))"
   ]
  },
  {
   "cell_type": "markdown",
   "metadata": {},
   "source": [
    "Global DMM on fine grid"
   ]
  },
  {
   "cell_type": "code",
   "execution_count": 11,
   "metadata": {},
   "outputs": [
    {
     "name": "stdout",
     "output_type": "stream",
     "text": [
      "Residual = 12.3433218263391\n",
      "Interation = 1\n",
      "===================\n",
      "Residual = 5.71507356375059\n",
      "Interation = 2\n",
      "===================\n",
      "Residual = 3.34537304141304\n",
      "Interation = 3\n",
      "===================\n",
      "Residual = 2.0517934675378897\n",
      "Interation = 4\n",
      "===================\n",
      "Residual = 1.2837522097057479\n",
      "Interation = 5\n",
      "===================\n",
      "Residual = 0.8162742691245435\n",
      "Interation = 6\n",
      "===================\n",
      "Residual = 0.5288548052998396\n",
      "Interation = 7\n",
      "===================\n",
      "Residual = 0.3506116159073554\n",
      "Interation = 8\n",
      "===================\n",
      "Residual = 0.2387002230743999\n",
      "Interation = 9\n",
      "===================\n",
      "Residual = 0.1671219885984559\n",
      "Interation = 10\n",
      "===================\n",
      "Residual = 0.12017423555250528\n",
      "Interation = 11\n",
      "===================\n",
      "Residual = 0.08844386032492213\n",
      "Interation = 12\n",
      "===================\n",
      "Residual = 0.06631643024215025\n",
      "Interation = 13\n",
      "===================\n",
      "Residual = 0.05043242591447996\n",
      "Interation = 14\n",
      "===================\n",
      "Residual = 0.038750487072438056\n",
      "Interation = 15\n",
      "===================\n",
      "Residual = 0.029995584897425168\n",
      "Interation = 16\n",
      "===================\n",
      "Residual = 0.02334221160571244\n",
      "Interation = 17\n",
      "===================\n",
      "Residual = 0.018234873459461957\n",
      "Interation = 18\n",
      "===================\n",
      "Residual = 0.014286063476399387\n",
      "Interation = 19\n",
      "===================\n",
      "Residual = 0.011217144883771632\n",
      "Interation = 20\n",
      "===================\n",
      "Residual = 0.008822966499558962\n",
      "Interation = 21\n",
      "===================\n",
      "Residual = 0.006949799376903113\n",
      "Interation = 22\n",
      "===================\n",
      "Residual = 0.0054809686491381895\n",
      "Interation = 23\n",
      "===================\n",
      "Residual = 0.004327106603941455\n",
      "Interation = 24\n",
      "===================\n",
      "Residual = 0.003419305905006329\n",
      "Interation = 25\n",
      "===================\n",
      "Residual = 0.002704174717200341\n",
      "Interation = 26\n",
      "===================\n",
      "Residual = 0.002140189591498581\n",
      "Interation = 27\n",
      "===================\n",
      "Residual = 0.0016949636044277447\n",
      "Interation = 28\n",
      "===================\n",
      "Residual = 0.001343176904740091\n",
      "Interation = 29\n",
      "===================\n",
      "Residual = 0.0010649961002698143\n",
      "Interation = 30\n",
      "===================\n",
      "Residual = 0.0008448596135589172\n",
      "Interation = 31\n",
      "===================\n",
      "Residual = 0.0006705399196511658\n",
      "Interation = 32\n",
      "===================\n",
      "Residual = 0.0005324169047168159\n",
      "Interation = 33\n",
      "===================\n",
      "Residual = 0.0004229131521336179\n",
      "Interation = 34\n",
      "===================\n",
      "Residual = 0.0003360539920849644\n",
      "Interation = 35\n",
      "===================\n",
      "Residual = 0.0002671240300630012\n",
      "Interation = 36\n",
      "===================\n",
      "Residual = 0.0002123985051195612\n",
      "Interation = 37\n",
      "===================\n",
      "Residual = 0.000168932833233569\n",
      "Interation = 38\n",
      "===================\n",
      "Residual = 0.00013439749234724364\n",
      "Interation = 39\n",
      "===================\n",
      "Residual = 0.0001069483086506571\n",
      "Interation = 40\n",
      "===================\n",
      "Residual = 8.512443059864259e-05\n",
      "Interation = 41\n",
      "===================\n",
      "Residual = 6.776799152406949e-05\n",
      "Interation = 42\n",
      "===================\n",
      "Residual = 5.396078571814857e-05\n",
      "Interation = 43\n",
      "===================\n",
      "Residual = 4.297430791708281e-05\n",
      "Interation = 44\n",
      "===================\n",
      "Residual = 3.4230301870943934e-05\n",
      "Interation = 45\n",
      "===================\n",
      "Residual = 2.7269582362479115e-05\n",
      "Interation = 46\n",
      "===================\n",
      "Residual = 2.172737738809352e-05\n",
      "Interation = 47\n",
      "===================\n",
      "Residual = 1.7313813541834212e-05\n",
      "Interation = 48\n",
      "===================\n",
      "Residual = 1.3798462046503142e-05\n",
      "Interation = 49\n",
      "===================\n",
      "Residual = 1.0998093279166096e-05\n",
      "Interation = 50\n",
      "===================\n",
      "Residual = 8.766968426692901e-06\n",
      "Interation = 51\n",
      "===================\n",
      "Residual = 6.989138698295726e-06\n",
      "Interation = 52\n",
      "===================\n",
      "Residual = 5.572334199621948e-06\n",
      "Interation = 53\n",
      "===================\n",
      "Residual = 4.443112175200341e-06\n",
      "Interation = 54\n",
      "===================\n",
      "Residual = 3.543003606654563e-06\n",
      "Interation = 55\n",
      "===================\n",
      "Residual = 2.825451612791783e-06\n",
      "Interation = 56\n",
      "===================\n",
      "Residual = 2.253378119099558e-06\n",
      "Interation = 57\n",
      "===================\n",
      "Residual = 1.7972492676922796e-06\n",
      "Interation = 58\n",
      "===================\n",
      "Residual = 1.433536925703082e-06\n",
      "Interation = 59\n",
      "===================\n",
      "Residual = 1.143494825762679e-06\n",
      "Interation = 60\n",
      "===================\n",
      "Residual = 9.121847976664555e-07\n",
      "Interation = 61\n",
      "===================\n",
      "Residual = 7.277017884289645e-07\n",
      "Interation = 62\n",
      "===================\n",
      "Residual = 5.805569474361072e-07\n",
      "Interation = 63\n",
      "===================\n",
      "Residual = 4.6318647863683467e-07\n",
      "Interation = 64\n",
      "===================\n",
      "Residual = 3.695605159002332e-07\n",
      "Interation = 65\n",
      "===================\n",
      "Residual = 2.948716151821399e-07\n",
      "Interation = 66\n",
      "===================\n",
      "Residual = 2.3528662158699937e-07\n",
      "Interation = 67\n",
      "===================\n",
      "Residual = 1.877489803197474e-07\n",
      "Interation = 68\n",
      "===================\n",
      "Residual = 1.498212078532021e-07\n",
      "Interation = 69\n",
      "===================\n",
      "Residual = 1.1955939695282318e-07\n",
      "Interation = 70\n",
      "===================\n",
      "Residual = 9.541315469647022e-08\n",
      "Interation = 71\n",
      "===================\n",
      "Residual = 7.614587151902052e-08\n",
      "Interation = 72\n",
      "===================\n",
      "Residual = 6.077116437661804e-08\n",
      "Interation = 73\n",
      "===================\n",
      "Residual = 4.8502191440350636e-08\n",
      "Interation = 74\n",
      "===================\n",
      "Residual = 3.871126597390266e-08\n",
      "Interation = 75\n",
      "===================\n",
      "Residual = 3.08976342586662e-08\n",
      "Interation = 76\n",
      "===================\n",
      "Residual = 2.4661787520737848e-08\n",
      "Interation = 77\n",
      "===================\n",
      "Residual = 1.9684985079970094e-08\n",
      "Interation = 78\n",
      "===================\n",
      "Residual = 1.5712904645383297e-08\n",
      "Interation = 79\n",
      "===================\n",
      "Residual = 1.2542627650726934e-08\n",
      "Interation = 80\n",
      "===================\n",
      "Residual = 1.001223570754576e-08\n",
      "Interation = 81\n",
      "===================\n",
      "Residual = 7.992519829199196e-09\n",
      "Interation = 82\n",
      "===================\n",
      "Residual = 6.380379910335647e-09\n",
      "Interation = 83\n",
      "===================\n",
      "Residual = 5.093531858981948e-09\n",
      "Interation = 84\n",
      "===================\n",
      "Residual = 4.066318619040417e-09\n",
      "Interation = 85\n",
      "===================\n",
      "Residual = 3.2463339879161663e-09\n",
      "Interation = 86\n",
      "===================\n",
      "Residual = 2.59176007163926e-09\n",
      "Interation = 87\n",
      "===================\n",
      "Residual = 2.0692153332038695e-09\n",
      "Interation = 88\n",
      "===================\n",
      "Residual = 1.6520597858808375e-09\n",
      "Interation = 89\n",
      "===================\n",
      "Residual = 1.3190324295404743e-09\n",
      "Interation = 90\n",
      "===================\n",
      "Residual = 1.0531592931842808e-09\n",
      "Interation = 91\n",
      "===================\n",
      "Residual = 8.408937216766567e-10\n",
      "Interation = 92\n",
      "===================\n",
      "Residual = 6.714258430455806e-10\n",
      "Interation = 93\n",
      "===================\n",
      "Residual = 5.361222363348222e-10\n",
      "Interation = 94\n",
      "===================\n",
      "Residual = 4.2809395976763497e-10\n",
      "Interation = 95\n",
      "===================\n",
      "Residual = 3.4183974528127716e-10\n",
      "Interation = 96\n",
      "===================\n",
      "Residual = 2.7297012350535823e-10\n",
      "Interation = 97\n",
      "===================\n",
      "Residual = 2.1798042461830613e-10\n",
      "Interation = 98\n",
      "===================\n",
      "Residual = 1.7407227245037846e-10\n",
      "Interation = 99\n",
      "===================\n",
      "Residual = 1.3901138286936212e-10\n",
      "Interation = 100\n",
      "===================\n",
      "Residual = 1.1101280447547606e-10\n",
      "Interation = 101\n",
      "===================\n",
      "Residual = 8.865819567003054e-11\n",
      "Interation = 102\n",
      "===================\n"
     ]
    }
   ],
   "source": [
    "DMM_U, DMM_Res = Multigrid_circle(inputsize, A1.to_full(), RightF, Rnew, s, wnew, error)"
   ]
  },
  {
   "cell_type": "markdown",
   "metadata": {},
   "source": [
    "Error DMM on fine grid"
   ]
  },
  {
   "cell_type": "code",
   "execution_count": 12,
   "metadata": {},
   "outputs": [
    {
     "name": "stdout",
     "output_type": "stream",
     "text": [
      "Energy norm: \n",
      "1.9500455532936571\n",
      "L2 norm: \n",
      "0.08567976775341526\n",
      "H1 norm: \n",
      "1.0591976394842153\n",
      "Energy norm: \n",
      "0.11562674973038212\n",
      "L2 norm: \n",
      "0.17135953550683056\n",
      "H1 norm: \n",
      "0.11488384072916946\n"
     ]
    }
   ],
   "source": [
    "UREAL = Ureal.reshape(sqrtinputsize,sqrtinputsize)\n",
    "DMMU = DMM_U.reshape(sqrtinputsize,sqrtinputsize)\n",
    "deltaU = DMMU - UREAL\n",
    "\n",
    "energynorm = np.sqrt(np.sum(np.multiply(np.multiply(np.gradient(UREAL,h,axis=0),np.gradient(UREAL,h,axis=0)),Media)*(h**2))+np.sum(np.multiply(np.multiply(np.gradient(UREAL,h,axis=1),np.gradient(UREAL,h,axis=1)),Media)*(h**2)))\n",
    "l2norm = np.sqrt((np.linalg.norm(UREAL)**2)*(h**2))\n",
    "h1norm = np.sqrt((np.linalg.norm(np.gradient(UREAL,h,axis=0))**2+np.linalg.norm(np.gradient(UREAL,h,axis=1))**2+np.linalg.norm(UREAL)**2)*(h**2))\n",
    "\n",
    "print('Energy norm: ')\n",
    "print(np.sqrt(np.sum(np.multiply(np.multiply(np.gradient(deltaU,h,axis=0),np.gradient(deltaU,h,axis=0)),Media)*(h**2))+np.sum(np.multiply(np.multiply(np.gradient(deltaU,h,axis=1),np.gradient(deltaU,h,axis=1)),Media)*(h**2))))\n",
    "print('L2 norm: ')\n",
    "print(np.sqrt((np.linalg.norm(deltaU)**2)*(h**2)))\n",
    "print('H1 norm: ')\n",
    "print(np.sqrt((np.linalg.norm(np.gradient(deltaU,h,axis=0))**2+np.linalg.norm(np.gradient(deltaU,h,axis=1))**2+np.linalg.norm(deltaU)**2)*(h**2)))\n",
    "\n",
    "print('Energy norm: ')\n",
    "print(np.sqrt(np.sum(np.multiply(np.multiply(np.gradient(deltaU,h,axis=0),np.gradient(deltaU,h,axis=0)),Media)*(h**2))+np.sum(np.multiply(np.multiply(np.gradient(deltaU,h,axis=1),np.gradient(deltaU,h,axis=1)),Media)*(h**2)))/energynorm)\n",
    "print('L2 norm: ')\n",
    "print(np.sqrt((np.linalg.norm(deltaU)**2)*(h**2))/l2norm)\n",
    "print('H1 norm: ')\n",
    "print(np.sqrt((np.linalg.norm(np.gradient(deltaU,h,axis=0))**2+np.linalg.norm(np.gradient(deltaU,h,axis=1))**2+np.linalg.norm(deltaU)**2)*(h**2))/h1norm)"
   ]
  },
  {
   "cell_type": "markdown",
   "metadata": {},
   "source": [
    "Solution"
   ]
  },
  {
   "cell_type": "code",
   "execution_count": 13,
   "metadata": {},
   "outputs": [
    {
     "data": {
      "text/plain": [
       "<matplotlib.colorbar.Colorbar at 0x130a48160>"
      ]
     },
     "execution_count": 13,
     "metadata": {},
     "output_type": "execute_result"
    },
    {
     "data": {
      "image/png": "[encoded data removed]",
      "text/plain": [
       "<Figure size 432x288 with 2 Axes>"
      ]
     },
     "metadata": {
      "needs_background": "light"
     },
     "output_type": "display_data"
    }
   ],
   "source": [
    "plt.imshow(DMM_U.reshape(sqrtinputsize,sqrtinputsize))\n",
    "plt.colorbar()"
   ]
  },
  {
   "cell_type": "markdown",
   "metadata": {},
   "source": [
    "Residual"
   ]
  },
  {
   "cell_type": "code",
   "execution_count": 14,
   "metadata": {},
   "outputs": [
    {
     "data": {
      "text/plain": [
       "[<matplotlib.lines.Line2D at 0x129acda58>]"
      ]
     },
     "execution_count": 14,
     "metadata": {},
     "output_type": "execute_result"
    },
    {
     "data": {
      "image/png": "[encoded data removed]",
      "text/plain": [
       "<Figure size 432x288 with 1 Axes>"
      ]
     },
     "metadata": {
      "needs_background": "light"
     },
     "output_type": "display_data"
    }
   ],
   "source": [
    "plt.semilogy(DMM_Res)"
   ]
  },
  {
   "cell_type": "markdown",
   "metadata": {},
   "source": [
    "Radius"
   ]
  },
  {
   "cell_type": "code",
   "execution_count": 15,
   "metadata": {},
   "outputs": [
    {
     "name": "stdout",
     "output_type": "stream",
     "text": [
      "DMM_Radius = 0.8433417704759866\n"
     ]
    }
   ],
   "source": [
    "DMM_Radius = Rhonew\n",
    "print('DMM_Radius = {}'.format(DMM_Radius))"
   ]
  },
  {
   "cell_type": "markdown",
   "metadata": {},
   "source": [
    "Rrestriction matrix after optimization"
   ]
  },
  {
   "cell_type": "code",
   "execution_count": 16,
   "metadata": {},
   "outputs": [
    {
     "data": {
      "text/plain": [
       "<matplotlib.colorbar.Colorbar at 0x129c938d0>"
      ]
     },
     "execution_count": 16,
     "metadata": {},
     "output_type": "execute_result"
    },
    {
     "data": {
      "image/png": "[encoded data removed]",
      "text/plain": [
       "<Figure size 432x288 with 2 Axes>"
      ]
     },
     "metadata": {
      "needs_background": "light"
     },
     "output_type": "display_data"
    }
   ],
   "source": [
    "plt.imshow(Rnew)\n",
    "plt.colorbar()"
   ]
  },
  {
   "cell_type": "markdown",
   "metadata": {},
   "source": [
    "Rrestriction matrix (log(abs()) after optimization"
   ]
  },
  {
   "cell_type": "code",
   "execution_count": 17,
   "metadata": {},
   "outputs": [
    {
     "data": {
      "text/plain": [
       "<matplotlib.colorbar.Colorbar at 0x129fcfa90>"
      ]
     },
     "execution_count": 17,
     "metadata": {},
     "output_type": "execute_result"
    },
    {
     "data": {
      "image/png": "[encoded data removed]",
      "text/plain": [
       "<Figure size 432x288 with 2 Axes>"
      ]
     },
     "metadata": {
      "needs_background": "light"
     },
     "output_type": "display_data"
    }
   ],
   "source": [
    "plt.imshow(np.log(np.abs(Rnew)))\n",
    "plt.colorbar()"
   ]
  },
  {
   "cell_type": "markdown",
   "metadata": {},
   "source": [
    "Basis after optimization"
   ]
  },
  {
   "cell_type": "code",
   "execution_count": 18,
   "metadata": {},
   "outputs": [
    {
     "data": {
      "text/plain": [
       "<matplotlib.colorbar.Colorbar at 0x12a51e908>"
      ]
     },
     "execution_count": 18,
     "metadata": {},
     "output_type": "execute_result"
    },
    {
     "data": {
      "image/png": "[encoded data removed]",
      "text/plain": [
       "<Figure size 432x288 with 2 Axes>"
      ]
     },
     "metadata": {
      "needs_background": "light"
     },
     "output_type": "display_data"
    }
   ],
   "source": [
    "basis1 = Rnew[int(0.45*outputsize)][:]\n",
    "basis1 = basis1.reshape([sqrtinputsize,sqrtinputsize])\n",
    "plt.imshow(basis1)\n",
    "plt.colorbar()"
   ]
  },
  {
   "cell_type": "code",
   "execution_count": 19,
   "metadata": {},
   "outputs": [
    {
     "data": {
      "image/png": "[encoded data removed]",
      "text/plain": [
       "<Figure size 432x288 with 1 Axes>"
      ]
     },
     "metadata": {
      "needs_background": "light"
     },
     "output_type": "display_data"
    }
   ],
   "source": [
    "from matplotlib import pyplot as plt\n",
    "import numpy as np\n",
    "from mpl_toolkits.mplot3d import Axes3D\n",
    "size=basis1.shape\n",
    "Y=np.arange(0,size[0],1)     \n",
    "X=np.arange(0,size[1],1)\n",
    "\n",
    "X,Y=np.meshgrid(X,Y)    \n",
    "fig=plt.figure()\n",
    "ax=fig.gca(projection='3d') \n",
    "ax.plot_surface(X,Y,basis1)\n",
    "plt.show()"
   ]
  },
  {
   "cell_type": "code",
   "execution_count": 20,
   "metadata": {},
   "outputs": [
    {
     "data": {
      "text/plain": [
       "[<matplotlib.lines.Line2D at 0x12ae65e10>]"
      ]
     },
     "execution_count": 20,
     "metadata": {},
     "output_type": "execute_result"
    },
    {
     "data": {
      "image/png": "[encoded data removed]",
      "text/plain": [
       "<Figure size 432x288 with 1 Axes>"
      ]
     },
     "metadata": {
      "needs_background": "light"
     },
     "output_type": "display_data"
    }
   ],
   "source": [
    "plt.plot(basis1[:][int(sqrtinputsize/2)])"
   ]
  },
  {
   "cell_type": "markdown",
   "metadata": {},
   "source": [
    "Basis after optimization (log(abs()))"
   ]
  },
  {
   "cell_type": "code",
   "execution_count": 21,
   "metadata": {},
   "outputs": [
    {
     "data": {
      "text/plain": [
       "<matplotlib.colorbar.Colorbar at 0x12a9d3c50>"
      ]
     },
     "execution_count": 21,
     "metadata": {},
     "output_type": "execute_result"
    },
    {
     "data": {
      "image/png": "[encoded data removed]",
      "text/plain": [
       "<Figure size 432x288 with 2 Axes>"
      ]
     },
     "metadata": {
      "needs_background": "light"
     },
     "output_type": "display_data"
    }
   ],
   "source": [
    "plt.imshow(np.log(np.abs(basis1)))\n",
    "plt.colorbar()"
   ]
  },
  {
   "cell_type": "code",
   "execution_count": 22,
   "metadata": {},
   "outputs": [
    {
     "data": {
      "image/png": "[encoded data removed]",
      "text/plain": [
       "<Figure size 432x288 with 1 Axes>"
      ]
     },
     "metadata": {
      "needs_background": "light"
     },
     "output_type": "display_data"
    }
   ],
   "source": [
    "fig=plt.figure()\n",
    "ax=fig.gca(projection='3d') \n",
    "ax.plot_surface(X,Y,np.log(np.abs(basis1)))\n",
    "plt.show()"
   ]
  },
  {
   "cell_type": "code",
   "execution_count": 23,
   "metadata": {},
   "outputs": [
    {
     "data": {
      "text/plain": [
       "[<matplotlib.lines.Line2D at 0x12a7c1080>]"
      ]
     },
     "execution_count": 23,
     "metadata": {},
     "output_type": "execute_result"
    },
    {
     "data": {
      "image/png": "[encoded data removed]",
      "text/plain": [
       "<Figure size 432x288 with 1 Axes>"
      ]
     },
     "metadata": {
      "needs_background": "light"
     },
     "output_type": "display_data"
    }
   ],
   "source": [
    "plt.plot(np.log(np.abs(basis1[:][int(sqrtinputsize/2)])))"
   ]
  },
  {
   "cell_type": "markdown",
   "metadata": {},
   "source": [
    "FEM use basis from global DMM"
   ]
  },
  {
   "cell_type": "code",
   "execution_count": 24,
   "metadata": {},
   "outputs": [
    {
     "name": "stdout",
     "output_type": "stream",
     "text": [
      "Energy norm: \n",
      "4.650567497964294\n",
      "L2 norm: \n",
      "0.12039095790023331\n",
      "H1 norm: \n",
      "2.573670417107689\n",
      "Energy norm: \n",
      "0.2757525347462435\n",
      "L2 norm: \n",
      "0.24078191580046662\n",
      "H1 norm: \n",
      "0.27914822622938934\n"
     ]
    },
    {
     "data": {
      "image/png": "[encoded data removed]",
      "text/plain": [
       "<Figure size 432x288 with 2 Axes>"
      ]
     },
     "metadata": {
      "needs_background": "light"
     },
     "output_type": "display_data"
    }
   ],
   "source": [
    "\n",
    "Anew = np.zeros([outputsize,outputsize])\n",
    "[X1, Y1] = np.meshgrid(np.linspace(0, 1, sqrtinputsize),np.linspace(0, 1, sqrtinputsize))\n",
    "[X2, Y2] = np.meshgrid(np.linspace(0, 1, sqrtoutputsize),np.linspace(0, 1, sqrtoutputsize))\n",
    "A = a(X1,Y1)\n",
    "for i in range(outputsize):\n",
    "    for j in range(outputsize):\n",
    "        basisi = Rnew[i][:].reshape([sqrtinputsize,sqrtinputsize])\n",
    "        basisj = Rnew[j][:].reshape([sqrtinputsize,sqrtinputsize])\n",
    "        gxbasisi = np.gradient(basisi,axis=0)/h\n",
    "        gybasisi = np.gradient(basisi,axis=1)/h\n",
    "        gxbasisj = np.gradient(basisj,axis=0)/h\n",
    "        gybasisj = np.gradient(basisj,axis=1)/h\n",
    "        Anew[i][j]=(np.sum(A*gxbasisi*gxbasisj)+np.sum(A*gybasisi*gybasisj))*(H**2)\n",
    "        \n",
    "Fnew = np.zeros([outputsize,1])\n",
    "for i in range(outputsize):\n",
    "    basisi = Rnew[i][:].reshape([sqrtinputsize,sqrtinputsize])\n",
    "    F = rightf(X1,Y1)\n",
    "    Fnew[i]=np.sum(F*basisi)*(H**2)\n",
    "    \n",
    "UnewCoarse = np.linalg.solve(Anew,Fnew)\n",
    "Unew = np.zeros([sqrtinputsize,sqrtinputsize])\n",
    "for i in range(outputsize):\n",
    "    basisi = Rnew[i][:].reshape([sqrtinputsize,sqrtinputsize])\n",
    "    Unew = Unew + UnewCoarse[i]*basisi\n",
    "\n",
    "plt.imshow(Unew)\n",
    "plt.colorbar()\n",
    "\n",
    "UREAL = u_real(X1,Y1).reshape(sqrtinputsize,sqrtinputsize)\n",
    "deltaU = Unew - UREAL\n",
    "A = a(X1,Y1)\n",
    "\n",
    "energynorm = np.sqrt(np.sum(np.multiply(np.multiply(np.gradient(UREAL,h,axis=0),np.gradient(UREAL,h,axis=0)),A)*(h**2))+np.sum(np.multiply(np.multiply(np.gradient(UREAL,h,axis=1),np.gradient(UREAL,h,axis=1)),A)*(h**2)))\n",
    "l2norm = np.sqrt((np.sum(UREAL**2))*(h**2))\n",
    "h1norm = np.sqrt((np.linalg.norm(np.gradient(UREAL,h,axis=0))**2+np.linalg.norm(np.gradient(UREAL,h,axis=1))**2+np.linalg.norm(UREAL)**2)*(h**2))\n",
    "print('Energy norm: ')\n",
    "print(np.sqrt(np.sum(np.multiply(np.multiply(np.gradient(deltaU,h,axis=0),np.gradient(deltaU,h,axis=0)),A)*(h**2))+np.sum(np.multiply(np.multiply(np.gradient(deltaU,h,axis=1),np.gradient(deltaU,h,axis=1)),A)*(h**2))))\n",
    "print('L2 norm: ')\n",
    "print(np.sqrt((np.linalg.norm(deltaU)**2)*(h**2)))\n",
    "print('H1 norm: ')\n",
    "print(np.sqrt((np.linalg.norm(np.gradient(deltaU,h,axis=0))**2+np.linalg.norm(np.gradient(deltaU,h,axis=1))**2+np.linalg.norm(deltaU)**2)*(h**2)))\n",
    "\n",
    "\n",
    "\n",
    "print('Energy norm: ')\n",
    "print(np.sqrt(np.sum(np.multiply(np.multiply(np.gradient(deltaU,h,axis=0),np.gradient(deltaU,h,axis=0)),A)*(h**2))+np.sum(np.multiply(np.multiply(np.gradient(deltaU,h,axis=1),np.gradient(deltaU,h,axis=1)),A)*(h**2)))/energynorm)\n",
    "print('L2 norm: ')\n",
    "print(np.sqrt((np.sum(deltaU**2))*(h**2))/l2norm)\n",
    "print('H1 norm: ')\n",
    "print(np.sqrt((np.linalg.norm(np.gradient(deltaU,h,axis=0))**2+np.linalg.norm(np.gradient(deltaU,h,axis=1))**2+np.linalg.norm(deltaU)**2)*(h**2))/h1norm)"
   ]
  },
  {
   "cell_type": "code",
   "execution_count": 25,
   "metadata": {},
   "outputs": [
    {
     "data": {
      "text/plain": [
       "0"
      ]
     },
     "execution_count": 25,
     "metadata": {},
     "output_type": "execute_result"
    }
   ],
   "source": [
    "import os\n",
    "os.system(\"say 'The program has finished, Please check the results'\")"
   ]
  }
 ],
 "metadata": {
  "kernelspec": {
   "display_name": "Python 3",
   "language": "python",
   "name": "python3"
  },
  "language_info": {
   "codemirror_mode": {
    "name": "ipython",
    "version": 3
   },
   "file_extension": ".py",
   "mimetype": "text/x-python",
   "name": "python",
   "nbconvert_exporter": "python",
   "pygments_lexer": "ipython3",
   "version": "3.6.6"
  }
 },
 "nbformat": 4,
 "nbformat_minor": 2
}
