{
 "cells": [
  {
   "cell_type": "markdown",
   "metadata": {},
   "source": [
    "Import important parameter"
   ]
  },
  {
   "cell_type": "code",
   "execution_count": 1,
   "metadata": {},
   "outputs": [],
   "source": [
    "inputsize = 63**2\n",
    "e = 0.05"
   ]
  },
  {
   "cell_type": "markdown",
   "metadata": {},
   "source": [
    "Import Package"
   ]
  },
  {
   "cell_type": "code",
   "execution_count": 2,
   "metadata": {},
   "outputs": [],
   "source": [
    "import torch\n",
    "import numpy as np\n",
    "import matplotlib.pyplot as plt\n",
    "import autograd.numpy as np\n",
    "from autograd import grad\n",
    "import pyamg\n",
    "import dmg.gallery as gallery\n",
    "import dmg.dgmg as dgmg\n",
    "import dmg.gmg_linear as gmg_linear\n",
    "import dmg.classical_amg as classical_amg\n",
    "from mpl_toolkits.mplot3d import Axes3D\n",
    "import xlsxwriter\n",
    "from scipy.ndimage import convolve"
   ]
  },
  {
   "cell_type": "markdown",
   "metadata": {},
   "source": [
    "Define function"
   ]
  },
  {
   "cell_type": "code",
   "execution_count": 3,
   "metadata": {},
   "outputs": [],
   "source": [
    "def Restriction(inputsize):\n",
    "    inputsize = int(inputsize)\n",
    "    sqrtinputsize = int(np.sqrt(inputsize))     \n",
    "    sqrtoutputsize = int(sqrtinputsize/2)\n",
    "    outputsize = int(sqrtoutputsize**2)\n",
    "    OUTPUT = np.zeros([outputsize, inputsize])\n",
    "    for j in range(sqrtoutputsize):\n",
    "        for i in range(sqrtoutputsize):\n",
    "            OUTPUT[i+sqrtoutputsize*j][2*i+j*2*sqrtinputsize] = 1/16\n",
    "            OUTPUT[i+sqrtoutputsize*j][1+2*i+j*2*sqrtinputsize] = 1/8\n",
    "            OUTPUT[i+sqrtoutputsize*j][2+2*i+j*2*sqrtinputsize] = 1/16\n",
    "            OUTPUT[i+sqrtoutputsize*j][sqrtinputsize +\n",
    "                                       2*i+j*2*sqrtinputsize] = 1/8\n",
    "            OUTPUT[i+sqrtoutputsize*j][1+sqrtinputsize +\n",
    "                                       2*i+j*2*sqrtinputsize] = 1/4\n",
    "            OUTPUT[i+sqrtoutputsize*j][2+sqrtinputsize +\n",
    "                                       2*i+j*2*sqrtinputsize] = 1/8\n",
    "            OUTPUT[i+sqrtoutputsize*j][2*sqrtinputsize +\n",
    "                                       2*i+j*2*sqrtinputsize] = 1/16\n",
    "            OUTPUT[i+sqrtoutputsize*j][1+2 *\n",
    "                                       sqrtinputsize + 2*i+j*2*sqrtinputsize] = 1/8\n",
    "            OUTPUT[i+sqrtoutputsize*j][2+2 *\n",
    "                                       sqrtinputsize+2*i+j*2*sqrtinputsize] = 1/16\n",
    "    return OUTPUT\n",
    "\n",
    "def Poisson(inputsize):\n",
    "    inputsize = int(inputsize)\n",
    "    sqrtinputsize = int(np.sqrt(inputsize))     \n",
    "    sqrtoutputsize = int(sqrtinputsize/2)\n",
    "    outputsize = int(sqrtoutputsize**2)\n",
    "    OUTPUT = np.zeros([outputsize, inputsize])\n",
    "    A1 = 2*np.eye(sqrtinputsize)\n",
    "    for i in range(sqrtinputsize-1):\n",
    "        A1[i, i+1] = -1\n",
    "        A1[i+1, i] = -1\n",
    "    I = np.eye(sqrtinputsize)\n",
    "    OUTPUT = (np.kron(I, A1)+np.kron(A1, I))\n",
    "    return OUTPUT\n",
    "\n",
    "\n",
    "def Multigrid_circle(inputsize, A_A, B, R_A, s, w, error):\n",
    "    A = np.matrix(A_A)\n",
    "    P = 16.*np.transpose(R_A)\n",
    "    R = np.matrix(R_A)\n",
    "    M = np.matrix(w**(-1)*np.diag(np.diag(A)))\n",
    "    K = M - A\n",
    "    C = np.linalg.inv(M)*K\n",
    "    b = np.linalg.inv(M)*B\n",
    "    U0 = np.matrix(np.zeros([inputsize, 1]))\n",
    "    RESIDUAL = []\n",
    "    Residual=1\n",
    "    i=0\n",
    "    while Residual > error:\n",
    "        for j in range(s):\n",
    "            U0 = C*U0+b\n",
    "        r = B - A*U0\n",
    "        Residual = np.linalg.norm(r,2)\n",
    "        rc = R*r\n",
    "        Ac = R*A*P\n",
    "        Uc = np.linalg.solve(Ac, rc)\n",
    "        U = U0 + P*Uc\n",
    "        for k in range(s):\n",
    "            U = C*U+b\n",
    "        U0 = U\n",
    "        RESIDUAL.append(Residual)\n",
    "        i=i+1\n",
    "        print(\"Residual = {}\".format(Residual))\n",
    "        print(\"Interation = {}\".format(i))\n",
    "        print(\"===================\")\n",
    "    return U0, RESIDUAL\n",
    "\n",
    "def rho(inputsize,A,P,R,w,s):\n",
    "    M = (w**(-1)) * np.diag(np.diag(A))\n",
    "    K = M - A\n",
    "    MK = np.matmul(np.linalg.inv(M),K)\n",
    "    I = np.eye(inputsize)\n",
    "    IPRAPRA = I - np.matmul(np.matmul(np.matmul(P,np.linalg.inv(np.matmul(np.matmul(R,A),P))),R),A)\n",
    "    C = np.matmul(np.matmul(MK,IPRAPRA),MK)\n",
    "    for i in range(5):\n",
    "        C = np.matmul(C,C)\n",
    "    radius = np.linalg.norm(C)**(1/32)\n",
    "    return radius\n",
    "\n",
    "def optimizer_GD(inputsize, A1, R, w, s, learning_rate, lam):\n",
    "    rhoold = rho(inputsize,A1,16*np.transpose(R),R,w,s)\n",
    "    device = torch.device('cpu')\n",
    "    R = torch.tensor(R,dtype = torch.double, requires_grad=True,device=device)\n",
    "    w = torch.tensor(w,dtype = torch.double, requires_grad=True, device=device)\n",
    "    lam = torch.tensor(lam,dtype = torch.double, requires_grad=True, device=device)\n",
    "    A = torch.tensor(A1,dtype = torch.double, device=device)\n",
    "    P = 16*torch.t(R)\n",
    "    M = (w**(-1)) * torch.diag(torch.diag(A))\n",
    "    K = M - A\n",
    "    MK = torch.mm(torch.inverse(M),K)\n",
    "    I = torch.eye(inputsize,dtype = torch.double, device=device)\n",
    "    I1 = torch.ones([inputsize,1],dtype = torch.double, device=device)\n",
    "    I2 = torch.ones([outputsize,1],dtype = torch.double, device=device)\n",
    "    IPRAPRA = I - torch.mm(torch.mm(torch.mm(P,torch.inverse(torch.mm(torch.mm(R,A),P))),R),A)\n",
    "    C = torch.mm(torch.mm(MK,IPRAPRA),MK)\n",
    "    for i in range(5):\n",
    "        C = torch.mm(C,C)\n",
    "    loss = torch.norm(C)**(1/32) + torch.mm(lam,torch.mm(R,I1) - I2)\n",
    "    loss.backward()\n",
    "    with torch.no_grad():\n",
    "        R-=learning_rate*R.grad\n",
    "        w-=learning_rate*w.grad \n",
    "        lam-=learning_rate*lam.grad\n",
    "    R = R.detach().numpy()\n",
    "    w = w.detach().numpy()\n",
    "    lam = lam.detach().numpy()\n",
    "    rhonew = rho(inputsize,A1,16*np.transpose(R),R,w,s)\n",
    "    return R, w, lam, rhoold, rhonew\n",
    "\n",
    "def direct_optimizer_GD(inputsize, A0, A1, R, w, s, learning_rate, lam):\n",
    "    Rhoold = rho(inputsize,A1,16*np.transpose(R),R,w,s)\n",
    "    Rhonew = [Rhoold]\n",
    "    for i in range(100):\n",
    "        Rnew, wnew, lamnew, rhoold, rhonew = optimizer_GD(inputsize, A1, R, w, s, learning_rate, lam)\n",
    "        R = Rnew\n",
    "        w = wnew\n",
    "        lam = lamnew\n",
    "        print(\"rho = {}\".format(rhonew))\n",
    "        print(\"===================\")\n",
    "        Rhonew.append(rhonew)\n",
    "        i+=1\n",
    "    print(\"======End======\")\n",
    "    return R, w, Rhoold, Rhonew\n",
    "\n",
    "def homotopy_optimizer_GD(inputsize, A0, A1, R, w, s, learning_rate ,accept_radius ,step_length,lam):\n",
    "    Rhoold = rho(inputsize,A1,16*np.transpose(R),R,w,s)\n",
    "    Radius = [Rhoold]\n",
    "    L = step_length\n",
    "    print(\"======Section 1======\")\n",
    "    while L < 1:\n",
    "        M = (1-L)*A0 + L*A1\n",
    "        Rnew, wnew, lamnew, rhoold, rhonew = optimizer_GD(inputsize, M, R, w, s, learning_rate, lam)\n",
    "        Radius.append(rhonew)\n",
    "        if rhonew > accept_radius:\n",
    "            step_length = 0.1*step_length\n",
    "            learning_rate = 0.1*learning_rate\n",
    "            print('Decrease the step_length, learning_rate and Restart!!')\n",
    "            print(\"step_length = {}\".format(step_length))      \n",
    "            print(\"learning_rate = {}\".format(learning_rate))\n",
    "            print(\"rhonew = {}\".format(rhonew))\n",
    "            print(\"===================\")\n",
    "            R = Restriction(inputsize)\n",
    "            lam = np.zeros([1,outputsize])\n",
    "            w = 2/3\n",
    "            L = step_length\n",
    "        else:\n",
    "            R = Rnew\n",
    "            w = wnew\n",
    "            L += step_length\n",
    "            lam = lamnew\n",
    "            print(\"L = {}\".format(L))\n",
    "            print(\"rho = {}\".format(rhonew))\n",
    "            print(\"===================\")\n",
    "    print(\"======Section 2======\")\n",
    "    i = 0\n",
    "    while rhoold>rhonew and i <10:\n",
    "        Rnew, wnew, lamnew, rhoold, rhonew = optimizer_GD(inputsize, A1, R, w, s, learning_rate, lam)\n",
    "        Radius.append(rhonew)\n",
    "        R = Rnew\n",
    "        w = wnew\n",
    "        lam = lamnew\n",
    "        print(\"the {} steps\".format(i))\n",
    "        print(\"rho = {}\".format(rhonew))\n",
    "        print(\"===================\")\n",
    "        i+=1            \n",
    "    Rhonew = rhonew\n",
    "    print(\"======End======\")\n",
    "    return R, w, Rhoold, Rhonew, Radius"
   ]
  },
  {
   "cell_type": "markdown",
   "metadata": {},
   "source": [
    "Define parameter"
   ]
  },
  {
   "cell_type": "code",
   "execution_count": 4,
   "metadata": {},
   "outputs": [],
   "source": [
    "s = 1\n",
    "w = 2/3\n",
    "error=10e-11\n",
    "def u_real(x, y): return np.sin(np.pi*3*x)*np.sin(np.pi*5*y)\n",
    "def rightf(x, y): return  34*np.pi**2*(1 + (2 + np.cos(np.pi*x))/(2 + np.cos(np.pi*y)) + (2 + np.cos(5*np.pi*x))/(2 + np.cos(5*np.pi*y)))*np.sin(3*np.pi*x)*np.sin(5*np.pi*y) - 3*np.pi*np.cos(3*np.pi*x)*(-((np.pi*np.sin(np.pi*x))/(2 + np.cos(np.pi*y))) - (5*np.pi*np.sin(5*np.pi*x))/(2 + np.cos(5*np.pi*y)))*np.sin(5*np.pi*y) - 5*np.pi*np.cos(5*np.pi*y)*np.sin(3*np.pi*x)*((np.pi*(2 + np.cos(np.pi*x))*np.sin(np.pi*y))/(2 + np.cos(np.pi*y))**2 + (5*np.pi*(2 + np.cos(5*np.pi*x))*np.sin(5*np.pi*y))/(2 + np.cos(5*np.pi*y))**2)\n",
    "def a(x,y): return(1 + (2 + np.cos(np.pi*x))/(2 + np.cos(np.pi*y)) + (2 + np.cos(5*np.pi*x))/(2 + np.cos(5*np.pi*y)))\n",
    "\n",
    "sqrtinputsize = int(np.sqrt(inputsize))\n",
    "sqrtmidputsize = int(sqrtinputsize/2)\n",
    "midputsize = int(sqrtmidputsize**2)\n",
    "sqrtoutputsize = int(sqrtmidputsize/2)\n",
    "outputsize = int(sqrtoutputsize**2)\n",
    "\n",
    "h = 1/(sqrtinputsize-1)\n",
    "H = 1/(sqrtoutputsize-1)\n",
    "A0 = Poisson(inputsize)\n",
    "num_levels=2\n",
    "n=sqrtinputsize\n",
    "kx = np.zeros([n,n+1])\n",
    "ky = np.zeros([n+1,n])\n",
    "for i in range(n):\n",
    "    for j in range(n+1):\n",
    "        kx[i][j] = a((j-0.5)*h,i*h)\n",
    "for i in range(n+1):\n",
    "    for j in range(n):\n",
    "        ky[i][j] = a(j*h,(i-0.5)*h)    \n",
    "A1 = gallery.nonlinearPoisson((n,n), kx, ky)\n",
    "n = inputsize\n",
    "[X, Y] = np.meshgrid(np.linspace(0, 1, sqrtinputsize),np.linspace(0, 1, sqrtinputsize))\n",
    "RightF = rightf(X,Y)*h**2\n",
    "RightF = RightF.reshape(inputsize, 1)\n",
    "Ureal = u_real(X,Y).reshape(inputsize, 1)\n",
    "Media = a(X,Y)\n",
    "R1 = Restriction(inputsize)\n",
    "R2 = Restriction(midputsize)\n",
    "R  = np.matmul(R2, R1)\n",
    "P = 16*np.transpose(R)"
   ]
  },
  {
   "cell_type": "markdown",
   "metadata": {},
   "source": [
    "GMM on fine grid"
   ]
  },
  {
   "cell_type": "code",
   "execution_count": 5,
   "metadata": {
    "scrolled": false
   },
   "outputs": [
    {
     "name": "stdout",
     "output_type": "stream",
     "text": [
      "Residual = 9.280538368530733\n",
      "Interation = 1\n",
      "===================\n",
      "Residual = 4.326082825682388\n",
      "Interation = 2\n",
      "===================\n",
      "Residual = 2.2947062449050817\n",
      "Interation = 3\n",
      "===================\n",
      "Residual = 1.2807166011603925\n",
      "Interation = 4\n",
      "===================\n",
      "Residual = 0.7354079058222458\n",
      "Interation = 5\n",
      "===================\n",
      "Residual = 0.4328884170301113\n",
      "Interation = 6\n",
      "===================\n",
      "Residual = 0.26250999370791706\n",
      "Interation = 7\n",
      "===================\n",
      "Residual = 0.1654622929528229\n",
      "Interation = 8\n",
      "===================\n",
      "Residual = 0.10922564227324444\n",
      "Interation = 9\n",
      "===================\n",
      "Residual = 0.07561707732707246\n",
      "Interation = 10\n",
      "===================\n",
      "Residual = 0.05457383112228352\n",
      "Interation = 11\n",
      "===================\n",
      "Residual = 0.04064788123658551\n",
      "Interation = 12\n",
      "===================\n",
      "Residual = 0.030934867614936305\n",
      "Interation = 13\n",
      "===================\n",
      "Residual = 0.023872366850189432\n",
      "Interation = 14\n",
      "===================\n",
      "Residual = 0.018585374137487214\n",
      "Interation = 15\n",
      "===================\n",
      "Residual = 0.014551697864299743\n",
      "Interation = 16\n",
      "===================\n",
      "Residual = 0.011436934285540096\n",
      "Interation = 17\n",
      "===================\n",
      "Residual = 0.009013133192914103\n",
      "Interation = 18\n",
      "===================\n",
      "Residual = 0.007117368473477171\n",
      "Interation = 19\n",
      "===================\n",
      "Residual = 0.005629333427497783\n",
      "Interation = 20\n",
      "===================\n",
      "Residual = 0.0044582814569576355\n",
      "Interation = 21\n",
      "===================\n",
      "Residual = 0.0035348171724252577\n",
      "Interation = 22\n",
      "===================\n",
      "Residual = 0.0028053931036255185\n",
      "Interation = 23\n",
      "===================\n",
      "Residual = 0.002228436575501586\n",
      "Interation = 24\n",
      "===================\n",
      "Residual = 0.0017715300653957811\n",
      "Interation = 25\n",
      "===================\n",
      "Residual = 0.001409311482428646\n",
      "Interation = 26\n",
      "===================\n",
      "Residual = 0.00112188681033846\n",
      "Interation = 27\n",
      "===================\n",
      "Residual = 0.0008936177403065403\n",
      "Interation = 28\n",
      "===================\n",
      "Residual = 0.0007121889970575074\n",
      "Interation = 29\n",
      "===================\n",
      "Residual = 0.0005678869971652371\n",
      "Interation = 30\n",
      "===================\n",
      "Residual = 0.00045303965025220573\n",
      "Interation = 31\n",
      "===================\n",
      "Residual = 0.0003615798594309356\n",
      "Interation = 32\n",
      "===================\n",
      "Residual = 0.00028870446748837416\n",
      "Interation = 33\n",
      "===================\n",
      "Residual = 0.00023060715161245796\n",
      "Interation = 34\n",
      "===================\n",
      "Residual = 0.0001842688059737487\n",
      "Interation = 35\n",
      "===================\n",
      "Residual = 0.0001472927440235972\n",
      "Interation = 36\n",
      "===================\n",
      "Residual = 0.00011777493074676502\n",
      "Interation = 37\n",
      "===================\n",
      "Residual = 9.420165289963917e-05\n",
      "Interation = 38\n",
      "===================\n",
      "Residual = 7.536872193734962e-05\n",
      "Interation = 39\n",
      "===================\n",
      "Residual = 6.031760426827042e-05\n",
      "Interation = 40\n",
      "===================\n",
      "Residual = 4.8284878922165436e-05\n",
      "Interation = 41\n",
      "===================\n",
      "Residual = 3.866220285575062e-05\n",
      "Interation = 42\n",
      "===================\n",
      "Residual = 3.0964571156265726e-05\n",
      "Interation = 43\n",
      "===================\n",
      "Residual = 2.4805132855753228e-05\n",
      "Interation = 44\n",
      "===================\n",
      "Residual = 1.98751932285992e-05\n",
      "Interation = 45\n",
      "===================\n",
      "Residual = 1.592832328208553e-05\n",
      "Interation = 46\n",
      "===================\n",
      "Residual = 1.2767724646970486e-05\n",
      "Interation = 47\n",
      "===================\n",
      "Residual = 1.0236176852958984e-05\n",
      "Interation = 48\n",
      "===================\n",
      "Residual = 8.20803460902358e-06\n",
      "Interation = 49\n",
      "===================\n",
      "Residual = 6.582853694054964e-06\n",
      "Interation = 50\n",
      "===================\n",
      "Residual = 5.280311430383475e-06\n",
      "Interation = 51\n",
      "===================\n",
      "Residual = 4.236156938833677e-06\n",
      "Interation = 52\n",
      "===================\n",
      "Residual = 3.398980949673771e-06\n",
      "Interation = 53\n",
      "===================\n",
      "Residual = 2.727638256407429e-06\n",
      "Interation = 54\n",
      "===================\n",
      "Residual = 2.189190096024728e-06\n",
      "Interation = 55\n",
      "===================\n",
      "Residual = 1.7572610114395339e-06\n",
      "Interation = 56\n",
      "===================\n",
      "Residual = 1.4107261952961608e-06\n",
      "Interation = 57\n",
      "===================\n",
      "Residual = 1.132662502197598e-06\n",
      "Interation = 58\n",
      "===================\n",
      "Residual = 9.095099110580739e-07\n",
      "Interation = 59\n",
      "===================\n",
      "Residual = 7.304010026192683e-07\n",
      "Interation = 60\n",
      "===================\n",
      "Residual = 5.866246181647238e-07\n",
      "Interation = 61\n",
      "===================\n",
      "Residual = 4.711967547034238e-07\n",
      "Interation = 62\n",
      "===================\n",
      "Residual = 3.7851713321753723e-07\n",
      "Interation = 63\n",
      "===================\n",
      "Residual = 3.040943127660029e-07\n",
      "Interation = 64\n",
      "===================\n",
      "Residual = 2.4432555169162207e-07\n",
      "Interation = 65\n",
      "===================\n",
      "Residual = 1.9632053282022152e-07\n",
      "Interation = 66\n",
      "===================\n",
      "Residual = 1.5776013809884782e-07\n",
      "Interation = 67\n",
      "===================\n",
      "Residual = 1.267833160901512e-07\n",
      "Interation = 68\n",
      "===================\n",
      "Residual = 1.018963951974887e-07\n",
      "Interation = 69\n",
      "===================\n",
      "Residual = 8.190041339394936e-08\n",
      "Interation = 70\n",
      "===================\n",
      "Residual = 6.5832852839663e-08\n",
      "Interation = 71\n",
      "===================\n",
      "Residual = 5.2920913037174876e-08\n",
      "Interation = 72\n",
      "===================\n",
      "Residual = 4.25440600799346e-08\n",
      "Interation = 73\n",
      "===================\n",
      "Residual = 3.4203957478799015e-08\n",
      "Interation = 74\n",
      "===================\n",
      "Residual = 2.750037273081442e-08\n",
      "Interation = 75\n",
      "===================\n",
      "Residual = 2.2111825360151706e-08\n",
      "Interation = 76\n",
      "===================\n",
      "Residual = 1.778006812012965e-08\n",
      "Interation = 77\n",
      "===================\n",
      "Residual = 1.4297633508964625e-08\n",
      "Interation = 78\n",
      "===================\n",
      "Residual = 1.1497831605109772e-08\n",
      "Interation = 79\n",
      "===================\n",
      "Residual = 9.246723298993261e-09\n",
      "Interation = 80\n",
      "===================\n",
      "Residual = 7.436682033631582e-09\n",
      "Interation = 81\n",
      "===================\n",
      "Residual = 5.981211209390686e-09\n",
      "Interation = 82\n",
      "===================\n",
      "Residual = 4.8107986644039685e-09\n",
      "Interation = 83\n",
      "===================\n",
      "Residual = 3.869566493656876e-09\n",
      "Interation = 84\n",
      "===================\n",
      "Residual = 3.112604980291368e-09\n",
      "Interation = 85\n",
      "===================\n",
      "Residual = 2.5038118521942517e-09\n",
      "Interation = 86\n",
      "===================\n",
      "Residual = 2.014160686885897e-09\n",
      "Interation = 87\n",
      "===================\n",
      "Residual = 1.6203223470186822e-09\n",
      "Interation = 88\n",
      "===================\n",
      "Residual = 1.3035374235643418e-09\n",
      "Interation = 89\n",
      "===================\n",
      "Residual = 1.0487190919141854e-09\n",
      "Interation = 90\n",
      "===================\n",
      "Residual = 8.437367847486732e-10\n",
      "Interation = 91\n",
      "===================\n",
      "Residual = 6.788425874350962e-10\n",
      "Interation = 92\n",
      "===================\n",
      "Residual = 5.461874504946773e-10\n",
      "Interation = 93\n",
      "===================\n",
      "Residual = 4.3946724644518334e-10\n",
      "Interation = 94\n",
      "===================\n",
      "Residual = 3.5360728666462983e-10\n",
      "Interation = 95\n",
      "===================\n",
      "Residual = 2.8453110218045485e-10\n",
      "Interation = 96\n",
      "===================\n",
      "Residual = 2.2895369690287907e-10\n",
      "Interation = 97\n",
      "===================\n",
      "Residual = 1.8423647495867896e-10\n",
      "Interation = 98\n",
      "===================\n",
      "Residual = 1.4825554598694876e-10\n",
      "Interation = 99\n",
      "===================\n",
      "Residual = 1.1930465693446443e-10\n",
      "Interation = 100\n",
      "===================\n",
      "Residual = 9.600844050261468e-11\n",
      "Interation = 101\n",
      "===================\n"
     ]
    }
   ],
   "source": [
    "GMM_U, GMM_Res = Multigrid_circle(inputsize, A1.to_full(), RightF, R, s, w, error)"
   ]
  },
  {
   "cell_type": "markdown",
   "metadata": {},
   "source": [
    "Error GMM on fine grid"
   ]
  },
  {
   "cell_type": "code",
   "execution_count": 6,
   "metadata": {},
   "outputs": [
    {
     "name": "stdout",
     "output_type": "stream",
     "text": [
      "Energy norm: \n",
      "1.5122307876725645\n",
      "L2 norm: \n",
      "0.0647705754084395\n",
      "H1 norm: \n",
      "0.8222740476780926\n",
      "Energy norm: \n",
      "0.08952192865066001\n",
      "L2 norm: \n",
      "0.12954115081687903\n",
      "H1 norm: \n",
      "0.08902020633841774\n"
     ]
    }
   ],
   "source": [
    "UREAL = Ureal.reshape(sqrtinputsize,sqrtinputsize)\n",
    "GMMU = GMM_U.reshape(sqrtinputsize,sqrtinputsize)\n",
    "deltaU = GMMU - UREAL\n",
    "\n",
    "energynorm = np.sqrt(np.sum(np.multiply(np.multiply(np.gradient(UREAL,h,axis=0),np.gradient(UREAL,h,axis=0)),Media)*(h**2))+np.sum(np.multiply(np.multiply(np.gradient(UREAL,h,axis=1),np.gradient(UREAL,h,axis=1)),Media)*(h**2)))\n",
    "l2norm = np.sqrt((np.linalg.norm(UREAL)**2)*(h**2))\n",
    "h1norm = np.sqrt((np.linalg.norm(np.gradient(UREAL,h,axis=0))**2+np.linalg.norm(np.gradient(UREAL,h,axis=1))**2+np.linalg.norm(UREAL)**2)*(h**2))\n",
    "\n",
    "print('Energy norm: ')\n",
    "print(np.sqrt(np.sum(np.multiply(np.multiply(np.gradient(deltaU,h,axis=0),np.gradient(deltaU,h,axis=0)),Media)*(h**2))+np.sum(np.multiply(np.multiply(np.gradient(deltaU,h,axis=1),np.gradient(deltaU,h,axis=1)),Media)*(h**2))))\n",
    "print('L2 norm: ')\n",
    "print(np.sqrt((np.linalg.norm(deltaU)**2)*(h**2)))\n",
    "print('H1 norm: ')\n",
    "print(np.sqrt((np.linalg.norm(np.gradient(deltaU,h,axis=0))**2+np.linalg.norm(np.gradient(deltaU,h,axis=1))**2+np.linalg.norm(deltaU)**2)*(h**2)))\n",
    "\n",
    "print('Energy norm: ')\n",
    "print(np.sqrt(np.sum(np.multiply(np.multiply(np.gradient(deltaU,h,axis=0),np.gradient(deltaU,h,axis=0)),Media)*(h**2))+np.sum(np.multiply(np.multiply(np.gradient(deltaU,h,axis=1),np.gradient(deltaU,h,axis=1)),Media)*(h**2)))/energynorm)\n",
    "print('L2 norm: ')\n",
    "print(np.sqrt((np.linalg.norm(deltaU)**2)*(h**2))/l2norm)\n",
    "print('H1 norm: ')\n",
    "print(np.sqrt((np.linalg.norm(np.gradient(deltaU,h,axis=0))**2+np.linalg.norm(np.gradient(deltaU,h,axis=1))**2+np.linalg.norm(deltaU)**2)*(h**2))/h1norm)"
   ]
  },
  {
   "cell_type": "markdown",
   "metadata": {},
   "source": [
    "Solution"
   ]
  },
  {
   "cell_type": "code",
   "execution_count": 7,
   "metadata": {},
   "outputs": [
    {
     "data": {
      "text/plain": [
       "<matplotlib.colorbar.Colorbar at 0x15cd2add8>"
      ]
     },
     "execution_count": 7,
     "metadata": {},
     "output_type": "execute_result"
    },
    {
     "data": {
      "image/png": "[encoded data removed]",
      "text/plain": [
       "<Figure size 432x288 with 2 Axes>"
      ]
     },
     "metadata": {
      "needs_background": "light"
     },
     "output_type": "display_data"
    }
   ],
   "source": [
    "plt.imshow(GMM_U.reshape(sqrtinputsize,sqrtinputsize))\n",
    "plt.colorbar()"
   ]
  },
  {
   "cell_type": "markdown",
   "metadata": {},
   "source": [
    "Residual"
   ]
  },
  {
   "cell_type": "code",
   "execution_count": 8,
   "metadata": {},
   "outputs": [
    {
     "data": {
      "text/plain": [
       "[<matplotlib.lines.Line2D at 0x10a8a1a58>]"
      ]
     },
     "execution_count": 8,
     "metadata": {},
     "output_type": "execute_result"
    },
    {
     "data": {
      "image/png": "[encoded data removed]",
      "text/plain": [
       "<Figure size 432x288 with 1 Axes>"
      ]
     },
     "metadata": {
      "needs_background": "light"
     },
     "output_type": "display_data"
    }
   ],
   "source": [
    "plt.semilogy(GMM_Res)"
   ]
  },
  {
   "cell_type": "markdown",
   "metadata": {},
   "source": [
    "Radius"
   ]
  },
  {
   "cell_type": "code",
   "execution_count": 9,
   "metadata": {},
   "outputs": [
    {
     "name": "stdout",
     "output_type": "stream",
     "text": [
      "GMM_Radius = 0.8505239294619422\n"
     ]
    }
   ],
   "source": [
    "GMM_Radius = rho(inputsize,A1.to_full(),16*np.transpose(R),R,w,s)\n",
    "print('GMM_Radius = {}'.format(GMM_Radius))"
   ]
  },
  {
   "cell_type": "markdown",
   "metadata": {},
   "source": [
    "Global DMM optimization"
   ]
  },
  {
   "cell_type": "code",
   "execution_count": 10,
   "metadata": {},
   "outputs": [
    {
     "name": "stdout",
     "output_type": "stream",
     "text": [
      "======Section 1======\n",
      "L = 0.02\n",
      "rho = 0.8500607103948739\n",
      "===================\n",
      "L = 0.03\n",
      "rho = 0.8500620025749065\n",
      "===================\n",
      "L = 0.04\n",
      "rho = 0.8500640455931602\n",
      "===================\n",
      "L = 0.05\n",
      "rho = 0.8500667359880735\n",
      "===================\n",
      "L = 0.060000000000000005\n",
      "rho = 0.8500699847508846\n",
      "===================\n",
      "L = 0.07\n",
      "rho = 0.8500737150242945\n",
      "===================\n",
      "L = 0.08\n",
      "rho = 0.8500778602229494\n",
      "===================\n",
      "L = 0.09\n",
      "rho = 0.8500823624875133\n",
      "===================\n",
      "L = 0.09999999999999999\n",
      "rho = 0.8500871714049077\n",
      "===================\n",
      "L = 0.10999999999999999\n",
      "rho = 0.8500922429426239\n",
      "===================\n",
      "L = 0.11999999999999998\n",
      "rho = 0.8500975385564843\n",
      "===================\n",
      "L = 0.12999999999999998\n",
      "rho = 0.8501030244398795\n",
      "===================\n",
      "L = 0.13999999999999999\n",
      "rho = 0.8501086708891179\n",
      "===================\n",
      "L = 0.15\n",
      "rho = 0.8501144517646209\n",
      "===================\n",
      "L = 0.16\n",
      "rho = 0.8501203440316522\n",
      "===================\n",
      "L = 0.17\n",
      "rho = 0.850126327367374\n",
      "===================\n",
      "L = 0.18000000000000002\n",
      "rho = 0.8501323838234721\n",
      "===================\n",
      "L = 0.19000000000000003\n",
      "rho = 0.8501384975355358\n",
      "===================\n",
      "L = 0.20000000000000004\n",
      "rho = 0.8501446544719397\n",
      "===================\n",
      "L = 0.21000000000000005\n",
      "rho = 0.8501508422162246\n",
      "===================\n",
      "L = 0.22000000000000006\n",
      "rho = 0.8501570497779909\n",
      "===================\n",
      "L = 0.23000000000000007\n",
      "rho = 0.8501632674281399\n",
      "===================\n",
      "L = 0.24000000000000007\n",
      "rho = 0.8501694865549776\n",
      "===================\n",
      "L = 0.25000000000000006\n",
      "rho = 0.8501756995382456\n",
      "===================\n",
      "L = 0.26000000000000006\n",
      "rho = 0.8501818996386025\n",
      "===================\n",
      "L = 0.2700000000000001\n",
      "rho = 0.8501880809004585\n",
      "===================\n",
      "L = 0.2800000000000001\n",
      "rho = 0.8501942380663798\n",
      "===================\n",
      "L = 0.2900000000000001\n",
      "rho = 0.850200366501543\n",
      "===================\n",
      "L = 0.3000000000000001\n",
      "rho = 0.8502064621269394\n",
      "===================\n",
      "L = 0.3100000000000001\n",
      "rho = 0.850212521360217\n",
      "===================\n",
      "L = 0.3200000000000001\n",
      "rho = 0.8502185410631988\n",
      "===================\n",
      "L = 0.3300000000000001\n",
      "rho = 0.8502245184952564\n",
      "===================\n",
      "L = 0.34000000000000014\n",
      "rho = 0.85023045127182\n",
      "===================\n",
      "L = 0.35000000000000014\n",
      "rho = 0.8502363373274117\n",
      "===================\n",
      "L = 0.36000000000000015\n",
      "rho = 0.850242174882664\n",
      "===================\n",
      "L = 0.37000000000000016\n",
      "rho = 0.850247962414855\n",
      "===================\n",
      "L = 0.38000000000000017\n",
      "rho = 0.8502536986315568\n",
      "===================\n",
      "L = 0.3900000000000002\n",
      "rho = 0.8502593824470391\n",
      "===================\n",
      "L = 0.4000000000000002\n",
      "rho = 0.8502650129611189\n",
      "===================\n",
      "L = 0.4100000000000002\n",
      "rho = 0.8502705894401821\n",
      "===================\n",
      "L = 0.4200000000000002\n",
      "rho = 0.8502761113001378\n",
      "===================\n",
      "L = 0.4300000000000002\n",
      "rho = 0.850281578091096\n",
      "===================\n",
      "L = 0.4400000000000002\n",
      "rho = 0.8502869894835803\n",
      "===================\n",
      "L = 0.45000000000000023\n",
      "rho = 0.8502923452561142\n",
      "===================\n",
      "L = 0.46000000000000024\n",
      "rho = 0.8502976452840335\n",
      "===================\n",
      "L = 0.47000000000000025\n",
      "rho = 0.8503028895293989\n",
      "===================\n",
      "L = 0.48000000000000026\n",
      "rho = 0.8503080780318927\n",
      "===================\n",
      "L = 0.49000000000000027\n",
      "rho = 0.8503132109005999\n",
      "===================\n",
      "L = 0.5000000000000002\n",
      "rho = 0.8503182883065826\n",
      "===================\n",
      "L = 0.5100000000000002\n",
      "rho = 0.8503233104761704\n",
      "===================\n",
      "L = 0.5200000000000002\n",
      "rho = 0.8503282776848903\n",
      "===================\n",
      "L = 0.5300000000000002\n",
      "rho = 0.8503331902519772\n",
      "===================\n",
      "L = 0.5400000000000003\n",
      "rho = 0.8503380485354067\n",
      "===================\n",
      "L = 0.5500000000000003\n",
      "rho = 0.8503428529273978\n",
      "===================\n",
      "L = 0.5600000000000003\n",
      "rho = 0.8503476038503408\n",
      "===================\n",
      "L = 0.5700000000000003\n",
      "rho = 0.8503523017531107\n",
      "===================\n",
      "L = 0.5800000000000003\n",
      "rho = 0.8503569471077269\n",
      "===================\n",
      "L = 0.5900000000000003\n",
      "rho = 0.850361540406329\n",
      "===================\n",
      "L = 0.6000000000000003\n",
      "rho = 0.8503660821584363\n",
      "===================\n",
      "L = 0.6100000000000003\n",
      "rho = 0.8503705728884662\n",
      "===================\n",
      "L = 0.6200000000000003\n",
      "rho = 0.8503750131334867\n",
      "===================\n",
      "L = 0.6300000000000003\n",
      "rho = 0.8503794034411818\n",
      "===================\n",
      "L = 0.6400000000000003\n",
      "rho = 0.850383744368009\n",
      "===================\n",
      "L = 0.6500000000000004\n",
      "rho = 0.8503880364775328\n",
      "===================\n",
      "L = 0.6600000000000004\n",
      "rho = 0.8503922803389169\n",
      "===================\n",
      "L = 0.6700000000000004\n",
      "rho = 0.8503964765255617\n",
      "===================\n",
      "L = 0.6800000000000004\n",
      "rho = 0.850400625613873\n",
      "===================\n",
      "L = 0.6900000000000004\n",
      "rho = 0.8504047281821504\n",
      "===================\n",
      "L = 0.7000000000000004\n",
      "rho = 0.8504087848095854\n",
      "===================\n",
      "L = 0.7100000000000004\n",
      "rho = 0.850412796075358\n",
      "===================\n",
      "L = 0.7200000000000004\n",
      "rho = 0.8504167625578243\n",
      "===================\n",
      "L = 0.7300000000000004\n",
      "rho = 0.850420684833786\n",
      "===================\n",
      "L = 0.7400000000000004\n",
      "rho = 0.8504245634778348\n",
      "===================\n",
      "L = 0.7500000000000004\n",
      "rho = 0.850428399061766\n",
      "===================\n",
      "L = 0.7600000000000005\n",
      "rho = 0.8504321921540536\n",
      "===================\n",
      "L = 0.7700000000000005\n",
      "rho = 0.8504359433193823\n",
      "===================\n",
      "L = 0.7800000000000005\n",
      "rho = 0.8504396531182313\n",
      "===================\n",
      "L = 0.7900000000000005\n",
      "rho = 0.8504433221065059\n",
      "===================\n",
      "L = 0.8000000000000005\n",
      "rho = 0.8504469508352107\n",
      "===================\n",
      "L = 0.8100000000000005\n",
      "rho = 0.8504505398501637\n",
      "===================\n",
      "L = 0.8200000000000005\n",
      "rho = 0.850454089691745\n",
      "===================\n",
      "L = 0.8300000000000005\n",
      "rho = 0.8504576008946779\n",
      "===================\n",
      "L = 0.8400000000000005\n",
      "rho = 0.8504610739878408\n",
      "===================\n",
      "L = 0.8500000000000005\n",
      "rho = 0.8504645094941045\n",
      "===================\n",
      "L = 0.8600000000000005\n",
      "rho = 0.8504679079301958\n",
      "===================\n",
      "L = 0.8700000000000006\n",
      "rho = 0.8504712698065819\n",
      "===================\n",
      "L = 0.8800000000000006\n",
      "rho = 0.8504745956273764\n",
      "===================\n",
      "L = 0.8900000000000006\n",
      "rho = 0.8504778858902626\n",
      "===================\n",
      "L = 0.9000000000000006\n",
      "rho = 0.8504811410864348\n",
      "===================\n",
      "L = 0.9100000000000006\n",
      "rho = 0.8504843617005537\n",
      "===================\n",
      "L = 0.9200000000000006\n",
      "rho = 0.8504875482107168\n",
      "===================\n",
      "L = 0.9300000000000006\n",
      "rho = 0.8504907010884402\n",
      "===================\n",
      "L = 0.9400000000000006\n",
      "rho = 0.8504938207986525\n",
      "===================\n",
      "L = 0.9500000000000006\n",
      "rho = 0.8504969077996987\n",
      "===================\n",
      "L = 0.9600000000000006\n",
      "rho = 0.8504999625433529\n",
      "===================\n",
      "L = 0.9700000000000006\n",
      "rho = 0.8505029854748407\n",
      "===================\n",
      "L = 0.9800000000000006\n",
      "rho = 0.8505059770328675\n",
      "===================\n",
      "L = 0.9900000000000007\n",
      "rho = 0.8505089376496542\n",
      "===================\n",
      "L = 1.0000000000000007\n",
      "rho = 0.8505118677509793\n",
      "===================\n",
      "======Section 2======\n",
      "the 0 steps\n",
      "rho = 0.850514767756226\n",
      "===================\n",
      "the 1 steps\n",
      "rho = 0.8505146759419869\n",
      "===================\n",
      "the 2 steps\n",
      "rho = 0.8505145841279708\n",
      "===================\n",
      "the 3 steps\n",
      "rho = 0.8505144923141775\n",
      "===================\n",
      "the 4 steps\n",
      "rho = 0.850514400500607\n",
      "===================\n",
      "the 5 steps\n",
      "rho = 0.8505143086872591\n",
      "===================\n",
      "the 6 steps\n",
      "rho = 0.8505142168741334\n",
      "===================\n",
      "the 7 steps\n",
      "rho = 0.85051412506123\n",
      "===================\n",
      "the 8 steps\n",
      "rho = 0.8505140332485487\n",
      "===================\n",
      "the 9 steps\n",
      "rho = 0.8505139414360893\n",
      "===================\n",
      "======End======\n"
     ]
    }
   ],
   "source": [
    "Rnew, wnew, Rhoold, Rhonew, Radius = homotopy_optimizer_GD(inputsize, A0, A1.to_full(), R,  2/3, s, \n",
    "                                                           learning_rate = 1e-6,accept_radius =\n",
    "                                                           GMM_Radius*10,step_length =  1e-2, lam = np.zeros([1,outputsize]))"
   ]
  },
  {
   "cell_type": "markdown",
   "metadata": {},
   "source": [
    "Global DMM on fine grid"
   ]
  },
  {
   "cell_type": "code",
   "execution_count": 11,
   "metadata": {},
   "outputs": [
    {
     "name": "stdout",
     "output_type": "stream",
     "text": [
      "Residual = 9.280531001907637\n",
      "Interation = 1\n",
      "===================\n",
      "Residual = 4.325876676556643\n",
      "Interation = 2\n",
      "===================\n",
      "Residual = 2.294540403930359\n",
      "Interation = 3\n",
      "===================\n",
      "Residual = 1.2805900949826936\n",
      "Interation = 4\n",
      "===================\n",
      "Residual = 0.7353160971706283\n",
      "Interation = 5\n",
      "===================\n",
      "Residual = 0.43282398284297047\n",
      "Interation = 6\n",
      "===================\n",
      "Residual = 0.2624657292963136\n",
      "Interation = 7\n",
      "===================\n",
      "Residual = 0.1654321135861678\n",
      "Interation = 8\n",
      "===================\n",
      "Residual = 0.10920486804011427\n",
      "Interation = 9\n",
      "===================\n",
      "Residual = 0.07560238246227773\n",
      "Interation = 10\n",
      "===================\n",
      "Residual = 0.054563026042573244\n",
      "Interation = 11\n",
      "===================\n",
      "Residual = 0.04063961603328755\n",
      "Interation = 12\n",
      "===================\n",
      "Residual = 0.030928340257940546\n",
      "Interation = 13\n",
      "===================\n",
      "Residual = 0.023867098668101203\n",
      "Interation = 14\n",
      "===================\n",
      "Residual = 0.018581066285691786\n",
      "Interation = 15\n",
      "===================\n",
      "Residual = 0.014548150197559532\n",
      "Interation = 16\n",
      "===================\n",
      "Residual = 0.01143400259549153\n",
      "Interation = 17\n",
      "===================\n",
      "Residual = 0.009010707242722219\n",
      "Interation = 18\n",
      "===================\n",
      "Residual = 0.007115360557145444\n",
      "Interation = 19\n",
      "===================\n",
      "Residual = 0.005627672089238921\n",
      "Interation = 20\n",
      "===================\n",
      "Residual = 0.004456907735706449\n",
      "Interation = 21\n",
      "===================\n",
      "Residual = 0.0035336821186614576\n",
      "Interation = 22\n",
      "===================\n",
      "Residual = 0.0028044559796642286\n",
      "Interation = 23\n",
      "===================\n",
      "Residual = 0.0022276634601674367\n",
      "Interation = 24\n",
      "===================\n",
      "Residual = 0.0017708927260292246\n",
      "Interation = 25\n",
      "===================\n",
      "Residual = 0.001408786442043138\n",
      "Interation = 26\n",
      "===================\n",
      "Residual = 0.0011214545676692794\n",
      "Interation = 27\n",
      "===================\n",
      "Residual = 0.0008932621148458186\n",
      "Interation = 28\n",
      "===================\n",
      "Residual = 0.0007118965785088151\n",
      "Interation = 29\n",
      "===================\n",
      "Residual = 0.0005676466829716937\n",
      "Interation = 30\n",
      "===================\n",
      "Residual = 0.0004528422576440462\n",
      "Interation = 31\n",
      "===================\n",
      "Residual = 0.0003614178005855796\n",
      "Interation = 32\n",
      "===================\n",
      "Residual = 0.0002885714779703448\n",
      "Interation = 33\n",
      "===================\n",
      "Residual = 0.0002304980637649898\n",
      "Interation = 34\n",
      "===================\n",
      "Residual = 0.0001841793601208949\n",
      "Interation = 35\n",
      "===================\n",
      "Residual = 0.0001472194314066783\n",
      "Interation = 36\n",
      "===================\n",
      "Residual = 0.00011771486305851356\n",
      "Interation = 37\n",
      "===================\n",
      "Residual = 9.41524540250294e-05\n",
      "Interation = 38\n",
      "===================\n",
      "Residual = 7.532843825305243e-05\n",
      "Interation = 39\n",
      "===================\n",
      "Residual = 6.028463038106045e-05\n",
      "Interation = 40\n",
      "===================\n",
      "Residual = 4.8257896268293166e-05\n",
      "Interation = 41\n",
      "===================\n",
      "Residual = 3.864012896828335e-05\n",
      "Interation = 42\n",
      "===================\n",
      "Residual = 3.09465177793363e-05\n",
      "Interation = 43\n",
      "===================\n",
      "Residual = 2.4790371415946716e-05\n",
      "Interation = 44\n",
      "===================\n",
      "Residual = 1.986312636404283e-05\n",
      "Interation = 45\n",
      "===================\n",
      "Residual = 1.5918461386435797e-05\n",
      "Interation = 46\n",
      "===================\n",
      "Residual = 1.2759666586685464e-05\n",
      "Interation = 47\n",
      "===================\n",
      "Residual = 1.0229594074984918e-05\n",
      "Interation = 48\n",
      "===================\n",
      "Residual = 8.20265810877455e-06\n",
      "Interation = 49\n",
      "===================\n",
      "Residual = 6.578463279163695e-06\n",
      "Interation = 50\n",
      "===================\n",
      "Residual = 5.276726921039235e-06\n",
      "Interation = 51\n",
      "===================\n",
      "Residual = 4.233230929071601e-06\n",
      "Interation = 52\n",
      "===================\n",
      "Residual = 3.3965928884973602e-06\n",
      "Interation = 53\n",
      "===================\n",
      "Residual = 2.7256895640781395e-06\n",
      "Interation = 54\n",
      "===================\n",
      "Residual = 2.187600199910607e-06\n",
      "Interation = 55\n",
      "===================\n",
      "Residual = 1.755964051756591e-06\n",
      "Interation = 56\n",
      "===================\n",
      "Residual = 1.4096683599038097e-06\n",
      "Interation = 57\n",
      "===================\n",
      "Residual = 1.1317998294910216e-06\n",
      "Interation = 58\n",
      "===================\n",
      "Residual = 9.088064993242162e-07\n",
      "Interation = 59\n",
      "===================\n",
      "Residual = 7.298275268909872e-07\n",
      "Interation = 60\n",
      "===================\n",
      "Residual = 5.861571440712844e-07\n",
      "Interation = 61\n",
      "===================\n",
      "Residual = 4.708157360430854e-07\n",
      "Interation = 62\n",
      "===================\n",
      "Residual = 3.782066248210559e-07\n",
      "Interation = 63\n",
      "===================\n",
      "Residual = 3.038412936521778e-07\n",
      "Interation = 64\n",
      "===================\n",
      "Residual = 2.4411940638004966e-07\n",
      "Interation = 65\n",
      "===================\n",
      "Residual = 1.961525948700193e-07\n",
      "Interation = 66\n",
      "===================\n",
      "Residual = 1.5762334370091956e-07\n",
      "Interation = 67\n",
      "===================\n",
      "Residual = 1.2667189990241176e-07\n",
      "Interation = 68\n",
      "===================\n",
      "Residual = 1.0180566146933895e-07\n",
      "Interation = 69\n",
      "===================\n",
      "Residual = 8.182653089666998e-08\n",
      "Interation = 70\n",
      "===================\n",
      "Residual = 6.577269727600485e-08\n",
      "Interation = 71\n",
      "===================\n",
      "Residual = 5.28719396197083e-08\n",
      "Interation = 72\n",
      "===================\n",
      "Residual = 4.25041944245507e-08\n",
      "Interation = 73\n",
      "===================\n",
      "Residual = 3.417150894111812e-08\n",
      "Interation = 74\n",
      "===================\n",
      "Residual = 2.7473964605451746e-08\n",
      "Interation = 75\n",
      "===================\n",
      "Residual = 2.2090333782707053e-08\n",
      "Interation = 76\n",
      "===================\n",
      "Residual = 1.7762580999767487e-08\n",
      "Interation = 77\n",
      "===================\n",
      "Residual = 1.4283405336036785e-08\n",
      "Interation = 78\n",
      "===================\n",
      "Residual = 1.1486253733019072e-08\n",
      "Interation = 79\n",
      "===================\n",
      "Residual = 9.237307524057457e-09\n",
      "Interation = 80\n",
      "===================\n",
      "Residual = 7.429023275240572e-09\n",
      "Interation = 81\n",
      "===================\n",
      "Residual = 5.9749829030293026e-09\n",
      "Interation = 82\n",
      "===================\n",
      "Residual = 4.805730409042263e-09\n",
      "Interation = 83\n",
      "===================\n",
      "Residual = 3.865445140266041e-09\n",
      "Interation = 84\n",
      "===================\n",
      "Residual = 3.1092538708103225e-09\n",
      "Interation = 85\n",
      "===================\n",
      "Residual = 2.501084429255518e-09\n",
      "Interation = 86\n",
      "===================\n",
      "Residual = 2.011946112675526e-09\n",
      "Interation = 87\n",
      "===================\n",
      "Residual = 1.6185223425084426e-09\n",
      "Interation = 88\n",
      "===================\n",
      "Residual = 1.3020737846460904e-09\n",
      "Interation = 89\n",
      "===================\n",
      "Residual = 1.0475294291862695e-09\n",
      "Interation = 90\n",
      "===================\n",
      "Residual = 8.427707483698188e-10\n",
      "Interation = 91\n",
      "===================\n",
      "Residual = 6.78056560523257e-10\n",
      "Interation = 92\n",
      "===================\n",
      "Residual = 5.455480542363007e-10\n",
      "Interation = 93\n",
      "===================\n",
      "Residual = 4.389464999204829e-10\n",
      "Interation = 94\n",
      "===================\n",
      "Residual = 3.5318715120807383e-10\n",
      "Interation = 95\n",
      "===================\n",
      "Residual = 2.8418785722004305e-10\n",
      "Interation = 96\n",
      "===================\n",
      "Residual = 2.286743032353562e-10\n",
      "Interation = 97\n",
      "===================\n",
      "Residual = 1.8400811938112491e-10\n",
      "Interation = 98\n",
      "===================\n",
      "Residual = 1.480713435191574e-10\n",
      "Interation = 99\n",
      "===================\n",
      "Residual = 1.1915633923503036e-10\n",
      "Interation = 100\n",
      "===================\n",
      "Residual = 9.588735363712248e-11\n",
      "Interation = 101\n",
      "===================\n"
     ]
    }
   ],
   "source": [
    "DMM_U, DMM_Res = Multigrid_circle(inputsize, A1.to_full(), RightF, Rnew, s, wnew, error)"
   ]
  },
  {
   "cell_type": "markdown",
   "metadata": {},
   "source": [
    "Error DMM on fine grid"
   ]
  },
  {
   "cell_type": "code",
   "execution_count": 12,
   "metadata": {},
   "outputs": [
    {
     "name": "stdout",
     "output_type": "stream",
     "text": [
      "Energy norm: \n",
      "1.5122307876725583\n",
      "L2 norm: \n",
      "0.06477057540843952\n",
      "H1 norm: \n",
      "0.8222740476780892\n",
      "Energy norm: \n",
      "0.08952192865065964\n",
      "L2 norm: \n",
      "0.12954115081687906\n",
      "H1 norm: \n",
      "0.08902020633841737\n"
     ]
    }
   ],
   "source": [
    "UREAL = Ureal.reshape(sqrtinputsize,sqrtinputsize)\n",
    "DMMU = DMM_U.reshape(sqrtinputsize,sqrtinputsize)\n",
    "deltaU = DMMU - UREAL\n",
    "\n",
    "energynorm = np.sqrt(np.sum(np.multiply(np.multiply(np.gradient(UREAL,h,axis=0),np.gradient(UREAL,h,axis=0)),Media)*(h**2))+np.sum(np.multiply(np.multiply(np.gradient(UREAL,h,axis=1),np.gradient(UREAL,h,axis=1)),Media)*(h**2)))\n",
    "l2norm = np.sqrt((np.linalg.norm(UREAL)**2)*(h**2))\n",
    "h1norm = np.sqrt((np.linalg.norm(np.gradient(UREAL,h,axis=0))**2+np.linalg.norm(np.gradient(UREAL,h,axis=1))**2+np.linalg.norm(UREAL)**2)*(h**2))\n",
    "\n",
    "print('Energy norm: ')\n",
    "print(np.sqrt(np.sum(np.multiply(np.multiply(np.gradient(deltaU,h,axis=0),np.gradient(deltaU,h,axis=0)),Media)*(h**2))+np.sum(np.multiply(np.multiply(np.gradient(deltaU,h,axis=1),np.gradient(deltaU,h,axis=1)),Media)*(h**2))))\n",
    "print('L2 norm: ')\n",
    "print(np.sqrt((np.linalg.norm(deltaU)**2)*(h**2)))\n",
    "print('H1 norm: ')\n",
    "print(np.sqrt((np.linalg.norm(np.gradient(deltaU,h,axis=0))**2+np.linalg.norm(np.gradient(deltaU,h,axis=1))**2+np.linalg.norm(deltaU)**2)*(h**2)))\n",
    "\n",
    "print('Energy norm: ')\n",
    "print(np.sqrt(np.sum(np.multiply(np.multiply(np.gradient(deltaU,h,axis=0),np.gradient(deltaU,h,axis=0)),Media)*(h**2))+np.sum(np.multiply(np.multiply(np.gradient(deltaU,h,axis=1),np.gradient(deltaU,h,axis=1)),Media)*(h**2)))/energynorm)\n",
    "print('L2 norm: ')\n",
    "print(np.sqrt((np.linalg.norm(deltaU)**2)*(h**2))/l2norm)\n",
    "print('H1 norm: ')\n",
    "print(np.sqrt((np.linalg.norm(np.gradient(deltaU,h,axis=0))**2+np.linalg.norm(np.gradient(deltaU,h,axis=1))**2+np.linalg.norm(deltaU)**2)*(h**2))/h1norm)"
   ]
  },
  {
   "cell_type": "markdown",
   "metadata": {},
   "source": [
    "Solution"
   ]
  },
  {
   "cell_type": "code",
   "execution_count": 13,
   "metadata": {},
   "outputs": [
    {
     "data": {
      "text/plain": [
       "<matplotlib.colorbar.Colorbar at 0x13d69f748>"
      ]
     },
     "execution_count": 13,
     "metadata": {},
     "output_type": "execute_result"
    },
    {
     "data": {
      "image/png": "[encoded data removed]",
      "text/plain": [
       "<Figure size 432x288 with 2 Axes>"
      ]
     },
     "metadata": {
      "needs_background": "light"
     },
     "output_type": "display_data"
    }
   ],
   "source": [
    "plt.imshow(DMM_U.reshape(sqrtinputsize,sqrtinputsize))\n",
    "plt.colorbar()"
   ]
  },
  {
   "cell_type": "markdown",
   "metadata": {},
   "source": [
    "Residual"
   ]
  },
  {
   "cell_type": "code",
   "execution_count": 14,
   "metadata": {},
   "outputs": [
    {
     "data": {
      "text/plain": [
       "[<matplotlib.lines.Line2D at 0x12b2dd8d0>]"
      ]
     },
     "execution_count": 14,
     "metadata": {},
     "output_type": "execute_result"
    },
    {
     "data": {
      "image/png": "[encoded data removed]",
      "text/plain": [
       "<Figure size 432x288 with 1 Axes>"
      ]
     },
     "metadata": {
      "needs_background": "light"
     },
     "output_type": "display_data"
    }
   ],
   "source": [
    "plt.semilogy(DMM_Res)"
   ]
  },
  {
   "cell_type": "markdown",
   "metadata": {},
   "source": [
    "Radius"
   ]
  },
  {
   "cell_type": "code",
   "execution_count": 15,
   "metadata": {},
   "outputs": [
    {
     "name": "stdout",
     "output_type": "stream",
     "text": [
      "DMM_Radius = 0.8505139414360893\n"
     ]
    }
   ],
   "source": [
    "DMM_Radius = Rhonew\n",
    "print('DMM_Radius = {}'.format(DMM_Radius))"
   ]
  },
  {
   "cell_type": "markdown",
   "metadata": {},
   "source": [
    "Rrestriction matrix after optimization"
   ]
  },
  {
   "cell_type": "code",
   "execution_count": 16,
   "metadata": {},
   "outputs": [
    {
     "data": {
      "text/plain": [
       "<matplotlib.colorbar.Colorbar at 0x12b3cb438>"
      ]
     },
     "execution_count": 16,
     "metadata": {},
     "output_type": "execute_result"
    },
    {
     "data": {
      "image/png": "[encoded data removed]",
      "text/plain": [
       "<Figure size 432x288 with 2 Axes>"
      ]
     },
     "metadata": {
      "needs_background": "light"
     },
     "output_type": "display_data"
    }
   ],
   "source": [
    "plt.imshow(Rnew)\n",
    "plt.colorbar()"
   ]
  },
  {
   "cell_type": "markdown",
   "metadata": {},
   "source": [
    "Rrestriction matrix (log(abs()) after optimization"
   ]
  },
  {
   "cell_type": "code",
   "execution_count": 17,
   "metadata": {},
   "outputs": [
    {
     "data": {
      "text/plain": [
       "<matplotlib.colorbar.Colorbar at 0x12ca214e0>"
      ]
     },
     "execution_count": 17,
     "metadata": {},
     "output_type": "execute_result"
    },
    {
     "data": {
      "image/png": "[encoded data removed]",
      "text/plain": [
       "<Figure size 432x288 with 2 Axes>"
      ]
     },
     "metadata": {
      "needs_background": "light"
     },
     "output_type": "display_data"
    }
   ],
   "source": [
    "plt.imshow(np.log(np.abs(Rnew)))\n",
    "plt.colorbar()"
   ]
  },
  {
   "cell_type": "markdown",
   "metadata": {},
   "source": [
    "Basis after optimization"
   ]
  },
  {
   "cell_type": "code",
   "execution_count": 18,
   "metadata": {},
   "outputs": [
    {
     "data": {
      "text/plain": [
       "<matplotlib.colorbar.Colorbar at 0x12cb186a0>"
      ]
     },
     "execution_count": 18,
     "metadata": {},
     "output_type": "execute_result"
    },
    {
     "data": {
      "image/png": "[encoded data removed]",
      "text/plain": [
       "<Figure size 432x288 with 2 Axes>"
      ]
     },
     "metadata": {
      "needs_background": "light"
     },
     "output_type": "display_data"
    }
   ],
   "source": [
    "basis1 = Rnew[int(0.45*outputsize)][:]\n",
    "basis1 = basis1.reshape([sqrtinputsize,sqrtinputsize])\n",
    "plt.imshow(basis1)\n",
    "plt.colorbar()"
   ]
  },
  {
   "cell_type": "code",
   "execution_count": 19,
   "metadata": {},
   "outputs": [
    {
     "data": {
      "image/png": "[encoded data removed]",
      "text/plain": [
       "<Figure size 432x288 with 1 Axes>"
      ]
     },
     "metadata": {
      "needs_background": "light"
     },
     "output_type": "display_data"
    }
   ],
   "source": [
    "from matplotlib import pyplot as plt\n",
    "import numpy as np\n",
    "from mpl_toolkits.mplot3d import Axes3D\n",
    "size=basis1.shape\n",
    "Y=np.arange(0,size[0],1)     \n",
    "X=np.arange(0,size[1],1)\n",
    "\n",
    "X,Y=np.meshgrid(X,Y)    \n",
    "fig=plt.figure()\n",
    "ax=fig.gca(projection='3d') \n",
    "ax.plot_surface(X,Y,basis1)\n",
    "plt.show()"
   ]
  },
  {
   "cell_type": "code",
   "execution_count": 20,
   "metadata": {},
   "outputs": [
    {
     "data": {
      "text/plain": [
       "[<matplotlib.lines.Line2D at 0x13d7592e8>]"
      ]
     },
     "execution_count": 20,
     "metadata": {},
     "output_type": "execute_result"
    },
    {
     "data": {
      "image/png": "[encoded data removed]",
      "text/plain": [
       "<Figure size 432x288 with 1 Axes>"
      ]
     },
     "metadata": {
      "needs_background": "light"
     },
     "output_type": "display_data"
    }
   ],
   "source": [
    "plt.plot(basis1[:][int(sqrtinputsize/2)])"
   ]
  },
  {
   "cell_type": "markdown",
   "metadata": {},
   "source": [
    "Basis after optimization (log(abs()))"
   ]
  },
  {
   "cell_type": "code",
   "execution_count": 21,
   "metadata": {},
   "outputs": [
    {
     "data": {
      "text/plain": [
       "<matplotlib.colorbar.Colorbar at 0x10a7bf4e0>"
      ]
     },
     "execution_count": 21,
     "metadata": {},
     "output_type": "execute_result"
    },
    {
     "data": {
      "image/png": "[encoded data removed]",
      "text/plain": [
       "<Figure size 432x288 with 2 Axes>"
      ]
     },
     "metadata": {
      "needs_background": "light"
     },
     "output_type": "display_data"
    }
   ],
   "source": [
    "plt.imshow(np.log(np.abs(basis1)))\n",
    "plt.colorbar()"
   ]
  },
  {
   "cell_type": "code",
   "execution_count": 22,
   "metadata": {},
   "outputs": [
    {
     "data": {
      "image/png": "[encoded data removed]",
      "text/plain": [
       "<Figure size 432x288 with 1 Axes>"
      ]
     },
     "metadata": {
      "needs_background": "light"
     },
     "output_type": "display_data"
    }
   ],
   "source": [
    "fig=plt.figure()\n",
    "ax=fig.gca(projection='3d') \n",
    "ax.plot_surface(X,Y,np.log(np.abs(basis1)))\n",
    "plt.show()"
   ]
  },
  {
   "cell_type": "code",
   "execution_count": 23,
   "metadata": {},
   "outputs": [
    {
     "data": {
      "text/plain": [
       "[<matplotlib.lines.Line2D at 0x12bb27c50>]"
      ]
     },
     "execution_count": 23,
     "metadata": {},
     "output_type": "execute_result"
    },
    {
     "data": {
      "image/png": "[encoded data removed]",
      "text/plain": [
       "<Figure size 432x288 with 1 Axes>"
      ]
     },
     "metadata": {
      "needs_background": "light"
     },
     "output_type": "display_data"
    }
   ],
   "source": [
    "plt.plot(np.log(np.abs(basis1[:][int(sqrtinputsize/2)])))"
   ]
  },
  {
   "cell_type": "markdown",
   "metadata": {},
   "source": [
    "FEM use basis from global DMM"
   ]
  },
  {
   "cell_type": "code",
   "execution_count": 24,
   "metadata": {},
   "outputs": [
    {
     "name": "stdout",
     "output_type": "stream",
     "text": [
      "Energy norm: \n",
      "3.4173232359383827\n",
      "L2 norm: \n",
      "0.09008863595621165\n",
      "H1 norm: \n",
      "1.886862294845313\n",
      "Energy norm: \n",
      "0.2023007132229865\n",
      "L2 norm: \n",
      "0.1801772719124233\n",
      "H1 norm: \n",
      "0.2042735889495899\n"
     ]
    },
    {
     "data": {
      "image/png": "[encoded data removed]",
      "text/plain": [
       "<Figure size 432x288 with 2 Axes>"
      ]
     },
     "metadata": {
      "needs_background": "light"
     },
     "output_type": "display_data"
    }
   ],
   "source": [
    "\n",
    "Anew = np.zeros([outputsize,outputsize])\n",
    "[X1, Y1] = np.meshgrid(np.linspace(0, 1, sqrtinputsize),np.linspace(0, 1, sqrtinputsize))\n",
    "[X2, Y2] = np.meshgrid(np.linspace(0, 1, sqrtoutputsize),np.linspace(0, 1, sqrtoutputsize))\n",
    "A = a(X1,Y1)\n",
    "for i in range(outputsize):\n",
    "    for j in range(outputsize):\n",
    "        basisi = Rnew[i][:].reshape([sqrtinputsize,sqrtinputsize])\n",
    "        basisj = Rnew[j][:].reshape([sqrtinputsize,sqrtinputsize])\n",
    "        gxbasisi = np.gradient(basisi,axis=0)/h\n",
    "        gybasisi = np.gradient(basisi,axis=1)/h\n",
    "        gxbasisj = np.gradient(basisj,axis=0)/h\n",
    "        gybasisj = np.gradient(basisj,axis=1)/h\n",
    "        Anew[i][j]=(np.sum(A*gxbasisi*gxbasisj)+np.sum(A*gybasisi*gybasisj))*(H**2)\n",
    "        \n",
    "Fnew = np.zeros([outputsize,1])\n",
    "for i in range(outputsize):\n",
    "    basisi = Rnew[i][:].reshape([sqrtinputsize,sqrtinputsize])\n",
    "    F = rightf(X1,Y1)\n",
    "    Fnew[i]=np.sum(F*basisi)*(H**2)\n",
    "    \n",
    "UnewCoarse = np.linalg.solve(Anew,Fnew)\n",
    "Unew = np.zeros([sqrtinputsize,sqrtinputsize])\n",
    "for i in range(outputsize):\n",
    "    basisi = Rnew[i][:].reshape([sqrtinputsize,sqrtinputsize])\n",
    "    Unew = Unew + UnewCoarse[i]*basisi\n",
    "\n",
    "plt.imshow(Unew)\n",
    "plt.colorbar()\n",
    "\n",
    "UREAL = u_real(X1,Y1).reshape(sqrtinputsize,sqrtinputsize)\n",
    "deltaU = Unew - UREAL\n",
    "A = a(X1,Y1)\n",
    "\n",
    "energynorm = np.sqrt(np.sum(np.multiply(np.multiply(np.gradient(UREAL,h,axis=0),np.gradient(UREAL,h,axis=0)),A)*(h**2))+np.sum(np.multiply(np.multiply(np.gradient(UREAL,h,axis=1),np.gradient(UREAL,h,axis=1)),A)*(h**2)))\n",
    "l2norm = np.sqrt((np.sum(UREAL**2))*(h**2))\n",
    "h1norm = np.sqrt((np.linalg.norm(np.gradient(UREAL,h,axis=0))**2+np.linalg.norm(np.gradient(UREAL,h,axis=1))**2+np.linalg.norm(UREAL)**2)*(h**2))\n",
    "print('Energy norm: ')\n",
    "print(np.sqrt(np.sum(np.multiply(np.multiply(np.gradient(deltaU,h,axis=0),np.gradient(deltaU,h,axis=0)),A)*(h**2))+np.sum(np.multiply(np.multiply(np.gradient(deltaU,h,axis=1),np.gradient(deltaU,h,axis=1)),A)*(h**2))))\n",
    "print('L2 norm: ')\n",
    "print(np.sqrt((np.linalg.norm(deltaU)**2)*(h**2)))\n",
    "print('H1 norm: ')\n",
    "print(np.sqrt((np.linalg.norm(np.gradient(deltaU,h,axis=0))**2+np.linalg.norm(np.gradient(deltaU,h,axis=1))**2+np.linalg.norm(deltaU)**2)*(h**2)))\n",
    "\n",
    "\n",
    "\n",
    "print('Energy norm: ')\n",
    "print(np.sqrt(np.sum(np.multiply(np.multiply(np.gradient(deltaU,h,axis=0),np.gradient(deltaU,h,axis=0)),A)*(h**2))+np.sum(np.multiply(np.multiply(np.gradient(deltaU,h,axis=1),np.gradient(deltaU,h,axis=1)),A)*(h**2)))/energynorm)\n",
    "print('L2 norm: ')\n",
    "print(np.sqrt((np.sum(deltaU**2))*(h**2))/l2norm)\n",
    "print('H1 norm: ')\n",
    "print(np.sqrt((np.linalg.norm(np.gradient(deltaU,h,axis=0))**2+np.linalg.norm(np.gradient(deltaU,h,axis=1))**2+np.linalg.norm(deltaU)**2)*(h**2))/h1norm)"
   ]
  },
  {
   "cell_type": "code",
   "execution_count": 25,
   "metadata": {},
   "outputs": [
    {
     "data": {
      "text/plain": [
       "0"
      ]
     },
     "execution_count": 25,
     "metadata": {},
     "output_type": "execute_result"
    }
   ],
   "source": [
    "import os\n",
    "os.system(\"say 'The program has finished, Please check the results'\")"
   ]
  }
 ],
 "metadata": {
  "kernelspec": {
   "display_name": "Python 3",
   "language": "python",
   "name": "python3"
  },
  "language_info": {
   "codemirror_mode": {
    "name": "ipython",
    "version": 3
   },
   "file_extension": ".py",
   "mimetype": "text/x-python",
   "name": "python",
   "nbconvert_exporter": "python",
   "pygments_lexer": "ipython3",
   "version": "3.6.6"
  }
 },
 "nbformat": 4,
 "nbformat_minor": 2
}
