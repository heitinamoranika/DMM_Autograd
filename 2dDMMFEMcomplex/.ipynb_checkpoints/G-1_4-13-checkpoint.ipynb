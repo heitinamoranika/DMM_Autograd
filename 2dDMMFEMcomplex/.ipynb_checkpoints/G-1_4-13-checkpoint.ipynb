{
 "cells": [
  {
   "cell_type": "markdown",
   "metadata": {},
   "source": [
    "Import important parameter"
   ]
  },
  {
   "cell_type": "code",
   "execution_count": 1,
   "metadata": {},
   "outputs": [],
   "source": [
    "inputsize = 55**2\n",
    "e = 0.05"
   ]
  },
  {
   "cell_type": "markdown",
   "metadata": {},
   "source": [
    "Import Package"
   ]
  },
  {
   "cell_type": "code",
   "execution_count": 2,
   "metadata": {},
   "outputs": [],
   "source": [
    "import torch\n",
    "import numpy as np\n",
    "import matplotlib.pyplot as plt\n",
    "import autograd.numpy as np\n",
    "from autograd import grad\n",
    "import pyamg\n",
    "import dmg.gallery as gallery\n",
    "import dmg.dgmg as dgmg\n",
    "import dmg.gmg_linear as gmg_linear\n",
    "import dmg.classical_amg as classical_amg\n",
    "from mpl_toolkits.mplot3d import Axes3D\n",
    "import xlsxwriter\n",
    "from scipy.ndimage import convolve"
   ]
  },
  {
   "cell_type": "markdown",
   "metadata": {},
   "source": [
    "Define function"
   ]
  },
  {
   "cell_type": "code",
   "execution_count": 3,
   "metadata": {},
   "outputs": [],
   "source": [
    "def Restriction(inputsize):\n",
    "    inputsize = int(inputsize)\n",
    "    sqrtinputsize = int(np.sqrt(inputsize))     \n",
    "    sqrtoutputsize = int(sqrtinputsize/2)\n",
    "    outputsize = int(sqrtoutputsize**2)\n",
    "    OUTPUT = np.zeros([outputsize, inputsize])\n",
    "    for j in range(sqrtoutputsize):\n",
    "        for i in range(sqrtoutputsize):\n",
    "            OUTPUT[i+sqrtoutputsize*j][2*i+j*2*sqrtinputsize] = 1/16\n",
    "            OUTPUT[i+sqrtoutputsize*j][1+2*i+j*2*sqrtinputsize] = 1/8\n",
    "            OUTPUT[i+sqrtoutputsize*j][2+2*i+j*2*sqrtinputsize] = 1/16\n",
    "            OUTPUT[i+sqrtoutputsize*j][sqrtinputsize +\n",
    "                                       2*i+j*2*sqrtinputsize] = 1/8\n",
    "            OUTPUT[i+sqrtoutputsize*j][1+sqrtinputsize +\n",
    "                                       2*i+j*2*sqrtinputsize] = 1/4\n",
    "            OUTPUT[i+sqrtoutputsize*j][2+sqrtinputsize +\n",
    "                                       2*i+j*2*sqrtinputsize] = 1/8\n",
    "            OUTPUT[i+sqrtoutputsize*j][2*sqrtinputsize +\n",
    "                                       2*i+j*2*sqrtinputsize] = 1/16\n",
    "            OUTPUT[i+sqrtoutputsize*j][1+2 *\n",
    "                                       sqrtinputsize + 2*i+j*2*sqrtinputsize] = 1/8\n",
    "            OUTPUT[i+sqrtoutputsize*j][2+2 *\n",
    "                                       sqrtinputsize+2*i+j*2*sqrtinputsize] = 1/16\n",
    "    return OUTPUT\n",
    "\n",
    "def Poisson(inputsize):\n",
    "    inputsize = int(inputsize)\n",
    "    sqrtinputsize = int(np.sqrt(inputsize))     \n",
    "    sqrtoutputsize = int(sqrtinputsize/2)\n",
    "    outputsize = int(sqrtoutputsize**2)\n",
    "    OUTPUT = np.zeros([outputsize, inputsize])\n",
    "    A1 = 2*np.eye(sqrtinputsize)\n",
    "    for i in range(sqrtinputsize-1):\n",
    "        A1[i, i+1] = -1\n",
    "        A1[i+1, i] = -1\n",
    "    I = np.eye(sqrtinputsize)\n",
    "    OUTPUT = (np.kron(I, A1)+np.kron(A1, I))\n",
    "    return OUTPUT\n",
    "\n",
    "\n",
    "def Multigrid_circle(inputsize, A_A, B, R_A, s, w, error):\n",
    "    A = np.matrix(A_A)\n",
    "    P = 16.*np.transpose(R_A)\n",
    "    R = np.matrix(R_A)\n",
    "    M = np.matrix(w**(-1)*np.diag(np.diag(A)))\n",
    "    K = M - A\n",
    "    C = np.linalg.inv(M)*K\n",
    "    b = np.linalg.inv(M)*B\n",
    "    U0 = np.matrix(np.zeros([inputsize, 1]))\n",
    "    RESIDUAL = []\n",
    "    Residual=1\n",
    "    i=0\n",
    "    while Residual > error:\n",
    "        for j in range(s):\n",
    "            U0 = C*U0+b\n",
    "        r = B - A*U0\n",
    "        Residual = np.linalg.norm(r,2)\n",
    "        rc = R*r\n",
    "        Ac = R*A*P\n",
    "        Uc = np.linalg.solve(Ac, rc)\n",
    "        U = U0 + P*Uc\n",
    "        for k in range(s):\n",
    "            U = C*U+b\n",
    "        U0 = U\n",
    "        RESIDUAL.append(Residual)\n",
    "        i=i+1\n",
    "        print(\"Residual = {}\".format(Residual))\n",
    "        print(\"Interation = {}\".format(i))\n",
    "        print(\"===================\")\n",
    "    return U0, RESIDUAL\n",
    "\n",
    "def rho(inputsize,A,P,R,w,s):\n",
    "    M = (w**(-1)) * np.diag(np.diag(A))\n",
    "    K = M - A\n",
    "    MK = np.matmul(np.linalg.inv(M),K)\n",
    "    I = np.eye(inputsize)\n",
    "    IPRAPRA = I - np.matmul(np.matmul(np.matmul(P,np.linalg.inv(np.matmul(np.matmul(R,A),P))),R),A)\n",
    "    C = np.matmul(np.matmul(MK,IPRAPRA),MK)\n",
    "    for i in range(5):\n",
    "        C = np.matmul(C,C)\n",
    "    radius = np.linalg.norm(C)**(1/32)\n",
    "    return radius\n",
    "\n",
    "def optimizer_GD(inputsize, A1, R, w, s, learning_rate, lam):\n",
    "    rhoold = rho(inputsize,A1,16*np.transpose(R),R,w,s)\n",
    "    device = torch.device('cpu')\n",
    "    R = torch.tensor(R,dtype = torch.double, requires_grad=True,device=device)\n",
    "    w = torch.tensor(w,dtype = torch.double, requires_grad=True, device=device)\n",
    "    lam = torch.tensor(lam,dtype = torch.double, requires_grad=True, device=device)\n",
    "    A = torch.tensor(A1,dtype = torch.double, device=device)\n",
    "    P = 16*torch.t(R)\n",
    "    M = (w**(-1)) * torch.diag(torch.diag(A))\n",
    "    K = M - A\n",
    "    MK = torch.mm(torch.inverse(M),K)\n",
    "    I = torch.eye(inputsize,dtype = torch.double, device=device)\n",
    "    I1 = torch.ones([inputsize,1],dtype = torch.double, device=device)\n",
    "    I2 = torch.ones([outputsize,1],dtype = torch.double, device=device)\n",
    "    IPRAPRA = I - torch.mm(torch.mm(torch.mm(P,torch.inverse(torch.mm(torch.mm(R,A),P))),R),A)\n",
    "    C = torch.mm(torch.mm(MK,IPRAPRA),MK)\n",
    "    for i in range(5):\n",
    "        C = torch.mm(C,C)\n",
    "    loss = torch.norm(C)**(1/32) + torch.mm(lam,torch.mm(R,I1) - I2)\n",
    "    loss.backward()\n",
    "    with torch.no_grad():\n",
    "        R-=learning_rate*R.grad\n",
    "        w-=learning_rate*w.grad \n",
    "        lam-=learning_rate*lam.grad\n",
    "    R = R.detach().numpy()\n",
    "    w = w.detach().numpy()\n",
    "    lam = lam.detach().numpy()\n",
    "    rhonew = rho(inputsize,A1,16*np.transpose(R),R,w,s)\n",
    "    return R, w, lam, rhoold, rhonew\n",
    "\n",
    "def direct_optimizer_GD(inputsize, A0, A1, R, w, s, learning_rate, lam):\n",
    "    Rhoold = rho(inputsize,A1,16*np.transpose(R),R,w,s)\n",
    "    Rhonew = [Rhoold]\n",
    "    for i in range(100):\n",
    "        Rnew, wnew, lamnew, rhoold, rhonew = optimizer_GD(inputsize, A1, R, w, s, learning_rate, lam)\n",
    "        R = Rnew\n",
    "        w = wnew\n",
    "        lam = lamnew\n",
    "        print(\"rho = {}\".format(rhonew))\n",
    "        print(\"===================\")\n",
    "        Rhonew.append(rhonew)\n",
    "        i+=1\n",
    "    print(\"======End======\")\n",
    "    return R, w, Rhoold, Rhonew\n",
    "\n",
    "def homotopy_optimizer_GD(inputsize, A0, A1, R, w, s, learning_rate ,accept_radius ,step_length,lam):\n",
    "    Rhoold = rho(inputsize,A1,16*np.transpose(R),R,w,s)\n",
    "    Radius = [Rhoold]\n",
    "    L = step_length\n",
    "    print(\"======Section 1======\")\n",
    "    while L < 1:\n",
    "        M = (1-L)*A0 + L*A1\n",
    "        Rnew, wnew, lamnew, rhoold, rhonew = optimizer_GD(inputsize, M, R, w, s, learning_rate, lam)\n",
    "        Radius.append(rhonew)\n",
    "        if rhonew > accept_radius:\n",
    "            step_length = 0.1*step_length\n",
    "            learning_rate = 0.1*learning_rate\n",
    "            print('Decrease the step_length, learning_rate and Restart!!')\n",
    "            print(\"step_length = {}\".format(step_length))      \n",
    "            print(\"learning_rate = {}\".format(learning_rate))\n",
    "            print(\"rhonew = {}\".format(rhonew))\n",
    "            print(\"===================\")\n",
    "            R = Restriction(inputsize)\n",
    "            lam = np.zeros([1,outputsize])\n",
    "            w = 2/3\n",
    "            L = step_length\n",
    "        else:\n",
    "            R = Rnew\n",
    "            w = wnew\n",
    "            L += step_length\n",
    "            lam = lamnew\n",
    "            print(\"L = {}\".format(L))\n",
    "            print(\"rho = {}\".format(rhonew))\n",
    "            print(\"===================\")\n",
    "    print(\"======Section 2======\")\n",
    "    i = 0\n",
    "    while rhoold>rhonew and i <10:\n",
    "        Rnew, wnew, lamnew, rhoold, rhonew = optimizer_GD(inputsize, A1, R, w, s, learning_rate, lam)\n",
    "        Radius.append(rhonew)\n",
    "        R = Rnew\n",
    "        w = wnew\n",
    "        lam = lamnew\n",
    "        print(\"the {} steps\".format(i))\n",
    "        print(\"rho = {}\".format(rhonew))\n",
    "        print(\"===================\")\n",
    "        i+=1            \n",
    "    Rhonew = rhonew\n",
    "    print(\"======End======\")\n",
    "    return R, w, Rhoold, Rhonew, Radius"
   ]
  },
  {
   "cell_type": "markdown",
   "metadata": {},
   "source": [
    "Define parameter"
   ]
  },
  {
   "cell_type": "code",
   "execution_count": 4,
   "metadata": {},
   "outputs": [],
   "source": [
    "s = 1\n",
    "w = 2/3\n",
    "error=10e-11\n",
    "def u_real(x, y): return np.sin(np.pi*3*x)*np.sin(np.pi*5*y)\n",
    "def rightf(x, y): return  34*np.pi**2*(1 + (2 + np.cos(np.pi*x))/(2 + np.cos(np.pi*y)) + (2 + np.cos(5*np.pi*x))/(2 + np.cos(5*np.pi*y)))*np.sin(3*np.pi*x)*np.sin(5*np.pi*y) - 3*np.pi*np.cos(3*np.pi*x)*(-((np.pi*np.sin(np.pi*x))/(2 + np.cos(np.pi*y))) - (5*np.pi*np.sin(5*np.pi*x))/(2 + np.cos(5*np.pi*y)))*np.sin(5*np.pi*y) - 5*np.pi*np.cos(5*np.pi*y)*np.sin(3*np.pi*x)*((np.pi*(2 + np.cos(np.pi*x))*np.sin(np.pi*y))/(2 + np.cos(np.pi*y))**2 + (5*np.pi*(2 + np.cos(5*np.pi*x))*np.sin(5*np.pi*y))/(2 + np.cos(5*np.pi*y))**2)\n",
    "def a(x,y): return(1 + (2 + np.cos(np.pi*x))/(2 + np.cos(np.pi*y)) + (2 + np.cos(5*np.pi*x))/(2 + np.cos(5*np.pi*y)))\n",
    "\n",
    "sqrtinputsize = int(np.sqrt(inputsize))\n",
    "sqrtmidputsize = int(sqrtinputsize/2)\n",
    "midputsize = int(sqrtmidputsize**2)\n",
    "sqrtoutputsize = int(sqrtmidputsize/2)\n",
    "outputsize = int(sqrtoutputsize**2)\n",
    "\n",
    "h = 1/(sqrtinputsize-1)\n",
    "H = 1/(sqrtoutputsize-1)\n",
    "A0 = Poisson(inputsize)\n",
    "num_levels=2\n",
    "n=sqrtinputsize\n",
    "kx = np.zeros([n,n+1])\n",
    "ky = np.zeros([n+1,n])\n",
    "for i in range(n):\n",
    "    for j in range(n+1):\n",
    "        kx[i][j] = a((j-0.5)*h,i*h)\n",
    "for i in range(n+1):\n",
    "    for j in range(n):\n",
    "        ky[i][j] = a(j*h,(i-0.5)*h)    \n",
    "A1 = gallery.nonlinearPoisson((n,n), kx, ky)\n",
    "n = inputsize\n",
    "[X, Y] = np.meshgrid(np.linspace(0, 1, sqrtinputsize),np.linspace(0, 1, sqrtinputsize))\n",
    "RightF = rightf(X,Y)*h**2\n",
    "RightF = RightF.reshape(inputsize, 1)\n",
    "Ureal = u_real(X,Y).reshape(inputsize, 1)\n",
    "Media = a(X,Y)\n",
    "R1 = Restriction(inputsize)\n",
    "R2 = Restriction(midputsize)\n",
    "R  = np.matmul(R2, R1)\n",
    "P = 16*np.transpose(R)"
   ]
  },
  {
   "cell_type": "markdown",
   "metadata": {},
   "source": [
    "GMM on fine grid"
   ]
  },
  {
   "cell_type": "code",
   "execution_count": 5,
   "metadata": {
    "scrolled": false
   },
   "outputs": [
    {
     "name": "stdout",
     "output_type": "stream",
     "text": [
      "Residual = 10.600314620211403\n",
      "Interation = 1\n",
      "===================\n",
      "Residual = 4.928922493242258\n",
      "Interation = 2\n",
      "===================\n",
      "Residual = 2.728278315117936\n",
      "Interation = 3\n",
      "===================\n",
      "Residual = 1.5877202059740314\n",
      "Interation = 4\n",
      "===================\n",
      "Residual = 0.947482520918503\n",
      "Interation = 5\n",
      "===================\n",
      "Residual = 0.5774561081626031\n",
      "Interation = 6\n",
      "===================\n",
      "Residual = 0.3608111744864087\n",
      "Interation = 7\n",
      "===================\n",
      "Residual = 0.23268582030524076\n",
      "Interation = 8\n",
      "===================\n",
      "Residual = 0.1557680908827153\n",
      "Interation = 9\n",
      "===================\n",
      "Residual = 0.10842140076772878\n",
      "Interation = 10\n",
      "===================\n",
      "Residual = 0.07819487774942144\n",
      "Interation = 11\n",
      "===================\n",
      "Residual = 0.05803258081923666\n",
      "Interation = 12\n",
      "===================\n",
      "Residual = 0.04398160579425349\n",
      "Interation = 13\n",
      "===================\n",
      "Residual = 0.03381747079072077\n",
      "Interation = 14\n",
      "===================\n",
      "Residual = 0.0262544848449055\n",
      "Interation = 15\n",
      "===================\n",
      "Residual = 0.02051454213821314\n",
      "Interation = 16\n",
      "===================\n",
      "Residual = 0.01609980705232406\n",
      "Interation = 17\n",
      "===================\n",
      "Residual = 0.012674080903292391\n",
      "Interation = 18\n",
      "===================\n",
      "Residual = 0.009999862780813724\n",
      "Interation = 19\n",
      "===================\n",
      "Residual = 0.00790361273653382\n",
      "Interation = 20\n",
      "===================\n",
      "Residual = 0.006255485173697646\n",
      "Interation = 21\n",
      "===================\n",
      "Residual = 0.004956750090354856\n",
      "Interation = 22\n",
      "===================\n",
      "Residual = 0.003931515431083736\n",
      "Interation = 23\n",
      "===================\n",
      "Residual = 0.0031210074057954995\n",
      "Interation = 24\n",
      "===================\n",
      "Residual = 0.0024794688186390674\n",
      "Interation = 25\n",
      "===================\n",
      "Residual = 0.0019711383362840448\n",
      "Interation = 26\n",
      "===================\n",
      "Residual = 0.0015679842015297672\n",
      "Interation = 27\n",
      "===================\n",
      "Residual = 0.001247981975270483\n",
      "Interation = 28\n",
      "===================\n",
      "Residual = 0.0009937938290458072\n",
      "Interation = 29\n",
      "===================\n",
      "Residual = 0.0007917491258842415\n",
      "Interation = 30\n",
      "===================\n",
      "Residual = 0.0006310536994517718\n",
      "Interation = 31\n",
      "===================\n",
      "Residual = 0.0005031741917722402\n",
      "Interation = 32\n",
      "===================\n",
      "Residual = 0.0004013572295281353\n",
      "Interation = 33\n",
      "===================\n",
      "Residual = 0.0003202529599673367\n",
      "Interation = 34\n",
      "===================\n",
      "Residual = 0.00025561966682168257\n",
      "Interation = 35\n",
      "===================\n",
      "Residual = 0.0002040915775163408\n",
      "Interation = 36\n",
      "===================\n",
      "Residual = 0.00016299604981834663\n",
      "Interation = 37\n",
      "===================\n",
      "Residual = 0.0001302094320983396\n",
      "Interation = 38\n",
      "===================\n",
      "Residual = 0.00010404327191404558\n",
      "Interation = 39\n",
      "===================\n",
      "Residual = 8.315438099119614e-05\n",
      "Interation = 40\n",
      "===================\n",
      "Residual = 6.647368197416837e-05\n",
      "Interation = 41\n",
      "===================\n",
      "Residual = 5.314986215947985e-05\n",
      "Interation = 42\n",
      "===================\n",
      "Residual = 4.250471484916012e-05\n",
      "Interation = 43\n",
      "===================\n",
      "Residual = 3.3997716461159355e-05\n",
      "Interation = 44\n",
      "===================\n",
      "Residual = 2.7197909271973057e-05\n",
      "Interation = 45\n",
      "===================\n",
      "Residual = 2.176156828826633e-05\n",
      "Interation = 46\n",
      "===================\n",
      "Residual = 1.741445162165655e-05\n",
      "Interation = 47\n",
      "===================\n",
      "Residual = 1.3937685643208869e-05\n",
      "Interation = 48\n",
      "===================\n",
      "Residual = 1.115653473018115e-05\n",
      "Interation = 49\n",
      "===================\n",
      "Residual = 8.93146170177395e-06\n",
      "Interation = 50\n",
      "===================\n",
      "Residual = 7.1510084780261795e-06\n",
      "Interation = 51\n",
      "===================\n",
      "Residual = 5.7261239199308945e-06\n",
      "Interation = 52\n",
      "===================\n",
      "Residual = 4.5856428702564185e-06\n",
      "Interation = 53\n",
      "===================\n",
      "Residual = 3.6726814157682843e-06\n",
      "Interation = 54\n",
      "===================\n",
      "Residual = 2.94176167585539e-06\n",
      "Interation = 55\n",
      "===================\n",
      "Residual = 2.3565177625965904e-06\n",
      "Interation = 56\n",
      "===================\n",
      "Residual = 1.88786479906503e-06\n",
      "Interation = 57\n",
      "===================\n",
      "Residual = 1.5125371892866629e-06\n",
      "Interation = 58\n",
      "===================\n",
      "Residual = 1.2119212929629053e-06\n",
      "Interation = 59\n",
      "===================\n",
      "Residual = 9.711230029100009e-07\n",
      "Interation = 60\n",
      "===================\n",
      "Residual = 7.782227593922312e-07\n",
      "Interation = 61\n",
      "===================\n",
      "Residual = 6.236802166829063e-07\n",
      "Interation = 62\n",
      "===================\n",
      "Residual = 4.99858336854452e-07\n",
      "Interation = 63\n",
      "===================\n",
      "Residual = 4.0064295493146724e-07\n",
      "Interation = 64\n",
      "===================\n",
      "Residual = 3.211385343018597e-07\n",
      "Interation = 65\n",
      "===================\n",
      "Residual = 2.5742486533084345e-07\n",
      "Interation = 66\n",
      "===================\n",
      "Residual = 2.0636241897065702e-07\n",
      "Interation = 67\n",
      "===================\n",
      "Residual = 1.6543665327818104e-07\n",
      "Interation = 68\n",
      "===================\n",
      "Residual = 1.3263339146635308e-07\n",
      "Interation = 69\n",
      "===================\n",
      "Residual = 1.0633913531017392e-07\n",
      "Interation = 70\n",
      "===================\n",
      "Residual = 8.526123225630758e-08\n",
      "Interation = 71\n",
      "===================\n",
      "Residual = 6.836400034952051e-08\n",
      "Interation = 72\n",
      "===================\n",
      "Residual = 5.481759757510626e-08\n",
      "Interation = 73\n",
      "===================\n",
      "Residual = 4.395704001826581e-08\n",
      "Interation = 74\n",
      "===================\n",
      "Residual = 3.524942925148991e-08\n",
      "Interation = 75\n",
      "===================\n",
      "Residual = 2.8267689679567223e-08\n",
      "Interation = 76\n",
      "===================\n",
      "Residual = 2.266953166991167e-08\n",
      "Interation = 77\n",
      "===================\n",
      "Residual = 1.8180598774078698e-08\n",
      "Interation = 78\n",
      "===================\n",
      "Residual = 1.4580981087672687e-08\n",
      "Interation = 79\n",
      "===================\n",
      "Residual = 1.169439128757548e-08\n",
      "Interation = 80\n",
      "===================\n",
      "Residual = 9.379516431168908e-09\n",
      "Interation = 81\n",
      "===================\n",
      "Residual = 7.523062745471608e-09\n",
      "Interation = 82\n",
      "===================\n",
      "Residual = 6.0342049020497085e-09\n",
      "Interation = 83\n",
      "===================\n",
      "Residual = 4.840116235982977e-09\n",
      "Interation = 84\n",
      "===================\n",
      "Residual = 3.882414835942857e-09\n",
      "Interation = 85\n",
      "===================\n",
      "Residual = 3.1142813805290425e-09\n",
      "Interation = 86\n",
      "===================\n",
      "Residual = 2.4981800435704216e-09\n",
      "Interation = 87\n",
      "===================\n",
      "Residual = 2.004004695540581e-09\n",
      "Interation = 88\n",
      "===================\n",
      "Residual = 1.6076160770318729e-09\n",
      "Interation = 89\n",
      "===================\n",
      "Residual = 1.2896599391122561e-09\n",
      "Interation = 90\n",
      "===================\n",
      "Residual = 1.0346067015034886e-09\n",
      "Interation = 91\n",
      "===================\n",
      "Residual = 8.300126601699095e-10\n",
      "Interation = 92\n",
      "===================\n",
      "Residual = 6.658903401437615e-10\n",
      "Interation = 93\n",
      "===================\n",
      "Residual = 5.34228107358107e-10\n",
      "Interation = 94\n",
      "===================\n",
      "Residual = 4.2860677822904395e-10\n",
      "Interation = 95\n",
      "===================\n",
      "Residual = 3.438748069101104e-10\n",
      "Interation = 96\n",
      "===================\n",
      "Residual = 2.7589427152793893e-10\n",
      "Interation = 97\n",
      "===================\n",
      "Residual = 2.213612268707924e-10\n",
      "Interation = 98\n",
      "===================\n",
      "Residual = 1.7760616617174657e-10\n",
      "Interation = 99\n",
      "===================\n",
      "Residual = 1.4250253627255277e-10\n",
      "Interation = 100\n",
      "===================\n",
      "Residual = 1.1434029837228903e-10\n",
      "Interation = 101\n",
      "===================\n",
      "Residual = 9.174535813425668e-11\n",
      "Interation = 102\n",
      "===================\n"
     ]
    }
   ],
   "source": [
    "GMM_U, GMM_Res = Multigrid_circle(inputsize, A1.to_full(), RightF, R, s, w, error)"
   ]
  },
  {
   "cell_type": "markdown",
   "metadata": {},
   "source": [
    "Error GMM on fine grid"
   ]
  },
  {
   "cell_type": "code",
   "execution_count": 6,
   "metadata": {},
   "outputs": [
    {
     "name": "stdout",
     "output_type": "stream",
     "text": [
      "Energy norm: \n",
      "1.7044477496461008\n",
      "L2 norm: \n",
      "0.07378635965446802\n",
      "H1 norm: \n",
      "0.9263560583771987\n",
      "Energy norm: \n",
      "0.10094262069577402\n",
      "L2 norm: \n",
      "0.14757271930893603\n",
      "H1 norm: \n",
      "0.10034069956582581\n"
     ]
    }
   ],
   "source": [
    "UREAL = Ureal.reshape(sqrtinputsize,sqrtinputsize)\n",
    "GMMU = GMM_U.reshape(sqrtinputsize,sqrtinputsize)\n",
    "deltaU = GMMU - UREAL\n",
    "\n",
    "energynorm = np.sqrt(np.sum(np.multiply(np.multiply(np.gradient(UREAL,h,axis=0),np.gradient(UREAL,h,axis=0)),Media)*(h**2))+np.sum(np.multiply(np.multiply(np.gradient(UREAL,h,axis=1),np.gradient(UREAL,h,axis=1)),Media)*(h**2)))\n",
    "l2norm = np.sqrt((np.linalg.norm(UREAL)**2)*(h**2))\n",
    "h1norm = np.sqrt((np.linalg.norm(np.gradient(UREAL,h,axis=0))**2+np.linalg.norm(np.gradient(UREAL,h,axis=1))**2+np.linalg.norm(UREAL)**2)*(h**2))\n",
    "\n",
    "print('Energy norm: ')\n",
    "print(np.sqrt(np.sum(np.multiply(np.multiply(np.gradient(deltaU,h,axis=0),np.gradient(deltaU,h,axis=0)),Media)*(h**2))+np.sum(np.multiply(np.multiply(np.gradient(deltaU,h,axis=1),np.gradient(deltaU,h,axis=1)),Media)*(h**2))))\n",
    "print('L2 norm: ')\n",
    "print(np.sqrt((np.linalg.norm(deltaU)**2)*(h**2)))\n",
    "print('H1 norm: ')\n",
    "print(np.sqrt((np.linalg.norm(np.gradient(deltaU,h,axis=0))**2+np.linalg.norm(np.gradient(deltaU,h,axis=1))**2+np.linalg.norm(deltaU)**2)*(h**2)))\n",
    "\n",
    "print('Energy norm: ')\n",
    "print(np.sqrt(np.sum(np.multiply(np.multiply(np.gradient(deltaU,h,axis=0),np.gradient(deltaU,h,axis=0)),Media)*(h**2))+np.sum(np.multiply(np.multiply(np.gradient(deltaU,h,axis=1),np.gradient(deltaU,h,axis=1)),Media)*(h**2)))/energynorm)\n",
    "print('L2 norm: ')\n",
    "print(np.sqrt((np.linalg.norm(deltaU)**2)*(h**2))/l2norm)\n",
    "print('H1 norm: ')\n",
    "print(np.sqrt((np.linalg.norm(np.gradient(deltaU,h,axis=0))**2+np.linalg.norm(np.gradient(deltaU,h,axis=1))**2+np.linalg.norm(deltaU)**2)*(h**2))/h1norm)"
   ]
  },
  {
   "cell_type": "markdown",
   "metadata": {},
   "source": [
    "Solution"
   ]
  },
  {
   "cell_type": "code",
   "execution_count": 7,
   "metadata": {},
   "outputs": [
    {
     "data": {
      "text/plain": [
       "<matplotlib.colorbar.Colorbar at 0x10fc3ac18>"
      ]
     },
     "execution_count": 7,
     "metadata": {},
     "output_type": "execute_result"
    },
    {
     "data": {
      "image/png": "[encoded data removed]",
      "text/plain": [
       "<Figure size 432x288 with 2 Axes>"
      ]
     },
     "metadata": {
      "needs_background": "light"
     },
     "output_type": "display_data"
    }
   ],
   "source": [
    "plt.imshow(GMM_U.reshape(sqrtinputsize,sqrtinputsize))\n",
    "plt.colorbar()"
   ]
  },
  {
   "cell_type": "markdown",
   "metadata": {},
   "source": [
    "Residual"
   ]
  },
  {
   "cell_type": "code",
   "execution_count": 8,
   "metadata": {},
   "outputs": [
    {
     "data": {
      "text/plain": [
       "[<matplotlib.lines.Line2D at 0x14b147e80>]"
      ]
     },
     "execution_count": 8,
     "metadata": {},
     "output_type": "execute_result"
    },
    {
     "data": {
      "image/png": "[encoded data removed]",
      "text/plain": [
       "<Figure size 432x288 with 1 Axes>"
      ]
     },
     "metadata": {
      "needs_background": "light"
     },
     "output_type": "display_data"
    }
   ],
   "source": [
    "plt.semilogy(GMM_Res)"
   ]
  },
  {
   "cell_type": "markdown",
   "metadata": {},
   "source": [
    "Radius"
   ]
  },
  {
   "cell_type": "code",
   "execution_count": 9,
   "metadata": {},
   "outputs": [
    {
     "name": "stdout",
     "output_type": "stream",
     "text": [
      "GMM_Radius = 0.8471863688130914\n"
     ]
    }
   ],
   "source": [
    "GMM_Radius = rho(inputsize,A1.to_full(),16*np.transpose(R),R,w,s)\n",
    "print('GMM_Radius = {}'.format(GMM_Radius))"
   ]
  },
  {
   "cell_type": "markdown",
   "metadata": {},
   "source": [
    "Global DMM optimization"
   ]
  },
  {
   "cell_type": "code",
   "execution_count": 10,
   "metadata": {},
   "outputs": [
    {
     "name": "stdout",
     "output_type": "stream",
     "text": [
      "======Section 1======\n",
      "L = 0.02\n",
      "rho = 0.8466001069568301\n",
      "===================\n",
      "L = 0.03\n",
      "rho = 0.846602027500146\n",
      "===================\n",
      "L = 0.04\n",
      "rho = 0.8466048811888232\n",
      "===================\n",
      "L = 0.05\n",
      "rho = 0.8466085381796931\n",
      "===================\n",
      "L = 0.060000000000000005\n",
      "rho = 0.8466128867721614\n",
      "===================\n",
      "L = 0.07\n",
      "rho = 0.8466178305356047\n",
      "===================\n",
      "L = 0.08\n",
      "rho = 0.8466232859579533\n",
      "===================\n",
      "L = 0.09\n",
      "rho = 0.8466291805079076\n",
      "===================\n",
      "L = 0.09999999999999999\n",
      "rho = 0.8466354510281973\n",
      "===================\n",
      "L = 0.10999999999999999\n",
      "rho = 0.8466420423958222\n",
      "===================\n",
      "L = 0.11999999999999998\n",
      "rho = 0.846648906399112\n",
      "===================\n",
      "L = 0.12999999999999998\n",
      "rho = 0.8466560007920052\n",
      "===================\n",
      "L = 0.13999999999999999\n",
      "rho = 0.846663288494033\n",
      "===================\n",
      "L = 0.15\n",
      "rho = 0.8466707369107583\n",
      "===================\n",
      "L = 0.16\n",
      "rho = 0.8466783173543\n",
      "===================\n",
      "L = 0.17\n",
      "rho = 0.8466860045474174\n",
      "===================\n",
      "L = 0.18000000000000002\n",
      "rho = 0.8466937761976631\n",
      "===================\n",
      "L = 0.19000000000000003\n",
      "rho = 0.8467016126305382\n",
      "===================\n",
      "L = 0.20000000000000004\n",
      "rho = 0.8467094964725272\n",
      "===================\n",
      "L = 0.21000000000000005\n",
      "rho = 0.8467174123764529\n",
      "===================\n",
      "L = 0.22000000000000006\n",
      "rho = 0.8467253467828648\n",
      "===================\n",
      "L = 0.23000000000000007\n",
      "rho = 0.8467332877122105\n",
      "===================\n",
      "L = 0.24000000000000007\n",
      "rho = 0.8467412245833812\n",
      "===================\n",
      "L = 0.25000000000000006\n",
      "rho = 0.8467491480549295\n",
      "===================\n",
      "L = 0.26000000000000006\n",
      "rho = 0.8467570498858227\n",
      "===================\n",
      "L = 0.2700000000000001\n",
      "rho = 0.8467649228130814\n",
      "===================\n",
      "L = 0.2800000000000001\n",
      "rho = 0.8467727604440461\n",
      "===================\n",
      "L = 0.2900000000000001\n",
      "rho = 0.8467805571613483\n",
      "===================\n",
      "L = 0.3000000000000001\n",
      "rho = 0.8467883080389382\n",
      "===================\n",
      "L = 0.3100000000000001\n",
      "rho = 0.8467960087677643\n",
      "===================\n",
      "L = 0.3200000000000001\n",
      "rho = 0.8468036555898846\n",
      "===================\n",
      "L = 0.3300000000000001\n",
      "rho = 0.8468112452399703\n",
      "===================\n",
      "L = 0.34000000000000014\n",
      "rho = 0.8468187748932934\n",
      "===================\n",
      "L = 0.35000000000000014\n",
      "rho = 0.84682624211942\n",
      "===================\n",
      "L = 0.36000000000000015\n",
      "rho = 0.8468336448409285\n",
      "===================\n",
      "L = 0.37000000000000016\n",
      "rho = 0.846840981296561\n",
      "===================\n",
      "L = 0.38000000000000017\n",
      "rho = 0.8468482500082956\n",
      "===================\n",
      "L = 0.3900000000000002\n",
      "rho = 0.8468554497518884\n",
      "===================\n",
      "L = 0.4000000000000002\n",
      "rho = 0.8468625795304928\n",
      "===================\n",
      "L = 0.4100000000000002\n",
      "rho = 0.8468696385510099\n",
      "===================\n",
      "L = 0.4200000000000002\n",
      "rho = 0.8468766262028691\n",
      "===================\n",
      "L = 0.4300000000000002\n",
      "rho = 0.8468835420389714\n",
      "===================\n",
      "L = 0.4400000000000002\n",
      "rho = 0.8468903857585615\n",
      "===================\n",
      "L = 0.45000000000000023\n",
      "rho = 0.8468971571918203\n",
      "===================\n",
      "L = 0.46000000000000024\n",
      "rho = 0.8469038562859977\n",
      "===================\n",
      "L = 0.47000000000000025\n",
      "rho = 0.8469104830929195\n",
      "===================\n",
      "L = 0.48000000000000026\n",
      "rho = 0.8469170377577285\n",
      "===================\n",
      "L = 0.49000000000000027\n",
      "rho = 0.8469235205087322\n",
      "===================\n",
      "L = 0.5000000000000002\n",
      "rho = 0.8469299316482403\n",
      "===================\n",
      "L = 0.5100000000000002\n",
      "rho = 0.8469362715442956\n",
      "===================\n",
      "L = 0.5200000000000002\n",
      "rho = 0.846942540623206\n",
      "===================\n",
      "L = 0.5300000000000002\n",
      "rho = 0.846948739362798\n",
      "===================\n",
      "L = 0.5400000000000003\n",
      "rho = 0.846954868286321\n",
      "===================\n",
      "L = 0.5500000000000003\n",
      "rho = 0.8469609279569362\n",
      "===================\n",
      "L = 0.5600000000000003\n",
      "rho = 0.8469669189727363\n",
      "===================\n",
      "L = 0.5700000000000003\n",
      "rho = 0.8469728419622414\n",
      "===================\n",
      "L = 0.5800000000000003\n",
      "rho = 0.8469786975803263\n",
      "===================\n",
      "L = 0.5900000000000003\n",
      "rho = 0.8469844865045396\n",
      "===================\n",
      "L = 0.6000000000000003\n",
      "rho = 0.8469902094317738\n",
      "===================\n",
      "L = 0.6100000000000003\n",
      "rho = 0.8469958670752568\n",
      "===================\n",
      "L = 0.6200000000000003\n",
      "rho = 0.8470014601618316\n",
      "===================\n",
      "L = 0.6300000000000003\n",
      "rho = 0.8470069894294997\n",
      "===================\n",
      "L = 0.6400000000000003\n",
      "rho = 0.8470124556252016\n",
      "===================\n",
      "L = 0.6500000000000004\n",
      "rho = 0.8470178595028137\n",
      "===================\n",
      "L = 0.6600000000000004\n",
      "rho = 0.8470232018213412\n",
      "===================\n",
      "L = 0.6700000000000004\n",
      "rho = 0.8470284833432888\n",
      "===================\n",
      "L = 0.6800000000000004\n",
      "rho = 0.8470337048331935\n",
      "===================\n",
      "L = 0.6900000000000004\n",
      "rho = 0.8470388670563039\n",
      "===================\n",
      "L = 0.7000000000000004\n",
      "rho = 0.8470439707773932\n",
      "===================\n",
      "L = 0.7100000000000004\n",
      "rho = 0.8470490167596942\n",
      "===================\n",
      "L = 0.7200000000000004\n",
      "rho = 0.8470540057639434\n",
      "===================\n",
      "L = 0.7300000000000004\n",
      "rho = 0.8470589385475271\n",
      "===================\n",
      "L = 0.7400000000000004\n",
      "rho = 0.847063815863718\n",
      "===================\n",
      "L = 0.7500000000000004\n",
      "rho = 0.8470686384609953\n",
      "===================\n",
      "L = 0.7600000000000005\n",
      "rho = 0.8470734070824403\n",
      "===================\n",
      "L = 0.7700000000000005\n",
      "rho = 0.8470781224652004\n",
      "===================\n",
      "L = 0.7800000000000005\n",
      "rho = 0.8470827853400177\n",
      "===================\n",
      "L = 0.7900000000000005\n",
      "rho = 0.8470873964308113\n",
      "===================\n",
      "L = 0.8000000000000005\n",
      "rho = 0.8470919564543153\n",
      "===================\n",
      "L = 0.8100000000000005\n",
      "rho = 0.8470964661197604\n",
      "===================\n",
      "L = 0.8200000000000005\n",
      "rho = 0.8471009261286012\n",
      "===================\n",
      "L = 0.8300000000000005\n",
      "rho = 0.847105337174281\n",
      "===================\n",
      "L = 0.8400000000000005\n",
      "rho = 0.8471096999420327\n",
      "===================\n",
      "L = 0.8500000000000005\n",
      "rho = 0.8471140151087108\n",
      "===================\n",
      "L = 0.8600000000000005\n",
      "rho = 0.8471182833426548\n",
      "===================\n",
      "L = 0.8700000000000006\n",
      "rho = 0.8471225053035774\n",
      "===================\n",
      "L = 0.8800000000000006\n",
      "rho = 0.8471266816424767\n",
      "===================\n",
      "L = 0.8900000000000006\n",
      "rho = 0.847130813001572\n",
      "===================\n",
      "L = 0.9000000000000006\n",
      "rho = 0.847134900014257\n",
      "===================\n",
      "L = 0.9100000000000006\n",
      "rho = 0.8471389433050723\n",
      "===================\n",
      "L = 0.9200000000000006\n",
      "rho = 0.847142943489695\n",
      "===================\n",
      "L = 0.9300000000000006\n",
      "rho = 0.8471469011749397\n",
      "===================\n",
      "L = 0.9400000000000006\n",
      "rho = 0.8471508169587764\n",
      "===================\n",
      "L = 0.9500000000000006\n",
      "rho = 0.8471546914303573\n",
      "===================\n",
      "L = 0.9600000000000006\n",
      "rho = 0.8471585251700561\n",
      "===================\n",
      "L = 0.9700000000000006\n",
      "rho = 0.8471623187495158\n",
      "===================\n",
      "L = 0.9800000000000006\n",
      "rho = 0.8471660727317051\n",
      "===================\n",
      "L = 0.9900000000000007\n",
      "rho = 0.8471697876709832\n",
      "===================\n",
      "L = 1.0000000000000007\n",
      "rho = 0.8471734641131702\n",
      "===================\n",
      "======Section 2======\n",
      "the 0 steps\n",
      "rho = 0.8471771025956245\n",
      "===================\n",
      "the 1 steps\n",
      "rho = 0.8471770093506151\n",
      "===================\n",
      "the 2 steps\n",
      "rho = 0.8471769161062186\n",
      "===================\n",
      "the 3 steps\n",
      "rho = 0.8471768228624347\n",
      "===================\n",
      "the 4 steps\n",
      "rho = 0.8471767296192628\n",
      "===================\n",
      "the 5 steps\n",
      "rho = 0.8471766363767028\n",
      "===================\n",
      "the 6 steps\n",
      "rho = 0.8471765431347543\n",
      "===================\n",
      "the 7 steps\n",
      "rho = 0.8471764498934169\n",
      "===================\n",
      "the 8 steps\n",
      "rho = 0.8471763566526902\n",
      "===================\n",
      "the 9 steps\n",
      "rho = 0.8471762634125738\n",
      "===================\n",
      "======End======\n"
     ]
    }
   ],
   "source": [
    "Rnew, wnew, Rhoold, Rhonew, Radius = homotopy_optimizer_GD(inputsize, A0, A1.to_full(), R,  2/3, s, \n",
    "                                                           learning_rate = 1e-6,accept_radius =\n",
    "                                                           GMM_Radius*10,step_length =  1e-2, lam = np.zeros([1,outputsize]))"
   ]
  },
  {
   "cell_type": "markdown",
   "metadata": {},
   "source": [
    "Global DMM on fine grid"
   ]
  },
  {
   "cell_type": "code",
   "execution_count": 11,
   "metadata": {},
   "outputs": [
    {
     "name": "stdout",
     "output_type": "stream",
     "text": [
      "Residual = 10.600303573471669\n",
      "Interation = 1\n",
      "===================\n",
      "Residual = 4.928697958411975\n",
      "Interation = 2\n",
      "===================\n",
      "Residual = 2.7280967284411743\n",
      "Interation = 3\n",
      "===================\n",
      "Residual = 1.587576559866962\n",
      "Interation = 4\n",
      "===================\n",
      "Residual = 0.9473739640916081\n",
      "Interation = 5\n",
      "===================\n",
      "Residual = 0.577376951479572\n",
      "Interation = 6\n",
      "===================\n",
      "Residual = 0.360754821012566\n",
      "Interation = 7\n",
      "===================\n",
      "Residual = 0.23264611887413342\n",
      "Interation = 8\n",
      "===================\n",
      "Residual = 0.15573999876523426\n",
      "Interation = 9\n",
      "===================\n",
      "Residual = 0.10840114779271479\n",
      "Interation = 10\n",
      "===================\n",
      "Residual = 0.07817985002683933\n",
      "Interation = 11\n",
      "===================\n",
      "Residual = 0.058021072830246274\n",
      "Interation = 12\n",
      "===================\n",
      "Residual = 0.043972545713979384\n",
      "Interation = 13\n",
      "===================\n",
      "Residual = 0.03381018913229686\n",
      "Interation = 14\n",
      "===================\n",
      "Residual = 0.026248552301211477\n",
      "Interation = 15\n",
      "===================\n",
      "Residual = 0.020509669281247523\n",
      "Interation = 16\n",
      "===================\n",
      "Residual = 0.016095786920183992\n",
      "Interation = 17\n",
      "===================\n",
      "Residual = 0.012670757370601183\n",
      "Interation = 18\n",
      "===================\n",
      "Residual = 0.0099971132017455\n",
      "Interation = 19\n",
      "===================\n",
      "Residual = 0.007901338144869298\n",
      "Interation = 20\n",
      "===================\n",
      "Residual = 0.006253604419924973\n",
      "Interation = 21\n",
      "===================\n",
      "Residual = 0.00495519605003723\n",
      "Interation = 22\n",
      "===================\n",
      "Residual = 0.0039302323445143976\n",
      "Interation = 23\n",
      "===================\n",
      "Residual = 0.0031199488774920235\n",
      "Interation = 24\n",
      "===================\n",
      "Residual = 0.0024785962366980015\n",
      "Interation = 25\n",
      "===================\n",
      "Residual = 0.0019704195841846284\n",
      "Interation = 26\n",
      "===================\n",
      "Residual = 0.001567392590117938\n",
      "Interation = 27\n",
      "===================\n",
      "Residual = 0.0012474953495759543\n",
      "Interation = 28\n",
      "===================\n",
      "Residual = 0.0009933938187334983\n",
      "Interation = 29\n",
      "===================\n",
      "Residual = 0.000791420515718408\n",
      "Interation = 30\n",
      "===================\n",
      "Residual = 0.000630783900921552\n",
      "Interation = 31\n",
      "===================\n",
      "Residual = 0.0005029528002072417\n",
      "Interation = 32\n",
      "===================\n",
      "Residual = 0.0004011756534527467\n",
      "Interation = 33\n",
      "===================\n",
      "Residual = 0.00032010411149561155\n",
      "Interation = 34\n",
      "===================\n",
      "Residual = 0.00025549770340304705\n",
      "Interation = 35\n",
      "===================\n",
      "Residual = 0.00020399168691946097\n",
      "Interation = 36\n",
      "===================\n",
      "Residual = 0.00016291427133639157\n",
      "Interation = 37\n",
      "===================\n",
      "Residual = 0.0001301425081221552\n",
      "Interation = 38\n",
      "===================\n",
      "Residual = 0.00010398852485195071\n",
      "Interation = 39\n",
      "===================\n",
      "Residual = 8.310961132145101e-05\n",
      "Interation = 40\n",
      "===================\n",
      "Residual = 6.643708392272681e-05\n",
      "Interation = 41\n",
      "===================\n",
      "Residual = 5.311995401592991e-05\n",
      "Interation = 42\n",
      "===================\n",
      "Residual = 4.248028141573145e-05\n",
      "Interation = 43\n",
      "===================\n",
      "Residual = 3.397776161190973e-05\n",
      "Interation = 44\n",
      "===================\n",
      "Residual = 2.7181616808601387e-05\n",
      "Interation = 45\n",
      "===================\n",
      "Residual = 2.1748269745591294e-05\n",
      "Interation = 46\n",
      "===================\n",
      "Residual = 1.740359974170835e-05\n",
      "Interation = 47\n",
      "===================\n",
      "Residual = 1.3928832580777993e-05\n",
      "Interation = 48\n",
      "===================\n",
      "Residual = 1.114931411827892e-05\n",
      "Interation = 49\n",
      "===================\n",
      "Residual = 8.925573947305366e-06\n",
      "Interation = 50\n",
      "===================\n",
      "Residual = 7.146208664070412e-06\n",
      "Interation = 51\n",
      "===================\n",
      "Residual = 5.722211902033441e-06\n",
      "Interation = 52\n",
      "===================\n",
      "Residual = 4.582455132170247e-06\n",
      "Interation = 53\n",
      "===================\n",
      "Residual = 3.6700844070204144e-06\n",
      "Interation = 54\n",
      "===================\n",
      "Residual = 2.939646368177439e-06\n",
      "Interation = 55\n",
      "===================\n",
      "Residual = 2.354795148303988e-06\n",
      "Interation = 56\n",
      "===================\n",
      "Residual = 1.8864622516715297e-06\n",
      "Interation = 57\n",
      "===================\n",
      "Residual = 1.511395452438736e-06\n",
      "Interation = 58\n",
      "===================\n",
      "Residual = 1.2109920395228744e-06\n",
      "Interation = 59\n",
      "===================\n",
      "Residual = 9.703668200575294e-07\n",
      "Interation = 60\n",
      "===================\n",
      "Residual = 7.776075264820629e-07\n",
      "Interation = 61\n",
      "===================\n",
      "Residual = 6.2317974139443e-07\n",
      "Interation = 62\n",
      "===================\n",
      "Residual = 4.994512825418048e-07\n",
      "Interation = 63\n",
      "===================\n",
      "Residual = 4.0031193738317955e-07\n",
      "Interation = 64\n",
      "===================\n",
      "Residual = 3.2086939046088884e-07\n",
      "Interation = 65\n",
      "===================\n",
      "Residual = 2.5720606287206983e-07\n",
      "Interation = 66\n",
      "===================\n",
      "Residual = 2.0618457174555779e-07\n",
      "Interation = 67\n",
      "===================\n",
      "Residual = 1.6529211450601487e-07\n",
      "Interation = 68\n",
      "===================\n",
      "Residual = 1.325159425585395e-07\n",
      "Interation = 69\n",
      "===================\n",
      "Residual = 1.0624370890741189e-07\n",
      "Interation = 70\n",
      "===================\n",
      "Residual = 8.5183709466127e-08\n",
      "Interation = 71\n",
      "===================\n",
      "Residual = 6.830103440610055e-08\n",
      "Interation = 72\n",
      "===================\n",
      "Residual = 5.476645720076655e-08\n",
      "Interation = 73\n",
      "===================\n",
      "Residual = 4.3915510003779604e-08\n",
      "Interation = 74\n",
      "===================\n",
      "Residual = 3.521571038605133e-08\n",
      "Interation = 75\n",
      "===================\n",
      "Residual = 2.824031917165306e-08\n",
      "Interation = 76\n",
      "===================\n",
      "Residual = 2.264731111290388e-08\n",
      "Interation = 77\n",
      "===================\n",
      "Residual = 1.8162565279195303e-08\n",
      "Interation = 78\n",
      "===================\n",
      "Residual = 1.456634444639052e-08\n",
      "Interation = 79\n",
      "===================\n",
      "Residual = 1.1682515175578962e-08\n",
      "Interation = 80\n",
      "===================\n",
      "Residual = 9.369880424452745e-09\n",
      "Interation = 81\n",
      "===================\n",
      "Residual = 7.51524701986572e-09\n",
      "Interation = 82\n",
      "===================\n",
      "Residual = 6.027863523968765e-09\n",
      "Interation = 83\n",
      "===================\n",
      "Residual = 4.834973926322812e-09\n",
      "Interation = 84\n",
      "===================\n",
      "Residual = 3.878245108755211e-09\n",
      "Interation = 85\n",
      "===================\n",
      "Residual = 3.110901301659863e-09\n",
      "Interation = 86\n",
      "===================\n",
      "Residual = 2.4954378825919716e-09\n",
      "Interation = 87\n",
      "===================\n",
      "Residual = 2.001781374689579e-09\n",
      "Interation = 88\n",
      "===================\n",
      "Residual = 1.6058153819594873e-09\n",
      "Interation = 89\n",
      "===================\n",
      "Residual = 1.2881995961271408e-09\n",
      "Interation = 90\n",
      "===================\n",
      "Residual = 1.0334257221083123e-09\n",
      "Interation = 91\n",
      "===================\n",
      "Residual = 8.290536054399797e-10\n",
      "Interation = 92\n",
      "===================\n",
      "Residual = 6.651123168721559e-10\n",
      "Interation = 93\n",
      "===================\n",
      "Residual = 5.335977225949112e-10\n",
      "Interation = 94\n",
      "===================\n",
      "Residual = 4.2809833368080396e-10\n",
      "Interation = 95\n",
      "===================\n",
      "Residual = 3.434633049679172e-10\n",
      "Interation = 96\n",
      "===================\n",
      "Residual = 2.7556337232662983e-10\n",
      "Interation = 97\n",
      "===================\n",
      "Residual = 2.210909890905014e-10\n",
      "Interation = 98\n",
      "===================\n",
      "Residual = 1.7738957833185214e-10\n",
      "Interation = 99\n",
      "===================\n",
      "Residual = 1.4232838602799327e-10\n",
      "Interation = 100\n",
      "===================\n",
      "Residual = 1.1419840292346641e-10\n",
      "Interation = 101\n",
      "===================\n",
      "Residual = 9.162940833479708e-11\n",
      "Interation = 102\n",
      "===================\n"
     ]
    }
   ],
   "source": [
    "DMM_U, DMM_Res = Multigrid_circle(inputsize, A1.to_full(), RightF, Rnew, s, wnew, error)"
   ]
  },
  {
   "cell_type": "markdown",
   "metadata": {},
   "source": [
    "Error DMM on fine grid"
   ]
  },
  {
   "cell_type": "code",
   "execution_count": 12,
   "metadata": {},
   "outputs": [
    {
     "name": "stdout",
     "output_type": "stream",
     "text": [
      "Energy norm: \n",
      "1.704447749646094\n",
      "L2 norm: \n",
      "0.07378635965446774\n",
      "H1 norm: \n",
      "0.9263560583771948\n",
      "Energy norm: \n",
      "0.10094262069577362\n",
      "L2 norm: \n",
      "0.14757271930893548\n",
      "H1 norm: \n",
      "0.10034069956582538\n"
     ]
    }
   ],
   "source": [
    "UREAL = Ureal.reshape(sqrtinputsize,sqrtinputsize)\n",
    "DMMU = DMM_U.reshape(sqrtinputsize,sqrtinputsize)\n",
    "deltaU = DMMU - UREAL\n",
    "\n",
    "energynorm = np.sqrt(np.sum(np.multiply(np.multiply(np.gradient(UREAL,h,axis=0),np.gradient(UREAL,h,axis=0)),Media)*(h**2))+np.sum(np.multiply(np.multiply(np.gradient(UREAL,h,axis=1),np.gradient(UREAL,h,axis=1)),Media)*(h**2)))\n",
    "l2norm = np.sqrt((np.linalg.norm(UREAL)**2)*(h**2))\n",
    "h1norm = np.sqrt((np.linalg.norm(np.gradient(UREAL,h,axis=0))**2+np.linalg.norm(np.gradient(UREAL,h,axis=1))**2+np.linalg.norm(UREAL)**2)*(h**2))\n",
    "\n",
    "print('Energy norm: ')\n",
    "print(np.sqrt(np.sum(np.multiply(np.multiply(np.gradient(deltaU,h,axis=0),np.gradient(deltaU,h,axis=0)),Media)*(h**2))+np.sum(np.multiply(np.multiply(np.gradient(deltaU,h,axis=1),np.gradient(deltaU,h,axis=1)),Media)*(h**2))))\n",
    "print('L2 norm: ')\n",
    "print(np.sqrt((np.linalg.norm(deltaU)**2)*(h**2)))\n",
    "print('H1 norm: ')\n",
    "print(np.sqrt((np.linalg.norm(np.gradient(deltaU,h,axis=0))**2+np.linalg.norm(np.gradient(deltaU,h,axis=1))**2+np.linalg.norm(deltaU)**2)*(h**2)))\n",
    "\n",
    "print('Energy norm: ')\n",
    "print(np.sqrt(np.sum(np.multiply(np.multiply(np.gradient(deltaU,h,axis=0),np.gradient(deltaU,h,axis=0)),Media)*(h**2))+np.sum(np.multiply(np.multiply(np.gradient(deltaU,h,axis=1),np.gradient(deltaU,h,axis=1)),Media)*(h**2)))/energynorm)\n",
    "print('L2 norm: ')\n",
    "print(np.sqrt((np.linalg.norm(deltaU)**2)*(h**2))/l2norm)\n",
    "print('H1 norm: ')\n",
    "print(np.sqrt((np.linalg.norm(np.gradient(deltaU,h,axis=0))**2+np.linalg.norm(np.gradient(deltaU,h,axis=1))**2+np.linalg.norm(deltaU)**2)*(h**2))/h1norm)"
   ]
  },
  {
   "cell_type": "markdown",
   "metadata": {},
   "source": [
    "Solution"
   ]
  },
  {
   "cell_type": "code",
   "execution_count": 13,
   "metadata": {},
   "outputs": [
    {
     "data": {
      "text/plain": [
       "<matplotlib.colorbar.Colorbar at 0x14b18dcc0>"
      ]
     },
     "execution_count": 13,
     "metadata": {},
     "output_type": "execute_result"
    },
    {
     "data": {
      "image/png": "[encoded data removed]",
      "text/plain": [
       "<Figure size 432x288 with 2 Axes>"
      ]
     },
     "metadata": {
      "needs_background": "light"
     },
     "output_type": "display_data"
    }
   ],
   "source": [
    "plt.imshow(DMM_U.reshape(sqrtinputsize,sqrtinputsize))\n",
    "plt.colorbar()"
   ]
  },
  {
   "cell_type": "markdown",
   "metadata": {},
   "source": [
    "Residual"
   ]
  },
  {
   "cell_type": "code",
   "execution_count": 14,
   "metadata": {},
   "outputs": [
    {
     "data": {
      "text/plain": [
       "[<matplotlib.lines.Line2D at 0x12d9820f0>]"
      ]
     },
     "execution_count": 14,
     "metadata": {},
     "output_type": "execute_result"
    },
    {
     "data": {
      "image/png": "[encoded data removed]",
      "text/plain": [
       "<Figure size 432x288 with 1 Axes>"
      ]
     },
     "metadata": {
      "needs_background": "light"
     },
     "output_type": "display_data"
    }
   ],
   "source": [
    "plt.semilogy(DMM_Res)"
   ]
  },
  {
   "cell_type": "markdown",
   "metadata": {},
   "source": [
    "Radius"
   ]
  },
  {
   "cell_type": "code",
   "execution_count": 15,
   "metadata": {},
   "outputs": [
    {
     "name": "stdout",
     "output_type": "stream",
     "text": [
      "DMM_Radius = 0.8471762634125738\n"
     ]
    }
   ],
   "source": [
    "DMM_Radius = Rhonew\n",
    "print('DMM_Radius = {}'.format(DMM_Radius))"
   ]
  },
  {
   "cell_type": "markdown",
   "metadata": {},
   "source": [
    "Rrestriction matrix after optimization"
   ]
  },
  {
   "cell_type": "code",
   "execution_count": 16,
   "metadata": {},
   "outputs": [
    {
     "data": {
      "text/plain": [
       "<matplotlib.colorbar.Colorbar at 0x12da4d6a0>"
      ]
     },
     "execution_count": 16,
     "metadata": {},
     "output_type": "execute_result"
    },
    {
     "data": {
      "image/png": "[encoded data removed]",
      "text/plain": [
       "<Figure size 432x288 with 2 Axes>"
      ]
     },
     "metadata": {
      "needs_background": "light"
     },
     "output_type": "display_data"
    }
   ],
   "source": [
    "plt.imshow(Rnew)\n",
    "plt.colorbar()"
   ]
  },
  {
   "cell_type": "markdown",
   "metadata": {},
   "source": [
    "Rrestriction matrix (log(abs()) after optimization"
   ]
  },
  {
   "cell_type": "code",
   "execution_count": 17,
   "metadata": {},
   "outputs": [
    {
     "data": {
      "text/plain": [
       "<matplotlib.colorbar.Colorbar at 0x12e072048>"
      ]
     },
     "execution_count": 17,
     "metadata": {},
     "output_type": "execute_result"
    },
    {
     "data": {
      "image/png": "[encoded data removed]",
      "text/plain": [
       "<Figure size 432x288 with 2 Axes>"
      ]
     },
     "metadata": {
      "needs_background": "light"
     },
     "output_type": "display_data"
    }
   ],
   "source": [
    "plt.imshow(np.log(np.abs(Rnew)))\n",
    "plt.colorbar()"
   ]
  },
  {
   "cell_type": "markdown",
   "metadata": {},
   "source": [
    "Basis after optimization"
   ]
  },
  {
   "cell_type": "code",
   "execution_count": 18,
   "metadata": {},
   "outputs": [
    {
     "data": {
      "text/plain": [
       "<matplotlib.colorbar.Colorbar at 0x12e97c978>"
      ]
     },
     "execution_count": 18,
     "metadata": {},
     "output_type": "execute_result"
    },
    {
     "data": {
      "image/png": "[encoded data removed]",
      "text/plain": [
       "<Figure size 432x288 with 2 Axes>"
      ]
     },
     "metadata": {
      "needs_background": "light"
     },
     "output_type": "display_data"
    }
   ],
   "source": [
    "basis1 = Rnew[int(0.45*outputsize)][:]\n",
    "basis1 = basis1.reshape([sqrtinputsize,sqrtinputsize])\n",
    "plt.imshow(basis1)\n",
    "plt.colorbar()"
   ]
  },
  {
   "cell_type": "code",
   "execution_count": 19,
   "metadata": {},
   "outputs": [
    {
     "data": {
      "image/png": "[encoded data removed]",
      "text/plain": [
       "<Figure size 432x288 with 1 Axes>"
      ]
     },
     "metadata": {
      "needs_background": "light"
     },
     "output_type": "display_data"
    }
   ],
   "source": [
    "from matplotlib import pyplot as plt\n",
    "import numpy as np\n",
    "from mpl_toolkits.mplot3d import Axes3D\n",
    "size=basis1.shape\n",
    "Y=np.arange(0,size[0],1)     \n",
    "X=np.arange(0,size[1],1)\n",
    "\n",
    "X,Y=np.meshgrid(X,Y)    \n",
    "fig=plt.figure()\n",
    "ax=fig.gca(projection='3d') \n",
    "ax.plot_surface(X,Y,basis1)\n",
    "plt.show()"
   ]
  },
  {
   "cell_type": "code",
   "execution_count": 20,
   "metadata": {},
   "outputs": [
    {
     "data": {
      "text/plain": [
       "[<matplotlib.lines.Line2D at 0x12e5a3f60>]"
      ]
     },
     "execution_count": 20,
     "metadata": {},
     "output_type": "execute_result"
    },
    {
     "data": {
      "image/png": "[encoded data removed]",
      "text/plain": [
       "<Figure size 432x288 with 1 Axes>"
      ]
     },
     "metadata": {
      "needs_background": "light"
     },
     "output_type": "display_data"
    }
   ],
   "source": [
    "plt.plot(basis1[:][int(sqrtinputsize/2)])"
   ]
  },
  {
   "cell_type": "markdown",
   "metadata": {},
   "source": [
    "Basis after optimization (log(abs()))"
   ]
  },
  {
   "cell_type": "code",
   "execution_count": 21,
   "metadata": {},
   "outputs": [
    {
     "data": {
      "text/plain": [
       "<matplotlib.colorbar.Colorbar at 0x12ed28278>"
      ]
     },
     "execution_count": 21,
     "metadata": {},
     "output_type": "execute_result"
    },
    {
     "data": {
      "image/png": "[encoded data removed]",
      "text/plain": [
       "<Figure size 432x288 with 2 Axes>"
      ]
     },
     "metadata": {
      "needs_background": "light"
     },
     "output_type": "display_data"
    }
   ],
   "source": [
    "plt.imshow(np.log(np.abs(basis1)))\n",
    "plt.colorbar()"
   ]
  },
  {
   "cell_type": "code",
   "execution_count": 22,
   "metadata": {},
   "outputs": [
    {
     "data": {
      "image/png": "[encoded data removed]",
      "text/plain": [
       "<Figure size 432x288 with 1 Axes>"
      ]
     },
     "metadata": {
      "needs_background": "light"
     },
     "output_type": "display_data"
    }
   ],
   "source": [
    "fig=plt.figure()\n",
    "ax=fig.gca(projection='3d') \n",
    "ax.plot_surface(X,Y,np.log(np.abs(basis1)))\n",
    "plt.show()"
   ]
  },
  {
   "cell_type": "code",
   "execution_count": 23,
   "metadata": {},
   "outputs": [
    {
     "data": {
      "text/plain": [
       "[<matplotlib.lines.Line2D at 0x12ee4c208>]"
      ]
     },
     "execution_count": 23,
     "metadata": {},
     "output_type": "execute_result"
    },
    {
     "data": {
      "image/png": "[encoded data removed]",
      "text/plain": [
       "<Figure size 432x288 with 1 Axes>"
      ]
     },
     "metadata": {
      "needs_background": "light"
     },
     "output_type": "display_data"
    }
   ],
   "source": [
    "plt.plot(np.log(np.abs(basis1[:][int(sqrtinputsize/2)])))"
   ]
  },
  {
   "cell_type": "markdown",
   "metadata": {},
   "source": [
    "FEM use basis from global DMM"
   ]
  },
  {
   "cell_type": "code",
   "execution_count": 24,
   "metadata": {},
   "outputs": [
    {
     "name": "stdout",
     "output_type": "stream",
     "text": [
      "Energy norm: \n",
      "3.9346575375150934\n",
      "L2 norm: \n",
      "0.10273282145004582\n",
      "H1 norm: \n",
      "2.1743786786365127\n",
      "Energy norm: \n",
      "0.2330224810115891\n",
      "L2 norm: \n",
      "0.20546564290009164\n",
      "H1 norm: \n",
      "0.23552356112142403\n"
     ]
    },
    {
     "data": {
      "image/png": "[encoded data removed]",
      "text/plain": [
       "<Figure size 432x288 with 2 Axes>"
      ]
     },
     "metadata": {
      "needs_background": "light"
     },
     "output_type": "display_data"
    }
   ],
   "source": [
    "\n",
    "Anew = np.zeros([outputsize,outputsize])\n",
    "[X1, Y1] = np.meshgrid(np.linspace(0, 1, sqrtinputsize),np.linspace(0, 1, sqrtinputsize))\n",
    "[X2, Y2] = np.meshgrid(np.linspace(0, 1, sqrtoutputsize),np.linspace(0, 1, sqrtoutputsize))\n",
    "A = a(X1,Y1)\n",
    "for i in range(outputsize):\n",
    "    for j in range(outputsize):\n",
    "        basisi = Rnew[i][:].reshape([sqrtinputsize,sqrtinputsize])\n",
    "        basisj = Rnew[j][:].reshape([sqrtinputsize,sqrtinputsize])\n",
    "        gxbasisi = np.gradient(basisi,axis=0)/h\n",
    "        gybasisi = np.gradient(basisi,axis=1)/h\n",
    "        gxbasisj = np.gradient(basisj,axis=0)/h\n",
    "        gybasisj = np.gradient(basisj,axis=1)/h\n",
    "        Anew[i][j]=(np.sum(A*gxbasisi*gxbasisj)+np.sum(A*gybasisi*gybasisj))*(H**2)\n",
    "        \n",
    "Fnew = np.zeros([outputsize,1])\n",
    "for i in range(outputsize):\n",
    "    basisi = Rnew[i][:].reshape([sqrtinputsize,sqrtinputsize])\n",
    "    F = rightf(X1,Y1)\n",
    "    Fnew[i]=np.sum(F*basisi)*(H**2)\n",
    "    \n",
    "UnewCoarse = np.linalg.solve(Anew,Fnew)\n",
    "Unew = np.zeros([sqrtinputsize,sqrtinputsize])\n",
    "for i in range(outputsize):\n",
    "    basisi = Rnew[i][:].reshape([sqrtinputsize,sqrtinputsize])\n",
    "    Unew = Unew + UnewCoarse[i]*basisi\n",
    "\n",
    "plt.imshow(Unew)\n",
    "plt.colorbar()\n",
    "\n",
    "UREAL = u_real(X1,Y1).reshape(sqrtinputsize,sqrtinputsize)\n",
    "deltaU = Unew - UREAL\n",
    "A = a(X1,Y1)\n",
    "\n",
    "energynorm = np.sqrt(np.sum(np.multiply(np.multiply(np.gradient(UREAL,h,axis=0),np.gradient(UREAL,h,axis=0)),A)*(h**2))+np.sum(np.multiply(np.multiply(np.gradient(UREAL,h,axis=1),np.gradient(UREAL,h,axis=1)),A)*(h**2)))\n",
    "l2norm = np.sqrt((np.sum(UREAL**2))*(h**2))\n",
    "h1norm = np.sqrt((np.linalg.norm(np.gradient(UREAL,h,axis=0))**2+np.linalg.norm(np.gradient(UREAL,h,axis=1))**2+np.linalg.norm(UREAL)**2)*(h**2))\n",
    "print('Energy norm: ')\n",
    "print(np.sqrt(np.sum(np.multiply(np.multiply(np.gradient(deltaU,h,axis=0),np.gradient(deltaU,h,axis=0)),A)*(h**2))+np.sum(np.multiply(np.multiply(np.gradient(deltaU,h,axis=1),np.gradient(deltaU,h,axis=1)),A)*(h**2))))\n",
    "print('L2 norm: ')\n",
    "print(np.sqrt((np.linalg.norm(deltaU)**2)*(h**2)))\n",
    "print('H1 norm: ')\n",
    "print(np.sqrt((np.linalg.norm(np.gradient(deltaU,h,axis=0))**2+np.linalg.norm(np.gradient(deltaU,h,axis=1))**2+np.linalg.norm(deltaU)**2)*(h**2)))\n",
    "\n",
    "\n",
    "\n",
    "print('Energy norm: ')\n",
    "print(np.sqrt(np.sum(np.multiply(np.multiply(np.gradient(deltaU,h,axis=0),np.gradient(deltaU,h,axis=0)),A)*(h**2))+np.sum(np.multiply(np.multiply(np.gradient(deltaU,h,axis=1),np.gradient(deltaU,h,axis=1)),A)*(h**2)))/energynorm)\n",
    "print('L2 norm: ')\n",
    "print(np.sqrt((np.sum(deltaU**2))*(h**2))/l2norm)\n",
    "print('H1 norm: ')\n",
    "print(np.sqrt((np.linalg.norm(np.gradient(deltaU,h,axis=0))**2+np.linalg.norm(np.gradient(deltaU,h,axis=1))**2+np.linalg.norm(deltaU)**2)*(h**2))/h1norm)"
   ]
  },
  {
   "cell_type": "code",
   "execution_count": 25,
   "metadata": {},
   "outputs": [
    {
     "data": {
      "text/plain": [
       "0"
      ]
     },
     "execution_count": 25,
     "metadata": {},
     "output_type": "execute_result"
    }
   ],
   "source": [
    "import os\n",
    "os.system(\"say 'The program has finished, Please check the results'\")"
   ]
  }
 ],
 "metadata": {
  "kernelspec": {
   "display_name": "Python 3",
   "language": "python",
   "name": "python3"
  },
  "language_info": {
   "codemirror_mode": {
    "name": "ipython",
    "version": 3
   },
   "file_extension": ".py",
   "mimetype": "text/x-python",
   "name": "python",
   "nbconvert_exporter": "python",
   "pygments_lexer": "ipython3",
   "version": "3.6.6"
  }
 },
 "nbformat": 4,
 "nbformat_minor": 2
}
