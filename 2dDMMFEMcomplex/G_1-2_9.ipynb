{
 "cells": [
  {
   "cell_type": "markdown",
   "metadata": {},
   "source": [
    "Import important parameter"
   ]
  },
  {
   "cell_type": "code",
   "execution_count": 1,
   "metadata": {},
   "outputs": [],
   "source": [
    "inputsize =19**2\n",
    "e = 0.05"
   ]
  },
  {
   "cell_type": "markdown",
   "metadata": {},
   "source": [
    "Import Package"
   ]
  },
  {
   "cell_type": "code",
   "execution_count": 2,
   "metadata": {},
   "outputs": [],
   "source": [
    "import torch\n",
    "import numpy as np\n",
    "import matplotlib.pyplot as plt\n",
    "import autograd.numpy as np\n",
    "from autograd import grad\n",
    "import pyamg\n",
    "import dmg.gallery as gallery\n",
    "import dmg.dgmg as dgmg\n",
    "import dmg.gmg_linear as gmg_linear\n",
    "import dmg.classical_amg as classical_amg\n",
    "from mpl_toolkits.mplot3d import Axes3D\n",
    "import xlsxwriter\n",
    "from scipy.ndimage import convolve"
   ]
  },
  {
   "cell_type": "markdown",
   "metadata": {},
   "source": [
    "Define function"
   ]
  },
  {
   "cell_type": "code",
   "execution_count": 3,
   "metadata": {},
   "outputs": [],
   "source": [
    "def Restriction(inputsize):\n",
    "    inputsize = int(inputsize)\n",
    "    sqrtinputsize = int(np.sqrt(inputsize))     \n",
    "    sqrtoutputsize = int(sqrtinputsize/2)\n",
    "    outputsize = int(sqrtoutputsize**2)\n",
    "    OUTPUT = np.zeros([outputsize, inputsize])\n",
    "    for j in range(sqrtoutputsize):\n",
    "        for i in range(sqrtoutputsize):\n",
    "            OUTPUT[i+sqrtoutputsize*j][2*i+j*2*sqrtinputsize] = 1/16\n",
    "            OUTPUT[i+sqrtoutputsize*j][1+2*i+j*2*sqrtinputsize] = 1/8\n",
    "            OUTPUT[i+sqrtoutputsize*j][2+2*i+j*2*sqrtinputsize] = 1/16\n",
    "            OUTPUT[i+sqrtoutputsize*j][sqrtinputsize +\n",
    "                                       2*i+j*2*sqrtinputsize] = 1/8\n",
    "            OUTPUT[i+sqrtoutputsize*j][1+sqrtinputsize +\n",
    "                                       2*i+j*2*sqrtinputsize] = 1/4\n",
    "            OUTPUT[i+sqrtoutputsize*j][2+sqrtinputsize +\n",
    "                                       2*i+j*2*sqrtinputsize] = 1/8\n",
    "            OUTPUT[i+sqrtoutputsize*j][2*sqrtinputsize +\n",
    "                                       2*i+j*2*sqrtinputsize] = 1/16\n",
    "            OUTPUT[i+sqrtoutputsize*j][1+2 *\n",
    "                                       sqrtinputsize + 2*i+j*2*sqrtinputsize] = 1/8\n",
    "            OUTPUT[i+sqrtoutputsize*j][2+2 *\n",
    "                                       sqrtinputsize+2*i+j*2*sqrtinputsize] = 1/16\n",
    "    return OUTPUT\n",
    "\n",
    "def Poisson(inputsize):\n",
    "    inputsize = int(inputsize)\n",
    "    sqrtinputsize = int(np.sqrt(inputsize))     \n",
    "    sqrtoutputsize = int(sqrtinputsize/2)\n",
    "    outputsize = int(sqrtoutputsize**2)\n",
    "    OUTPUT = np.zeros([outputsize, inputsize])\n",
    "    A1 = 2*np.eye(sqrtinputsize)\n",
    "    for i in range(sqrtinputsize-1):\n",
    "        A1[i, i+1] = -1\n",
    "        A1[i+1, i] = -1\n",
    "    I = np.eye(sqrtinputsize)\n",
    "    OUTPUT = (np.kron(I, A1)+np.kron(A1, I))\n",
    "    return OUTPUT\n",
    "\n",
    "\n",
    "def Multigrid_circle(inputsize, A_A, B, R_A, s, w, error):\n",
    "    A = np.matrix(A_A)\n",
    "    P = 4.*np.transpose(R_A)\n",
    "    R = np.matrix(R_A)\n",
    "    M = np.matrix(w**(-1)*np.diag(np.diag(A)))\n",
    "    K = M - A\n",
    "    C = np.linalg.inv(M)*K\n",
    "    b = np.linalg.inv(M)*B\n",
    "    U0 = np.matrix(np.zeros([inputsize, 1]))\n",
    "    RESIDUAL = []\n",
    "    Residual=1\n",
    "    i=0\n",
    "    while Residual > error:\n",
    "        for j in range(s):\n",
    "            U0 = C*U0+b\n",
    "        r = B - A*U0\n",
    "        Residual = np.linalg.norm(r,2)\n",
    "        rc = R*r\n",
    "        Ac = R*A*P\n",
    "        Uc = np.linalg.solve(Ac, rc)\n",
    "        U = U0 + P*Uc\n",
    "        for k in range(s):\n",
    "            U = C*U+b\n",
    "        U0 = U\n",
    "        RESIDUAL.append(Residual)\n",
    "        i=i+1\n",
    "        print(\"Residual = {}\".format(Residual))\n",
    "        print(\"Interation = {}\".format(i))\n",
    "        print(\"===================\")\n",
    "    return U0, RESIDUAL\n",
    "\n",
    "def rho(inputsize,A,P,R,w,s):\n",
    "    M = (w**(-1)) * np.diag(np.diag(A))\n",
    "    K = M - A\n",
    "    MK = np.matmul(np.linalg.inv(M),K)\n",
    "    I = np.eye(inputsize)\n",
    "    IPRAPRA = I - np.matmul(np.matmul(np.matmul(P,np.linalg.inv(np.matmul(np.matmul(R,A),P))),R),A)\n",
    "    C = np.matmul(np.matmul(MK,IPRAPRA),MK)\n",
    "    for i in range(5):\n",
    "        C = np.matmul(C,C)\n",
    "    radius = np.linalg.norm(C)**(1/32)\n",
    "    return radius\n",
    "\n",
    "def optimizer_GD(inputsize, A1, R, w, s, learning_rate, lam):\n",
    "    rhoold = rho(inputsize,A1,4*np.transpose(R),R,w,s)\n",
    "    device = torch.device('cpu')\n",
    "    R = torch.tensor(R,dtype = torch.double, requires_grad=True,device=device)\n",
    "    w = torch.tensor(w,dtype = torch.double, requires_grad=True, device=device)\n",
    "    lam = torch.tensor(lam,dtype = torch.double, requires_grad=True, device=device)\n",
    "    A = torch.tensor(A1,dtype = torch.double, device=device)\n",
    "    P = 4*torch.t(R)\n",
    "    M = (w**(-1)) * torch.diag(torch.diag(A))\n",
    "    K = M - A\n",
    "    MK = torch.mm(torch.inverse(M),K)\n",
    "    I = torch.eye(inputsize,dtype = torch.double, device=device)\n",
    "    I1 = torch.ones([inputsize,1],dtype = torch.double, device=device)\n",
    "    I2 = torch.ones([outputsize,1],dtype = torch.double, device=device)\n",
    "    IPRAPRA = I - torch.mm(torch.mm(torch.mm(P,torch.inverse(torch.mm(torch.mm(R,A),P))),R),A)\n",
    "    C = torch.mm(torch.mm(MK,IPRAPRA),MK)\n",
    "    for i in range(5):\n",
    "        C = torch.mm(C,C)\n",
    "    loss = torch.norm(C)**(1/32) + torch.mm(lam,torch.mm(R,I1) - I2)\n",
    "    loss.backward()\n",
    "    with torch.no_grad():\n",
    "        R-=learning_rate*R.grad\n",
    "        w-=learning_rate*w.grad \n",
    "        lam-=learning_rate*lam.grad\n",
    "    R = R.detach().numpy()\n",
    "    w = w.detach().numpy()\n",
    "    lam = lam.detach().numpy()\n",
    "    rhonew = rho(inputsize,A1,4*np.transpose(R),R,w,s)\n",
    "    return R, w, lam, rhoold, rhonew\n",
    "\n",
    "def direct_optimizer_GD(inputsize, A0, A1, R, w, s, learning_rate, lam):\n",
    "    Rhoold = rho(inputsize,A1,4*np.transpose(R),R,w,s)\n",
    "    Rhonew = [Rhoold]\n",
    "    for i in range(100):\n",
    "        Rnew, wnew, lamnew, rhoold, rhonew = optimizer_GD(inputsize, A1, R, w, s, learning_rate, lam)\n",
    "        R = Rnew\n",
    "        w = wnew\n",
    "        lam = lamnew\n",
    "        print(\"rho = {}\".format(rhonew))\n",
    "        print(\"===================\")\n",
    "        Rhonew.append(rhonew)\n",
    "        i+=1\n",
    "    print(\"======End======\")\n",
    "    return R, w, Rhoold, Rhonew\n",
    "\n",
    "def homotopy_optimizer_GD(inputsize, A0, A1, R, w, s, learning_rate ,accept_radius ,step_length,lam):\n",
    "    Rhoold = rho(inputsize,A1,4*np.transpose(R),R,w,s)\n",
    "    Radius = [Rhoold]\n",
    "    L = step_length\n",
    "    print(\"======Section 1======\")\n",
    "    while L < 1:\n",
    "        M = (1-L)*A0 + L*A1\n",
    "        Rnew, wnew, lamnew, rhoold, rhonew = optimizer_GD(inputsize, M, R, w, s, learning_rate, lam)\n",
    "        Radius.append(rhonew)\n",
    "        if rhonew > accept_radius:\n",
    "            step_length = 0.1*step_length\n",
    "            learning_rate = 0.1*learning_rate\n",
    "            print('Decrease the step_length, learning_rate and Restart!!')\n",
    "            print(\"step_length = {}\".format(step_length))      \n",
    "            print(\"learning_rate = {}\".format(learning_rate))\n",
    "            print(\"rhonew = {}\".format(rhonew))\n",
    "            print(\"===================\")\n",
    "            R = Restriction(inputsize)\n",
    "            lam = np.zeros([1,outputsize])\n",
    "            w = 2/3\n",
    "            L = step_length\n",
    "        else:\n",
    "            R = Rnew\n",
    "            w = wnew\n",
    "            L += step_length\n",
    "            lam = lamnew\n",
    "            print(\"L = {}\".format(L))\n",
    "            print(\"rho = {}\".format(rhonew))\n",
    "            print(\"===================\")\n",
    "    print(\"======Section 2======\")\n",
    "    i = 0\n",
    "    while rhoold>rhonew and i <100:\n",
    "        Rnew, wnew, lamnew, rhoold, rhonew = optimizer_GD(inputsize, A1, R, w, s, learning_rate, lam)\n",
    "        Radius.append(rhonew)\n",
    "        R = Rnew\n",
    "        w = wnew\n",
    "        lam = lamnew\n",
    "        print(\"the {} steps\".format(i))\n",
    "        print(\"rho = {}\".format(rhonew))\n",
    "        print(\"===================\")\n",
    "        i+=1            \n",
    "    Rhonew = rhonew\n",
    "    print(\"======End======\")\n",
    "    return R, w, Rhoold, Rhonew, Radius"
   ]
  },
  {
   "cell_type": "markdown",
   "metadata": {},
   "source": [
    "Define parameter"
   ]
  },
  {
   "cell_type": "code",
   "execution_count": 4,
   "metadata": {},
   "outputs": [
    {
     "name": "stdout",
     "output_type": "stream",
     "text": [
      "Linear = 0.1948941342912276\n"
     ]
    }
   ],
   "source": [
    "s = 1\n",
    "w = 2/3\n",
    "error=10e-11\n",
    "def u_real(x, y): return np.sin(np.pi*3*x)*np.sin(np.pi*5*y)\n",
    "def rightf(x, y): return  34*np.pi**2*(1 + (2 + np.cos(np.pi*x))/(2 + np.cos(np.pi*y)) + (2 + np.cos(5*np.pi*x))/(2 + np.cos(5*np.pi*y)))*np.sin(3*np.pi*x)*np.sin(5*np.pi*y) - 3*np.pi*np.cos(3*np.pi*x)*(-((np.pi*np.sin(np.pi*x))/(2 + np.cos(np.pi*y))) - (5*np.pi*np.sin(5*np.pi*x))/(2 + np.cos(5*np.pi*y)))*np.sin(5*np.pi*y) - 5*np.pi*np.cos(5*np.pi*y)*np.sin(3*np.pi*x)*((np.pi*(2 + np.cos(np.pi*x))*np.sin(np.pi*y))/(2 + np.cos(np.pi*y))**2 + (5*np.pi*(2 + np.cos(5*np.pi*x))*np.sin(5*np.pi*y))/(2 + np.cos(5*np.pi*y))**2)\n",
    "def a(x,y): return(1 + (2 + np.cos(np.pi*x))/(2 + np.cos(np.pi*y)) + (2 + np.cos(5*np.pi*x))/(2 + np.cos(5*np.pi*y)))\n",
    "\n",
    "sqrtinputsize = int(np.sqrt(inputsize))     \n",
    "sqrtoutputsize = int(sqrtinputsize/2)\n",
    "outputsize = int(sqrtoutputsize**2)\n",
    "h = 1/(sqrtinputsize-1)\n",
    "H = 1/(sqrtoutputsize-1)\n",
    "A0 = Poisson(inputsize)\n",
    "num_levels=2\n",
    "n=sqrtinputsize\n",
    "kx = np.zeros([n,n+1])\n",
    "ky = np.zeros([n+1,n])\n",
    "for i in range(n):\n",
    "    for j in range(n+1):\n",
    "        kx[i][j] = a((j-0.5)*h,i*h)\n",
    "for i in range(n+1):\n",
    "    for j in range(n):\n",
    "        ky[i][j] = a(j*h,(i-0.5)*h)    \n",
    "A1 = gallery.nonlinearPoisson((n,n), kx, ky)\n",
    "n = inputsize\n",
    "linear_gmg = gmg_linear.LinearGMG(A1, max_levels=num_levels)\n",
    "print(\"Linear = {}\".format(linear_gmg.compute_rho()))\n",
    "[X, Y] = np.meshgrid(np.linspace(0, 1, sqrtinputsize),np.linspace(0, 1, sqrtinputsize))\n",
    "RightF = rightf(X,Y)*h**2\n",
    "RightF = RightF.reshape(inputsize, 1)\n",
    "Ureal = u_real(X,Y).reshape(inputsize, 1)\n",
    "Media = a(X,Y)\n",
    "R = Restriction(inputsize)\n",
    "P = 4*np.transpose(R)"
   ]
  },
  {
   "cell_type": "markdown",
   "metadata": {},
   "source": [
    "GMM on fine grid"
   ]
  },
  {
   "cell_type": "code",
   "execution_count": 5,
   "metadata": {
    "scrolled": false
   },
   "outputs": [
    {
     "name": "stdout",
     "output_type": "stream",
     "text": [
      "Residual = 26.78546912825089\n",
      "Interation = 1\n",
      "===================\n",
      "Residual = 4.232012799341118\n",
      "Interation = 2\n",
      "===================\n",
      "Residual = 1.172767016940568\n",
      "Interation = 3\n",
      "===================\n",
      "Residual = 0.3626699323200713\n",
      "Interation = 4\n",
      "===================\n",
      "Residual = 0.12214979472449268\n",
      "Interation = 5\n",
      "===================\n",
      "Residual = 0.043416126431714934\n",
      "Interation = 6\n",
      "===================\n",
      "Residual = 0.0159250712452919\n",
      "Interation = 7\n",
      "===================\n",
      "Residual = 0.005955090537734903\n",
      "Interation = 8\n",
      "===================\n",
      "Residual = 0.002255978909846059\n",
      "Interation = 9\n",
      "===================\n",
      "Residual = 0.0008627808034979355\n",
      "Interation = 10\n",
      "===================\n",
      "Residual = 0.00033238291507857427\n",
      "Interation = 11\n",
      "===================\n",
      "Residual = 0.00012879927840546011\n",
      "Interation = 12\n",
      "===================\n",
      "Residual = 5.015204964479687e-05\n",
      "Interation = 13\n",
      "===================\n",
      "Residual = 1.9609945841758344e-05\n",
      "Interation = 14\n",
      "===================\n",
      "Residual = 7.69669813584738e-06\n",
      "Interation = 15\n",
      "===================\n",
      "Residual = 3.031747216636597e-06\n",
      "Interation = 16\n",
      "===================\n",
      "Residual = 1.1984914528536273e-06\n",
      "Interation = 17\n",
      "===================\n",
      "Residual = 4.755317334320199e-07\n",
      "Interation = 18\n",
      "===================\n",
      "Residual = 1.894163004963449e-07\n",
      "Interation = 19\n",
      "===================\n",
      "Residual = 7.576468980793866e-08\n",
      "Interation = 20\n",
      "===================\n",
      "Residual = 3.044111957939249e-08\n",
      "Interation = 21\n",
      "===================\n",
      "Residual = 1.2289448006711281e-08\n",
      "Interation = 22\n",
      "===================\n",
      "Residual = 4.986591145528288e-09\n",
      "Interation = 23\n",
      "===================\n",
      "Residual = 2.0341009571190043e-09\n",
      "Interation = 24\n",
      "===================\n",
      "Residual = 8.342587714856683e-10\n",
      "Interation = 25\n",
      "===================\n",
      "Residual = 3.440433172153207e-10\n",
      "Interation = 26\n",
      "===================\n",
      "Residual = 1.4265329613894614e-10\n",
      "Interation = 27\n",
      "===================\n",
      "Residual = 5.946246814722838e-11\n",
      "Interation = 28\n",
      "===================\n"
     ]
    }
   ],
   "source": [
    "GMM_U, GMM_Res = Multigrid_circle(inputsize, A1.to_full(), RightF, R, s, w, error)"
   ]
  },
  {
   "cell_type": "markdown",
   "metadata": {},
   "source": [
    "Error GMM on fine grid"
   ]
  },
  {
   "cell_type": "code",
   "execution_count": 6,
   "metadata": {
    "scrolled": false
   },
   "outputs": [
    {
     "name": "stdout",
     "output_type": "stream",
     "text": [
      "Energy norm: \n",
      "3.6630120709450886\n",
      "L2 norm: \n",
      "0.1897975918044887\n",
      "H1 norm: \n",
      "1.9822528045841608\n",
      "Energy norm: \n",
      "0.23019743351187122\n",
      "L2 norm: \n",
      "0.3795951836089774\n",
      "H1 norm: \n",
      "0.2280347787609475\n"
     ]
    }
   ],
   "source": [
    "UREAL = Ureal.reshape(sqrtinputsize,sqrtinputsize)\n",
    "GMMU = GMM_U.reshape(sqrtinputsize,sqrtinputsize)\n",
    "deltaU = GMMU - UREAL\n",
    "energynorm = np.sqrt(np.sum(np.multiply(np.multiply(np.gradient(UREAL,h,axis=0),np.gradient(UREAL,h,axis=0)),Media)*(h**2))+np.sum(np.multiply(np.multiply(np.gradient(UREAL,h,axis=1),np.gradient(UREAL,h,axis=1)),Media)*(h**2)))\n",
    "l2norm = np.sqrt((np.linalg.norm(UREAL)**2)*(h**2))\n",
    "h1norm = np.sqrt((np.linalg.norm(np.gradient(UREAL,h,axis=0))**2+np.linalg.norm(np.gradient(UREAL,h,axis=1))**2+np.linalg.norm(UREAL)**2)*(h**2))\n",
    "\n",
    "print('Energy norm: ')\n",
    "print(np.sqrt(np.sum(np.multiply(np.multiply(np.gradient(deltaU,h,axis=0),np.gradient(deltaU,h,axis=0)),Media)*(h**2))+np.sum(np.multiply(np.multiply(np.gradient(deltaU,h,axis=1),np.gradient(deltaU,h,axis=1)),Media)*(h**2))))\n",
    "print('L2 norm: ')\n",
    "print(np.sqrt((np.linalg.norm(deltaU)**2)*(h**2)))\n",
    "print('H1 norm: ')\n",
    "print(np.sqrt((np.linalg.norm(np.gradient(deltaU,h,axis=0))**2+np.linalg.norm(np.gradient(deltaU,h,axis=1))**2+np.linalg.norm(deltaU)**2)*(h**2)))\n",
    "\n",
    "print('Energy norm: ')\n",
    "print(np.sqrt(np.sum(np.multiply(np.multiply(np.gradient(deltaU,h,axis=0),np.gradient(deltaU,h,axis=0)),Media)*(h**2))+np.sum(np.multiply(np.multiply(np.gradient(deltaU,h,axis=1),np.gradient(deltaU,h,axis=1)),Media)*(h**2)))/energynorm)\n",
    "print('L2 norm: ')\n",
    "print(np.sqrt((np.linalg.norm(deltaU)**2)*(h**2))/l2norm)\n",
    "print('H1 norm: ')\n",
    "print(np.sqrt((np.linalg.norm(np.gradient(deltaU,h,axis=0))**2+np.linalg.norm(np.gradient(deltaU,h,axis=1))**2+np.linalg.norm(deltaU)**2)*(h**2))/h1norm)"
   ]
  },
  {
   "cell_type": "markdown",
   "metadata": {},
   "source": [
    "Solution"
   ]
  },
  {
   "cell_type": "code",
   "execution_count": 7,
   "metadata": {},
   "outputs": [
    {
     "data": {
      "text/plain": [
       "<matplotlib.colorbar.Colorbar at 0x122cbc710>"
      ]
     },
     "execution_count": 7,
     "metadata": {},
     "output_type": "execute_result"
    },
    {
     "data": {
      "image/png": "[encoded data removed]",
      "text/plain": [
       "<Figure size 432x288 with 2 Axes>"
      ]
     },
     "metadata": {
      "needs_background": "light"
     },
     "output_type": "display_data"
    }
   ],
   "source": [
    "plt.imshow(GMM_U.reshape(sqrtinputsize,sqrtinputsize))\n",
    "plt.colorbar()"
   ]
  },
  {
   "cell_type": "markdown",
   "metadata": {},
   "source": [
    "Residual"
   ]
  },
  {
   "cell_type": "code",
   "execution_count": 8,
   "metadata": {},
   "outputs": [
    {
     "data": {
      "text/plain": [
       "[<matplotlib.lines.Line2D at 0x122dacba8>]"
      ]
     },
     "execution_count": 8,
     "metadata": {},
     "output_type": "execute_result"
    },
    {
     "data": {
      "image/png": "[encoded data removed]",
      "text/plain": [
       "<Figure size 432x288 with 1 Axes>"
      ]
     },
     "metadata": {
      "needs_background": "light"
     },
     "output_type": "display_data"
    }
   ],
   "source": [
    "plt.semilogy(GMM_Res)"
   ]
  },
  {
   "cell_type": "markdown",
   "metadata": {},
   "source": [
    "Radius"
   ]
  },
  {
   "cell_type": "code",
   "execution_count": 9,
   "metadata": {},
   "outputs": [
    {
     "name": "stdout",
     "output_type": "stream",
     "text": [
      "GMM_Radius = 0.4477893707816533\n"
     ]
    }
   ],
   "source": [
    "GMM_Radius = rho(inputsize,A1.to_full(),4*np.transpose(R),R,w,s)\n",
    "print('GMM_Radius = {}'.format(GMM_Radius))"
   ]
  },
  {
   "cell_type": "markdown",
   "metadata": {},
   "source": [
    "Global DMM optimization"
   ]
  },
  {
   "cell_type": "code",
   "execution_count": 10,
   "metadata": {},
   "outputs": [
    {
     "name": "stdout",
     "output_type": "stream",
     "text": [
      "======Section 1======\n",
      "L = 0.02\n",
      "rho = 0.44624383572407794\n",
      "===================\n",
      "L = 0.03\n",
      "rho = 0.4462053042135172\n",
      "===================\n",
      "L = 0.04\n",
      "rho = 0.4461685146202902\n",
      "===================\n",
      "L = 0.05\n",
      "rho = 0.44613321600349476\n",
      "===================\n",
      "L = 0.060000000000000005\n",
      "rho = 0.44609919119863706\n",
      "===================\n",
      "L = 0.07\n",
      "rho = 0.44606625173008657\n",
      "===================\n",
      "L = 0.08\n",
      "rho = 0.4460342336049656\n",
      "===================\n",
      "L = 0.09\n",
      "rho = 0.4460029938130039\n",
      "===================\n",
      "L = 0.09999999999999999\n",
      "rho = 0.44597240739665084\n",
      "===================\n",
      "L = 0.10999999999999999\n",
      "rho = 0.4459423649853637\n",
      "===================\n",
      "L = 0.11999999999999998\n",
      "rho = 0.44591277071036106\n",
      "===================\n",
      "L = 0.12999999999999998\n",
      "rho = 0.44588354043320383\n",
      "===================\n",
      "L = 0.13999999999999999\n",
      "rho = 0.4458546002347432\n",
      "===================\n",
      "L = 0.15\n",
      "rho = 0.4458258851212321\n",
      "===================\n",
      "L = 0.16\n",
      "rho = 0.445797337912461\n",
      "===================\n",
      "L = 0.17\n",
      "rho = 0.4457689082831584\n",
      "===================\n",
      "L = 0.18000000000000002\n",
      "rho = 0.44574055193398726\n",
      "===================\n",
      "L = 0.19000000000000003\n",
      "rho = 0.4457122298725579\n",
      "===================\n",
      "L = 0.20000000000000004\n",
      "rho = 0.445683907788179\n",
      "===================\n",
      "L = 0.21000000000000005\n",
      "rho = 0.4456555555067536\n",
      "===================\n",
      "L = 0.22000000000000006\n",
      "rho = 0.4456271465144208\n",
      "===================\n",
      "L = 0.23000000000000007\n",
      "rho = 0.445598657540344\n",
      "===================\n",
      "L = 0.24000000000000007\n",
      "rho = 0.44557006819053546\n",
      "===================\n",
      "L = 0.25000000000000006\n",
      "rho = 0.44554136062583705\n",
      "===================\n",
      "L = 0.26000000000000006\n",
      "rho = 0.44551251927820235\n",
      "===================\n",
      "L = 0.2700000000000001\n",
      "rho = 0.4454835306002857\n",
      "===================\n",
      "L = 0.2800000000000001\n",
      "rho = 0.4454543828440578\n",
      "===================\n",
      "L = 0.2900000000000001\n",
      "rho = 0.4454250658647761\n",
      "===================\n",
      "L = 0.3000000000000001\n",
      "rho = 0.445395570947148\n",
      "===================\n",
      "L = 0.3100000000000001\n",
      "rho = 0.44536589065095755\n",
      "===================\n",
      "L = 0.3200000000000001\n",
      "rho = 0.44533601867379524\n",
      "===================\n",
      "L = 0.3300000000000001\n",
      "rho = 0.44530594972884274\n",
      "===================\n",
      "L = 0.34000000000000014\n",
      "rho = 0.44527567943593305\n",
      "===================\n",
      "L = 0.35000000000000014\n",
      "rho = 0.4452452042243373\n",
      "===================\n",
      "L = 0.36000000000000015\n",
      "rho = 0.445214521245924\n",
      "===================\n",
      "L = 0.37000000000000016\n",
      "rho = 0.44518362829750924\n",
      "===================\n",
      "L = 0.38000000000000017\n",
      "rho = 0.44515252375136116\n",
      "===================\n",
      "L = 0.3900000000000002\n",
      "rho = 0.44512120649294895\n",
      "===================\n",
      "L = 0.4000000000000002\n",
      "rho = 0.4450896758651381\n",
      "===================\n",
      "L = 0.4100000000000002\n",
      "rho = 0.4450579316181257\n",
      "===================\n",
      "L = 0.4200000000000002\n",
      "rho = 0.4450259738644972\n",
      "===================\n",
      "L = 0.4300000000000002\n",
      "rho = 0.44499380303885455\n",
      "===================\n",
      "L = 0.4400000000000002\n",
      "rho = 0.4449614198615315\n",
      "===================\n",
      "L = 0.45000000000000023\n",
      "rho = 0.4449288253059639\n",
      "===================\n",
      "L = 0.46000000000000024\n",
      "rho = 0.4448960205693378\n",
      "===================\n",
      "L = 0.47000000000000025\n",
      "rho = 0.44486300704617177\n",
      "===================\n",
      "L = 0.48000000000000026\n",
      "rho = 0.44482978630453607\n",
      "===================\n",
      "L = 0.49000000000000027\n",
      "rho = 0.44479636006463735\n",
      "===================\n",
      "L = 0.5000000000000002\n",
      "rho = 0.44476273017953205\n",
      "===================\n",
      "L = 0.5100000000000002\n",
      "rho = 0.4447288986177532\n",
      "===================\n",
      "L = 0.5200000000000002\n",
      "rho = 0.4446948674476609\n",
      "===================\n",
      "L = 0.5300000000000002\n",
      "rho = 0.4446606388233452\n",
      "===================\n",
      "L = 0.5400000000000003\n",
      "rho = 0.4446262149719288\n",
      "===================\n",
      "L = 0.5500000000000003\n",
      "rho = 0.4445915981821324\n",
      "===================\n",
      "L = 0.5600000000000003\n",
      "rho = 0.4445567907939804\n",
      "===================\n",
      "L = 0.5700000000000003\n",
      "rho = 0.44452179518953544\n",
      "===================\n",
      "L = 0.5800000000000003\n",
      "rho = 0.44448661378456383\n",
      "===================\n",
      "L = 0.5900000000000003\n",
      "rho = 0.44445124902104177\n",
      "===================\n",
      "L = 0.6000000000000003\n",
      "rho = 0.44441570336042224\n",
      "===================\n",
      "L = 0.6100000000000003\n",
      "rho = 0.4443799792775912\n",
      "===================\n",
      "L = 0.6200000000000003\n",
      "rho = 0.4443440792554453\n",
      "===================\n",
      "L = 0.6300000000000003\n",
      "rho = 0.444308005780035\n",
      "===================\n",
      "L = 0.6400000000000003\n",
      "rho = 0.44427176133621893\n",
      "===================\n",
      "L = 0.6500000000000004\n",
      "rho = 0.4442353484037799\n",
      "===================\n",
      "L = 0.6600000000000004\n",
      "rho = 0.4441987694539622\n",
      "===================\n",
      "L = 0.6700000000000004\n",
      "rho = 0.44416202694638773\n",
      "===================\n",
      "L = 0.6800000000000004\n",
      "rho = 0.4441251233263172\n",
      "===================\n",
      "L = 0.6900000000000004\n",
      "rho = 0.4440880610222247\n",
      "===================\n",
      "L = 0.7000000000000004\n",
      "rho = 0.44405084244365367\n",
      "===================\n",
      "L = 0.7100000000000004\n",
      "rho = 0.44401346997933133\n",
      "===================\n",
      "L = 0.7200000000000004\n",
      "rho = 0.443975945995515\n",
      "===================\n",
      "L = 0.7300000000000004\n",
      "rho = 0.44393827283454895\n",
      "===================\n",
      "L = 0.7400000000000004\n",
      "rho = 0.4439004528136132\n",
      "===================\n",
      "L = 0.7500000000000004\n",
      "rho = 0.443862488223645\n",
      "===================\n",
      "L = 0.7600000000000005\n",
      "rho = 0.4438243813284169\n",
      "===================\n",
      "L = 0.7700000000000005\n",
      "rho = 0.44378613436375686\n",
      "===================\n",
      "L = 0.7800000000000005\n",
      "rho = 0.44374774953689705\n",
      "===================\n",
      "L = 0.7900000000000005\n",
      "rho = 0.44370922902593823\n",
      "===================\n",
      "L = 0.8000000000000005\n",
      "rho = 0.44367057497941925\n",
      "===================\n",
      "L = 0.8100000000000005\n",
      "rho = 0.44363178951598176\n",
      "===================\n",
      "L = 0.8200000000000005\n",
      "rho = 0.44359287472411935\n",
      "===================\n",
      "L = 0.8300000000000005\n",
      "rho = 0.44355383266200477\n",
      "===================\n",
      "L = 0.8400000000000005\n",
      "rho = 0.443514665357386\n",
      "===================\n",
      "L = 0.8500000000000005\n",
      "rho = 0.44347537480754473\n",
      "===================\n",
      "L = 0.8600000000000005\n",
      "rho = 0.443435962979311\n",
      "===================\n",
      "L = 0.8700000000000006\n",
      "rho = 0.44339643180912786\n",
      "===================\n",
      "L = 0.8800000000000006\n",
      "rho = 0.4433567832031613\n",
      "===================\n",
      "L = 0.8900000000000006\n",
      "rho = 0.4433170190374495\n",
      "===================\n",
      "L = 0.9000000000000006\n",
      "rho = 0.4432771411580891\n",
      "===================\n",
      "L = 0.9100000000000006\n",
      "rho = 0.44323715138145164\n",
      "===================\n",
      "L = 0.9200000000000006\n",
      "rho = 0.4431970514944296\n",
      "===================\n",
      "L = 0.9300000000000006\n",
      "rho = 0.44315684325470645\n",
      "===================\n",
      "L = 0.9400000000000006\n",
      "rho = 0.443116528391048\n",
      "===================\n",
      "L = 0.9500000000000006\n",
      "rho = 0.4430761086036143\n",
      "===================\n",
      "L = 0.9600000000000006\n",
      "rho = 0.4430355855642865\n",
      "===================\n",
      "L = 0.9700000000000006\n",
      "rho = 0.44299496091700913\n",
      "===================\n",
      "L = 0.9800000000000006\n",
      "rho = 0.4429542362781442\n",
      "===================\n",
      "L = 0.9900000000000007\n",
      "rho = 0.4429134132368351\n",
      "===================\n",
      "L = 1.0000000000000007\n",
      "rho = 0.4428724933553803\n",
      "===================\n",
      "======Section 2======\n",
      "the 0 steps\n",
      "rho = 0.4428314781696138\n",
      "===================\n",
      "the 1 steps\n",
      "rho = 0.44278185630546035\n",
      "===================\n",
      "the 2 steps\n",
      "rho = 0.4427322525474336\n",
      "===================\n",
      "the 3 steps\n",
      "rho = 0.4426826666595155\n",
      "===================\n",
      "the 4 steps\n",
      "rho = 0.4426330984119726\n",
      "===================\n",
      "the 5 steps\n",
      "rho = 0.4425835475811733\n",
      "===================\n",
      "the 6 steps\n",
      "rho = 0.44253401394941067\n",
      "===================\n",
      "the 7 steps\n",
      "rho = 0.4424844973047302\n",
      "===================\n",
      "the 8 steps\n",
      "rho = 0.442434997440764\n",
      "===================\n",
      "the 9 steps\n",
      "rho = 0.44238551415656824\n",
      "===================\n",
      "the 10 steps\n",
      "rho = 0.44233604725646736\n",
      "===================\n",
      "the 11 steps\n",
      "rho = 0.4422865965499016\n",
      "===================\n",
      "the 12 steps\n",
      "rho = 0.44223716185127954\n",
      "===================\n",
      "the 13 steps\n",
      "rho = 0.4421877429798355\n",
      "===================\n",
      "the 14 steps\n",
      "rho = 0.4421383397594906\n",
      "===================\n",
      "the 15 steps\n",
      "rho = 0.44208895201871834\n",
      "===================\n",
      "the 16 steps\n",
      "rho = 0.44203957959041457\n",
      "===================\n",
      "the 17 steps\n",
      "rho = 0.44199022231177\n",
      "===================\n",
      "the 18 steps\n",
      "rho = 0.4419408800241484\n",
      "===================\n",
      "the 19 steps\n",
      "rho = 0.4418915525729667\n",
      "===================\n",
      "the 20 steps\n",
      "rho = 0.44184223980758003\n",
      "===================\n",
      "the 21 steps\n",
      "rho = 0.44179294158116933\n",
      "===================\n",
      "the 22 steps\n",
      "rho = 0.4417436577506326\n",
      "===================\n",
      "the 23 steps\n",
      "rho = 0.4416943881764791\n",
      "===================\n",
      "the 24 steps\n",
      "rho = 0.4416451327227274\n",
      "===================\n",
      "the 25 steps\n",
      "rho = 0.4415958912568056\n",
      "===================\n"
     ]
    },
    {
     "name": "stdout",
     "output_type": "stream",
     "text": [
      "the 26 steps\n",
      "rho = 0.44154666364945483\n",
      "===================\n",
      "the 27 steps\n",
      "rho = 0.44149744977463606\n",
      "===================\n",
      "the 28 steps\n",
      "rho = 0.4414482495094388\n",
      "===================\n",
      "the 29 steps\n",
      "rho = 0.4413990627339932\n",
      "===================\n",
      "the 30 steps\n",
      "rho = 0.4413498893313843\n",
      "===================\n",
      "the 31 steps\n",
      "rho = 0.44130072918756896\n",
      "===================\n",
      "the 32 steps\n",
      "rho = 0.4412515821912955\n",
      "===================\n",
      "the 33 steps\n",
      "rho = 0.4412024482340251\n",
      "===================\n",
      "the 34 steps\n",
      "rho = 0.44115332720985606\n",
      "===================\n",
      "the 35 steps\n",
      "rho = 0.44110421901544994\n",
      "===================\n",
      "the 36 steps\n",
      "rho = 0.44105512354996\n",
      "===================\n",
      "the 37 steps\n",
      "rho = 0.4410060407149618\n",
      "===================\n",
      "the 38 steps\n",
      "rho = 0.4409569704143856\n",
      "===================\n",
      "the 39 steps\n",
      "rho = 0.4409079125544507\n",
      "===================\n",
      "the 40 steps\n",
      "rho = 0.44085886704360255\n",
      "===================\n",
      "the 41 steps\n",
      "rho = 0.44080983379245\n",
      "===================\n",
      "the 42 steps\n",
      "rho = 0.4407608127137061\n",
      "===================\n",
      "the 43 steps\n",
      "rho = 0.4407118037221296\n",
      "===================\n",
      "the 44 steps\n",
      "rho = 0.4406628067344685\n",
      "===================\n",
      "the 45 steps\n",
      "rho = 0.44061382166940516\n",
      "===================\n",
      "the 46 steps\n",
      "rho = 0.4405648484475029\n",
      "===================\n",
      "the 47 steps\n",
      "rho = 0.44051588699115446\n",
      "===================\n",
      "the 48 steps\n",
      "rho = 0.4404669372245314\n",
      "===================\n",
      "the 49 steps\n",
      "rho = 0.44041799907353585\n",
      "===================\n",
      "the 50 steps\n",
      "rho = 0.44036907246575246\n",
      "===================\n",
      "the 51 steps\n",
      "rho = 0.4403201573304028\n",
      "===================\n",
      "the 52 steps\n",
      "rho = 0.4402712535983006\n",
      "===================\n",
      "the 53 steps\n",
      "rho = 0.4402223612018082\n",
      "===================\n",
      "the 54 steps\n",
      "rho = 0.44017348007479445\n",
      "===================\n",
      "the 55 steps\n",
      "rho = 0.4401246101525938\n",
      "===================\n",
      "the 56 steps\n",
      "rho = 0.4400757513719663\n",
      "===================\n",
      "the 57 steps\n",
      "rho = 0.44002690367105934\n",
      "===================\n",
      "the 58 steps\n",
      "rho = 0.43997806698936964\n",
      "===================\n",
      "the 59 steps\n",
      "rho = 0.43992924126770727\n",
      "===================\n",
      "the 60 steps\n",
      "rho = 0.4398804264481598\n",
      "===================\n",
      "the 61 steps\n",
      "rho = 0.4398316224740582\n",
      "===================\n",
      "the 62 steps\n",
      "rho = 0.43978282928994317\n",
      "===================\n",
      "the 63 steps\n",
      "rho = 0.439734046841533\n",
      "===================\n",
      "the 64 steps\n",
      "rho = 0.4396852750756917\n",
      "===================\n",
      "the 65 steps\n",
      "rho = 0.4396365139403984\n",
      "===================\n",
      "the 66 steps\n",
      "rho = 0.4395877633847177\n",
      "===================\n",
      "the 67 steps\n",
      "rho = 0.4395390233587707\n",
      "===================\n",
      "the 68 steps\n",
      "rho = 0.4394902938137069\n",
      "===================\n",
      "the 69 steps\n",
      "rho = 0.43944157470167666\n",
      "===================\n",
      "the 70 steps\n",
      "rho = 0.43939286597580524\n",
      "===================\n",
      "the 71 steps\n",
      "rho = 0.43934416759016626\n",
      "===================\n",
      "the 72 steps\n",
      "rho = 0.4392954794997572\n",
      "===================\n",
      "the 73 steps\n",
      "rho = 0.43924680166047503\n",
      "===================\n",
      "the 74 steps\n",
      "rho = 0.439198134029092\n",
      "===================\n",
      "the 75 steps\n",
      "rho = 0.43914947656323355\n",
      "===================\n",
      "the 76 steps\n",
      "rho = 0.43910082922135496\n",
      "===================\n",
      "the 77 steps\n",
      "rho = 0.4390521919627207\n",
      "===================\n",
      "the 78 steps\n",
      "rho = 0.4390035647473823\n",
      "===================\n",
      "the 79 steps\n",
      "rho = 0.43895494753615855\n",
      "===================\n",
      "the 80 steps\n",
      "rho = 0.4389063402906154\n",
      "===================\n",
      "the 81 steps\n",
      "rho = 0.43885774297304647\n",
      "===================\n",
      "the 82 steps\n",
      "rho = 0.4388091555464542\n",
      "===================\n",
      "the 83 steps\n",
      "rho = 0.4387605779745317\n",
      "===================\n",
      "the 84 steps\n",
      "rho = 0.43871201022164524\n",
      "===================\n",
      "the 85 steps\n",
      "rho = 0.43866345225281617\n",
      "===================\n",
      "the 86 steps\n",
      "rho = 0.43861490403370473\n",
      "===================\n",
      "the 87 steps\n",
      "rho = 0.4385663655305937\n",
      "===================\n",
      "the 88 steps\n",
      "rho = 0.43851783671037226\n",
      "===================\n",
      "the 89 steps\n",
      "rho = 0.43846931754052076\n",
      "===================\n",
      "the 90 steps\n",
      "rho = 0.43842080798909566\n",
      "===================\n",
      "the 91 steps\n",
      "rho = 0.4383723080247149\n",
      "===================\n",
      "the 92 steps\n",
      "rho = 0.43832381761654365\n",
      "===================\n",
      "the 93 steps\n",
      "rho = 0.4382753367342809\n",
      "===================\n",
      "the 94 steps\n",
      "rho = 0.43822686534814537\n",
      "===================\n",
      "the 95 steps\n",
      "rho = 0.4381784034288632\n",
      "===================\n",
      "the 96 steps\n",
      "rho = 0.43812995094765506\n",
      "===================\n",
      "the 97 steps\n",
      "rho = 0.43808150787622346\n",
      "===================\n",
      "the 98 steps\n",
      "rho = 0.4380330741867411\n",
      "===================\n",
      "the 99 steps\n",
      "rho = 0.4379846498518392\n",
      "===================\n",
      "======End======\n"
     ]
    }
   ],
   "source": [
    "Rnew, wnew, Rhoold, Rhonew, Radius = homotopy_optimizer_GD(inputsize, A0, A1.to_full(), R,  2/3, s, \n",
    "                                                           learning_rate = 1e-4,accept_radius =\n",
    "                                                           GMM_Radius*10,step_length = 1e-2, lam = np.zeros([1,outputsize]))"
   ]
  },
  {
   "cell_type": "markdown",
   "metadata": {},
   "source": [
    "Global DMM on fine grid"
   ]
  },
  {
   "cell_type": "code",
   "execution_count": 11,
   "metadata": {},
   "outputs": [
    {
     "name": "stdout",
     "output_type": "stream",
     "text": [
      "Residual = 26.6737810293926\n",
      "Interation = 1\n",
      "===================\n",
      "Residual = 4.069624730698106\n",
      "Interation = 2\n",
      "===================\n",
      "Residual = 1.0927313495784776\n",
      "Interation = 3\n",
      "===================\n",
      "Residual = 0.3294393237544955\n",
      "Interation = 4\n",
      "===================\n",
      "Residual = 0.10846776693581402\n",
      "Interation = 5\n",
      "===================\n",
      "Residual = 0.03769626898359964\n",
      "Interation = 6\n",
      "===================\n",
      "Residual = 0.01351403599953069\n",
      "Interation = 7\n",
      "===================\n",
      "Residual = 0.004937441754180855\n",
      "Interation = 8\n",
      "===================\n",
      "Residual = 0.0018271452491208137\n",
      "Interation = 9\n",
      "===================\n",
      "Residual = 0.000682505195964707\n",
      "Interation = 10\n",
      "===================\n",
      "Residual = 0.00025678051704149384\n",
      "Interation = 11\n",
      "===================\n",
      "Residual = 9.716413519635351e-05\n",
      "Interation = 12\n",
      "===================\n",
      "Residual = 3.6940516292393985e-05\n",
      "Interation = 13\n",
      "===================\n",
      "Residual = 1.410159382278161e-05\n",
      "Interation = 14\n",
      "===================\n",
      "Residual = 5.402993895166844e-06\n",
      "Interation = 15\n",
      "===================\n",
      "Residual = 2.077434995921152e-06\n",
      "Interation = 16\n",
      "===================\n",
      "Residual = 8.01577528017366e-07\n",
      "Interation = 17\n",
      "===================\n",
      "Residual = 3.1041520359675357e-07\n",
      "Interation = 18\n",
      "===================\n",
      "Residual = 1.2067434300212503e-07\n",
      "Interation = 19\n",
      "===================\n",
      "Residual = 4.710680931414932e-08\n",
      "Interation = 20\n",
      "===================\n",
      "Residual = 1.8470784947899303e-08\n",
      "Interation = 21\n",
      "===================\n",
      "Residual = 7.277071906913957e-09\n",
      "Interation = 22\n",
      "===================\n",
      "Residual = 2.881523408505068e-09\n",
      "Interation = 23\n",
      "===================\n",
      "Residual = 1.147048502596611e-09\n",
      "Interation = 24\n",
      "===================\n",
      "Residual = 4.590938851416404e-10\n",
      "Interation = 25\n",
      "===================\n",
      "Residual = 1.8475817063159126e-10\n",
      "Interation = 26\n",
      "===================\n",
      "Residual = 7.476110085047377e-11\n",
      "Interation = 27\n",
      "===================\n"
     ]
    }
   ],
   "source": [
    "DMM_U, DMM_Res = Multigrid_circle(inputsize, A1.to_full(), RightF, Rnew, s, wnew, error)"
   ]
  },
  {
   "cell_type": "markdown",
   "metadata": {},
   "source": [
    "Error DMM on fine grid"
   ]
  },
  {
   "cell_type": "code",
   "execution_count": 12,
   "metadata": {
    "scrolled": false
   },
   "outputs": [
    {
     "name": "stdout",
     "output_type": "stream",
     "text": [
      "Energy norm: \n",
      "3.663012070945486\n",
      "L2 norm: \n",
      "0.1897975918045046\n",
      "H1 norm: \n",
      "1.9822528045843784\n",
      "Energy norm: \n",
      "0.2301974335118962\n",
      "L2 norm: \n",
      "0.3795951836090092\n",
      "H1 norm: \n",
      "0.22803477876097253\n"
     ]
    }
   ],
   "source": [
    "UREAL = Ureal.reshape(sqrtinputsize,sqrtinputsize)\n",
    "DMMU = DMM_U.reshape(sqrtinputsize,sqrtinputsize)\n",
    "deltaU = DMMU - UREAL\n",
    "\n",
    "energynorm = np.sqrt(np.sum(np.multiply(np.multiply(np.gradient(UREAL,h,axis=0),np.gradient(UREAL,h,axis=0)),Media)*(h**2))+np.sum(np.multiply(np.multiply(np.gradient(UREAL,h,axis=1),np.gradient(UREAL,h,axis=1)),Media)*(h**2)))\n",
    "l2norm = np.sqrt((np.linalg.norm(UREAL)**2)*(h**2))\n",
    "h1norm = np.sqrt((np.linalg.norm(np.gradient(UREAL,h,axis=0))**2+np.linalg.norm(np.gradient(UREAL,h,axis=1))**2+np.linalg.norm(UREAL)**2)*(h**2))\n",
    "\n",
    "print('Energy norm: ')\n",
    "print(np.sqrt(np.sum(np.multiply(np.multiply(np.gradient(deltaU,h,axis=0),np.gradient(deltaU,h,axis=0)),Media)*(h**2))+np.sum(np.multiply(np.multiply(np.gradient(deltaU,h,axis=1),np.gradient(deltaU,h,axis=1)),Media)*(h**2))))\n",
    "print('L2 norm: ')\n",
    "print(np.sqrt((np.linalg.norm(deltaU)**2)*(h**2)))\n",
    "print('H1 norm: ')\n",
    "print(np.sqrt((np.linalg.norm(np.gradient(deltaU,h,axis=0))**2+np.linalg.norm(np.gradient(deltaU,h,axis=1))**2+np.linalg.norm(deltaU)**2)*(h**2)))\n",
    "\n",
    "print('Energy norm: ')\n",
    "print(np.sqrt(np.sum(np.multiply(np.multiply(np.gradient(deltaU,h,axis=0),np.gradient(deltaU,h,axis=0)),Media)*(h**2))+np.sum(np.multiply(np.multiply(np.gradient(deltaU,h,axis=1),np.gradient(deltaU,h,axis=1)),Media)*(h**2)))/energynorm)\n",
    "print('L2 norm: ')\n",
    "print(np.sqrt((np.linalg.norm(deltaU)**2)*(h**2))/l2norm)\n",
    "print('H1 norm: ')\n",
    "print(np.sqrt((np.linalg.norm(np.gradient(deltaU,h,axis=0))**2+np.linalg.norm(np.gradient(deltaU,h,axis=1))**2+np.linalg.norm(deltaU)**2)*(h**2))/h1norm)"
   ]
  },
  {
   "cell_type": "markdown",
   "metadata": {},
   "source": [
    "Solution"
   ]
  },
  {
   "cell_type": "code",
   "execution_count": 13,
   "metadata": {},
   "outputs": [
    {
     "data": {
      "text/plain": [
       "<matplotlib.colorbar.Colorbar at 0x11fe66ba8>"
      ]
     },
     "execution_count": 13,
     "metadata": {},
     "output_type": "execute_result"
    },
    {
     "data": {
      "image/png": "[encoded data removed]",
      "text/plain": [
       "<Figure size 432x288 with 2 Axes>"
      ]
     },
     "metadata": {
      "needs_background": "light"
     },
     "output_type": "display_data"
    }
   ],
   "source": [
    "plt.imshow(DMM_U.reshape(sqrtinputsize,sqrtinputsize))\n",
    "plt.colorbar()"
   ]
  },
  {
   "cell_type": "markdown",
   "metadata": {},
   "source": [
    "Residual"
   ]
  },
  {
   "cell_type": "code",
   "execution_count": 14,
   "metadata": {
    "scrolled": true
   },
   "outputs": [
    {
     "data": {
      "text/plain": [
       "[<matplotlib.lines.Line2D at 0x11fe22668>]"
      ]
     },
     "execution_count": 14,
     "metadata": {},
     "output_type": "execute_result"
    },
    {
     "data": {
      "image/png": "[encoded data removed]",
      "text/plain": [
       "<Figure size 432x288 with 1 Axes>"
      ]
     },
     "metadata": {
      "needs_background": "light"
     },
     "output_type": "display_data"
    }
   ],
   "source": [
    "plt.semilogy(DMM_Res)"
   ]
  },
  {
   "cell_type": "markdown",
   "metadata": {},
   "source": [
    "Radius"
   ]
  },
  {
   "cell_type": "code",
   "execution_count": 15,
   "metadata": {},
   "outputs": [
    {
     "name": "stdout",
     "output_type": "stream",
     "text": [
      "DMM_Radius = 0.4379846498518392\n"
     ]
    }
   ],
   "source": [
    "DMM_Radius = Rhonew\n",
    "print('DMM_Radius = {}'.format(DMM_Radius))"
   ]
  },
  {
   "cell_type": "code",
   "execution_count": 16,
   "metadata": {},
   "outputs": [
    {
     "data": {
      "text/plain": [
       "array(0.68028739)"
      ]
     },
     "execution_count": 16,
     "metadata": {},
     "output_type": "execute_result"
    }
   ],
   "source": [
    "wnew"
   ]
  },
  {
   "cell_type": "markdown",
   "metadata": {},
   "source": [
    "Rrestriction matrix after optimization"
   ]
  },
  {
   "cell_type": "code",
   "execution_count": 17,
   "metadata": {},
   "outputs": [
    {
     "data": {
      "text/plain": [
       "<matplotlib.colorbar.Colorbar at 0x12002b9e8>"
      ]
     },
     "execution_count": 17,
     "metadata": {},
     "output_type": "execute_result"
    },
    {
     "data": {
      "image/png": "[encoded data removed]",
      "text/plain": [
       "<Figure size 432x288 with 2 Axes>"
      ]
     },
     "metadata": {
      "needs_background": "light"
     },
     "output_type": "display_data"
    }
   ],
   "source": [
    "plt.imshow(Rnew)\n",
    "plt.colorbar()"
   ]
  },
  {
   "cell_type": "markdown",
   "metadata": {},
   "source": [
    "Rrestriction matrix (log(abs()) after optimization"
   ]
  },
  {
   "cell_type": "code",
   "execution_count": 18,
   "metadata": {},
   "outputs": [
    {
     "data": {
      "text/plain": [
       "<matplotlib.colorbar.Colorbar at 0x10737ae48>"
      ]
     },
     "execution_count": 18,
     "metadata": {},
     "output_type": "execute_result"
    },
    {
     "data": {
      "image/png": "[encoded data removed]",
      "text/plain": [
       "<Figure size 432x288 with 2 Axes>"
      ]
     },
     "metadata": {
      "needs_background": "light"
     },
     "output_type": "display_data"
    }
   ],
   "source": [
    "plt.imshow(np.log(np.abs(Rnew)))\n",
    "plt.colorbar()"
   ]
  },
  {
   "cell_type": "markdown",
   "metadata": {},
   "source": [
    "Basis after optimization"
   ]
  },
  {
   "cell_type": "code",
   "execution_count": 19,
   "metadata": {},
   "outputs": [
    {
     "data": {
      "text/plain": [
       "<matplotlib.colorbar.Colorbar at 0x11fd0c710>"
      ]
     },
     "execution_count": 19,
     "metadata": {},
     "output_type": "execute_result"
    },
    {
     "data": {
      "image/png": "[encoded data removed]",
      "text/plain": [
       "<Figure size 432x288 with 2 Axes>"
      ]
     },
     "metadata": {
      "needs_background": "light"
     },
     "output_type": "display_data"
    }
   ],
   "source": [
    "basis1 = Rnew[int(0.5*outputsize)][:]\n",
    "basis1 = basis1.reshape([sqrtinputsize,sqrtinputsize])\n",
    "plt.imshow(basis1)\n",
    "plt.colorbar()"
   ]
  },
  {
   "cell_type": "code",
   "execution_count": 20,
   "metadata": {},
   "outputs": [
    {
     "data": {
      "image/png": "[encoded data removed]",
      "text/plain": [
       "<Figure size 432x288 with 1 Axes>"
      ]
     },
     "metadata": {
      "needs_background": "light"
     },
     "output_type": "display_data"
    }
   ],
   "source": [
    "from matplotlib import pyplot as plt\n",
    "import numpy as np\n",
    "from mpl_toolkits.mplot3d import Axes3D\n",
    "size=basis1.shape\n",
    "Y=np.arange(0,size[0],1)     \n",
    "X=np.arange(0,size[1],1)\n",
    "\n",
    "X,Y=np.meshgrid(X,Y)    \n",
    "fig=plt.figure()\n",
    "ax=fig.gca(projection='3d') \n",
    "ax.plot_surface(X,Y,np.log(abs(basis1)))\n",
    "plt.show()"
   ]
  },
  {
   "cell_type": "code",
   "execution_count": 21,
   "metadata": {},
   "outputs": [
    {
     "data": {
      "text/plain": [
       "[<matplotlib.lines.Line2D at 0x1203125c0>]"
      ]
     },
     "execution_count": 21,
     "metadata": {},
     "output_type": "execute_result"
    },
    {
     "data": {
      "image/png": "[encoded data removed]",
      "text/plain": [
       "<Figure size 432x288 with 1 Axes>"
      ]
     },
     "metadata": {
      "needs_background": "light"
     },
     "output_type": "display_data"
    }
   ],
   "source": [
    "plt.plot(basis1[:][int(sqrtinputsize/2)])"
   ]
  },
  {
   "cell_type": "markdown",
   "metadata": {},
   "source": [
    "Basis after optimization (log(abs()))"
   ]
  },
  {
   "cell_type": "code",
   "execution_count": 22,
   "metadata": {},
   "outputs": [
    {
     "data": {
      "text/plain": [
       "<matplotlib.colorbar.Colorbar at 0x1201b6978>"
      ]
     },
     "execution_count": 22,
     "metadata": {},
     "output_type": "execute_result"
    },
    {
     "data": {
      "image/png": "[encoded data removed]",
      "text/plain": [
       "<Figure size 432x288 with 2 Axes>"
      ]
     },
     "metadata": {
      "needs_background": "light"
     },
     "output_type": "display_data"
    }
   ],
   "source": [
    "plt.imshow(np.log(np.abs(basis1)))\n",
    "plt.colorbar()"
   ]
  },
  {
   "cell_type": "code",
   "execution_count": 23,
   "metadata": {},
   "outputs": [
    {
     "data": {
      "image/png": "[encoded data removed]",
      "text/plain": [
       "<Figure size 432x288 with 1 Axes>"
      ]
     },
     "metadata": {
      "needs_background": "light"
     },
     "output_type": "display_data"
    }
   ],
   "source": [
    "fig=plt.figure()\n",
    "ax=fig.gca(projection='3d') \n",
    "ax.plot_surface(X,Y,np.log(np.abs(basis1)))\n",
    "plt.show()"
   ]
  },
  {
   "cell_type": "code",
   "execution_count": 24,
   "metadata": {},
   "outputs": [
    {
     "data": {
      "text/plain": [
       "[<matplotlib.lines.Line2D at 0x11fe56940>]"
      ]
     },
     "execution_count": 24,
     "metadata": {},
     "output_type": "execute_result"
    },
    {
     "data": {
      "image/png": "[encoded data removed]",
      "text/plain": [
       "<Figure size 432x288 with 1 Axes>"
      ]
     },
     "metadata": {
      "needs_background": "light"
     },
     "output_type": "display_data"
    }
   ],
   "source": [
    "plt.plot(np.log(np.abs(basis1[:][int(sqrtinputsize/2)])))"
   ]
  },
  {
   "cell_type": "markdown",
   "metadata": {},
   "source": [
    "FEM use basis from global DMM"
   ]
  },
  {
   "cell_type": "code",
   "execution_count": 25,
   "metadata": {},
   "outputs": [
    {
     "name": "stdout",
     "output_type": "stream",
     "text": [
      "Energy norm: \n",
      "7.346418216930321\n",
      "L2 norm: \n",
      "0.35954543361643637\n",
      "H1 norm: \n",
      "3.9834054919502586\n",
      "Energy norm: \n",
      "0.4616765072810398\n",
      "L2 norm: \n",
      "0.7190908672328729\n",
      "H1 norm: \n",
      "0.45824376586647136\n"
     ]
    },
    {
     "data": {
      "image/png": "[encoded data removed]",
      "text/plain": [
       "<Figure size 432x288 with 2 Axes>"
      ]
     },
     "metadata": {
      "needs_background": "light"
     },
     "output_type": "display_data"
    }
   ],
   "source": [
    "\n",
    "Anew = np.zeros([outputsize,outputsize])\n",
    "[X1, Y1] = np.meshgrid(np.linspace(0, 1, sqrtinputsize),np.linspace(0, 1, sqrtinputsize))\n",
    "[X2, Y2] = np.meshgrid(np.linspace(0, 1, sqrtoutputsize),np.linspace(0, 1, sqrtoutputsize))\n",
    "A = a(X1,Y1)\n",
    "for i in range(outputsize):\n",
    "    for j in range(outputsize):\n",
    "        basisi = Rnew[i][:].reshape([sqrtinputsize,sqrtinputsize])\n",
    "        basisj = Rnew[j][:].reshape([sqrtinputsize,sqrtinputsize])\n",
    "        gxbasisi = np.gradient(basisi,axis=0)/h\n",
    "        gybasisi = np.gradient(basisi,axis=1)/h\n",
    "        gxbasisj = np.gradient(basisj,axis=0)/h\n",
    "        gybasisj = np.gradient(basisj,axis=1)/h\n",
    "        Anew[i][j]=(np.sum(A*gxbasisi*gxbasisj)+np.sum(A*gybasisi*gybasisj))*(H**2)\n",
    "        \n",
    "Fnew = np.zeros([outputsize,1])\n",
    "for i in range(outputsize):\n",
    "    basisi = Rnew[i][:].reshape([sqrtinputsize,sqrtinputsize])\n",
    "    F = rightf(X1,Y1)\n",
    "    Fnew[i]=np.sum(F*basisi)*(H**2)\n",
    "    \n",
    "UnewCoarse = np.linalg.solve(Anew,Fnew)\n",
    "Unew = np.zeros([sqrtinputsize,sqrtinputsize])\n",
    "for i in range(outputsize):\n",
    "    basisi = Rnew[i][:].reshape([sqrtinputsize,sqrtinputsize])\n",
    "    Unew = Unew + UnewCoarse[i]*basisi\n",
    "\n",
    "plt.imshow(Unew)\n",
    "plt.colorbar()\n",
    "\n",
    "UREAL = u_real(X1,Y1).reshape(sqrtinputsize,sqrtinputsize)\n",
    "deltaU = Unew - UREAL\n",
    "A = a(X1,Y1)\n",
    "\n",
    "energynorm = np.sqrt(np.sum(np.multiply(np.multiply(np.gradient(UREAL,h,axis=0),np.gradient(UREAL,h,axis=0)),A)*(h**2))+np.sum(np.multiply(np.multiply(np.gradient(UREAL,h,axis=1),np.gradient(UREAL,h,axis=1)),A)*(h**2)))\n",
    "l2norm = np.sqrt((np.sum(UREAL**2))*(h**2))\n",
    "h1norm = np.sqrt((np.linalg.norm(np.gradient(UREAL,h,axis=0))**2+np.linalg.norm(np.gradient(UREAL,h,axis=1))**2+np.linalg.norm(UREAL)**2)*(h**2))\n",
    "print('Energy norm: ')\n",
    "print(np.sqrt(np.sum(np.multiply(np.multiply(np.gradient(deltaU,h,axis=0),np.gradient(deltaU,h,axis=0)),A)*(h**2))+np.sum(np.multiply(np.multiply(np.gradient(deltaU,h,axis=1),np.gradient(deltaU,h,axis=1)),A)*(h**2))))\n",
    "print('L2 norm: ')\n",
    "print(np.sqrt((np.linalg.norm(deltaU)**2)*(h**2)))\n",
    "print('H1 norm: ')\n",
    "print(np.sqrt((np.linalg.norm(np.gradient(deltaU,h,axis=0))**2+np.linalg.norm(np.gradient(deltaU,h,axis=1))**2+np.linalg.norm(deltaU)**2)*(h**2)))\n",
    "\n",
    "\n",
    "\n",
    "print('Energy norm: ')\n",
    "print(np.sqrt(np.sum(np.multiply(np.multiply(np.gradient(deltaU,h,axis=0),np.gradient(deltaU,h,axis=0)),A)*(h**2))+np.sum(np.multiply(np.multiply(np.gradient(deltaU,h,axis=1),np.gradient(deltaU,h,axis=1)),A)*(h**2)))/energynorm)\n",
    "print('L2 norm: ')\n",
    "print(np.sqrt((np.sum(deltaU**2))*(h**2))/l2norm)\n",
    "print('H1 norm: ')\n",
    "print(np.sqrt((np.linalg.norm(np.gradient(deltaU,h,axis=0))**2+np.linalg.norm(np.gradient(deltaU,h,axis=1))**2+np.linalg.norm(deltaU)**2)*(h**2))/h1norm)"
   ]
  },
  {
   "cell_type": "code",
   "execution_count": 26,
   "metadata": {},
   "outputs": [
    {
     "data": {
      "text/plain": [
       "0"
      ]
     },
     "execution_count": 26,
     "metadata": {},
     "output_type": "execute_result"
    }
   ],
   "source": [
    "import os\n",
    "os.system(\"say 'The program has finished, Please check the results'\")"
   ]
  },
  {
   "cell_type": "code",
   "execution_count": null,
   "metadata": {},
   "outputs": [],
   "source": []
  }
 ],
 "metadata": {
  "kernelspec": {
   "display_name": "Python 3",
   "language": "python",
   "name": "python3"
  },
  "language_info": {
   "codemirror_mode": {
    "name": "ipython",
    "version": 3
   },
   "file_extension": ".py",
   "mimetype": "text/x-python",
   "name": "python",
   "nbconvert_exporter": "python",
   "pygments_lexer": "ipython3",
   "version": "3.6.6"
  }
 },
 "nbformat": 4,
 "nbformat_minor": 2
}
