{
 "cells": [
  {
   "cell_type": "markdown",
   "metadata": {},
   "source": [
    "**这个Notebook不需要文件夹中任何一个.py文件, 所有函数在Notebook中定义.**"
   ]
  },
  {
   "cell_type": "markdown",
   "metadata": {},
   "source": [
    "## Package Import"
   ]
  },
  {
   "cell_type": "code",
   "execution_count": 1,
   "metadata": {},
   "outputs": [],
   "source": [
    "import numpy as np\n",
    "import matplotlib.pyplot as plt\n",
    "import autograd.numpy as np\n",
    "from autograd import grad\n",
    "import pyamg\n",
    "import scipy"
   ]
  },
  {
   "cell_type": "markdown",
   "metadata": {},
   "source": [
    "## Define R, P, Poisson, Nonlinear Poisson"
   ]
  },
  {
   "cell_type": "code",
   "execution_count": 2,
   "metadata": {},
   "outputs": [],
   "source": [
    "def Restriction(inputsize):\n",
    "    inputsize = int(inputsize)\n",
    "    sqrtinputsize = int(np.sqrt(inputsize))\n",
    "    outputsize = int((2**(np.log2(np.sqrt(inputsize)+1)-1)-1)**2)\n",
    "    sqrtoutputsize = int(np.sqrt(outputsize))\n",
    "    OUTPUT = np.zeros([outputsize, inputsize])\n",
    "    for j in range(sqrtoutputsize):\n",
    "        for i in range(sqrtoutputsize):\n",
    "            OUTPUT[i+sqrtoutputsize*j][2*i+j*2*sqrtinputsize] = 1/16\n",
    "            OUTPUT[i+sqrtoutputsize*j][1+2*i+j*2*sqrtinputsize] = 1/8\n",
    "            OUTPUT[i+sqrtoutputsize*j][2+2*i+j*2*sqrtinputsize] = 1/16\n",
    "            OUTPUT[i+sqrtoutputsize*j][sqrtinputsize +\n",
    "                                       2*i+j*2*sqrtinputsize] = 1/8\n",
    "            OUTPUT[i+sqrtoutputsize*j][1+sqrtinputsize +\n",
    "                                       2*i+j*2*sqrtinputsize] = 1/4\n",
    "            OUTPUT[i+sqrtoutputsize*j][2+sqrtinputsize +\n",
    "                                       2*i+j*2*sqrtinputsize] = 1/8\n",
    "            OUTPUT[i+sqrtoutputsize*j][2*sqrtinputsize +\n",
    "                                       2*i+j*2*sqrtinputsize] = 1/16\n",
    "            OUTPUT[i+sqrtoutputsize*j][1+2 *\n",
    "                                       sqrtinputsize + 2*i+j*2*sqrtinputsize] = 1/8\n",
    "            OUTPUT[i+sqrtoutputsize*j][2+2 *\n",
    "                                       sqrtinputsize+2*i+j*2*sqrtinputsize] = 1/16\n",
    "    return OUTPUT\n",
    "\n",
    "\n",
    "def Interpolation(inputsize):\n",
    "    inputsize = int(inputsize)\n",
    "    OUTPUT = 4*np.transpose(Restriction(inputsize))\n",
    "    return OUTPUT\n",
    "\n",
    "\n",
    "def Poisson(inputsize):\n",
    "    inputsize = int(inputsize)\n",
    "    sqrtinputsize = int(np.sqrt(inputsize))\n",
    "    A1 = 2*np.eye(sqrtinputsize)\n",
    "    for i in range(sqrtinputsize-1):\n",
    "        A1[i, i+1] = -1\n",
    "        A1[i+1, i] = -1\n",
    "    I = np.eye(sqrtinputsize)\n",
    "    OUTPUT = (np.kron(I, A1)+np.kron(A1, I))\n",
    "    return OUTPUT\n",
    "\n",
    "\n",
    "def NonlinearPoisson(inputsize):\n",
    "    inputsize = int(inputsize)\n",
    "    sqrtinputsize = int(np.sqrt(inputsize))\n",
    "    area = 1\n",
    "    [X, Y] = np.meshgrid(np.linspace(0, 1, sqrtinputsize),\n",
    "                         np.linspace(0, 1, sqrtinputsize))\n",
    "    A = area*(a(X, Y).reshape([inputsize, 1]))\n",
    "    Poi = Poisson(inputsize)\n",
    "    for i in range(inputsize):\n",
    "        Poi[i][:] = A[i]*Poi[i][:]\n",
    "    OUTPUT = Poi\n",
    "    return OUTPUT"
   ]
  },
  {
   "cell_type": "markdown",
   "metadata": {},
   "source": [
    "## Define Multigrid"
   ]
  },
  {
   "cell_type": "code",
   "execution_count": 3,
   "metadata": {},
   "outputs": [],
   "source": [
    "def Multigrid_circle(inputsize, A_A, B, P_A, R_A, s, w, NUM_EPOCH):\n",
    "    A = np.matrix(A_A)\n",
    "    P = np.matrix(P_A)\n",
    "    R = np.matrix(R_A)\n",
    "    M = np.matrix(w**(-1)*np.diag(np.diag(A)))\n",
    "    K = M - A\n",
    "    C = np.linalg.inv(M)*K\n",
    "    b = np.linalg.inv(M)*B\n",
    "    U0 = np.matrix(np.zeros([inputsize, 1]))\n",
    "    RESIDUAL = []\n",
    "    for i in range(NUM_EPOCH):\n",
    "        for j in range(s):\n",
    "            U0 = C*U0+b\n",
    "        r = B - A*U0\n",
    "        Residual = np.linalg.norm(r,2)\n",
    "        rc = R*r\n",
    "        Ac = R*A*P\n",
    "        Uc = np.linalg.solve(Ac, rc)\n",
    "        U = U0 + P*Uc\n",
    "        for k in range(s):\n",
    "            U = C*U+b\n",
    "        U0 = U\n",
    "        RESIDUAL.append(Residual)\n",
    "        print(\"Residual = {}\".format(Residual))\n",
    "        print(\"Interation = {}\".format(i))\n",
    "        print(\"===================\")\n",
    "    return U0, RESIDUAL"
   ]
  },
  {
   "cell_type": "markdown",
   "metadata": {},
   "source": [
    "## Define Spectral Radius Calculator"
   ]
  },
  {
   "cell_type": "code",
   "execution_count": 4,
   "metadata": {},
   "outputs": [],
   "source": [
    "def rho(inputsize,A,P,R,w,s):\n",
    "    M = (w**(-1)) * np.diag(np.diag(A))\n",
    "    K = M - A\n",
    "    MK = np.matmul(np.linalg.inv(M),K)\n",
    "    I = np.eye(inputsize)\n",
    "    IPRAPRA = I - np.matmul(np.matmul(np.matmul(P,np.linalg.inv(np.matmul(np.matmul(R,A),P))),R),A)\n",
    "    C = np.matmul(np.matmul(MK,IPRAPRA),MK)\n",
    "    for i in range(5):\n",
    "        C = np.matmul(C,C)\n",
    "    radius = np.linalg.norm(C)**(1/32)\n",
    "    return radius\n",
    "\n",
    "def rho2(inputsize,A,P,R,w,s):\n",
    "    M = (w**(-1)) * np.diag(np.diag(A))\n",
    "    K = M - A\n",
    "    MK = np.matmul(np.linalg.inv(M),K)\n",
    "    I = np.eye(inputsize)\n",
    "    IPRAPRA = I - np.matmul(np.matmul(np.matmul(P,np.linalg.inv(np.matmul(np.matmul(R,A),P))),R),A)\n",
    "    C = np.matmul(np.matmul(MK,IPRAPRA),MK)\n",
    "    return np.linalg.norm(C,2)\n",
    "\n",
    "def rhoAuto(INPUT):\n",
    "    P = INPUT[0]\n",
    "    R = INPUT[1]\n",
    "    w = INPUT[2]\n",
    "    M = (w**(-1)) * np.diag(np.diag(A1))\n",
    "    K = M - A1\n",
    "    MK = np.matmul(np.linalg.inv(M),K)\n",
    "    I = np.eye(inputsize)\n",
    "    IPRAPRA = I - np.matmul(np.matmul(np.matmul(P,np.linalg.inv(np.matmul(np.matmul(R,A1),P))),R),A1)\n",
    "    C = np.matmul(np.matmul(MK,IPRAPRA),MK)\n",
    "    for i in range(5):\n",
    "        C = np.matmul(C,C)\n",
    "    radius = np.linalg.norm(C)**(1/32)\n",
    "    return radius"
   ]
  },
  {
   "cell_type": "markdown",
   "metadata": {},
   "source": [
    "## Define Optimizer"
   ]
  },
  {
   "cell_type": "code",
   "execution_count": 5,
   "metadata": {},
   "outputs": [],
   "source": [
    "def optimizer_GD(inputsize, A, P, R, w, s, learning_rate):\n",
    "    rhoold = rho(inputsize,A,P,R,w,s)\n",
    "    INPUT = [P,R,w]\n",
    "    rhoGra = grad(rhoAuto)\n",
    "    delta = rhoGra(INPUT)\n",
    "    P -= learning_rate*delta[0]\n",
    "    R -= learning_rate*delta[1]\n",
    "    w -= learning_rate*delta[2]\n",
    "    rhonew = rho(inputsize,A,P,R,w,s)\n",
    "    return P, R, w, rhoold, rhonew\n",
    "\n",
    "def homotopy_optimizer_GD(inputsize, A0, A1, P, R, w, s, learning_rate ,accept_radius ,step_length):\n",
    "    Rhoold = rho(inputsize,A1,P,R,w,s)\n",
    "    L = step_length\n",
    "    print(\"======Section 1======\")\n",
    "    while L < 1:\n",
    "        M = (1-L)*A0 + L*A1\n",
    "        Pnew, Rnew, wnew, rhoold, rhonew = optimizer_GD(inputsize, M, P, R, w, s, learning_rate)\n",
    "        if rhonew > accept_radius:\n",
    "            step_length = 0.1*step_length\n",
    "            learning_rate = 0.1*learning_rate\n",
    "            print('Decrease the step_length, learning_rate and Restart!!')\n",
    "            print(\"step_length = {}\".format(step_length))      \n",
    "            print(\"learning_rate = {}\".format(learning_rate))\n",
    "            print(\"rhonew = {}\".format(rhonew))\n",
    "            print(\"===================\")\n",
    "            R = Restriction(inputsize)\n",
    "            P = Interpolation(inputsize)\n",
    "            w = 2/3\n",
    "            L = step_length\n",
    "        else:\n",
    "            P = Pnew\n",
    "            R = Rnew\n",
    "            w = wnew\n",
    "            L += step_length\n",
    "            print(\"L = {}\".format(L))\n",
    "            print(\"rho = {}\".format(rhonew))\n",
    "            print(\"===================\")\n",
    "    print(\"======Section 2======\")\n",
    "    i = 0\n",
    "    while rhonew <= rhoold and i<100:\n",
    "        Pnew, Rnew, wnew, rhoold, rhonew = optimizer_GD(inputsize, A1, P, R, w, s, learning_rate)\n",
    "        P = Pnew\n",
    "        R = Rnew\n",
    "        w = wnew\n",
    "        print(\"rho = {}\".format(rhonew))\n",
    "        print(\"===================\")\n",
    "        i+=1\n",
    "    Rhonew = rhonew\n",
    "    print(\"======End======\")\n",
    "    return P, R, w, Rhoold, Rhonew"
   ]
  },
  {
   "cell_type": "markdown",
   "metadata": {},
   "source": [
    "# Experiment 1"
   ]
  },
  {
   "cell_type": "code",
   "execution_count": 6,
   "metadata": {},
   "outputs": [],
   "source": [
    "u_real = lambda x,y: np.sin(np.pi*3*x)*np.sin(np.pi*5*y)\n",
    "rightf = lambda x,y:  34*np.pi**2*np.sin(3*np.pi*x)*np.sin(5*np.pi*y)"
   ]
  },
  {
   "cell_type": "code",
   "execution_count": 74,
   "metadata": {},
   "outputs": [],
   "source": [
    "finegridsize = 5\n",
    "inputsize = (2**finegridsize-1)**2\n",
    "inputsize = int(inputsize)\n",
    "sqrtinputsize = int(np.sqrt(inputsize))\n",
    "outputsize = int((2**(np.log2(np.sqrt(inputsize)+1)-1)-1)**2)\n",
    "sqrtoutputsize = int(np.sqrt(outputsize))\n",
    "h = 1/(sqrtinputsize+1)\n",
    "A0 = Poisson(inputsize)\n",
    "A1 = A0\n",
    "[X, Y] = np.meshgrid(np.linspace(0, 1, sqrtinputsize),np.linspace(0, 1, sqrtinputsize))\n",
    "RightF = rightf(X,Y)*h**2\n",
    "RightF = RightF.reshape(inputsize, 1)\n",
    "R = Restriction(inputsize)\n",
    "P = Interpolation(inputsize)\n",
    "s = 1\n",
    "w = 2/3\n",
    "MAX_ITER = 50"
   ]
  },
  {
   "cell_type": "markdown",
   "metadata": {},
   "source": [
    "## GMM"
   ]
  },
  {
   "cell_type": "markdown",
   "metadata": {},
   "source": [
    "**Calculate Result and Residual**"
   ]
  },
  {
   "cell_type": "code",
   "execution_count": 75,
   "metadata": {
    "scrolled": true
   },
   "outputs": [
    {
     "name": "stdout",
     "output_type": "stream",
     "text": [
      "Residual = 4.61916073446078\n",
      "Interation = 0\n",
      "===================\n",
      "Residual = 0.5212104594574372\n",
      "Interation = 1\n",
      "===================\n",
      "Residual = 0.1048167271808057\n",
      "Interation = 2\n",
      "===================\n",
      "Residual = 0.027444683287579652\n",
      "Interation = 3\n",
      "===================\n",
      "Residual = 0.009201826251437869\n",
      "Interation = 4\n",
      "===================\n",
      "Residual = 0.003466987597346867\n",
      "Interation = 5\n",
      "===================\n",
      "Residual = 0.001363734546965223\n",
      "Interation = 6\n",
      "===================\n",
      "Residual = 0.0005466330184037276\n",
      "Interation = 7\n",
      "===================\n",
      "Residual = 0.00022148320403871243\n",
      "Interation = 8\n",
      "===================\n",
      "Residual = 9.039957647681396e-05\n",
      "Interation = 9\n",
      "===================\n",
      "Residual = 3.709859051428325e-05\n",
      "Interation = 10\n",
      "===================\n",
      "Residual = 1.528960643678943e-05\n",
      "Interation = 11\n",
      "===================\n",
      "Residual = 6.323018525215725e-06\n",
      "Interation = 12\n",
      "===================\n",
      "Residual = 2.622283431905404e-06\n",
      "Interation = 13\n",
      "===================\n",
      "Residual = 1.0900913450486025e-06\n",
      "Interation = 14\n",
      "===================\n",
      "Residual = 4.540660478435632e-07\n",
      "Interation = 15\n",
      "===================\n",
      "Residual = 1.8946291892698704e-07\n",
      "Interation = 16\n",
      "===================\n",
      "Residual = 7.917313389347884e-08\n",
      "Interation = 17\n",
      "===================\n",
      "Residual = 3.312811818608062e-08\n",
      "Interation = 18\n",
      "===================\n",
      "Residual = 1.3877507651036614e-08\n",
      "Interation = 19\n",
      "===================\n",
      "Residual = 5.8191978731642965e-09\n",
      "Interation = 20\n",
      "===================\n",
      "Residual = 2.442313527288468e-09\n",
      "Interation = 21\n",
      "===================\n",
      "Residual = 1.0258484471755373e-09\n",
      "Interation = 22\n",
      "===================\n",
      "Residual = 4.311923714161065e-10\n",
      "Interation = 23\n",
      "===================\n",
      "Residual = 1.8135629381642737e-10\n",
      "Interation = 24\n",
      "===================\n",
      "Residual = 7.632024924522878e-11\n",
      "Interation = 25\n",
      "===================\n",
      "Residual = 3.213422057961993e-11\n",
      "Interation = 26\n",
      "===================\n",
      "Residual = 1.3536294879622202e-11\n",
      "Interation = 27\n",
      "===================\n",
      "Residual = 5.7042731648567245e-12\n",
      "Interation = 28\n",
      "===================\n",
      "Residual = 2.4047214430204074e-12\n",
      "Interation = 29\n",
      "===================\n",
      "Residual = 1.0141471441640403e-12\n",
      "Interation = 30\n",
      "===================\n",
      "Residual = 4.2794269838608377e-13\n",
      "Interation = 31\n",
      "===================\n",
      "Residual = 1.8071235433469373e-13\n",
      "Interation = 32\n",
      "===================\n",
      "Residual = 7.665276606951685e-14\n",
      "Interation = 33\n",
      "===================\n",
      "Residual = 3.295187600341954e-14\n",
      "Interation = 34\n",
      "===================\n",
      "Residual = 1.499041740397563e-14\n",
      "Interation = 35\n",
      "===================\n",
      "Residual = 8.526305363954707e-15\n",
      "Interation = 36\n",
      "===================\n",
      "Residual = 6.737401661675488e-15\n",
      "Interation = 37\n",
      "===================\n",
      "Residual = 6.239325793782925e-15\n",
      "Interation = 38\n",
      "===================\n",
      "Residual = 5.90757273877842e-15\n",
      "Interation = 39\n",
      "===================\n",
      "Residual = 6.002946942634224e-15\n",
      "Interation = 40\n",
      "===================\n",
      "Residual = 5.840929028977719e-15\n",
      "Interation = 41\n",
      "===================\n",
      "Residual = 6.043498159528063e-15\n",
      "Interation = 42\n",
      "===================\n",
      "Residual = 6.088461695437568e-15\n",
      "Interation = 43\n",
      "===================\n",
      "Residual = 5.959984879347229e-15\n",
      "Interation = 44\n",
      "===================\n",
      "Residual = 5.756863357071827e-15\n",
      "Interation = 45\n",
      "===================\n",
      "Residual = 6.008717610453875e-15\n",
      "Interation = 46\n",
      "===================\n",
      "Residual = 5.93365316615335e-15\n",
      "Interation = 47\n",
      "===================\n",
      "Residual = 5.82790118614896e-15\n",
      "Interation = 48\n",
      "===================\n",
      "Residual = 6.224490473577948e-15\n",
      "Interation = 49\n",
      "===================\n"
     ]
    }
   ],
   "source": [
    "GMM_U, GMM_Res = Multigrid_circle(inputsize, A1, RightF, P, R, s, w, MAX_ITER)"
   ]
  },
  {
   "cell_type": "markdown",
   "metadata": {},
   "source": [
    "**Plot Result**"
   ]
  },
  {
   "cell_type": "code",
   "execution_count": 76,
   "metadata": {},
   "outputs": [
    {
     "data": {
      "text/plain": [
       "<matplotlib.colorbar.Colorbar at 0x2084b5d8908>"
      ]
     },
     "execution_count": 76,
     "metadata": {},
     "output_type": "execute_result"
    },
    {
     "data": {
      "image/png": "[encoded data removed]",
      "text/plain": [
       "<Figure size 432x288 with 2 Axes>"
      ]
     },
     "metadata": {},
     "output_type": "display_data"
    }
   ],
   "source": [
    "plt.imshow(GMM_U.reshape(sqrtinputsize,sqrtinputsize))\n",
    "plt.colorbar()"
   ]
  },
  {
   "cell_type": "markdown",
   "metadata": {},
   "source": [
    "**Plot Residual**"
   ]
  },
  {
   "cell_type": "code",
   "execution_count": 77,
   "metadata": {},
   "outputs": [
    {
     "data": {
      "text/plain": [
       "[<matplotlib.lines.Line2D at 0x2084f0125c0>]"
      ]
     },
     "execution_count": 77,
     "metadata": {},
     "output_type": "execute_result"
    },
    {
     "data": {
      "image/png": "[encoded data removed]",
      "text/plain": [
       "<Figure size 432x288 with 1 Axes>"
      ]
     },
     "metadata": {},
     "output_type": "display_data"
    }
   ],
   "source": [
    "plt.semilogy(GMM_Res)"
   ]
  },
  {
   "cell_type": "markdown",
   "metadata": {},
   "source": [
    "**Calculate Spectral Radius**"
   ]
  },
  {
   "cell_type": "code",
   "execution_count": 78,
   "metadata": {},
   "outputs": [
    {
     "name": "stdout",
     "output_type": "stream",
     "text": [
      "GMM_Radius = 0.4540814883789567\n"
     ]
    }
   ],
   "source": [
    "GMM_Radius = rho(inputsize,A1,P,R,w,s)\n",
    "print('GMM_Radius = {}'.format(GMM_Radius))"
   ]
  },
  {
   "cell_type": "markdown",
   "metadata": {},
   "source": [
    "## AMG"
   ]
  },
  {
   "cell_type": "markdown",
   "metadata": {},
   "source": [
    "**Define Solver and Solve**"
   ]
  },
  {
   "cell_type": "code",
   "execution_count": 81,
   "metadata": {},
   "outputs": [
    {
     "name": "stderr",
     "output_type": "stream",
     "text": [
      "D:\\anaconda\\lib\\site-packages\\pyamg\\classical\\classical.py:101: SparseEfficiencyWarning: Implicit conversion of A to CSR\n",
      "  SparseEfficiencyWarning)\n"
     ]
    },
    {
     "name": "stdout",
     "output_type": "stream",
     "text": [
      "multilevel_solver\n",
      "Number of Levels:     2\n",
      "Operator Complexity:  1.872\n",
      "Grid Complexity:      1.501\n",
      "Coarse Solver:        'pinv2'\n",
      "  level   unknowns     nonzeros\n",
      "    0          961         4681 [53.42%]\n",
      "    1          481         4081 [46.58%]\n",
      "\n"
     ]
    }
   ],
   "source": [
    "amg_solver = pyamg.classical.classical.ruge_stuben_solver(A1,max_levels = 2)\n",
    "pyamg.relaxation.smoothing.change_smoothers(amg_solver,presmoother=(\"jacobi\", {\"omega\": w, \"iterations\": s}),postsmoother=(\"jacobi\", {\"omega\": w, \"iterations\": s}))\n",
    "AMG_Res = []\n",
    "print(amg_solver)\n",
    "AMG_U= amg_solver.solve(RightF, maxiter = MAX_ITER, tol=0, residuals=AMG_Res,cycle='V')"
   ]
  },
  {
   "cell_type": "markdown",
   "metadata": {},
   "source": [
    "**Plot Result**"
   ]
  },
  {
   "cell_type": "code",
   "execution_count": 82,
   "metadata": {},
   "outputs": [
    {
     "data": {
      "text/plain": [
       "<matplotlib.colorbar.Colorbar at 0x2084f23a9e8>"
      ]
     },
     "execution_count": 82,
     "metadata": {},
     "output_type": "execute_result"
    },
    {
     "data": {
      "image/png": "[encoded data removed]",
      "text/plain": [
       "<Figure size 432x288 with 2 Axes>"
      ]
     },
     "metadata": {},
     "output_type": "display_data"
    }
   ],
   "source": [
    "plt.imshow(AMG_U.reshape(sqrtinputsize,sqrtinputsize))\n",
    "plt.colorbar()"
   ]
  },
  {
   "cell_type": "markdown",
   "metadata": {},
   "source": [
    "**Plot Residual**"
   ]
  },
  {
   "cell_type": "code",
   "execution_count": 83,
   "metadata": {},
   "outputs": [
    {
     "data": {
      "text/plain": [
       "[<matplotlib.lines.Line2D at 0x2085371f128>]"
      ]
     },
     "execution_count": 83,
     "metadata": {},
     "output_type": "execute_result"
    },
    {
     "data": {
      "image/png": "[encoded data removed]",
      "text/plain": [
       "<Figure size 432x288 with 1 Axes>"
      ]
     },
     "metadata": {},
     "output_type": "display_data"
    }
   ],
   "source": [
    "plt.semilogy(AMG_Res)"
   ]
  },
  {
   "cell_type": "markdown",
   "metadata": {},
   "source": [
    "## DMM"
   ]
  },
  {
   "cell_type": "markdown",
   "metadata": {},
   "source": [
    "**Optimize R, P, $\\omega$**"
   ]
  },
  {
   "cell_type": "code",
   "execution_count": 15,
   "metadata": {},
   "outputs": [
    {
     "name": "stdout",
     "output_type": "stream",
     "text": [
      "======Section 1======\n",
      "L = 0.2\n",
      "rho = 0.40683848899974795\n",
      "===================\n",
      "L = 0.30000000000000004\n",
      "rho = 0.3681483422479439\n",
      "===================\n",
      "L = 0.4\n",
      "rho = 0.41296989403114664\n",
      "===================\n",
      "L = 0.5\n",
      "rho = 0.37036927560767113\n",
      "===================\n",
      "Decrease the step_length, learning_rate and Restart!!\n",
      "step_length = 0.010000000000000002\n",
      "learning_rate = 0.010000000000000002\n",
      "rhonew = 0.5221368583983736\n",
      "===================\n",
      "L = 0.020000000000000004\n",
      "rho = 0.4492335460425738\n",
      "===================\n",
      "L = 0.030000000000000006\n",
      "rho = 0.44444051376647414\n",
      "===================\n",
      "L = 0.04000000000000001\n",
      "rho = 0.43970166951523326\n",
      "===================\n",
      "L = 0.05000000000000001\n",
      "rho = 0.4350163050783652\n",
      "===================\n",
      "L = 0.06000000000000001\n",
      "rho = 0.4303837256038059\n",
      "===================\n",
      "L = 0.07\n",
      "rho = 0.42580324915625584\n",
      "===================\n",
      "L = 0.08000000000000002\n",
      "rho = 0.4212742062986168\n",
      "===================\n",
      "L = 0.09000000000000002\n",
      "rho = 0.41679593969491313\n",
      "===================\n",
      "L = 0.10000000000000003\n",
      "rho = 0.412367803733231\n",
      "===================\n",
      "L = 0.11000000000000004\n",
      "rho = 0.4079891641673205\n",
      "===================\n",
      "L = 0.12000000000000005\n",
      "rho = 0.4036593977756338\n",
      "===================\n",
      "L = 0.13000000000000006\n",
      "rho = 0.3993778920366646\n",
      "===================\n",
      "L = 0.14000000000000007\n",
      "rho = 0.39514404481955945\n",
      "===================\n",
      "L = 0.15000000000000008\n",
      "rho = 0.3909572640893538\n",
      "===================\n",
      "L = 0.1600000000000001\n",
      "rho = 0.3868169676397275\n",
      "===================\n",
      "L = 0.1700000000000001\n",
      "rho = 0.382722583418711\n",
      "===================\n",
      "L = 0.1800000000000001\n",
      "rho = 0.3786735717625082\n",
      "===================\n",
      "L = 0.1900000000000001\n",
      "rho = 0.3746702072889766\n",
      "===================\n",
      "L = 0.20000000000000012\n",
      "rho = 0.370738577191853\n",
      "===================\n",
      "L = 0.21000000000000013\n",
      "rho = 0.3675752243363599\n",
      "===================\n",
      "L = 0.22000000000000014\n",
      "rho = 0.3677107762585041\n",
      "===================\n",
      "L = 0.23000000000000015\n",
      "rho = 0.36849608812923756\n",
      "===================\n",
      "L = 0.24000000000000016\n",
      "rho = 0.37540403391427035\n",
      "===================\n",
      "L = 0.25000000000000017\n",
      "rho = 0.3987430307448855\n",
      "===================\n",
      "L = 0.2600000000000002\n",
      "rho = 0.39154883935264884\n",
      "===================\n",
      "L = 0.2700000000000002\n",
      "rho = 0.38740115506556083\n",
      "===================\n",
      "L = 0.2800000000000002\n",
      "rho = 0.3832995038794263\n",
      "===================\n",
      "L = 0.2900000000000002\n",
      "rho = 0.3792433256253804\n",
      "===================\n",
      "L = 0.3000000000000002\n",
      "rho = 0.37523226409502336\n",
      "===================\n",
      "L = 0.3100000000000002\n",
      "rho = 0.3712724089557928\n",
      "===================\n",
      "L = 0.32000000000000023\n",
      "rho = 0.36755986003874536\n",
      "===================\n",
      "L = 0.33000000000000024\n",
      "rho = 0.3667084417338799\n",
      "===================\n",
      "L = 0.34000000000000025\n",
      "rho = 0.36741500440803976\n",
      "===================\n",
      "L = 0.35000000000000026\n",
      "rho = 0.3667552332697803\n",
      "===================\n",
      "L = 0.36000000000000026\n",
      "rho = 0.367564593014239\n",
      "===================\n",
      "L = 0.3700000000000003\n",
      "rho = 0.3666788797581273\n",
      "===================\n",
      "L = 0.3800000000000003\n",
      "rho = 0.3673664320664248\n",
      "===================\n",
      "L = 0.3900000000000003\n",
      "rho = 0.36674784991051107\n",
      "===================\n",
      "L = 0.4000000000000003\n",
      "rho = 0.36757815659291676\n",
      "===================\n",
      "L = 0.4100000000000003\n",
      "rho = 0.3666459384083041\n",
      "===================\n",
      "L = 0.4200000000000003\n",
      "rho = 0.36730736952255216\n",
      "===================\n",
      "L = 0.4300000000000003\n",
      "rho = 0.36674435226980157\n",
      "===================\n",
      "L = 0.44000000000000034\n",
      "rho = 0.36760176854447435\n",
      "===================\n",
      "L = 0.45000000000000034\n",
      "rho = 0.36660954254125355\n",
      "===================\n",
      "L = 0.46000000000000035\n",
      "rho = 0.36723822441156484\n",
      "===================\n",
      "L = 0.47000000000000036\n",
      "rho = 0.36674077463645005\n",
      "===================\n",
      "L = 0.48000000000000037\n",
      "rho = 0.3676255907245242\n",
      "===================\n",
      "L = 0.4900000000000004\n",
      "rho = 0.36658105333427876\n",
      "===================\n",
      "L = 0.5000000000000003\n",
      "rho = 0.36720153211738404\n",
      "===================\n",
      "L = 0.5100000000000003\n",
      "rho = 0.3666789933887553\n",
      "===================\n",
      "L = 0.5200000000000004\n",
      "rho = 0.36750166686589336\n",
      "===================\n",
      "L = 0.5300000000000004\n",
      "rho = 0.36662907626582275\n",
      "===================\n",
      "L = 0.5400000000000004\n",
      "rho = 0.36741371284690555\n",
      "===================\n",
      "L = 0.5500000000000004\n",
      "rho = 0.3665070144520907\n",
      "===================\n",
      "L = 0.5600000000000004\n",
      "rho = 0.3670650479341446\n",
      "===================\n",
      "L = 0.5700000000000004\n",
      "rho = 0.3662508373543096\n",
      "===================\n",
      "L = 0.5800000000000004\n",
      "rho = 0.36625552056405736\n",
      "===================\n",
      "L = 0.5900000000000004\n",
      "rho = 0.36628324145642793\n",
      "===================\n",
      "L = 0.6000000000000004\n",
      "rho = 0.366360139352054\n",
      "===================\n",
      "L = 0.6100000000000004\n",
      "rho = 0.36659464741843756\n",
      "===================\n",
      "L = 0.6200000000000004\n",
      "rho = 0.3666389051550872\n",
      "===================\n",
      "L = 0.6300000000000004\n",
      "rho = 0.3667237502036695\n",
      "===================\n",
      "L = 0.6400000000000005\n",
      "rho = 0.3665750473101534\n",
      "===================\n",
      "L = 0.6500000000000005\n",
      "rho = 0.36658229766680095\n",
      "===================\n",
      "L = 0.6600000000000005\n",
      "rho = 0.3667550033288542\n",
      "===================\n",
      "L = 0.6700000000000005\n",
      "rho = 0.36656317341758365\n",
      "===================\n",
      "L = 0.6800000000000005\n",
      "rho = 0.36651179788579114\n",
      "===================\n",
      "L = 0.6900000000000005\n",
      "rho = 0.36679091319515267\n",
      "===================\n",
      "L = 0.7000000000000005\n",
      "rho = 0.3665260515885983\n",
      "===================\n",
      "L = 0.7100000000000005\n",
      "rho = 0.3664651334948025\n",
      "===================\n",
      "L = 0.7200000000000005\n",
      "rho = 0.3668236373739495\n",
      "===================\n",
      "L = 0.7300000000000005\n",
      "rho = 0.36644644740862786\n",
      "===================\n",
      "L = 0.7400000000000005\n",
      "rho = 0.3664425335588234\n",
      "===================\n",
      "L = 0.7500000000000006\n",
      "rho = 0.3668835800236187\n",
      "===================\n",
      "L = 0.7600000000000006\n",
      "rho = 0.36632606137450185\n",
      "===================\n",
      "L = 0.7700000000000006\n",
      "rho = 0.3663937202243085\n",
      "===================\n",
      "L = 0.7800000000000006\n",
      "rho = 0.3668656678437214\n",
      "===================\n",
      "L = 0.7900000000000006\n",
      "rho = 0.3662373383079595\n",
      "===================\n",
      "L = 0.8000000000000006\n",
      "rho = 0.36633118829711564\n",
      "===================\n",
      "L = 0.8100000000000006\n",
      "rho = 0.366685242812905\n",
      "===================\n",
      "L = 0.8200000000000006\n",
      "rho = 0.36638104834644636\n",
      "===================\n",
      "L = 0.8300000000000006\n",
      "rho = 0.3665191179674843\n",
      "===================\n",
      "L = 0.8400000000000006\n",
      "rho = 0.36674343921989555\n",
      "===================\n",
      "L = 0.8500000000000006\n",
      "rho = 0.36641350118999755\n",
      "===================\n",
      "L = 0.8600000000000007\n",
      "rho = 0.36641236185129533\n",
      "===================\n",
      "L = 0.8700000000000007\n",
      "rho = 0.36680942430479413\n",
      "===================\n",
      "L = 0.8800000000000007\n",
      "rho = 0.366328742163664\n",
      "===================\n",
      "L = 0.8900000000000007\n",
      "rho = 0.36636371884618535\n",
      "===================\n",
      "L = 0.9000000000000007\n",
      "rho = 0.36684008835785065\n",
      "===================\n",
      "L = 0.9100000000000007\n",
      "rho = 0.36620148283136406\n",
      "===================\n",
      "L = 0.9200000000000007\n",
      "rho = 0.36628563123567454\n",
      "===================\n",
      "L = 0.9300000000000007\n",
      "rho = 0.36667803835417645\n",
      "===================\n",
      "L = 0.9400000000000007\n",
      "rho = 0.3662411080695835\n",
      "===================\n",
      "L = 0.9500000000000007\n",
      "rho = 0.36641989027088806\n",
      "===================\n",
      "L = 0.9600000000000007\n",
      "rho = 0.3666492174693515\n",
      "===================\n",
      "L = 0.9700000000000008\n",
      "rho = 0.36644504062409794\n",
      "===================\n",
      "L = 0.9800000000000008\n",
      "rho = 0.3663693680352508\n",
      "===================\n",
      "L = 0.9900000000000008\n",
      "rho = 0.3666748847179737\n",
      "===================\n",
      "L = 1.0000000000000007\n",
      "rho = 0.3663925573160751\n",
      "===================\n",
      "======Section 2======\n",
      "rho = 0.3663470553986642\n",
      "===================\n",
      "rho = 0.3667135587920317\n",
      "===================\n",
      "======End======\n"
     ]
    }
   ],
   "source": [
    "Pnew, Rnew, wnew, Rhoold, Rhonew = homotopy_optimizer_GD(inputsize, A0, A1, P, R, w, s, learning_rate = 1e-1 ,accept_radius = GMM_Radius,step_length = 1e-1)"
   ]
  },
  {
   "cell_type": "markdown",
   "metadata": {},
   "source": [
    "**Calculate Result and Residual**"
   ]
  },
  {
   "cell_type": "code",
   "execution_count": 16,
   "metadata": {},
   "outputs": [
    {
     "name": "stdout",
     "output_type": "stream",
     "text": [
      "Residual = 4.560692539550361\n",
      "Interation = 0\n",
      "===================\n",
      "Residual = 0.3081525084084382\n",
      "Interation = 1\n",
      "===================\n",
      "Residual = 0.04680201017045223\n",
      "Interation = 2\n",
      "===================\n",
      "Residual = 0.01120990675464083\n",
      "Interation = 3\n",
      "===================\n",
      "Residual = 0.003238448041258838\n",
      "Interation = 4\n",
      "===================\n",
      "Residual = 0.0009885186564109656\n",
      "Interation = 5\n",
      "===================\n",
      "Residual = 0.0003092086984012285\n",
      "Interation = 6\n",
      "===================\n",
      "Residual = 9.821330988912395e-05\n",
      "Interation = 7\n",
      "===================\n",
      "Residual = 3.154158908687414e-05\n",
      "Interation = 8\n",
      "===================\n",
      "Residual = 1.021558102157286e-05\n",
      "Interation = 9\n",
      "===================\n",
      "Residual = 3.330666157628309e-06\n",
      "Interation = 10\n",
      "===================\n",
      "Residual = 1.0917288886691633e-06\n",
      "Interation = 11\n",
      "===================\n",
      "Residual = 3.5939870291123667e-07\n",
      "Interation = 12\n",
      "===================\n",
      "Residual = 1.1873391958475291e-07\n",
      "Interation = 13\n",
      "===================\n",
      "Residual = 3.9340505708675805e-08\n",
      "Interation = 14\n",
      "===================\n",
      "Residual = 1.3066426500327795e-08\n",
      "Interation = 15\n",
      "===================\n",
      "Residual = 4.348632672445184e-09\n",
      "Interation = 16\n",
      "===================\n",
      "Residual = 1.4497331186150645e-09\n",
      "Interation = 17\n",
      "===================\n",
      "Residual = 4.840042344330012e-10\n",
      "Interation = 18\n",
      "===================\n",
      "Residual = 1.617869141904152e-10\n",
      "Interation = 19\n",
      "===================\n",
      "Residual = 5.413693090417719e-11\n",
      "Interation = 20\n",
      "===================\n",
      "Residual = 1.8131764399684437e-11\n",
      "Interation = 21\n",
      "===================\n",
      "Residual = 6.0778468980928045e-12\n",
      "Interation = 22\n",
      "===================\n",
      "Residual = 2.038473621086693e-12\n",
      "Interation = 23\n",
      "===================\n",
      "Residual = 6.84285097750941e-13\n",
      "Interation = 24\n",
      "===================\n",
      "Residual = 2.301462715452389e-13\n",
      "Interation = 25\n",
      "===================\n",
      "Residual = 7.752414830561295e-14\n",
      "Interation = 26\n",
      "===================\n",
      "Residual = 2.6682296294003713e-14\n",
      "Interation = 27\n",
      "===================\n",
      "Residual = 1.0706392234792659e-14\n",
      "Interation = 28\n",
      "===================\n",
      "Residual = 6.668909818167932e-15\n",
      "Interation = 29\n",
      "===================\n",
      "Residual = 5.9017622315208594e-15\n",
      "Interation = 30\n",
      "===================\n",
      "Residual = 6.321334788370854e-15\n",
      "Interation = 31\n",
      "===================\n",
      "Residual = 5.744573279983228e-15\n",
      "Interation = 32\n",
      "===================\n",
      "Residual = 6.092762281814164e-15\n",
      "Interation = 33\n",
      "===================\n",
      "Residual = 5.947333153511122e-15\n",
      "Interation = 34\n",
      "===================\n",
      "Residual = 5.875009097682486e-15\n",
      "Interation = 35\n",
      "===================\n",
      "Residual = 5.6394789502398225e-15\n",
      "Interation = 36\n",
      "===================\n",
      "Residual = 5.488973468891902e-15\n",
      "Interation = 37\n",
      "===================\n",
      "Residual = 6.249477095995134e-15\n",
      "Interation = 38\n",
      "===================\n",
      "Residual = 5.42046971325415e-15\n",
      "Interation = 39\n",
      "===================\n",
      "Residual = 5.692471216201581e-15\n",
      "Interation = 40\n",
      "===================\n",
      "Residual = 5.911232350798332e-15\n",
      "Interation = 41\n",
      "===================\n",
      "Residual = 6.080884922335188e-15\n",
      "Interation = 42\n",
      "===================\n",
      "Residual = 5.624130786261535e-15\n",
      "Interation = 43\n",
      "===================\n",
      "Residual = 5.8985266526041764e-15\n",
      "Interation = 44\n",
      "===================\n",
      "Residual = 5.9058786164378014e-15\n",
      "Interation = 45\n",
      "===================\n",
      "Residual = 5.8362836750787334e-15\n",
      "Interation = 46\n",
      "===================\n",
      "Residual = 5.623206596615578e-15\n",
      "Interation = 47\n",
      "===================\n",
      "Residual = 5.964757935806587e-15\n",
      "Interation = 48\n",
      "===================\n",
      "Residual = 5.895645014125097e-15\n",
      "Interation = 49\n",
      "===================\n"
     ]
    }
   ],
   "source": [
    "DMM_U, DMM_Res = Multigrid_circle(inputsize, A1, RightF, Pnew, Rnew, s, wnew, MAX_ITER)"
   ]
  },
  {
   "cell_type": "markdown",
   "metadata": {},
   "source": [
    "**Plot Result**"
   ]
  },
  {
   "cell_type": "code",
   "execution_count": 17,
   "metadata": {},
   "outputs": [
    {
     "data": {
      "text/plain": [
       "<matplotlib.colorbar.Colorbar at 0x2084bd0a438>"
      ]
     },
     "execution_count": 17,
     "metadata": {},
     "output_type": "execute_result"
    },
    {
     "data": {
      "image/png": "[encoded data removed]",
      "text/plain": [
       "<Figure size 432x288 with 2 Axes>"
      ]
     },
     "metadata": {},
     "output_type": "display_data"
    }
   ],
   "source": [
    "plt.imshow(DMM_U.reshape(sqrtinputsize,sqrtinputsize))\n",
    "plt.colorbar()"
   ]
  },
  {
   "cell_type": "markdown",
   "metadata": {},
   "source": [
    "**Plot Residual**"
   ]
  },
  {
   "cell_type": "code",
   "execution_count": 18,
   "metadata": {},
   "outputs": [
    {
     "data": {
      "text/plain": [
       "[<matplotlib.lines.Line2D at 0x2084bc57fd0>]"
      ]
     },
     "execution_count": 18,
     "metadata": {},
     "output_type": "execute_result"
    },
    {
     "data": {
      "image/png": "[encoded data removed]",
      "text/plain": [
       "<Figure size 432x288 with 1 Axes>"
      ]
     },
     "metadata": {},
     "output_type": "display_data"
    }
   ],
   "source": [
    "plt.semilogy(DMM_Res)"
   ]
  },
  {
   "cell_type": "markdown",
   "metadata": {},
   "source": [
    "**Calculate Spectral Radius**"
   ]
  },
  {
   "cell_type": "code",
   "execution_count": 19,
   "metadata": {},
   "outputs": [
    {
     "name": "stdout",
     "output_type": "stream",
     "text": [
      "DMM_Radius = 0.3667135587920317\n"
     ]
    }
   ],
   "source": [
    "DMM_Radius = Rhonew\n",
    "print('DMM_Radius = {}'.format(DMM_Radius))"
   ]
  },
  {
   "cell_type": "markdown",
   "metadata": {},
   "source": [
    "## Compare"
   ]
  },
  {
   "cell_type": "code",
   "execution_count": 20,
   "metadata": {},
   "outputs": [
    {
     "name": "stdout",
     "output_type": "stream",
     "text": [
      "GMM_Radius = 0.4540814883789567\n",
      "DMM_Radius = 0.3667135587920317\n",
      "GMM_Radius : DMM_Radius = 1 : 0.807594\n"
     ]
    }
   ],
   "source": [
    "print('GMM_Radius = {}'.format(GMM_Radius))\n",
    "print('DMM_Radius = {}'.format(DMM_Radius))\n",
    "print(\"GMM_Radius : DMM_Radius = 1 : %f\" %(DMM_Radius/GMM_Radius))"
   ]
  },
  {
   "cell_type": "code",
   "execution_count": 84,
   "metadata": {},
   "outputs": [
    {
     "data": {
      "text/plain": [
       "<matplotlib.legend.Legend at 0x2085643ee10>"
      ]
     },
     "execution_count": 84,
     "metadata": {},
     "output_type": "execute_result"
    },
    {
     "data": {
      "image/png": "[encoded data removed]",
      "text/plain": [
       "<Figure size 432x288 with 1 Axes>"
      ]
     },
     "metadata": {},
     "output_type": "display_data"
    }
   ],
   "source": [
    "plt.semilogy(GMM_Res, label = 'GMM_Res')\n",
    "plt.semilogy(AMG_Res, label = 'AMG_Res')\n",
    "plt.semilogy(DMM_Res, label = 'DMM_Res')\n",
    "plt.legend(loc='upper right')"
   ]
  },
  {
   "cell_type": "code",
   "execution_count": 22,
   "metadata": {},
   "outputs": [
    {
     "name": "stdout",
     "output_type": "stream",
     "text": [
      "omega after optimization = 0.8001403284003551\n"
     ]
    }
   ],
   "source": [
    "print('omega after optimization = {}'.format(wnew))"
   ]
  },
  {
   "cell_type": "code",
   "execution_count": 23,
   "metadata": {},
   "outputs": [
    {
     "name": "stdout",
     "output_type": "stream",
     "text": [
      "P after optimization \n"
     ]
    },
    {
     "data": {
      "text/plain": [
       "<matplotlib.colorbar.Colorbar at 0x2084c04e860>"
      ]
     },
     "execution_count": 23,
     "metadata": {},
     "output_type": "execute_result"
    },
    {
     "data": {
      "image/png": "[encoded data removed]",
      "text/plain": [
       "<Figure size 432x288 with 2 Axes>"
      ]
     },
     "metadata": {},
     "output_type": "display_data"
    }
   ],
   "source": [
    "print('P after optimization ')\n",
    "plt.imshow(np.log10(np.abs(Pnew)))\n",
    "plt.colorbar()"
   ]
  },
  {
   "cell_type": "code",
   "execution_count": 24,
   "metadata": {},
   "outputs": [
    {
     "name": "stdout",
     "output_type": "stream",
     "text": [
      "R after optimization \n"
     ]
    },
    {
     "data": {
      "text/plain": [
       "<matplotlib.colorbar.Colorbar at 0x2084c296278>"
      ]
     },
     "execution_count": 24,
     "metadata": {},
     "output_type": "execute_result"
    },
    {
     "data": {
      "image/png": "[encoded data removed]",
      "text/plain": [
       "<Figure size 432x288 with 2 Axes>"
      ]
     },
     "metadata": {},
     "output_type": "display_data"
    }
   ],
   "source": [
    "print('R after optimization ')\n",
    "plt.imshow(np.log10(np.abs(Rnew)))\n",
    "plt.colorbar()"
   ]
  },
  {
   "cell_type": "code",
   "execution_count": 25,
   "metadata": {},
   "outputs": [
    {
     "name": "stdout",
     "output_type": "stream",
     "text": [
      "P under log10(abs())\n"
     ]
    },
    {
     "data": {
      "text/plain": [
       "[<matplotlib.lines.Line2D at 0x2084c2f07b8>]"
      ]
     },
     "execution_count": 25,
     "metadata": {},
     "output_type": "execute_result"
    },
    {
     "data": {
      "image/png": "[encoded data removed]",
      "text/plain": [
       "<Figure size 432x288 with 1 Axes>"
      ]
     },
     "metadata": {},
     "output_type": "display_data"
    }
   ],
   "source": [
    "print(\"P under log10(abs())\")\n",
    "plt.plot(np.log10(np.abs(Pnew))[round(0.5*inputsize)][:])"
   ]
  },
  {
   "cell_type": "code",
   "execution_count": 26,
   "metadata": {},
   "outputs": [
    {
     "name": "stdout",
     "output_type": "stream",
     "text": [
      "R under log10(abs())\n"
     ]
    },
    {
     "data": {
      "text/plain": [
       "[<matplotlib.lines.Line2D at 0x2084c342160>]"
      ]
     },
     "execution_count": 26,
     "metadata": {},
     "output_type": "execute_result"
    },
    {
     "data": {
      "image/png": "[encoded data removed]",
      "text/plain": [
       "<Figure size 432x288 with 1 Axes>"
      ]
     },
     "metadata": {},
     "output_type": "display_data"
    }
   ],
   "source": [
    "print(\"R under log10(abs())\")\n",
    "plt.plot(np.log10(np.abs(Rnew))[:][round(0.5*outputsize)])"
   ]
  },
  {
   "cell_type": "code",
   "execution_count": 27,
   "metadata": {},
   "outputs": [
    {
     "data": {
      "text/plain": [
       "1"
      ]
     },
     "execution_count": 27,
     "metadata": {},
     "output_type": "execute_result"
    }
   ],
   "source": [
    "import win32com.client\n",
    "import winsound\n",
    "speak = win32com.client.Dispatch('SAPI.SPVOICE')\n",
    "speak.Speak('The program has finished, please check the result')"
   ]
  }
 ],
 "metadata": {
  "kernelspec": {
   "display_name": "Python 3",
   "language": "python",
   "name": "python3"
  },
  "language_info": {
   "codemirror_mode": {
    "name": "ipython",
    "version": 3
   },
   "file_extension": ".py",
   "mimetype": "text/x-python",
   "name": "python",
   "nbconvert_exporter": "python",
   "pygments_lexer": "ipython3",
   "version": "3.6.5"
  }
 },
 "nbformat": 4,
 "nbformat_minor": 2
}
